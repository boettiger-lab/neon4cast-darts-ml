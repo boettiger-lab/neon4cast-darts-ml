{
 "cells": [
  {
   "cell_type": "markdown",
   "id": "e9acd10d-4769-44b2-ae81-73d71a0b0374",
   "metadata": {},
   "source": [
    "# Plotting 12/7/23"
   ]
  },
  {
   "cell_type": "code",
   "execution_count": null,
   "id": "63b79aaf-5358-48e3-992c-2348106e85d3",
   "metadata": {},
   "outputs": [],
   "source": []
  }
 ],
 "metadata": {
  "kernelspec": {
   "display_name": "Python 3 (ipykernel)",
   "language": "python",
   "name": "python3"
  },
  "language_info": {
   "codemirror_mode": {
    "name": "ipython",
    "version": 3
   },
   "file_extension": ".py",
   "mimetype": "text/x-python",
   "name": "python",
   "nbconvert_exporter": "python",
   "pygments_lexer": "ipython3",
   "version": "3.10.12"
  }
 },
 "nbformat": 4,
 "nbformat_minor": 5
}
