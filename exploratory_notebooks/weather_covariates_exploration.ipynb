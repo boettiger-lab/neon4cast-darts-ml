{
 "cells": [
  {
   "cell_type": "markdown",
   "id": "8d64de32-9023-4862-a1c2-99051b706ca3",
   "metadata": {},
   "source": [
    "# Drilling down on Block RNN for every site"
   ]
  },
  {
   "cell_type": "markdown",
   "id": "2732eba5-67e2-4bb8-8e58-9c700d06272b",
   "metadata": {},
   "source": [
    "In this notebook, I work on training a model for every site."
   ]
  },
  {
   "cell_type": "code",
   "execution_count": 1,
   "id": "a933e617-87d3-4f57-88dc-a598a3018887",
   "metadata": {},
   "outputs": [],
   "source": [
    "import pandas as pd\n",
    "from darts import TimeSeries\n",
    "import numpy as np\n",
    "import os\n",
    "from utils import train_models, make_stitched_series\n",
    "import matplotlib.pyplot as plt\n",
    "\n",
    "\n",
    "os.environ[\"CUDA_VISIBLE_DEVICES\"] = \"1\"\n",
    "targets = pd.read_csv(\"aquatics-targets.csv.gz\")"
   ]
  },
  {
   "cell_type": "markdown",
   "id": "8c3b742a-3f5e-4f5e-bf89-3bde3aae82e3",
   "metadata": {},
   "source": [
    "Trying to bring in weather covariates below. Have been too distracted by other things to play more here."
   ]
  },
  {
   "cell_type": "code",
   "execution_count": 12,
   "id": "2b2ee677-41fb-4dd1-948a-fc427218e0a7",
   "metadata": {},
   "outputs": [],
   "source": [
    "import polars as pl\n",
    "import pyarrow.dataset as ds\n",
    " \n",
    "date = \"2020-09-24\"\n",
    "bucket = \"bio230014-bucket01\"\n",
    "path = f\"neon4cast-drivers/noaa/gefs-v12/stage1/reference_datetime={date}\"\n",
    "endpoint = \"https://sdsc.osn.xsede.org\"\n",
    " \n",
    "dataset_ = ds.dataset(f\"s3://{bucket}/{path}?endpoint_override={endpoint}\")\n",
    "\n",
    "df_ = pl.scan_pyarrow_dataset(dataset) # This is slow part"
   ]
  },
  {
   "cell_type": "code",
   "execution_count": 21,
   "id": "3f9a30fe-ad62-4ed1-a380-ac49e9d01021",
   "metadata": {},
   "outputs": [
    {
     "data": {
      "text/plain": [
       "array(['ARIK', 'BARC', 'BIGC', 'BLDE', 'BLUE', 'BLWA', 'CARI', 'COMO',\n",
       "       'CRAM', 'CUPE', 'FLNT', 'GUIL', 'HOPB', 'KING', 'LECO', 'LEWI',\n",
       "       'LIRO', 'MART', 'MAYF', 'MCDI', 'MCRA', 'OKSR', 'POSE', 'PRIN',\n",
       "       'PRLA', 'PRPO', 'REDB', 'SUGG', 'SYCA', 'TECR', 'TOMB', 'TOOK',\n",
       "       'WALK', 'WLOU'], dtype=object)"
      ]
     },
     "execution_count": 21,
     "metadata": {},
     "output_type": "execute_result"
    }
   ],
   "source": [
    "targets[\"site_id\"].unique()"
   ]
  },
  {
   "cell_type": "code",
   "execution_count": null,
   "id": "2e6c403d-3126-4402-912d-0f67f7406131",
   "metadata": {},
   "outputs": [
    {
     "ename": "KeyboardInterrupt",
     "evalue": "",
     "output_type": "error",
     "traceback": [
      "\u001b[0;31m---------------------------------------------------------------------------\u001b[0m",
      "\u001b[0;31mKeyboardInterrupt\u001b[0m                         Traceback (most recent call last)",
      "File \u001b[0;32m~/.local/lib/python3.10/site-packages/pyarrow/util.py:76\u001b[0m, in \u001b[0;36m_is_path_like\u001b[0;34m(path)\u001b[0m\n\u001b[1;32m     72\u001b[0m     \u001b[38;5;28;01mexcept\u001b[39;00m \u001b[38;5;167;01mTypeError\u001b[39;00m:\n\u001b[1;32m     73\u001b[0m         \u001b[38;5;28;01mreturn\u001b[39;00m \u001b[38;5;28;01mFalse\u001b[39;00m\n\u001b[0;32m---> 76\u001b[0m \u001b[38;5;28;01mdef\u001b[39;00m \u001b[38;5;21m_is_path_like\u001b[39m(path):\n\u001b[1;32m     77\u001b[0m     \u001b[38;5;28;01mreturn\u001b[39;00m \u001b[38;5;28misinstance\u001b[39m(path, \u001b[38;5;28mstr\u001b[39m) \u001b[38;5;129;01mor\u001b[39;00m \u001b[38;5;28mhasattr\u001b[39m(path, \u001b[38;5;124m'\u001b[39m\u001b[38;5;124m__fspath__\u001b[39m\u001b[38;5;124m'\u001b[39m)\n\u001b[1;32m     80\u001b[0m \u001b[38;5;28;01mdef\u001b[39;00m \u001b[38;5;21m_stringify_path\u001b[39m(path):\n",
      "\u001b[0;31mKeyboardInterrupt\u001b[0m: "
     ]
    },
    {
     "name": "stderr",
     "output_type": "stream",
     "text": [
      "Exception ignored in: 'pyarrow._dataset._make_file_source'\n",
      "Traceback (most recent call last):\n",
      "  File \"/home/rstudio/.local/lib/python3.10/site-packages/pyarrow/util.py\", line 76, in _is_path_like\n",
      "    def _is_path_like(path):\n",
      "KeyboardInterrupt: \n"
     ]
    },
    {
     "ename": "KeyboardInterrupt",
     "evalue": "",
     "output_type": "error",
     "traceback": [
      "\u001b[0;31m---------------------------------------------------------------------------\u001b[0m",
      "\u001b[0;31mKeyboardInterrupt\u001b[0m                         Traceback (most recent call last)",
      "File \u001b[0;32m~/.local/lib/python3.10/site-packages/pyarrow/util.py:76\u001b[0m, in \u001b[0;36m_is_path_like\u001b[0;34m(path)\u001b[0m\n\u001b[1;32m     72\u001b[0m     \u001b[38;5;28;01mexcept\u001b[39;00m \u001b[38;5;167;01mTypeError\u001b[39;00m:\n\u001b[1;32m     73\u001b[0m         \u001b[38;5;28;01mreturn\u001b[39;00m \u001b[38;5;28;01mFalse\u001b[39;00m\n\u001b[0;32m---> 76\u001b[0m \u001b[38;5;28;01mdef\u001b[39;00m \u001b[38;5;21m_is_path_like\u001b[39m(path):\n\u001b[1;32m     77\u001b[0m     \u001b[38;5;28;01mreturn\u001b[39;00m \u001b[38;5;28misinstance\u001b[39m(path, \u001b[38;5;28mstr\u001b[39m) \u001b[38;5;129;01mor\u001b[39;00m \u001b[38;5;28mhasattr\u001b[39m(path, \u001b[38;5;124m'\u001b[39m\u001b[38;5;124m__fspath__\u001b[39m\u001b[38;5;124m'\u001b[39m)\n\u001b[1;32m     80\u001b[0m \u001b[38;5;28;01mdef\u001b[39;00m \u001b[38;5;21m_stringify_path\u001b[39m(path):\n",
      "\u001b[0;31mKeyboardInterrupt\u001b[0m: "
     ]
    },
    {
     "name": "stderr",
     "output_type": "stream",
     "text": [
      "Exception ignored in: 'pyarrow._dataset._make_file_source'\n",
      "Traceback (most recent call last):\n",
      "  File \"/home/rstudio/.local/lib/python3.10/site-packages/pyarrow/util.py\", line 76, in _is_path_like\n",
      "    def _is_path_like(path):\n",
      "KeyboardInterrupt: \n"
     ]
    }
   ],
   "source": [
    "df.filter(pl.col(\"variable\")==\"TMP\")"
   ]
  }
 ],
 "metadata": {
  "kernelspec": {
   "display_name": "Python 3 (ipykernel)",
   "language": "python",
   "name": "python3"
  },
  "language_info": {
   "codemirror_mode": {
    "name": "ipython",
    "version": 3
   },
   "file_extension": ".py",
   "mimetype": "text/x-python",
   "name": "python",
   "nbconvert_exporter": "python",
   "pygments_lexer": "ipython3",
   "version": "3.10.12"
  }
 },
 "nbformat": 4,
 "nbformat_minor": 5
}
