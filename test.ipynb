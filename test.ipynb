{
 "cells": [
  {
   "cell_type": "code",
   "execution_count": 1,
   "id": "1e0d0808-a628-491c-a91f-98371c1a92d6",
   "metadata": {},
   "outputs": [
    {
     "name": "stderr",
     "output_type": "stream",
     "text": [
      "/home/rstudio/.local/lib/python3.10/site-packages/tqdm/auto.py:21: TqdmWarning: IProgress not found. Please update jupyter and ipywidgets. See https://ipywidgets.readthedocs.io/en/stable/user_install.html\n",
      "  from .autonotebook import tqdm as notebook_tqdm\n",
      "ignoring user defined `output_chunk_length`. RNNModel uses a fixed `output_chunk_length=1`.\n",
      "GPU available: True (cuda), used: True\n",
      "TPU available: False, using: 0 TPU cores\n",
      "IPU available: False, using: 0 IPUs\n",
      "HPU available: False, using: 0 HPUs\n",
      "LOCAL_RANK: 0 - CUDA_VISIBLE_DEVICES: [1]\n",
      "\n",
      "  | Name          | Type             | Params\n",
      "---------------------------------------------------\n",
      "0 | criterion     | MSELoss          | 0     \n",
      "1 | train_metrics | MetricCollection | 0     \n",
      "2 | val_metrics   | MetricCollection | 0     \n",
      "3 | rnn           | LSTM             | 50.4 K\n",
      "4 | V             | Linear           | 130   \n",
      "---------------------------------------------------\n",
      "50.6 K    Trainable params\n",
      "0         Non-trainable params\n",
      "50.6 K    Total params\n",
      "0.202     Total estimated model params size (MB)\n"
     ]
    },
    {
     "name": "stdout",
     "output_type": "stream",
     "text": [
      "Epoch 0: 100%|██████████| 8/8 [00:00<00:00, 45.26it/s, train_loss=1.280]"
     ]
    },
    {
     "name": "stderr",
     "output_type": "stream",
     "text": [
      "`Trainer.fit` stopped: `max_epochs=1` reached.\n"
     ]
    },
    {
     "name": "stdout",
     "output_type": "stream",
     "text": [
      "Epoch 0: 100%|██████████| 8/8 [00:00<00:00, 44.88it/s, train_loss=1.280]\n"
     ]
    },
    {
     "data": {
      "text/plain": [
       "RNNModel(model=LSTM, hidden_dim=64, n_rnn_layers=2, dropout=0, training_length=24, batch_size=32, input_chunk_length=30, output_chunk_length=34, likelihood=<darts.utils.likelihood_models.LaplaceLikelihood object at 0x7ff254f33b50>, random_state=0)"
      ]
     },
     "execution_count": 1,
     "metadata": {},
     "output_type": "execute_result"
    }
   ],
   "source": [
    "from darts import TimeSeries\n",
    "import numpy as np\n",
    "from darts.models import RNNModel\n",
    "from darts.utils.likelihood_models import LaplaceLikelihood\n",
    "import darts.utils.timeseries_generation as tg\n",
    "import os\n",
    "\n",
    "os.environ[\"CUDA_VISIBLE_DEVICES\"]=\"1\"\n",
    "# Creating time series to train on\n",
    "length = 400\n",
    "trend = tg.linear_timeseries(length=length, end_value=4)\n",
    "season1 = tg.sine_timeseries(length=length, value_frequency=0.05, value_amplitude=1.0)\n",
    "noise = tg.gaussian_timeseries(length=length, std=0.6)\n",
    "noise_modulator = (\n",
    "    tg.sine_timeseries(length=length, value_frequency=0.02)\n",
    "    + tg.constant_timeseries(length=length, value=1)\n",
    ") / 2\n",
    "noise = noise * noise_modulator\n",
    "\n",
    "target_series = sum([noise, season1])\n",
    "covariates = noise_modulator\n",
    "target_train, target_val = target_series.split_after(0.65)\n",
    "\n",
    "# Initiating and fitting a RNN\n",
    "rnn_oxy = RNNModel(model=\"LSTM\",\n",
    "                    hidden_dim=64,\n",
    "                    dropout=0,\n",
    "                    batch_size=32,\n",
    "                    input_chunk_length=30,\n",
    "                    output_chunk_length=34,\n",
    "                    likelihood=LaplaceLikelihood(),\n",
    "                    n_rnn_layers=2,\n",
    "                    random_state=0)\n",
    "\n",
    "rnn_oxy.fit(target_train, \n",
    "             epochs=1, \n",
    "             verbose=True)"
   ]
  },
  {
   "cell_type": "code",
   "execution_count": null,
   "id": "e37f4ee5-51e2-422f-b4a2-aaad5e118e3c",
   "metadata": {},
   "outputs": [],
   "source": []
  }
 ],
 "metadata": {
  "kernelspec": {
   "display_name": "Python 3 (ipykernel)",
   "language": "python",
   "name": "python3"
  },
  "language_info": {
   "codemirror_mode": {
    "name": "ipython",
    "version": 3
   },
   "file_extension": ".py",
   "mimetype": "text/x-python",
   "name": "python",
   "nbconvert_exporter": "python",
   "pygments_lexer": "ipython3",
   "version": "3.10.6"
  }
 },
 "nbformat": 4,
 "nbformat_minor": 5
}
