{
 "cells": [
  {
   "cell_type": "code",
   "execution_count": 1,
   "id": "e37f4ee5-51e2-422f-b4a2-aaad5e118e3c",
   "metadata": {},
   "outputs": [],
   "source": [
    "from residual_learning.utils import BaseForecaster\n",
    "import pandas as pd\n",
    "import matplotlib.pyplot as plt\n",
    "import os\n",
    "\n",
    "os.environ[\"CUDA_VISIBLE_DEVICES\"] = \"1\"\n",
    "targets = pd.read_csv(\"targets.csv.gz\")"
   ]
  },
  {
   "cell_type": "code",
   "execution_count": 2,
   "id": "3b336489-20fa-4219-a5b8-092db9bc74ed",
   "metadata": {},
   "outputs": [
    {
     "data": {
      "text/html": [
       "<div>\n",
       "<style scoped>\n",
       "    .dataframe tbody tr th:only-of-type {\n",
       "        vertical-align: middle;\n",
       "    }\n",
       "\n",
       "    .dataframe tbody tr th {\n",
       "        vertical-align: top;\n",
       "    }\n",
       "\n",
       "    .dataframe thead th {\n",
       "        text-align: right;\n",
       "    }\n",
       "</style>\n",
       "<table border=\"1\" class=\"dataframe\">\n",
       "  <thead>\n",
       "    <tr style=\"text-align: right;\">\n",
       "      <th></th>\n",
       "      <th>datetime</th>\n",
       "      <th>site_id</th>\n",
       "      <th>chla</th>\n",
       "      <th>oxygen</th>\n",
       "      <th>temperature</th>\n",
       "      <th>air_tmp</th>\n",
       "    </tr>\n",
       "  </thead>\n",
       "  <tbody>\n",
       "    <tr>\n",
       "      <th>0</th>\n",
       "      <td>2016-03-05</td>\n",
       "      <td>ARIK</td>\n",
       "      <td>NaN</td>\n",
       "      <td>NaN</td>\n",
       "      <td>NaN</td>\n",
       "      <td>NaN</td>\n",
       "    </tr>\n",
       "    <tr>\n",
       "      <th>1</th>\n",
       "      <td>2016-03-06</td>\n",
       "      <td>ARIK</td>\n",
       "      <td>NaN</td>\n",
       "      <td>NaN</td>\n",
       "      <td>NaN</td>\n",
       "      <td>NaN</td>\n",
       "    </tr>\n",
       "    <tr>\n",
       "      <th>2</th>\n",
       "      <td>2016-03-07</td>\n",
       "      <td>ARIK</td>\n",
       "      <td>NaN</td>\n",
       "      <td>NaN</td>\n",
       "      <td>NaN</td>\n",
       "      <td>NaN</td>\n",
       "    </tr>\n",
       "    <tr>\n",
       "      <th>3</th>\n",
       "      <td>2016-03-08</td>\n",
       "      <td>ARIK</td>\n",
       "      <td>NaN</td>\n",
       "      <td>NaN</td>\n",
       "      <td>NaN</td>\n",
       "      <td>NaN</td>\n",
       "    </tr>\n",
       "    <tr>\n",
       "      <th>4</th>\n",
       "      <td>2016-03-09</td>\n",
       "      <td>ARIK</td>\n",
       "      <td>NaN</td>\n",
       "      <td>NaN</td>\n",
       "      <td>NaN</td>\n",
       "      <td>NaN</td>\n",
       "    </tr>\n",
       "    <tr>\n",
       "      <th>...</th>\n",
       "      <td>...</td>\n",
       "      <td>...</td>\n",
       "      <td>...</td>\n",
       "      <td>...</td>\n",
       "      <td>...</td>\n",
       "      <td>...</td>\n",
       "    </tr>\n",
       "    <tr>\n",
       "      <th>60348</th>\n",
       "      <td>2023-07-07</td>\n",
       "      <td>WLOU</td>\n",
       "      <td>NaN</td>\n",
       "      <td>8.878493</td>\n",
       "      <td>5.738894</td>\n",
       "      <td>NaN</td>\n",
       "    </tr>\n",
       "    <tr>\n",
       "      <th>60349</th>\n",
       "      <td>2023-07-08</td>\n",
       "      <td>WLOU</td>\n",
       "      <td>NaN</td>\n",
       "      <td>8.791903</td>\n",
       "      <td>6.059050</td>\n",
       "      <td>NaN</td>\n",
       "    </tr>\n",
       "    <tr>\n",
       "      <th>60350</th>\n",
       "      <td>2023-07-09</td>\n",
       "      <td>WLOU</td>\n",
       "      <td>NaN</td>\n",
       "      <td>8.819632</td>\n",
       "      <td>5.998123</td>\n",
       "      <td>NaN</td>\n",
       "    </tr>\n",
       "    <tr>\n",
       "      <th>60351</th>\n",
       "      <td>2023-07-10</td>\n",
       "      <td>WLOU</td>\n",
       "      <td>NaN</td>\n",
       "      <td>8.792500</td>\n",
       "      <td>6.141779</td>\n",
       "      <td>NaN</td>\n",
       "    </tr>\n",
       "    <tr>\n",
       "      <th>60352</th>\n",
       "      <td>2023-07-11</td>\n",
       "      <td>WLOU</td>\n",
       "      <td>NaN</td>\n",
       "      <td>8.700174</td>\n",
       "      <td>6.550538</td>\n",
       "      <td>NaN</td>\n",
       "    </tr>\n",
       "  </tbody>\n",
       "</table>\n",
       "<p>60353 rows × 6 columns</p>\n",
       "</div>"
      ],
      "text/plain": [
       "         datetime site_id  chla    oxygen  temperature  air_tmp\n",
       "0      2016-03-05    ARIK   NaN       NaN          NaN      NaN\n",
       "1      2016-03-06    ARIK   NaN       NaN          NaN      NaN\n",
       "2      2016-03-07    ARIK   NaN       NaN          NaN      NaN\n",
       "3      2016-03-08    ARIK   NaN       NaN          NaN      NaN\n",
       "4      2016-03-09    ARIK   NaN       NaN          NaN      NaN\n",
       "...           ...     ...   ...       ...          ...      ...\n",
       "60348  2023-07-07    WLOU   NaN  8.878493     5.738894      NaN\n",
       "60349  2023-07-08    WLOU   NaN  8.791903     6.059050      NaN\n",
       "60350  2023-07-09    WLOU   NaN  8.819632     5.998123      NaN\n",
       "60351  2023-07-10    WLOU   NaN  8.792500     6.141779      NaN\n",
       "60352  2023-07-11    WLOU   NaN  8.700174     6.550538      NaN\n",
       "\n",
       "[60353 rows x 6 columns]"
      ]
     },
     "execution_count": 2,
     "metadata": {},
     "output_type": "execute_result"
    }
   ],
   "source": [
    "targets"
   ]
  },
  {
   "cell_type": "code",
   "execution_count": 3,
   "id": "ef10b237-7b62-442d-9cf6-8437943b91e8",
   "metadata": {},
   "outputs": [
    {
     "name": "stderr",
     "output_type": "stream",
     "text": [
      "You are transforming a stochastic TimeSeries (i.e., contains several samples). The resulting DataFrame is a 2D object with all samples on the columns. If this is not the expected behavior consider calling a function adapted to stochastic TimeSeries like quantile_df().\n",
      "You are transforming a stochastic TimeSeries (i.e., contains several samples). The resulting DataFrame is a 2D object with all samples on the columns. If this is not the expected behavior consider calling a function adapted to stochastic TimeSeries like quantile_df().\n",
      "You are transforming a stochastic TimeSeries (i.e., contains several samples). The resulting DataFrame is a 2D object with all samples on the columns. If this is not the expected behavior consider calling a function adapted to stochastic TimeSeries like quantile_df().\n",
      "You are transforming a stochastic TimeSeries (i.e., contains several samples). The resulting DataFrame is a 2D object with all samples on the columns. If this is not the expected behavior consider calling a function adapted to stochastic TimeSeries like quantile_df().\n"
     ]
    },
    {
     "name": "stdout",
     "output_type": "stream",
     "text": [
      "Failed to make a GP fit on air_tmp\n",
      "Failed to make a GP fit on chla\n"
     ]
    }
   ],
   "source": [
    "block_rnn_forecaster = BaseForecaster(model=\"BlockRNN\",\n",
    "                                      input_csv_name=\"targets.csv.gz\",\n",
    "                                      target_variable_column_name=\"oxygen\",\n",
    "                                      datetime_column_name=\"datetime\",\n",
    "                                      covariates_names=[\"air_tmp\", \"chla\", \"temperature\"],\n",
    "                                      output_csv_name=\"trash.csv\",\n",
    "                                      validation_split_date=\"2023-02-20\",\n",
    "                                      model_hyperparameters={'input_chunk_length': 180, \n",
    "                                                             'hidden_dim': 64, \n",
    "                                                             'model': 'GRU', \n",
    "                                                             'n_rnn_layers': 3},\n",
    "                                     forecast_horizon=30,\n",
    "                                     site_id=\"ARIK\")"
   ]
  },
  {
   "cell_type": "code",
   "execution_count": null,
   "id": "dabbd2a0-d6b5-41f3-815e-8e52ab64a7ff",
   "metadata": {},
   "outputs": [
    {
     "name": "stderr",
     "output_type": "stream",
     "text": [
      "GPU available: True (cuda), used: True\n",
      "TPU available: False, using: 0 TPU cores\n",
      "IPU available: False, using: 0 IPUs\n",
      "HPU available: False, using: 0 HPUs\n"
     ]
    },
    {
     "name": "stdout",
     "output_type": "stream",
     "text": [
      "{'input_chunk_length': 180, 'hidden_dim': 64, 'model': 'GRU', 'n_rnn_layers': 3}\n"
     ]
    },
    {
     "name": "stderr",
     "output_type": "stream",
     "text": [
      "LOCAL_RANK: 0 - CUDA_VISIBLE_DEVICES: [1]\n"
     ]
    }
   ],
   "source": [
    "block_rnn_forecaster.make_forecasts()"
   ]
  },
  {
   "cell_type": "code",
   "execution_count": null,
   "id": "fa6d894b-1cc4-460a-93cd-e15f5c93fe18",
   "metadata": {},
   "outputs": [],
   "source": [
    "df = pd.read_csv(\"trash.csv\")\n",
    "times = pd.to_datetime(df[\"datetime\"])\n",
    "times = pd.DatetimeIndex(times)\n",
    "values = df.loc[:, df.columns!=\"datetime\"].to_numpy().reshape((block_rnn_forecaster.forecast_horizon, 1, -1))\n",
    "direct_predictions_ts = TimeSeries.from_times_and_values(times, \n",
    "                                                         values, \n",
    "                                                         fill_missing_dates=True, freq=\"D\")\n",
    "\n",
    "plt.clf()\n",
    "direct_predictions_ts.plot(color=\"salmon\", label=\"Forecast\")\n",
    "block_rnn_forecaster.validation_set[:block_rnn_forecaster.forecast_horizon].plot(color=\"black\", label=\"Truth\")\n",
    "plt.show()"
   ]
  },
  {
   "cell_type": "code",
   "execution_count": null,
   "id": "d9251547-4911-49f1-9b4b-c6c36683cad3",
   "metadata": {},
   "outputs": [],
   "source": []
  }
 ],
 "metadata": {
  "kernelspec": {
   "display_name": "Python 3 (ipykernel)",
   "language": "python",
   "name": "python3"
  },
  "language_info": {
   "codemirror_mode": {
    "name": "ipython",
    "version": 3
   },
   "file_extension": ".py",
   "mimetype": "text/x-python",
   "name": "python",
   "nbconvert_exporter": "python",
   "pygments_lexer": "ipython3",
   "version": "3.10.6"
  }
 },
 "nbformat": 4,
 "nbformat_minor": 5
}
