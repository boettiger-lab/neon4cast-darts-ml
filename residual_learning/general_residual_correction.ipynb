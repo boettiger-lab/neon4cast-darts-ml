{
 "cells": [
  {
   "cell_type": "markdown",
   "id": "405528f7-e5d2-4b98-a47f-78480b326777",
   "metadata": {},
   "source": [
    "# General Residual Correction Workflow"
   ]
  },
  {
   "cell_type": "code",
   "execution_count": null,
   "id": "b138ccee-46a6-4cbd-aae3-05b63287dd47",
   "metadata": {},
   "outputs": [],
   "source": [
    "from darts import TimeSeries\n",
    "import pandas as pd\n",
    "import matplotlib.pyplot as plt\n",
    "\n",
    "import pandas as pd\n",
    "from darts.models import GaussianProcessFilter\n",
    "from darts import TimeSeries\n",
    "from sklearn.gaussian_process.kernels import RBF\n",
    "from darts.models import BlockRNNModel\n",
    "from darts.utils.likelihood_models import QuantileRegression\n",
    "from darts.dataprocessing.transformers import Scaler\n",
    "from darts.metrics import smape\n",
    "import ray\n",
    "import os\n",
    "import optuna \n",
    "\n",
    "os.environ[\"CUDA_VISIBLE_DEVICES\"] = \"1\"\n",
    "df = pd.read_csv()#INPUT_CSV"
   ]
  }
 ],
 "metadata": {
  "kernelspec": {
   "display_name": "Python 3 (ipykernel)",
   "language": "python",
   "name": "python3"
  },
  "language_info": {
   "codemirror_mode": {
    "name": "ipython",
    "version": 3
   },
   "file_extension": ".py",
   "mimetype": "text/x-python",
   "name": "python",
   "nbconvert_exporter": "python",
   "pygments_lexer": "ipython3",
   "version": "3.10.6"
  }
 },
 "nbformat": 4,
 "nbformat_minor": 5
}
