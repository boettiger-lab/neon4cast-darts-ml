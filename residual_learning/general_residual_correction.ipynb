{
 "cells": [
  {
   "cell_type": "markdown",
   "id": "405528f7-e5d2-4b98-a47f-78480b326777",
   "metadata": {},
   "source": [
    "# General Residual Error Prediction Object Scratch"
   ]
  },
  {
   "cell_type": "code",
   "execution_count": 54,
   "id": "b138ccee-46a6-4cbd-aae3-05b63287dd47",
   "metadata": {},
   "outputs": [],
   "source": [
    "from darts import TimeSeries\n",
    "from typing import Optional\n",
    "import pandas as pd\n",
    "import matplotlib.pyplot as plt\n",
    "from optuna.integration import PyTorchLightningPruningCallback\n",
    "import pandas as pd\n",
    "from darts.models import GaussianProcessFilter\n",
    "from darts import TimeSeries\n",
    "from sklearn.gaussian_process.kernels import RBF\n",
    "from darts.models import BlockRNNModel\n",
    "from darts.utils.likelihood_models import QuantileRegression\n",
    "from darts.dataprocessing.transformers import Scaler\n",
    "from darts.metrics import smape\n",
    "import ray\n",
    "import os\n",
    "import optuna\n",
    "from darts.models import TCNModel\n",
    "import argparse\n",
    "import numpy as np\n",
    "\n",
    "os.environ[\"CUDA_VISIBLE_DEVICES\"] = \"1\"\n",
    "\n",
    "class ResidualForecaster():\n",
    "    def __init__(self,\n",
    "                 input_csv_name: Optional[str] = None,\n",
    "                 target_variable_column_name: Optional[str] = None,\n",
    "                 predicted_target_column_name: Optional[str] = None,\n",
    "                 datetime_column_name: Optional[str] = None,\n",
    "                 covariates_names: Optional[list] = None,\n",
    "                 output_csv_name: Optional[str] = \"residual_forecaster_output.csv\",\n",
    "                 validation_split_date: Optional[str] = None, #YYYY-MM-DD\n",
    "                 tune_model: Optional[bool] = False,\n",
    "                 model_hyperparameters: Optional[dict] = None\n",
    "                 ):\n",
    "\n",
    "        self.input_csv_name = input_csv_name\n",
    "        self.df = pd.read_csv(self.input_csv_name)\n",
    "        self.target_variable_column_name = target_variable_column_name\n",
    "        self.predicted_target_column_name = predicted_target_column_name\n",
    "        self.datetime_column_name = datetime_column_name\n",
    "        self.covariates_names = covariates_names\n",
    "        self.output_csv_name = output_csv_name\n",
    "        self.validation_split_date = validation_split_date\n",
    "        if model_hyperparameters == None:\n",
    "            self.hyperparams = {\"input_chunk_length\" : 180}\n",
    "        else:\n",
    "            self.hyperparams = model_hyperparameters\n",
    "\n",
    "        self._preprocess_data()\n",
    "    \n",
    "    def make_stitched_series(self, variable_tseries):\n",
    "        \"\"\"\n",
    "        Returns a time series where the gaps have been filled in via\n",
    "        Gaussian Process Filters\n",
    "        \"\"\"\n",
    "        kernel = RBF()\n",
    "        \n",
    "        gpf_missing = GaussianProcessFilter(kernel=kernel, \n",
    "                                            alpha=0.001, \n",
    "                                            n_restarts_optimizer=100)\n",
    "        \n",
    "        gpf_missing_big_gaps = GaussianProcessFilter(kernel=kernel, \n",
    "                                                     alpha=2, \n",
    "                                                     n_restarts_optimizer=10)\n",
    "        stitched_series = {}\n",
    "    \n",
    "        # Filtering the TimeSeries\n",
    "        try:\n",
    "            filtered = gpf_missing.filter(variable_tseries, num_samples=500)\n",
    "            filtered_big_gaps = gpf_missing_big_gaps.filter(variable_tseries, \n",
    "                                                            num_samples=500)\n",
    "        except:\n",
    "            return None\n",
    "    \n",
    "        #if there is a gap over 7 indices, use big gap filter\n",
    "        gap_series = variable_tseries.gaps()\n",
    "        stitched_df = filtered.pd_dataframe()\n",
    "        replacement_df = filtered_big_gaps.pd_dataframe()\n",
    "        \n",
    "        for index, row in gap_series.iterrows():\n",
    "            if row[\"gap_size\"] > 7:\n",
    "                for date in pd.date_range(row[\"gap_start\"], row[\"gap_end\"]):\n",
    "                    stitched_df.loc[date] = replacement_df.loc[date]\n",
    "        \n",
    "        stitched_series = TimeSeries.from_times_and_values(\n",
    "                                    stitched_df.index, \n",
    "                                    stitched_df.values.reshape(\n",
    "                                                len(stitched_df), \n",
    "                                                1, \n",
    "                                                -1))\n",
    "        \n",
    "        return stitched_series\n",
    "        \n",
    "    def _preprocess_data(self):\n",
    "        \"\"\"\n",
    "        Performs gap filling and processing of data into format that\n",
    "        Darts models will accept\n",
    "        \"\"\"\n",
    "        times = pd.to_datetime(self.df[self.datetime_column_name])\n",
    "        times = pd.DatetimeIndex(times)\n",
    "        variable_list = self.covariates_names + [self.target_variable_column_name,\n",
    "                                                self.predicted_target_column_name]\n",
    "        \n",
    "        var_series_dict = {var: TimeSeries.from_times_and_values(times, \n",
    "                                                                 self.df[var], \n",
    "                                                                 fill_missing_dates=True,\n",
    "                                                                 freq=\"D\") \n",
    "                                                        for var in variable_list}\n",
    "\n",
    "        stitched_series_dict = {var: self.make_stitched_series(var_series_dict[var])\n",
    "                                                    for var in variable_list}\n",
    "        self.inputs = stitched_series_dict[self.target_variable_column_name] - \\\n",
    "                       stitched_series_dict[self.predicted_target_column_name]\n",
    "\n",
    "        self.covariates = stitched_series_dict[self.covariates_names[0]]\n",
    "        for cov_var in self.covariates_names[1:]:\n",
    "            self.covariates.concatenate(stitched_series_dict[cov_var], \n",
    "                                                 axis=1, \n",
    "                                                 ignore_time_axis=True)\n",
    "\n",
    "        # Should add an if statement here for tuning\n",
    "        year = int(self.validation_split_date[:4])\n",
    "        month = int(self.validation_split_date[5:7])\n",
    "        day = int(self.validation_split_date[8:])\n",
    "        split_date = pd.Timestamp(year=year, month=month, day=day)\n",
    "        self.training_set, self.validation_set = self.inputs.split_before(split_date)\n",
    "\n",
    "\n",
    "\n",
    "    def tune(self,\n",
    "             input_chunk_length: Optional[list] = [31, 60, 180, 356],\n",
    "             kernel_size: Optional[list] = [2, 3, 5],\n",
    "             num_filters: Optional[list] = [1, 3, 5],\n",
    "             num_layers: Optional[list] = [None, 1, 2, 3],\n",
    "             dilation_base: Optional[list] = [1, 2, 3],\n",
    "             dropout: Optional[list] = [0.1, 0.2, 0.3]):\n",
    "        \"\"\"\n",
    "        Sets up Optuna trial to perform hyperparameter tuning\n",
    "        \"\"\"\n",
    "        # Relevant to tuning\n",
    "        def objective(trial):\n",
    "            callback = [PyTorchLightningPruningCallback(trial, monitor=\"val_loss\")]\n",
    "        \n",
    "            # Hyperparameters\n",
    "            input_chunk_length_ = trial.suggest_categorical(\"input_chunk_length\", \n",
    "                                                               input_chunk_length)\n",
    "            kernel_size_ = trial.suggest_categorical(\"kernel_size\", kernel_size)\n",
    "            num_filters_ = trial.suggest_categorical(\"num_filters\", num_filters)\n",
    "            num_layers_ = trial.suggest_categorical(\"num_layers\", num_layers)\n",
    "            dilation_base_ = trial.suggest_categorical(\"dilation_base\", dilation_base)\n",
    "            dropout_ = trial.suggest_categorical(\"dropout\", dropout)\n",
    "        \n",
    "            tcn_model = TCNModel(input_chunk_length=input_chunk_length_,\n",
    "                            kernel_size=kernel_size_,\n",
    "                            num_filters=num_filters_,\n",
    "                            dilation_base=dilation_base_,\n",
    "                            output_chunk_length=30,\n",
    "                            likelihood=QuantileRegression([0.05, 0.1, 0.5, 0.9, 0.95]))\n",
    "        \n",
    "            tcn_model.fit(self.training_set,\n",
    "                          past_covariates=self.covariates,\n",
    "                          epochs=400, \n",
    "                          verbose=False)\n",
    "        \n",
    "            predictions = tcn_model.predict(n=len(self.validation_set[:30]), \n",
    "                                            past_covariates=self.covariates, \n",
    "                                            num_samples=50)\n",
    "            smapes = smape(self.validation_set[:30], predictions, n_jobs=-1, verbose=False)\n",
    "            smape_val = np.mean(smapes)\n",
    "        \n",
    "            return smape_val if smape_val != np.nan else float(\"inf\")\n",
    "\n",
    "\n",
    "        study = optuna.create_study(direction=\"minimize\")\n",
    "        \n",
    "        study.optimize(objective, n_trials=3) # Note 10 trials pretty meaningless here\n",
    "        \n",
    "        # We could also have used a command as follows to limit the number of trials instead:\n",
    "        # study.optimize(objective, n_trials=100, callbacks=[print_callback])\n",
    "        \n",
    "        # Finally, print the best value and best hyperparameters:\n",
    "        #print(f\"Best value: {study.best_value}, Best params: {study.best_trial.params}\")\n",
    "        self.hyperparams = study.best_trial.params\n",
    "\n",
    "    def make_residual_forecasts(self):\n",
    "        \"\"\"\n",
    "        This function fits a TCN model to the residual error\n",
    "        \"\"\"\n",
    "        print(self.hyperparams)\n",
    "        tcn = TCNModel(**self.hyperparams,\n",
    "               output_chunk_length=30,\n",
    "               likelihood=QuantileRegression([0.05, 0.1, 0.5, 0.9, 0.95]),\n",
    "               random_state=0)\n",
    "    \n",
    "        tcn.fit(self.training_set,\n",
    "                past_covariates=self.covariates,\n",
    "                epochs=500, \n",
    "                verbose=False)\n",
    "\n",
    "        predictions = tcn.predict(n=30,\n",
    "                                  past_covariates=self.covariates, \n",
    "                                  num_samples=500)\n",
    "\n",
    "        predictions.pd_dataframe().to_csv(self.output_csv_name)\n",
    "    "
   ]
  },
  {
   "cell_type": "code",
   "execution_count": 55,
   "id": "09587312-023b-4eab-a6a0-c1f5ed58eb86",
   "metadata": {},
   "outputs": [
    {
     "name": "stderr",
     "output_type": "stream",
     "text": [
      "You are transforming a stochastic TimeSeries (i.e., contains several samples). The resulting DataFrame is a 2D object with all samples on the columns. If this is not the expected behavior consider calling a function adapted to stochastic TimeSeries like quantile_df().\n",
      "You are transforming a stochastic TimeSeries (i.e., contains several samples). The resulting DataFrame is a 2D object with all samples on the columns. If this is not the expected behavior consider calling a function adapted to stochastic TimeSeries like quantile_df().\n",
      "You are transforming a stochastic TimeSeries (i.e., contains several samples). The resulting DataFrame is a 2D object with all samples on the columns. If this is not the expected behavior consider calling a function adapted to stochastic TimeSeries like quantile_df().\n",
      "You are transforming a stochastic TimeSeries (i.e., contains several samples). The resulting DataFrame is a 2D object with all samples on the columns. If this is not the expected behavior consider calling a function adapted to stochastic TimeSeries like quantile_df().\n",
      "You are transforming a stochastic TimeSeries (i.e., contains several samples). The resulting DataFrame is a 2D object with all samples on the columns. If this is not the expected behavior consider calling a function adapted to stochastic TimeSeries like quantile_df().\n",
      "You are transforming a stochastic TimeSeries (i.e., contains several samples). The resulting DataFrame is a 2D object with all samples on the columns. If this is not the expected behavior consider calling a function adapted to stochastic TimeSeries like quantile_df().\n",
      "[I 2023-06-27 01:08:52,335] A new study created in memory with name: no-name-10361afc-5152-4172-b66c-d8206080a273\n",
      "GPU available: True (cuda), used: True\n",
      "TPU available: False, using: 0 TPU cores\n",
      "IPU available: False, using: 0 IPUs\n",
      "HPU available: False, using: 0 HPUs\n",
      "LOCAL_RANK: 0 - CUDA_VISIBLE_DEVICES: [1]\n",
      "`Trainer.fit` stopped: `max_epochs=400` reached.\n",
      "GPU available: True (cuda), used: True\n",
      "TPU available: False, using: 0 TPU cores\n",
      "IPU available: False, using: 0 IPUs\n",
      "HPU available: False, using: 0 HPUs\n",
      "LOCAL_RANK: 0 - CUDA_VISIBLE_DEVICES: [1]\n"
     ]
    },
    {
     "data": {
      "application/vnd.jupyter.widget-view+json": {
       "model_id": "e3a6d4e3acac46ad826c9d7c3de62a3d",
       "version_major": 2,
       "version_minor": 0
      },
      "text/plain": [
       "Predicting: 0it [00:00, ?it/s]"
      ]
     },
     "metadata": {},
     "output_type": "display_data"
    },
    {
     "name": "stderr",
     "output_type": "stream",
     "text": [
      "[I 2023-06-27 01:10:01,180] Trial 0 finished with value: 191.66560692890516 and parameters: {'input_chunk_length': 31, 'kernel_size': 3, 'num_filters': 5, 'num_layers': None, 'dilation_base': 3, 'dropout': 0.3}. Best is trial 0 with value: 191.66560692890516.\n",
      "GPU available: True (cuda), used: True\n",
      "TPU available: False, using: 0 TPU cores\n",
      "IPU available: False, using: 0 IPUs\n",
      "HPU available: False, using: 0 HPUs\n",
      "LOCAL_RANK: 0 - CUDA_VISIBLE_DEVICES: [1]\n",
      "`Trainer.fit` stopped: `max_epochs=400` reached.\n",
      "GPU available: True (cuda), used: True\n",
      "TPU available: False, using: 0 TPU cores\n",
      "IPU available: False, using: 0 IPUs\n",
      "HPU available: False, using: 0 HPUs\n",
      "LOCAL_RANK: 0 - CUDA_VISIBLE_DEVICES: [1]\n"
     ]
    },
    {
     "data": {
      "application/vnd.jupyter.widget-view+json": {
       "model_id": "d6b49bf9262f4805ab5b53d7f75e1d70",
       "version_major": 2,
       "version_minor": 0
      },
      "text/plain": [
       "Predicting: 0it [00:00, ?it/s]"
      ]
     },
     "metadata": {},
     "output_type": "display_data"
    },
    {
     "name": "stderr",
     "output_type": "stream",
     "text": [
      "[I 2023-06-27 01:11:13,094] Trial 1 finished with value: 198.3565203266736 and parameters: {'input_chunk_length': 180, 'kernel_size': 3, 'num_filters': 3, 'num_layers': 2, 'dilation_base': 2, 'dropout': 0.3}. Best is trial 0 with value: 191.66560692890516.\n",
      "GPU available: True (cuda), used: True\n",
      "TPU available: False, using: 0 TPU cores\n",
      "IPU available: False, using: 0 IPUs\n",
      "HPU available: False, using: 0 HPUs\n",
      "LOCAL_RANK: 0 - CUDA_VISIBLE_DEVICES: [1]\n",
      "`Trainer.fit` stopped: `max_epochs=400` reached.\n",
      "GPU available: True (cuda), used: True\n",
      "TPU available: False, using: 0 TPU cores\n",
      "IPU available: False, using: 0 IPUs\n",
      "HPU available: False, using: 0 HPUs\n",
      "LOCAL_RANK: 0 - CUDA_VISIBLE_DEVICES: [1]\n"
     ]
    },
    {
     "data": {
      "application/vnd.jupyter.widget-view+json": {
       "model_id": "f3835c94d41b49f29d36ec15e9b6a290",
       "version_major": 2,
       "version_minor": 0
      },
      "text/plain": [
       "Predicting: 0it [00:00, ?it/s]"
      ]
     },
     "metadata": {},
     "output_type": "display_data"
    },
    {
     "name": "stderr",
     "output_type": "stream",
     "text": [
      "[I 2023-06-27 01:12:25,273] Trial 2 finished with value: 178.4422404888918 and parameters: {'input_chunk_length': 31, 'kernel_size': 2, 'num_filters': 5, 'num_layers': None, 'dilation_base': 3, 'dropout': 0.2}. Best is trial 2 with value: 178.4422404888918.\n",
      "GPU available: True (cuda), used: True\n",
      "TPU available: False, using: 0 TPU cores\n",
      "IPU available: False, using: 0 IPUs\n",
      "HPU available: False, using: 0 HPUs\n",
      "LOCAL_RANK: 0 - CUDA_VISIBLE_DEVICES: [1]\n"
     ]
    },
    {
     "name": "stdout",
     "output_type": "stream",
     "text": [
      "{'input_chunk_length': 31, 'kernel_size': 2, 'num_filters': 5, 'num_layers': None, 'dilation_base': 3, 'dropout': 0.2}\n"
     ]
    },
    {
     "name": "stderr",
     "output_type": "stream",
     "text": [
      "`Trainer.fit` stopped: `max_epochs=500` reached.\n",
      "GPU available: True (cuda), used: True\n",
      "TPU available: False, using: 0 TPU cores\n",
      "IPU available: False, using: 0 IPUs\n",
      "HPU available: False, using: 0 HPUs\n",
      "LOCAL_RANK: 0 - CUDA_VISIBLE_DEVICES: [1]\n"
     ]
    },
    {
     "data": {
      "application/vnd.jupyter.widget-view+json": {
       "model_id": "149a9baf51c8439790f84c1f4c2cfa2b",
       "version_major": 2,
       "version_minor": 0
      },
      "text/plain": [
       "Predicting: 0it [00:00, ?it/s]"
      ]
     },
     "metadata": {},
     "output_type": "display_data"
    },
    {
     "name": "stderr",
     "output_type": "stream",
     "text": [
      "You are transforming a stochastic TimeSeries (i.e., contains several samples). The resulting DataFrame is a 2D object with all samples on the columns. If this is not the expected behavior consider calling a function adapted to stochastic TimeSeries like quantile_df().\n"
     ]
    }
   ],
   "source": [
    "model = ResidualForecaster(input_csv_name=\"aquatics-ARIK-oxygen-Predicted.csv\",\n",
    "                          target_variable_column_name=\"oxygen\",\n",
    "                          predicted_target_column_name=\".pred\",\n",
    "                          datetime_column_name=\"datetime\",\n",
    "                          covariates_names=[\"air_temperature\"],\n",
    "                          output_csv_name=\"trash.csv\",\n",
    "                          validation_split_date=\"2023-04-01\",\n",
    "                          tune_model=True)\n",
    "\n",
    "model.tune()\n",
    "model.make_residual_forecasts()"
   ]
  },
  {
   "cell_type": "code",
   "execution_count": 6,
   "id": "32001848-fcd2-4ad9-8a99-183476971cc2",
   "metadata": {},
   "outputs": [],
   "source": [
    "df = pd.read_csv(\"trash.csv\")\n",
    "times = pd.to_datetime(df[\"datetime\"])\n",
    "times = pd.DatetimeIndex(times)\n",
    "values = df.loc[:, df.columns!=\"datetime\"].to_numpy().reshape((34, 1, -1))\n",
    "direct_predictions_ts = TimeSeries.from_times_and_values(times, \n",
    "                                                         values, \n",
    "                                                         fill_missing_dates=True, freq=\"D\")"
   ]
  },
  {
   "cell_type": "code",
   "execution_count": 11,
   "id": "15c17365-96cd-4de9-bbe4-0ec753c26813",
   "metadata": {},
   "outputs": [
    {
     "data": {
      "image/png": "[encoded data removed]",
      "text/plain": [
       "<Figure size 640x480 with 1 Axes>"
      ]
     },
     "metadata": {},
     "output_type": "display_data"
    }
   ],
   "source": [
    "plt.clf()\n",
    "direct_predictions_ts.plot(color=\"salmon\", label=\"Forecasted residuals\")\n",
    "plt.show()"
   ]
  },
  {
   "cell_type": "markdown",
   "id": "f050966a-7c82-44ac-9281-66b480a1416b",
   "metadata": {},
   "source": [
    "After making this, it makes sense to build a \"Base forecasting\" class."
   ]
  },
  {
   "cell_type": "code",
   "execution_count": 57,
   "id": "5a565740-8bbd-4fb5-ad5c-357ecd922dee",
   "metadata": {},
   "outputs": [
    {
     "data": {
      "text/html": [
       "<div>\n",
       "<style scoped>\n",
       "    .dataframe tbody tr th:only-of-type {\n",
       "        vertical-align: middle;\n",
       "    }\n",
       "\n",
       "    .dataframe tbody tr th {\n",
       "        vertical-align: top;\n",
       "    }\n",
       "\n",
       "    .dataframe thead th {\n",
       "        text-align: right;\n",
       "    }\n",
       "</style>\n",
       "<table border=\"1\" class=\"dataframe\">\n",
       "  <thead>\n",
       "    <tr style=\"text-align: right;\">\n",
       "      <th></th>\n",
       "      <th>datetime</th>\n",
       "      <th>.pred</th>\n",
       "      <th>oxygen</th>\n",
       "      <th>air_temperature</th>\n",
       "      <th>surface_downwelling_longwave_flux_in_air</th>\n",
       "      <th>surface_downwelling_shortwave_flux_in_air</th>\n",
       "      <th>precipitation_flux</th>\n",
       "      <th>air_pressure</th>\n",
       "      <th>relative_humidity</th>\n",
       "      <th>northward_wind</th>\n",
       "      <th>eastward_wind</th>\n",
       "    </tr>\n",
       "  </thead>\n",
       "  <tbody>\n",
       "    <tr>\n",
       "      <th>0</th>\n",
       "      <td>2020-11-02</td>\n",
       "      <td>6.526266</td>\n",
       "      <td>6.119156</td>\n",
       "      <td>13.359830</td>\n",
       "      <td>272.077880</td>\n",
       "      <td>162.629032</td>\n",
       "      <td>0.0</td>\n",
       "      <td>88821.367692</td>\n",
       "      <td>0.309830</td>\n",
       "      <td>2.668139</td>\n",
       "      <td>0.257750</td>\n",
       "    </tr>\n",
       "    <tr>\n",
       "      <th>1</th>\n",
       "      <td>2020-11-03</td>\n",
       "      <td>6.075640</td>\n",
       "      <td>5.877618</td>\n",
       "      <td>16.389842</td>\n",
       "      <td>278.678338</td>\n",
       "      <td>158.225806</td>\n",
       "      <td>0.0</td>\n",
       "      <td>88163.690199</td>\n",
       "      <td>0.241677</td>\n",
       "      <td>2.488065</td>\n",
       "      <td>1.287034</td>\n",
       "    </tr>\n",
       "    <tr>\n",
       "      <th>2</th>\n",
       "      <td>2020-11-04</td>\n",
       "      <td>5.625103</td>\n",
       "      <td>5.172174</td>\n",
       "      <td>18.337971</td>\n",
       "      <td>304.047355</td>\n",
       "      <td>151.000000</td>\n",
       "      <td>0.0</td>\n",
       "      <td>88007.810631</td>\n",
       "      <td>0.242501</td>\n",
       "      <td>3.420230</td>\n",
       "      <td>-2.225313</td>\n",
       "    </tr>\n",
       "    <tr>\n",
       "      <th>3</th>\n",
       "      <td>2020-11-05</td>\n",
       "      <td>5.607800</td>\n",
       "      <td>5.053873</td>\n",
       "      <td>16.067992</td>\n",
       "      <td>282.212475</td>\n",
       "      <td>153.540323</td>\n",
       "      <td>0.0</td>\n",
       "      <td>88587.113575</td>\n",
       "      <td>0.278865</td>\n",
       "      <td>1.365854</td>\n",
       "      <td>-0.820159</td>\n",
       "    </tr>\n",
       "    <tr>\n",
       "      <th>4</th>\n",
       "      <td>2020-11-06</td>\n",
       "      <td>5.341532</td>\n",
       "      <td>5.348101</td>\n",
       "      <td>17.385899</td>\n",
       "      <td>280.930195</td>\n",
       "      <td>143.596774</td>\n",
       "      <td>0.0</td>\n",
       "      <td>87818.473118</td>\n",
       "      <td>0.250312</td>\n",
       "      <td>1.305135</td>\n",
       "      <td>6.879596</td>\n",
       "    </tr>\n",
       "  </tbody>\n",
       "</table>\n",
       "</div>"
      ],
      "text/plain": [
       "     datetime     .pred    oxygen  air_temperature  \\\n",
       "0  2020-11-02  6.526266  6.119156        13.359830   \n",
       "1  2020-11-03  6.075640  5.877618        16.389842   \n",
       "2  2020-11-04  5.625103  5.172174        18.337971   \n",
       "3  2020-11-05  5.607800  5.053873        16.067992   \n",
       "4  2020-11-06  5.341532  5.348101        17.385899   \n",
       "\n",
       "   surface_downwelling_longwave_flux_in_air  \\\n",
       "0                                272.077880   \n",
       "1                                278.678338   \n",
       "2                                304.047355   \n",
       "3                                282.212475   \n",
       "4                                280.930195   \n",
       "\n",
       "   surface_downwelling_shortwave_flux_in_air  precipitation_flux  \\\n",
       "0                                 162.629032                 0.0   \n",
       "1                                 158.225806                 0.0   \n",
       "2                                 151.000000                 0.0   \n",
       "3                                 153.540323                 0.0   \n",
       "4                                 143.596774                 0.0   \n",
       "\n",
       "   air_pressure  relative_humidity  northward_wind  eastward_wind  \n",
       "0  88821.367692           0.309830        2.668139       0.257750  \n",
       "1  88163.690199           0.241677        2.488065       1.287034  \n",
       "2  88007.810631           0.242501        3.420230      -2.225313  \n",
       "3  88587.113575           0.278865        1.365854      -0.820159  \n",
       "4  87818.473118           0.250312        1.305135       6.879596  "
      ]
     },
     "execution_count": 57,
     "metadata": {},
     "output_type": "execute_result"
    }
   ],
   "source": [
    "df = pd.read_csv(\"aquatics-ARIK-oxygen-Predicted.csv\")\n",
    "df.head()"
   ]
  },
  {
   "cell_type": "markdown",
   "id": "58a28c16-7542-4d31-b18c-7bfcb4fb6c79",
   "metadata": {},
   "source": [
    "Things to do: make this so it works with different types of models, also make it so that it works with Ray"
   ]
  },
  {
   "cell_type": "code",
   "execution_count": 83,
   "id": "dd13d928-3caa-4fcd-b2b1-044a85c6613d",
   "metadata": {},
   "outputs": [],
   "source": [
    "from darts.models import BlockRNNModel, TCNModel, RNNModel, TransformerModel\n",
    "\n",
    "class BaseForecaster():\n",
    "    def __init__(self,\n",
    "                 model: Optional[str] = None,\n",
    "                 input_csv_name: Optional[str] = None,\n",
    "                 target_variable_column_name: Optional[str] = None,\n",
    "                 datetime_column_name: Optional[str] = None,\n",
    "                 covariates_names: Optional[list] = None,\n",
    "                 output_csv_name: Optional[str] = \"residual_forecaster_output.csv\",\n",
    "                 validation_split_date: Optional[str] = None, #YYYY-MM-DD\n",
    "                 model_hyperparameters: Optional[dict] = None,\n",
    "                 ):\n",
    "        self.model = {\"BlockRNN\": BlockRNNModel, \"TCN\": TCNModel, \"RNN\": RNNModel, \"Transformer\": TransformerModel}[model]\n",
    "        self.input_csv_name = input_csv_name\n",
    "        self.df = pd.read_csv(self.input_csv_name)\n",
    "        self.target_variable_column_name = target_variable_column_name\n",
    "        self.datetime_column_name = datetime_column_name\n",
    "        self.covariates_names = covariates_names\n",
    "        self.output_csv_name = output_csv_name\n",
    "        self.validation_split_date = validation_split_date\n",
    "        if model_hyperparameters == None:\n",
    "            self.hyperparams = {\"input_chunk_length\" : 180}\n",
    "        else:\n",
    "            self.hyperparams = model_hyperparameters\n",
    "\n",
    "        self._preprocess_data()\n",
    "    \n",
    "    def make_stitched_series(self, variable_tseries):\n",
    "        \"\"\"\n",
    "        Returns a time series where the gaps have been filled in via\n",
    "        Gaussian Process Filters\n",
    "        \"\"\"\n",
    "        kernel = RBF()\n",
    "        \n",
    "        gpf_missing = GaussianProcessFilter(kernel=kernel, \n",
    "                                            alpha=0.001, \n",
    "                                            n_restarts_optimizer=100)\n",
    "        \n",
    "        gpf_missing_big_gaps = GaussianProcessFilter(kernel=kernel, \n",
    "                                                     alpha=2, \n",
    "                                                     n_restarts_optimizer=10)\n",
    "        stitched_series = {}\n",
    "    \n",
    "        # Filtering the TimeSeries\n",
    "        try:\n",
    "            filtered = gpf_missing.filter(variable_tseries, num_samples=500)\n",
    "            filtered_big_gaps = gpf_missing_big_gaps.filter(variable_tseries, \n",
    "                                                            num_samples=500)\n",
    "        except:\n",
    "            return None\n",
    "    \n",
    "        #if there is a gap over 7 indices, use big gap filter\n",
    "        gap_series = variable_tseries.gaps()\n",
    "        stitched_df = filtered.pd_dataframe()\n",
    "        replacement_df = filtered_big_gaps.pd_dataframe()\n",
    "        \n",
    "        for index, row in gap_series.iterrows():\n",
    "            if row[\"gap_size\"] > 7:\n",
    "                for date in pd.date_range(row[\"gap_start\"], row[\"gap_end\"]):\n",
    "                    stitched_df.loc[date] = replacement_df.loc[date]\n",
    "        \n",
    "        stitched_series = TimeSeries.from_times_and_values(\n",
    "                                    stitched_df.index, \n",
    "                                    stitched_df.values.reshape(\n",
    "                                                len(stitched_df), \n",
    "                                                1, \n",
    "                                                -1))\n",
    "        \n",
    "        return stitched_series\n",
    "        \n",
    "    def _preprocess_data(self):\n",
    "        \"\"\"\n",
    "        Performs gap filling and processing of data into format that\n",
    "        Darts models will accept\n",
    "        \"\"\"\n",
    "        times = pd.to_datetime(self.df[self.datetime_column_name])\n",
    "        times = pd.DatetimeIndex(times)\n",
    "        variable_list = self.covariates_names + [self.target_variable_column_name]\n",
    "        \n",
    "        var_series_dict = {var: TimeSeries.from_times_and_values(times, \n",
    "                                                                 self.df[var], \n",
    "                                                                 fill_missing_dates=True,\n",
    "                                                                 freq=\"D\") \n",
    "                                                        for var in variable_list}\n",
    "\n",
    "        stitched_series_dict = {var: self.make_stitched_series(var_series_dict[var])\n",
    "                                                    for var in variable_list}\n",
    "        self.inputs = stitched_series_dict[self.target_variable_column_name]\n",
    "\n",
    "        # Initializing covariates list then concatenating in for loop\n",
    "        self.covariates = stitched_series_dict[self.covariates_names[0]]\n",
    "        for cov_var in self.covariates_names[1:]:\n",
    "            self.covariates.concatenate(stitched_series_dict[cov_var], \n",
    "                                                 axis=1, \n",
    "                                                 ignore_time_axis=True)\n",
    "\n",
    "        # Should add an if statement here for tuning\n",
    "        year = int(self.validation_split_date[:4])\n",
    "        month = int(self.validation_split_date[5:7])\n",
    "        day = int(self.validation_split_date[8:])\n",
    "        split_date = pd.Timestamp(year=year, month=month, day=day)\n",
    "        self.training_set, self.validation_set = self.inputs.split_before(split_date)\n",
    "\n",
    "\n",
    "\n",
    "    def tune(self,\n",
    "             hyperparameter_dict: Optional[dict]\n",
    "            ):\n",
    "        \"\"\"\n",
    "        Sets up Optuna trial to perform hyperparameter tuning\n",
    "        Input dictionary will be of the form {\"hyperparamter\": [values to be tested]}\n",
    "        \"\"\"\n",
    "        # Relevant to tuning\n",
    "        def objective(trial):\n",
    "            callback = [PyTorchLightningPruningCallback(trial, monitor=\"val_loss\")]\n",
    "            hyperparams = {key: trial.suggest_categorical(key, value) \n",
    "                                               for key, value in hyperparameter_dict.items()}\n",
    "        \n",
    "            model = self.model(**hyperparams,\n",
    "                               output_chunk_length=30,\n",
    "                               likelihood=QuantileRegression([0.05, 0.1, 0.5, 0.9, 0.95]))\n",
    "        \n",
    "            model.fit(self.training_set,\n",
    "                      past_covariates=self.covariates,\n",
    "                      epochs=400, \n",
    "                      verbose=False)\n",
    "        \n",
    "            predictions = model.predict(n=len(self.validation_set[:30]), \n",
    "                                            past_covariates=self.covariates, \n",
    "                                            num_samples=50)\n",
    "            smapes = smape(self.validation_set[:30], predictions, n_jobs=-1, verbose=False)\n",
    "            smape_val = np.mean(smapes)\n",
    "        \n",
    "            return smape_val if smape_val != np.nan else float(\"inf\")\n",
    "\n",
    "\n",
    "        study = optuna.create_study(direction=\"minimize\")\n",
    "        \n",
    "        study.optimize(objective, n_trials=3) # Note 10 trials pretty meaningless here\n",
    "        \n",
    "        # We could also have used a command as follows to limit the number of trials instead:\n",
    "        # study.optimize(objective, n_trials=100, callbacks=[print_callback])\n",
    "        \n",
    "        # Finally, print the best value and best hyperparameters:\n",
    "        #print(f\"Best value: {study.best_value}, Best params: {study.best_trial.params}\")\n",
    "        self.hyperparams = study.best_trial.params\n",
    "\n",
    "    def make_forecasts(self):\n",
    "        \"\"\"\n",
    "        This function fits a TCN model to the residual error\n",
    "        \"\"\"\n",
    "        print(self.hyperparams)\n",
    "        model = self.model(**self.hyperparams,\n",
    "                           output_chunk_length=30,\n",
    "                           likelihood=QuantileRegression([0.05, 0.1, 0.5, 0.9, 0.95]),\n",
    "                           random_state=0)\n",
    "    \n",
    "        model.fit(self.training_set, #In future this should be self.inputs\n",
    "                  past_covariates=self.covariates,\n",
    "                  epochs=500, \n",
    "                  verbose=False)\n",
    "\n",
    "        predictions = model.predict(n=30,\n",
    "                                    past_covariates=self.covariates, \n",
    "                                    num_samples=500)\n",
    "\n",
    "        predictions.pd_dataframe().to_csv(self.output_csv_name)\n",
    "    "
   ]
  },
  {
   "cell_type": "markdown",
   "id": "1c76a21e-80b9-4403-8059-f861162f22f1",
   "metadata": {},
   "source": [
    "Testing the base forecasting model with BlockRNN"
   ]
  },
  {
   "cell_type": "code",
   "execution_count": 84,
   "id": "c741b441-ab45-407c-91dd-ec73ac2003e9",
   "metadata": {},
   "outputs": [
    {
     "name": "stderr",
     "output_type": "stream",
     "text": [
      "You are transforming a stochastic TimeSeries (i.e., contains several samples). The resulting DataFrame is a 2D object with all samples on the columns. If this is not the expected behavior consider calling a function adapted to stochastic TimeSeries like quantile_df().\n",
      "You are transforming a stochastic TimeSeries (i.e., contains several samples). The resulting DataFrame is a 2D object with all samples on the columns. If this is not the expected behavior consider calling a function adapted to stochastic TimeSeries like quantile_df().\n",
      "You are transforming a stochastic TimeSeries (i.e., contains several samples). The resulting DataFrame is a 2D object with all samples on the columns. If this is not the expected behavior consider calling a function adapted to stochastic TimeSeries like quantile_df().\n",
      "You are transforming a stochastic TimeSeries (i.e., contains several samples). The resulting DataFrame is a 2D object with all samples on the columns. If this is not the expected behavior consider calling a function adapted to stochastic TimeSeries like quantile_df().\n"
     ]
    }
   ],
   "source": [
    "model = BaseForecaster(model=\"BlockRNN\",\n",
    "                       input_csv_name=\"aquatics-ARIK-oxygen-Predicted.csv\",\n",
    "                       target_variable_column_name=\"oxygen\",\n",
    "                       datetime_column_name=\"datetime\",\n",
    "                       covariates_names=[\"air_temperature\"],\n",
    "                       output_csv_name=\"trash.csv\",\n",
    "                       validation_split_date=\"2023-05-01\")"
   ]
  },
  {
   "cell_type": "code",
   "execution_count": 85,
   "id": "c46c0af6-1ec0-4150-aa89-584e418389bb",
   "metadata": {},
   "outputs": [
    {
     "name": "stderr",
     "output_type": "stream",
     "text": [
      "[I 2023-07-02 21:50:07,940] A new study created in memory with name: no-name-01fcb68d-e459-4196-8ddc-3306f36eb51a\n",
      "GPU available: True (cuda), used: True\n",
      "TPU available: False, using: 0 TPU cores\n",
      "IPU available: False, using: 0 IPUs\n",
      "HPU available: False, using: 0 HPUs\n",
      "LOCAL_RANK: 0 - CUDA_VISIBLE_DEVICES: [1]\n",
      "`Trainer.fit` stopped: `max_epochs=400` reached.\n",
      "GPU available: True (cuda), used: True\n",
      "TPU available: False, using: 0 TPU cores\n",
      "IPU available: False, using: 0 IPUs\n",
      "HPU available: False, using: 0 HPUs\n",
      "LOCAL_RANK: 0 - CUDA_VISIBLE_DEVICES: [1]\n"
     ]
    },
    {
     "data": {
      "application/vnd.jupyter.widget-view+json": {
       "model_id": "90c66923ff7847c496beaaf348bab8a4",
       "version_major": 2,
       "version_minor": 0
      },
      "text/plain": [
       "Predicting: 0it [00:00, ?it/s]"
      ]
     },
     "metadata": {},
     "output_type": "display_data"
    },
    {
     "name": "stderr",
     "output_type": "stream",
     "text": [
      "[I 2023-07-02 21:52:48,249] Trial 0 finished with value: 17.145457654577932 and parameters: {'input_chunk_length': 60, 'hidden_dim': 16, 'model': 'LSTM', 'n_rnn_layers': 3}. Best is trial 0 with value: 17.145457654577932.\n",
      "GPU available: True (cuda), used: True\n",
      "TPU available: False, using: 0 TPU cores\n",
      "IPU available: False, using: 0 IPUs\n",
      "HPU available: False, using: 0 HPUs\n",
      "LOCAL_RANK: 0 - CUDA_VISIBLE_DEVICES: [1]\n",
      "`Trainer.fit` stopped: `max_epochs=400` reached.\n",
      "GPU available: True (cuda), used: True\n",
      "TPU available: False, using: 0 TPU cores\n",
      "IPU available: False, using: 0 IPUs\n",
      "HPU available: False, using: 0 HPUs\n",
      "LOCAL_RANK: 0 - CUDA_VISIBLE_DEVICES: [1]\n"
     ]
    },
    {
     "data": {
      "application/vnd.jupyter.widget-view+json": {
       "model_id": "4b607aeab1e54b17aab2a83f07ba2c3e",
       "version_major": 2,
       "version_minor": 0
      },
      "text/plain": [
       "Predicting: 0it [00:00, ?it/s]"
      ]
     },
     "metadata": {},
     "output_type": "display_data"
    },
    {
     "name": "stderr",
     "output_type": "stream",
     "text": [
      "[I 2023-07-02 21:54:56,152] Trial 1 finished with value: 15.76447524926024 and parameters: {'input_chunk_length': 31, 'hidden_dim': 32, 'model': 'GRU', 'n_rnn_layers': 3}. Best is trial 1 with value: 15.76447524926024.\n",
      "GPU available: True (cuda), used: True\n",
      "TPU available: False, using: 0 TPU cores\n",
      "IPU available: False, using: 0 IPUs\n",
      "HPU available: False, using: 0 HPUs\n",
      "LOCAL_RANK: 0 - CUDA_VISIBLE_DEVICES: [1]\n",
      "`Trainer.fit` stopped: `max_epochs=400` reached.\n",
      "GPU available: True (cuda), used: True\n",
      "TPU available: False, using: 0 TPU cores\n",
      "IPU available: False, using: 0 IPUs\n",
      "HPU available: False, using: 0 HPUs\n",
      "LOCAL_RANK: 0 - CUDA_VISIBLE_DEVICES: [1]\n"
     ]
    },
    {
     "data": {
      "application/vnd.jupyter.widget-view+json": {
       "model_id": "c01a8920add24d8799a1f1368cf44cb1",
       "version_major": 2,
       "version_minor": 0
      },
      "text/plain": [
       "Predicting: 0it [00:00, ?it/s]"
      ]
     },
     "metadata": {},
     "output_type": "display_data"
    },
    {
     "name": "stderr",
     "output_type": "stream",
     "text": [
      "[I 2023-07-02 21:56:28,495] Trial 2 finished with value: 25.25152348043151 and parameters: {'input_chunk_length': 31, 'hidden_dim': 32, 'model': 'RNN', 'n_rnn_layers': 3}. Best is trial 1 with value: 15.76447524926024.\n"
     ]
    }
   ],
   "source": [
    "model.tune({\n",
    "    \"input_chunk_length\": [31, 60, 180],\n",
    "    \"hidden_dim\": [16, 32, 64],\n",
    "    \"model\": [\"RNN\", \"GRU\", \"LSTM\"],\n",
    "    \"n_rnn_layers\": [2, 3],\n",
    "})"
   ]
  },
  {
   "cell_type": "code",
   "execution_count": 86,
   "id": "51686172-fb5d-4a8a-8b4e-ed3550a50984",
   "metadata": {},
   "outputs": [
    {
     "name": "stderr",
     "output_type": "stream",
     "text": [
      "GPU available: True (cuda), used: True\n",
      "TPU available: False, using: 0 TPU cores\n",
      "IPU available: False, using: 0 IPUs\n",
      "HPU available: False, using: 0 HPUs\n",
      "LOCAL_RANK: 0 - CUDA_VISIBLE_DEVICES: [1]\n"
     ]
    },
    {
     "name": "stdout",
     "output_type": "stream",
     "text": [
      "{'input_chunk_length': 31, 'hidden_dim': 32, 'model': 'GRU', 'n_rnn_layers': 3}\n"
     ]
    },
    {
     "name": "stderr",
     "output_type": "stream",
     "text": [
      "`Trainer.fit` stopped: `max_epochs=500` reached.\n",
      "GPU available: True (cuda), used: True\n",
      "TPU available: False, using: 0 TPU cores\n",
      "IPU available: False, using: 0 IPUs\n",
      "HPU available: False, using: 0 HPUs\n",
      "LOCAL_RANK: 0 - CUDA_VISIBLE_DEVICES: [1]\n"
     ]
    },
    {
     "data": {
      "application/vnd.jupyter.widget-view+json": {
       "model_id": "a51f03da51d44edba4df0f0857bd0ddc",
       "version_major": 2,
       "version_minor": 0
      },
      "text/plain": [
       "Predicting: 0it [00:00, ?it/s]"
      ]
     },
     "metadata": {},
     "output_type": "display_data"
    },
    {
     "name": "stderr",
     "output_type": "stream",
     "text": [
      "You are transforming a stochastic TimeSeries (i.e., contains several samples). The resulting DataFrame is a 2D object with all samples on the columns. If this is not the expected behavior consider calling a function adapted to stochastic TimeSeries like quantile_df().\n"
     ]
    }
   ],
   "source": [
    "model.make_forecasts()"
   ]
  },
  {
   "cell_type": "code",
   "execution_count": 87,
   "id": "159f05b4-31b4-408e-96b6-41c3f0124eb8",
   "metadata": {},
   "outputs": [
    {
     "data": {
      "image/png": "[encoded data removed]",
      "text/plain": [
       "<Figure size 640x480 with 1 Axes>"
      ]
     },
     "metadata": {},
     "output_type": "display_data"
    }
   ],
   "source": [
    "df = pd.read_csv(\"trash.csv\")\n",
    "times = pd.to_datetime(df[\"datetime\"])\n",
    "times = pd.DatetimeIndex(times)\n",
    "values = df.loc[:, df.columns!=\"datetime\"].to_numpy().reshape((30, 1, -1))\n",
    "direct_predictions_ts = TimeSeries.from_times_and_values(times, \n",
    "                                                         values, \n",
    "                                                         fill_missing_dates=True, freq=\"D\")\n",
    "\n",
    "plt.clf()\n",
    "direct_predictions_ts.plot(color=\"salmon\", label=\"Forecast\")\n",
    "model.validation_set[:30].plot(color=\"black\", label=\"Truth\")\n",
    "plt.show()"
   ]
  },
  {
   "cell_type": "markdown",
   "id": "6000b130-2e2a-4123-953d-f931f5041310",
   "metadata": {},
   "source": [
    "Trying this, with TCN models."
   ]
  },
  {
   "cell_type": "code",
   "execution_count": 60,
   "id": "68437e83-6d54-4160-a5f9-6fac92882146",
   "metadata": {},
   "outputs": [
    {
     "name": "stderr",
     "output_type": "stream",
     "text": [
      "You are transforming a stochastic TimeSeries (i.e., contains several samples). The resulting DataFrame is a 2D object with all samples on the columns. If this is not the expected behavior consider calling a function adapted to stochastic TimeSeries like quantile_df().\n",
      "You are transforming a stochastic TimeSeries (i.e., contains several samples). The resulting DataFrame is a 2D object with all samples on the columns. If this is not the expected behavior consider calling a function adapted to stochastic TimeSeries like quantile_df().\n",
      "You are transforming a stochastic TimeSeries (i.e., contains several samples). The resulting DataFrame is a 2D object with all samples on the columns. If this is not the expected behavior consider calling a function adapted to stochastic TimeSeries like quantile_df().\n",
      "You are transforming a stochastic TimeSeries (i.e., contains several samples). The resulting DataFrame is a 2D object with all samples on the columns. If this is not the expected behavior consider calling a function adapted to stochastic TimeSeries like quantile_df().\n"
     ]
    }
   ],
   "source": [
    "model = BaseForecaster(model=\"TCN\",\n",
    "                       input_csv_name=\"aquatics-ARIK-oxygen-Predicted.csv\",\n",
    "                       target_variable_column_name=\"oxygen\",\n",
    "                       datetime_column_name=\"datetime\",\n",
    "                       covariates_names=[\"air_temperature\"],\n",
    "                       output_csv_name=\"trash.csv\",\n",
    "                       validation_split_date=\"2023-05-01\",\n",
    "                       tune_model=True)"
   ]
  },
  {
   "cell_type": "code",
   "execution_count": 65,
   "id": "64054948-fa31-417d-a1d1-ae7fcba7e203",
   "metadata": {},
   "outputs": [
    {
     "name": "stderr",
     "output_type": "stream",
     "text": [
      "[I 2023-07-02 21:07:36,946] A new study created in memory with name: no-name-5aa91b60-ccf5-45fc-8616-f4381251148c\n",
      "GPU available: True (cuda), used: True\n",
      "TPU available: False, using: 0 TPU cores\n",
      "IPU available: False, using: 0 IPUs\n",
      "HPU available: False, using: 0 HPUs\n",
      "LOCAL_RANK: 0 - CUDA_VISIBLE_DEVICES: [1]\n",
      "`Trainer.fit` stopped: `max_epochs=400` reached.\n",
      "GPU available: True (cuda), used: True\n",
      "TPU available: False, using: 0 TPU cores\n",
      "IPU available: False, using: 0 IPUs\n",
      "HPU available: False, using: 0 HPUs\n",
      "LOCAL_RANK: 0 - CUDA_VISIBLE_DEVICES: [1]\n"
     ]
    },
    {
     "data": {
      "application/vnd.jupyter.widget-view+json": {
       "model_id": "501c8ae6e9ef4a93acbfcbbe6ee63d7d",
       "version_major": 2,
       "version_minor": 0
      },
      "text/plain": [
       "Predicting: 0it [00:00, ?it/s]"
      ]
     },
     "metadata": {},
     "output_type": "display_data"
    },
    {
     "name": "stderr",
     "output_type": "stream",
     "text": [
      "[I 2023-07-02 21:09:58,148] Trial 0 finished with value: 31.392381467418595 and parameters: {'input_chunk_length': 60, 'kernel_size': 3, 'dilation_base': 1, 'num_filters': 2}. Best is trial 0 with value: 31.392381467418595.\n",
      "GPU available: True (cuda), used: True\n",
      "TPU available: False, using: 0 TPU cores\n",
      "IPU available: False, using: 0 IPUs\n",
      "HPU available: False, using: 0 HPUs\n",
      "LOCAL_RANK: 0 - CUDA_VISIBLE_DEVICES: [1]\n",
      "`Trainer.fit` stopped: `max_epochs=400` reached.\n",
      "GPU available: True (cuda), used: True\n",
      "TPU available: False, using: 0 TPU cores\n",
      "IPU available: False, using: 0 IPUs\n",
      "HPU available: False, using: 0 HPUs\n",
      "LOCAL_RANK: 0 - CUDA_VISIBLE_DEVICES: [1]\n"
     ]
    },
    {
     "data": {
      "application/vnd.jupyter.widget-view+json": {
       "model_id": "53810bdaa1644537b167e89e1ae3ee35",
       "version_major": 2,
       "version_minor": 0
      },
      "text/plain": [
       "Predicting: 0it [00:00, ?it/s]"
      ]
     },
     "metadata": {},
     "output_type": "display_data"
    },
    {
     "name": "stderr",
     "output_type": "stream",
     "text": [
      "[I 2023-07-02 21:11:04,594] Trial 1 finished with value: 27.389112448170298 and parameters: {'input_chunk_length': 60, 'kernel_size': 4, 'dilation_base': 2, 'num_filters': 2}. Best is trial 1 with value: 27.389112448170298.\n",
      "GPU available: True (cuda), used: True\n",
      "TPU available: False, using: 0 TPU cores\n",
      "IPU available: False, using: 0 IPUs\n",
      "HPU available: False, using: 0 HPUs\n",
      "LOCAL_RANK: 0 - CUDA_VISIBLE_DEVICES: [1]\n",
      "`Trainer.fit` stopped: `max_epochs=400` reached.\n",
      "GPU available: True (cuda), used: True\n",
      "TPU available: False, using: 0 TPU cores\n",
      "IPU available: False, using: 0 IPUs\n",
      "HPU available: False, using: 0 HPUs\n",
      "LOCAL_RANK: 0 - CUDA_VISIBLE_DEVICES: [1]\n"
     ]
    },
    {
     "data": {
      "application/vnd.jupyter.widget-view+json": {
       "model_id": "dc8a48c4a53d47a19829b8420dbe196f",
       "version_major": 2,
       "version_minor": 0
      },
      "text/plain": [
       "Predicting: 0it [00:00, ?it/s]"
      ]
     },
     "metadata": {},
     "output_type": "display_data"
    },
    {
     "name": "stderr",
     "output_type": "stream",
     "text": [
      "[I 2023-07-02 21:12:14,542] Trial 2 finished with value: 29.50042845939394 and parameters: {'input_chunk_length': 60, 'kernel_size': 2, 'dilation_base': 3, 'num_filters': 3}. Best is trial 1 with value: 27.389112448170298.\n"
     ]
    }
   ],
   "source": [
    "model.tune({\n",
    "    \"input_chunk_length\": [31, 60, 180],\n",
    "    \"kernel_size\": [2, 3, 4],\n",
    "    \"dilation_base\": [1, 2, 3],\n",
    "    \"num_filters\": [1, 2, 3]\n",
    "})"
   ]
  },
  {
   "cell_type": "code",
   "execution_count": 67,
   "id": "64005260-f50c-461f-b880-f52f341c3739",
   "metadata": {},
   "outputs": [
    {
     "name": "stderr",
     "output_type": "stream",
     "text": [
      "GPU available: True (cuda), used: True\n",
      "TPU available: False, using: 0 TPU cores\n",
      "IPU available: False, using: 0 IPUs\n",
      "HPU available: False, using: 0 HPUs\n",
      "LOCAL_RANK: 0 - CUDA_VISIBLE_DEVICES: [1]\n"
     ]
    },
    {
     "name": "stdout",
     "output_type": "stream",
     "text": [
      "{'input_chunk_length': 60, 'kernel_size': 4, 'dilation_base': 2, 'num_filters': 2}\n"
     ]
    },
    {
     "name": "stderr",
     "output_type": "stream",
     "text": [
      "`Trainer.fit` stopped: `max_epochs=500` reached.\n",
      "GPU available: True (cuda), used: True\n",
      "TPU available: False, using: 0 TPU cores\n",
      "IPU available: False, using: 0 IPUs\n",
      "HPU available: False, using: 0 HPUs\n",
      "LOCAL_RANK: 0 - CUDA_VISIBLE_DEVICES: [1]\n"
     ]
    },
    {
     "data": {
      "application/vnd.jupyter.widget-view+json": {
       "model_id": "c24a30cc1a1d4667a2d19f90b63c35b3",
       "version_major": 2,
       "version_minor": 0
      },
      "text/plain": [
       "Predicting: 0it [00:00, ?it/s]"
      ]
     },
     "metadata": {},
     "output_type": "display_data"
    },
    {
     "name": "stderr",
     "output_type": "stream",
     "text": [
      "You are transforming a stochastic TimeSeries (i.e., contains several samples). The resulting DataFrame is a 2D object with all samples on the columns. If this is not the expected behavior consider calling a function adapted to stochastic TimeSeries like quantile_df().\n"
     ]
    }
   ],
   "source": [
    "model.make_forecasts()"
   ]
  },
  {
   "cell_type": "code",
   "execution_count": 70,
   "id": "e295ed00-4370-44f5-b1a0-b235bcc16b55",
   "metadata": {},
   "outputs": [
    {
     "data": {
      "image/png": "[encoded data removed]",
      "text/plain": [
       "<Figure size 640x480 with 1 Axes>"
      ]
     },
     "metadata": {},
     "output_type": "display_data"
    }
   ],
   "source": [
    "df = pd.read_csv(\"trash.csv\")\n",
    "times = pd.to_datetime(df[\"datetime\"])\n",
    "times = pd.DatetimeIndex(times)\n",
    "values = df.loc[:, df.columns!=\"datetime\"].to_numpy().reshape((30, 1, -1))\n",
    "direct_predictions_ts = TimeSeries.from_times_and_values(times, \n",
    "                                                         values, \n",
    "                                                         fill_missing_dates=True, freq=\"D\")\n",
    "\n",
    "plt.clf()\n",
    "direct_predictions_ts.plot(color=\"salmon\", label=\"Forecast\")\n",
    "model.validation_set[:30].plot(color=\"black\", label=\"Truth\")\n",
    "plt.show()"
   ]
  },
  {
   "cell_type": "markdown",
   "id": "1416809d-0bc8-414e-b97c-2e1634b07818",
   "metadata": {},
   "source": [
    "Add linear regression! Random Forest takes forever with Darts hmm. But here I want to check into making historical forecasts"
   ]
  },
  {
   "cell_type": "code",
   "execution_count": null,
   "id": "ada1d9e2-5bd1-485a-a225-3921f00b1963",
   "metadata": {},
   "outputs": [],
   "source": []
  }
 ],
 "metadata": {
  "kernelspec": {
   "display_name": "Python 3 (ipykernel)",
   "language": "python",
   "name": "python3"
  },
  "language_info": {
   "codemirror_mode": {
    "name": "ipython",
    "version": 3
   },
   "file_extension": ".py",
   "mimetype": "text/x-python",
   "name": "python",
   "nbconvert_exporter": "python",
   "pygments_lexer": "ipython3",
   "version": "3.10.6"
  }
 },
 "nbformat": 4,
 "nbformat_minor": 5
}
