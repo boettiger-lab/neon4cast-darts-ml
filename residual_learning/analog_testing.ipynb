{
 "cells": [
  {
   "cell_type": "markdown",
   "id": "2b595c29-8590-4629-834f-1df4dc320068",
   "metadata": {},
   "source": [
    "# Analog test of Probabilistic Model on Target Series"
   ]
  },
  {
   "cell_type": "code",
   "execution_count": 36,
   "id": "3e57ebfe-cb23-4d25-88fb-07124fdaa262",
   "metadata": {},
   "outputs": [],
   "source": [
    "from darts import TimeSeries\n",
    "import pandas as pd\n",
    "import matplotlib.pyplot as plt\n",
    "import pandas as pd\n",
    "from darts.models import GaussianProcessFilter\n",
    "from darts import TimeSeries\n",
    "from sklearn.gaussian_process.kernels import RBF\n",
    "from darts.models import BlockRNNModel\n",
    "from darts.utils.likelihood_models import QuantileRegression\n",
    "from darts.dataprocessing.transformers import Scaler\n",
    "from darts.metrics import smape\n",
    "import numpy as np\n",
    "import ray\n",
    "import os\n",
    "import optuna\n",
    "from darts.models import TCNModel\n",
    "from utils_ import make_stitched_series\n",
    "\n",
    "os.environ[\"CUDA_VISIBLE_DEVICES\"] = \"1\"\n",
    "df = pd.read_csv(\"aquatics-ARIK-oxygen-Predicted.csv\")"
   ]
  },
  {
   "cell_type": "code",
   "execution_count": 7,
   "id": "3d02e8ef-4882-4990-b25e-cf1644c271b8",
   "metadata": {},
   "outputs": [
    {
     "data": {
      "text/plain": [
       "Index(['.pred', 'oxygen', 'air_temperature',\n",
       "       'surface_downwelling_longwave_flux_in_air',\n",
       "       'surface_downwelling_shortwave_flux_in_air', 'precipitation_flux',\n",
       "       'air_pressure', 'relative_humidity', 'northward_wind', 'eastward_wind'],\n",
       "      dtype='object')"
      ]
     },
     "execution_count": 7,
     "metadata": {},
     "output_type": "execute_result"
    }
   ],
   "source": [
    "df.columns[1:]"
   ]
  },
  {
   "cell_type": "markdown",
   "id": "8ffc22e3-afa1-4260-8182-9cefd53ccb67",
   "metadata": {},
   "source": [
    "Preprocessing time series here, again as per usual, I need to fill in gaps."
   ]
  },
  {
   "cell_type": "code",
   "execution_count": 10,
   "id": "cd802659-57b5-4419-be28-049cda4fba87",
   "metadata": {},
   "outputs": [],
   "source": [
    "times = pd.to_datetime(df[\"datetime\"])\n",
    "times = pd.DatetimeIndex(times)\n",
    "variables_series_dict = {var: TimeSeries.from_times_and_values(times, \n",
    "                                                               df[var], \n",
    "                                                               fill_missing_dates=True,\n",
    "                                                               freq=\"D\") \n",
    "                                                for var in df.columns[1:]}"
   ]
  },
  {
   "cell_type": "code",
   "execution_count": 12,
   "id": "e4bba0f1-efca-4a96-92ef-413a7b5a1e2e",
   "metadata": {
    "collapsed": true,
    "jupyter": {
     "outputs_hidden": true
    },
    "scrolled": true
   },
   "outputs": [
    {
     "name": "stderr",
     "output_type": "stream",
     "text": [
      "2023-06-22 19:28:57,104\tINFO worker.py:1636 -- Started a local Ray instance.\n",
      "\u001b[2m\u001b[36m(make_stitched_series pid=1812873)\u001b[0m /home/rstudio/.local/lib/python3.10/site-packages/sklearn/gaussian_process/kernels.py:430: ConvergenceWarning: The optimal value found for dimension 0 of parameter length_scale is close to the specified upper bound 100000.0. Increasing the bound and calling fit again may find a better value.\n",
      "\u001b[2m\u001b[36m(make_stitched_series pid=1812873)\u001b[0m   warnings.warn(\n",
      "\u001b[2m\u001b[36m(make_stitched_series pid=1812873)\u001b[0m /home/rstudio/.local/lib/python3.10/site-packages/sklearn/gaussian_process/kernels.py:430: ConvergenceWarning: The optimal value found for dimension 0 of parameter length_scale is close to the specified upper bound 100000.0. Increasing the bound and calling fit again may find a better value.\n",
      "\u001b[2m\u001b[36m(make_stitched_series pid=1812873)\u001b[0m   warnings.warn(\n",
      "\u001b[2m\u001b[36m(make_stitched_series pid=1812873)\u001b[0m You are transforming a stochastic TimeSeries (i.e., contains several samples). The resulting DataFrame is a 2D object with all samples on the columns. If this is not the expected behavior consider calling a function adapted to stochastic TimeSeries like quantile_df().\n",
      "\u001b[2m\u001b[36m(make_stitched_series pid=1812873)\u001b[0m You are transforming a stochastic TimeSeries (i.e., contains several samples). The resulting DataFrame is a 2D object with all samples on the columns. If this is not the expected behavior consider calling a function adapted to stochastic TimeSeries like quantile_df().\n",
      "\u001b[2m\u001b[36m(make_stitched_series pid=1812860)\u001b[0m   warnings.warn(\n",
      "\u001b[2m\u001b[36m(make_stitched_series pid=1812860)\u001b[0m   warnings.warn(\n",
      "\u001b[2m\u001b[36m(make_stitched_series pid=1812860)\u001b[0m You are transforming a stochastic TimeSeries (i.e., contains several samples). The resulting DataFrame is a 2D object with all samples on the columns. If this is not the expected behavior consider calling a function adapted to stochastic TimeSeries like quantile_df().\n",
      "\u001b[2m\u001b[36m(make_stitched_series pid=1812860)\u001b[0m You are transforming a stochastic TimeSeries (i.e., contains several samples). The resulting DataFrame is a 2D object with all samples on the columns. If this is not the expected behavior consider calling a function adapted to stochastic TimeSeries like quantile_df().\n",
      "\u001b[2m\u001b[36m(make_stitched_series pid=1812871)\u001b[0m /home/rstudio/.local/lib/python3.10/site-packages/sklearn/gaussian_process/kernels.py:430: ConvergenceWarning: The optimal value found for dimension 0 of parameter length_scale is close to the specified upper bound 100000.0. Increasing the bound and calling fit again may find a better value.\n",
      "\u001b[2m\u001b[36m(make_stitched_series pid=1812871)\u001b[0m   warnings.warn(\n",
      "\u001b[2m\u001b[36m(make_stitched_series pid=1812810)\u001b[0m You are transforming a stochastic TimeSeries (i.e., contains several samples). The resulting DataFrame is a 2D object with all samples on the columns. If this is not the expected behavior consider calling a function adapted to stochastic TimeSeries like quantile_df().\u001b[32m [repeated 14x across cluster] (Ray deduplicates logs by default. Set RAY_DEDUP_LOGS=0 to disable log deduplication, or see https://docs.ray.io/en/master/ray-observability/ray-logging.html#log-deduplication for more options.)\u001b[0m\n"
     ]
    }
   ],
   "source": [
    "stitched_series_dict = {var: make_stitched_series.remote(variables_series_dict[var]) \n",
    "                                            for var in variables_series_dict.keys()}"
   ]
  },
  {
   "cell_type": "code",
   "execution_count": 13,
   "id": "4642ca38-ee09-4f75-99ad-e76ff0c5157f",
   "metadata": {},
   "outputs": [],
   "source": [
    "stitched_series = {var: ray.get(stitched_series_dict[var]) for var in stitched_series_dict.keys()}"
   ]
  },
  {
   "cell_type": "markdown",
   "id": "739be167-ce8e-4af5-8e22-4e9172751925",
   "metadata": {},
   "source": [
    "Preprocessing covariates"
   ]
  },
  {
   "cell_type": "code",
   "execution_count": 32,
   "id": "ed7817c2-8759-4360-9683-be09cdf49048",
   "metadata": {},
   "outputs": [
    {
     "data": {
      "text/plain": [
       "['air_temperature',\n",
       " 'surface_downwelling_longwave_flux_in_air',\n",
       " 'surface_downwelling_shortwave_flux_in_air',\n",
       " 'precipitation_flux',\n",
       " 'air_pressure',\n",
       " 'relative_humidity',\n",
       " 'northward_wind',\n",
       " 'eastward_wind']"
      ]
     },
     "execution_count": 32,
     "metadata": {},
     "output_type": "execute_result"
    }
   ],
   "source": [
    "list(stitched_series.keys())[2:]"
   ]
  },
  {
   "cell_type": "markdown",
   "id": "6a9af64f-fdbe-4b2a-a019-2d41c723129a",
   "metadata": {},
   "source": [
    "Now putting them into format that Darts will accept."
   ]
  },
  {
   "cell_type": "code",
   "execution_count": 29,
   "id": "96ff3ff0-e530-4a09-b9a6-21d482f999c8",
   "metadata": {},
   "outputs": [],
   "source": [
    "inputs = stitched_series[\"oxygen\"]\n",
    "stitched_series_keys = list(stitched_series.keys())\n",
    "covs = stitched_series[\"air_temperature\"]\n",
    "for index, var in enumerate(stitched_series_keys[3:]):\n",
    "    covs = covs.concatenate(stitched_series[var], axis=1, ignore_time_axis=True)"
   ]
  },
  {
   "cell_type": "markdown",
   "id": "d818f91a-4932-474b-a083-ab677e3a9bc8",
   "metadata": {},
   "source": [
    "Cutting off training and validation set well before plot dates."
   ]
  },
  {
   "cell_type": "code",
   "execution_count": 33,
   "id": "00745bab-47c1-4400-8e7a-8aa2fb62237c",
   "metadata": {},
   "outputs": [],
   "source": [
    "# Splitting into training and validations\n",
    "val_split = pd.Timestamp(year=2023, month=5, day=1)\n",
    "training_set, validation_set = inputs.split_before(val_split)"
   ]
  },
  {
   "cell_type": "markdown",
   "id": "f1687201-c364-46df-b84b-ab797346cd8b",
   "metadata": {},
   "source": [
    "Now, doing tuning with optuna."
   ]
  },
  {
   "cell_type": "code",
   "execution_count": 34,
   "id": "5b325a90-3c98-4cf7-8268-297c3aa22f6b",
   "metadata": {
    "scrolled": true
   },
   "outputs": [],
   "source": [
    "from optuna.integration import PyTorchLightningPruningCallback\n",
    "def objective(trial):\n",
    "    callback = [PyTorchLightningPruningCallback(trial, monitor=\"val_loss\")]\n",
    "\n",
    "    # Hyperparameters\n",
    "    input_chunk_length = trial.suggest_categorical(\"input_chunk_length\", [31, 60, 180, 356])\n",
    "    kernel_size = trial.suggest_categorical(\"kernel_size\", [2, 3, 5])\n",
    "    num_filters = trial.suggest_categorical(\"num_filters\", [1, 3, 5])\n",
    "    num_layers = trial.suggest_categorical(\"num_layers\", [None, 1, 2, 3])\n",
    "    dilation_base = trial.suggest_categorical(\"dilation_base\", [1, 2, 3])\n",
    "    dropout = trial.suggest_categorical(\"dropout\", [0.1, 0.2, 0.3])\n",
    "\n",
    "    tcn_model = TCNModel(input_chunk_length=input_chunk_length,\n",
    "                    kernel_size=kernel_size,\n",
    "                    num_filters=num_filters,\n",
    "                    output_chunk_length=30,\n",
    "                    likelihood=QuantileRegression([0.05, 0.1, 0.5, 0.9, 0.95]))\n",
    "\n",
    "    tcn_model.fit(training_set,\n",
    "                  past_covariates=covs,\n",
    "                  epochs=400, \n",
    "                  verbose=False)\n",
    "\n",
    "    predictions = tcn_model.predict(n=len(validation_set[:30]), \n",
    "                                    past_covariates=covs, \n",
    "                                    num_samples=50)\n",
    "    smapes = smape(validation_set[:30], predictions, n_jobs=-1, verbose=False)\n",
    "    smape_val = np.mean(smapes)\n",
    "\n",
    "    return smape_val if smape_val != np.nan else float(\"inf\")"
   ]
  },
  {
   "cell_type": "code",
   "execution_count": 37,
   "id": "10367db2-0fa2-40f1-97b2-046b1c43190d",
   "metadata": {
    "scrolled": true
   },
   "outputs": [
    {
     "name": "stderr",
     "output_type": "stream",
     "text": [
      "[I 2023-06-22 19:51:08,738] A new study created in memory with name: no-name-0b9e3859-57f4-4eab-bd1b-9c6d79585591\n",
      "GPU available: True (cuda), used: True\n",
      "TPU available: False, using: 0 TPU cores\n",
      "IPU available: False, using: 0 IPUs\n",
      "HPU available: False, using: 0 HPUs\n",
      "LOCAL_RANK: 0 - CUDA_VISIBLE_DEVICES: [1]\n",
      "`Trainer.fit` stopped: `max_epochs=400` reached.\n",
      "GPU available: True (cuda), used: True\n",
      "TPU available: False, using: 0 TPU cores\n",
      "IPU available: False, using: 0 IPUs\n",
      "HPU available: False, using: 0 HPUs\n",
      "LOCAL_RANK: 0 - CUDA_VISIBLE_DEVICES: [1]\n"
     ]
    },
    {
     "data": {
      "application/vnd.jupyter.widget-view+json": {
       "model_id": "8f330453d9e54d84bbe843b5e0578acb",
       "version_major": 2,
       "version_minor": 0
      },
      "text/plain": [
       "Predicting: 0it [00:00, ?it/s]"
      ]
     },
     "metadata": {},
     "output_type": "display_data"
    },
    {
     "name": "stderr",
     "output_type": "stream",
     "text": [
      "[I 2023-06-22 19:52:21,861] Trial 0 finished with value: 75.95267839741437 and parameters: {'input_chunk_length': 31, 'kernel_size': 5, 'num_filters': 3, 'num_layers': None, 'dilation_base': 2, 'dropout': 0.2}. Best is trial 0 with value: 75.95267839741437.\n",
      "GPU available: True (cuda), used: True\n",
      "TPU available: False, using: 0 TPU cores\n",
      "IPU available: False, using: 0 IPUs\n",
      "HPU available: False, using: 0 HPUs\n",
      "LOCAL_RANK: 0 - CUDA_VISIBLE_DEVICES: [1]\n"
     ]
    },
    {
     "name": "stdout",
     "output_type": "stream",
     "text": [
      "Current value: 75.95267839741437, Current params: {'input_chunk_length': 31, 'kernel_size': 5, 'num_filters': 3, 'num_layers': None, 'dilation_base': 2, 'dropout': 0.2}\n",
      "Best value: 75.95267839741437, Best params: {'input_chunk_length': 31, 'kernel_size': 5, 'num_filters': 3, 'num_layers': None, 'dilation_base': 2, 'dropout': 0.2}\n"
     ]
    },
    {
     "name": "stderr",
     "output_type": "stream",
     "text": [
      "\u001b[2m\u001b[33m(raylet)\u001b[0m [2023-06-22 19:52:57,040 E 1812600 1812600] (raylet) node_manager.cc:3069: 2 Workers (tasks / actors) killed due to memory pressure (OOM), 0 Workers crashed due to other reasons at node (ID: a5fa23da60e5fe6df640ecbfce7fc6de242a88f6d1beaa1d7e455a5c, IP: 172.18.0.16) over the last time period. To see more information about the Workers killed on this node, use `ray logs raylet.out -ip 172.18.0.16`\n",
      "\u001b[2m\u001b[33m(raylet)\u001b[0m \n",
      "\u001b[2m\u001b[33m(raylet)\u001b[0m Refer to the documentation on how to address the out of memory issue: https://docs.ray.io/en/latest/ray-core/scheduling/ray-oom-prevention.html. Consider provisioning more memory on this node or reducing task parallelism by requesting more CPUs per task. To adjust the kill threshold, set the environment variable `RAY_memory_usage_threshold` when starting Ray. To disable worker killing, set the environment variable `RAY_memory_monitor_refresh_ms` to zero.\n",
      "`Trainer.fit` stopped: `max_epochs=400` reached.\n",
      "GPU available: True (cuda), used: True\n",
      "TPU available: False, using: 0 TPU cores\n",
      "IPU available: False, using: 0 IPUs\n",
      "HPU available: False, using: 0 HPUs\n",
      "LOCAL_RANK: 0 - CUDA_VISIBLE_DEVICES: [1]\n"
     ]
    },
    {
     "data": {
      "application/vnd.jupyter.widget-view+json": {
       "model_id": "b2169083bf614b5988eb5f650c167171",
       "version_major": 2,
       "version_minor": 0
      },
      "text/plain": [
       "Predicting: 0it [00:00, ?it/s]"
      ]
     },
     "metadata": {},
     "output_type": "display_data"
    },
    {
     "name": "stderr",
     "output_type": "stream",
     "text": [
      "[I 2023-06-22 19:53:36,248] Trial 1 finished with value: 33.05616383282016 and parameters: {'input_chunk_length': 60, 'kernel_size': 2, 'num_filters': 3, 'num_layers': 1, 'dilation_base': 3, 'dropout': 0.1}. Best is trial 1 with value: 33.05616383282016.\n",
      "GPU available: True (cuda), used: True\n",
      "TPU available: False, using: 0 TPU cores\n",
      "IPU available: False, using: 0 IPUs\n",
      "HPU available: False, using: 0 HPUs\n",
      "LOCAL_RANK: 0 - CUDA_VISIBLE_DEVICES: [1]\n"
     ]
    },
    {
     "name": "stdout",
     "output_type": "stream",
     "text": [
      "Current value: 33.05616383282016, Current params: {'input_chunk_length': 60, 'kernel_size': 2, 'num_filters': 3, 'num_layers': 1, 'dilation_base': 3, 'dropout': 0.1}\n",
      "Best value: 33.05616383282016, Best params: {'input_chunk_length': 60, 'kernel_size': 2, 'num_filters': 3, 'num_layers': 1, 'dilation_base': 3, 'dropout': 0.1}\n"
     ]
    },
    {
     "name": "stderr",
     "output_type": "stream",
     "text": [
      "`Trainer.fit` stopped: `max_epochs=400` reached.\n",
      "GPU available: True (cuda), used: True\n",
      "TPU available: False, using: 0 TPU cores\n",
      "IPU available: False, using: 0 IPUs\n",
      "HPU available: False, using: 0 HPUs\n",
      "LOCAL_RANK: 0 - CUDA_VISIBLE_DEVICES: [1]\n"
     ]
    },
    {
     "data": {
      "application/vnd.jupyter.widget-view+json": {
       "model_id": "c64bf94afb394af38f1ed9fabf3dec7a",
       "version_major": 2,
       "version_minor": 0
      },
      "text/plain": [
       "Predicting: 0it [00:00, ?it/s]"
      ]
     },
     "metadata": {},
     "output_type": "display_data"
    },
    {
     "name": "stderr",
     "output_type": "stream",
     "text": [
      "[I 2023-06-22 19:54:48,988] Trial 2 finished with value: 37.64220828862704 and parameters: {'input_chunk_length': 31, 'kernel_size': 3, 'num_filters': 1, 'num_layers': 2, 'dilation_base': 3, 'dropout': 0.2}. Best is trial 1 with value: 33.05616383282016.\n",
      "GPU available: True (cuda), used: True\n",
      "TPU available: False, using: 0 TPU cores\n",
      "IPU available: False, using: 0 IPUs\n",
      "HPU available: False, using: 0 HPUs\n",
      "LOCAL_RANK: 0 - CUDA_VISIBLE_DEVICES: [1]\n"
     ]
    },
    {
     "name": "stdout",
     "output_type": "stream",
     "text": [
      "Current value: 37.64220828862704, Current params: {'input_chunk_length': 31, 'kernel_size': 3, 'num_filters': 1, 'num_layers': 2, 'dilation_base': 3, 'dropout': 0.2}\n",
      "Best value: 33.05616383282016, Best params: {'input_chunk_length': 60, 'kernel_size': 2, 'num_filters': 3, 'num_layers': 1, 'dilation_base': 3, 'dropout': 0.1}\n"
     ]
    },
    {
     "name": "stderr",
     "output_type": "stream",
     "text": [
      "`Trainer.fit` stopped: `max_epochs=400` reached.\n",
      "GPU available: True (cuda), used: True\n",
      "TPU available: False, using: 0 TPU cores\n",
      "IPU available: False, using: 0 IPUs\n",
      "HPU available: False, using: 0 HPUs\n",
      "LOCAL_RANK: 0 - CUDA_VISIBLE_DEVICES: [1]\n"
     ]
    },
    {
     "data": {
      "application/vnd.jupyter.widget-view+json": {
       "model_id": "e01c1c84af3c4f50ba81806f2661d015",
       "version_major": 2,
       "version_minor": 0
      },
      "text/plain": [
       "Predicting: 0it [00:00, ?it/s]"
      ]
     },
     "metadata": {},
     "output_type": "display_data"
    },
    {
     "name": "stderr",
     "output_type": "stream",
     "text": [
      "[I 2023-06-22 19:55:56,699] Trial 3 finished with value: 36.92638617031119 and parameters: {'input_chunk_length': 31, 'kernel_size': 5, 'num_filters': 3, 'num_layers': 1, 'dilation_base': 1, 'dropout': 0.1}. Best is trial 1 with value: 33.05616383282016.\n",
      "GPU available: True (cuda), used: True\n",
      "TPU available: False, using: 0 TPU cores\n",
      "IPU available: False, using: 0 IPUs\n",
      "HPU available: False, using: 0 HPUs\n",
      "LOCAL_RANK: 0 - CUDA_VISIBLE_DEVICES: [1]\n"
     ]
    },
    {
     "name": "stdout",
     "output_type": "stream",
     "text": [
      "Current value: 36.92638617031119, Current params: {'input_chunk_length': 31, 'kernel_size': 5, 'num_filters': 3, 'num_layers': 1, 'dilation_base': 1, 'dropout': 0.1}\n",
      "Best value: 33.05616383282016, Best params: {'input_chunk_length': 60, 'kernel_size': 2, 'num_filters': 3, 'num_layers': 1, 'dilation_base': 3, 'dropout': 0.1}\n"
     ]
    },
    {
     "name": "stderr",
     "output_type": "stream",
     "text": [
      "`Trainer.fit` stopped: `max_epochs=400` reached.\n",
      "GPU available: True (cuda), used: True\n",
      "TPU available: False, using: 0 TPU cores\n",
      "IPU available: False, using: 0 IPUs\n",
      "HPU available: False, using: 0 HPUs\n",
      "LOCAL_RANK: 0 - CUDA_VISIBLE_DEVICES: [1]\n"
     ]
    },
    {
     "data": {
      "application/vnd.jupyter.widget-view+json": {
       "model_id": "3a7e6b0ff6654c0ca738dd9dbb134412",
       "version_major": 2,
       "version_minor": 0
      },
      "text/plain": [
       "Predicting: 0it [00:00, ?it/s]"
      ]
     },
     "metadata": {},
     "output_type": "display_data"
    },
    {
     "name": "stderr",
     "output_type": "stream",
     "text": [
      "[I 2023-06-22 19:57:27,379] Trial 4 finished with value: 17.31843500846497 and parameters: {'input_chunk_length': 180, 'kernel_size': 3, 'num_filters': 1, 'num_layers': 3, 'dilation_base': 2, 'dropout': 0.3}. Best is trial 4 with value: 17.31843500846497.\n",
      "GPU available: True (cuda), used: True\n",
      "TPU available: False, using: 0 TPU cores\n",
      "IPU available: False, using: 0 IPUs\n",
      "HPU available: False, using: 0 HPUs\n",
      "LOCAL_RANK: 0 - CUDA_VISIBLE_DEVICES: [1]\n"
     ]
    },
    {
     "name": "stdout",
     "output_type": "stream",
     "text": [
      "Current value: 17.31843500846497, Current params: {'input_chunk_length': 180, 'kernel_size': 3, 'num_filters': 1, 'num_layers': 3, 'dilation_base': 2, 'dropout': 0.3}\n",
      "Best value: 17.31843500846497, Best params: {'input_chunk_length': 180, 'kernel_size': 3, 'num_filters': 1, 'num_layers': 3, 'dilation_base': 2, 'dropout': 0.3}\n"
     ]
    },
    {
     "name": "stderr",
     "output_type": "stream",
     "text": [
      "`Trainer.fit` stopped: `max_epochs=400` reached.\n",
      "GPU available: True (cuda), used: True\n",
      "TPU available: False, using: 0 TPU cores\n",
      "IPU available: False, using: 0 IPUs\n",
      "HPU available: False, using: 0 HPUs\n",
      "LOCAL_RANK: 0 - CUDA_VISIBLE_DEVICES: [1]\n"
     ]
    },
    {
     "data": {
      "application/vnd.jupyter.widget-view+json": {
       "model_id": "9b52f6e7affc4cc3b28aefa64c3cf560",
       "version_major": 2,
       "version_minor": 0
      },
      "text/plain": [
       "Predicting: 0it [00:00, ?it/s]"
      ]
     },
     "metadata": {},
     "output_type": "display_data"
    },
    {
     "name": "stderr",
     "output_type": "stream",
     "text": [
      "[I 2023-06-22 19:58:49,918] Trial 5 finished with value: 17.658206243110904 and parameters: {'input_chunk_length': 180, 'kernel_size': 2, 'num_filters': 1, 'num_layers': 3, 'dilation_base': 1, 'dropout': 0.1}. Best is trial 4 with value: 17.31843500846497.\n",
      "GPU available: True (cuda), used: True\n",
      "TPU available: False, using: 0 TPU cores\n",
      "IPU available: False, using: 0 IPUs\n",
      "HPU available: False, using: 0 HPUs\n",
      "LOCAL_RANK: 0 - CUDA_VISIBLE_DEVICES: [1]\n"
     ]
    },
    {
     "name": "stdout",
     "output_type": "stream",
     "text": [
      "Current value: 17.658206243110904, Current params: {'input_chunk_length': 180, 'kernel_size': 2, 'num_filters': 1, 'num_layers': 3, 'dilation_base': 1, 'dropout': 0.1}\n",
      "Best value: 17.31843500846497, Best params: {'input_chunk_length': 180, 'kernel_size': 3, 'num_filters': 1, 'num_layers': 3, 'dilation_base': 2, 'dropout': 0.3}\n"
     ]
    },
    {
     "name": "stderr",
     "output_type": "stream",
     "text": [
      "`Trainer.fit` stopped: `max_epochs=400` reached.\n",
      "GPU available: True (cuda), used: True\n",
      "TPU available: False, using: 0 TPU cores\n",
      "IPU available: False, using: 0 IPUs\n",
      "HPU available: False, using: 0 HPUs\n",
      "LOCAL_RANK: 0 - CUDA_VISIBLE_DEVICES: [1]\n"
     ]
    },
    {
     "data": {
      "application/vnd.jupyter.widget-view+json": {
       "model_id": "aa88e762a8954dbaaaa162408d53259a",
       "version_major": 2,
       "version_minor": 0
      },
      "text/plain": [
       "Predicting: 0it [00:00, ?it/s]"
      ]
     },
     "metadata": {},
     "output_type": "display_data"
    },
    {
     "name": "stderr",
     "output_type": "stream",
     "text": [
      "[I 2023-06-22 20:00:00,507] Trial 6 finished with value: 183.89223187233438 and parameters: {'input_chunk_length': 60, 'kernel_size': 3, 'num_filters': 5, 'num_layers': 2, 'dilation_base': 3, 'dropout': 0.3}. Best is trial 4 with value: 17.31843500846497.\n",
      "GPU available: True (cuda), used: True\n",
      "TPU available: False, using: 0 TPU cores\n",
      "IPU available: False, using: 0 IPUs\n",
      "HPU available: False, using: 0 HPUs\n",
      "LOCAL_RANK: 0 - CUDA_VISIBLE_DEVICES: [1]\n"
     ]
    },
    {
     "name": "stdout",
     "output_type": "stream",
     "text": [
      "Current value: 183.89223187233438, Current params: {'input_chunk_length': 60, 'kernel_size': 3, 'num_filters': 5, 'num_layers': 2, 'dilation_base': 3, 'dropout': 0.3}\n",
      "Best value: 17.31843500846497, Best params: {'input_chunk_length': 180, 'kernel_size': 3, 'num_filters': 1, 'num_layers': 3, 'dilation_base': 2, 'dropout': 0.3}\n"
     ]
    },
    {
     "name": "stderr",
     "output_type": "stream",
     "text": [
      "`Trainer.fit` stopped: `max_epochs=400` reached.\n",
      "GPU available: True (cuda), used: True\n",
      "TPU available: False, using: 0 TPU cores\n",
      "IPU available: False, using: 0 IPUs\n",
      "HPU available: False, using: 0 HPUs\n",
      "LOCAL_RANK: 0 - CUDA_VISIBLE_DEVICES: [1]\n"
     ]
    },
    {
     "data": {
      "application/vnd.jupyter.widget-view+json": {
       "model_id": "995fd5b4954441fcbf166ffd693244d5",
       "version_major": 2,
       "version_minor": 0
      },
      "text/plain": [
       "Predicting: 0it [00:00, ?it/s]"
      ]
     },
     "metadata": {},
     "output_type": "display_data"
    },
    {
     "name": "stderr",
     "output_type": "stream",
     "text": [
      "[I 2023-06-22 20:01:20,550] Trial 7 finished with value: 80.81015702754273 and parameters: {'input_chunk_length': 180, 'kernel_size': 2, 'num_filters': 5, 'num_layers': 1, 'dilation_base': 2, 'dropout': 0.2}. Best is trial 4 with value: 17.31843500846497.\n",
      "GPU available: True (cuda), used: True\n",
      "TPU available: False, using: 0 TPU cores\n",
      "IPU available: False, using: 0 IPUs\n",
      "HPU available: False, using: 0 HPUs\n",
      "LOCAL_RANK: 0 - CUDA_VISIBLE_DEVICES: [1]\n"
     ]
    },
    {
     "name": "stdout",
     "output_type": "stream",
     "text": [
      "Current value: 80.81015702754273, Current params: {'input_chunk_length': 180, 'kernel_size': 2, 'num_filters': 5, 'num_layers': 1, 'dilation_base': 2, 'dropout': 0.2}\n",
      "Best value: 17.31843500846497, Best params: {'input_chunk_length': 180, 'kernel_size': 3, 'num_filters': 1, 'num_layers': 3, 'dilation_base': 2, 'dropout': 0.3}\n"
     ]
    },
    {
     "name": "stderr",
     "output_type": "stream",
     "text": [
      "`Trainer.fit` stopped: `max_epochs=400` reached.\n",
      "GPU available: True (cuda), used: True\n",
      "TPU available: False, using: 0 TPU cores\n",
      "IPU available: False, using: 0 IPUs\n",
      "HPU available: False, using: 0 HPUs\n",
      "LOCAL_RANK: 0 - CUDA_VISIBLE_DEVICES: [1]\n"
     ]
    },
    {
     "data": {
      "application/vnd.jupyter.widget-view+json": {
       "model_id": "49adfd62f76f4130a5ba86448ae7c26a",
       "version_major": 2,
       "version_minor": 0
      },
      "text/plain": [
       "Predicting: 0it [00:00, ?it/s]"
      ]
     },
     "metadata": {},
     "output_type": "display_data"
    },
    {
     "name": "stderr",
     "output_type": "stream",
     "text": [
      "[I 2023-06-22 20:02:40,548] Trial 8 finished with value: 33.384216920338666 and parameters: {'input_chunk_length': 356, 'kernel_size': 2, 'num_filters': 5, 'num_layers': None, 'dilation_base': 2, 'dropout': 0.1}. Best is trial 4 with value: 17.31843500846497.\n",
      "GPU available: True (cuda), used: True\n",
      "TPU available: False, using: 0 TPU cores\n",
      "IPU available: False, using: 0 IPUs\n",
      "HPU available: False, using: 0 HPUs\n",
      "LOCAL_RANK: 0 - CUDA_VISIBLE_DEVICES: [1]\n"
     ]
    },
    {
     "name": "stdout",
     "output_type": "stream",
     "text": [
      "Current value: 33.384216920338666, Current params: {'input_chunk_length': 356, 'kernel_size': 2, 'num_filters': 5, 'num_layers': None, 'dilation_base': 2, 'dropout': 0.1}\n",
      "Best value: 17.31843500846497, Best params: {'input_chunk_length': 180, 'kernel_size': 3, 'num_filters': 1, 'num_layers': 3, 'dilation_base': 2, 'dropout': 0.3}\n"
     ]
    },
    {
     "name": "stderr",
     "output_type": "stream",
     "text": [
      "`Trainer.fit` stopped: `max_epochs=400` reached.\n",
      "GPU available: True (cuda), used: True\n",
      "TPU available: False, using: 0 TPU cores\n",
      "IPU available: False, using: 0 IPUs\n",
      "HPU available: False, using: 0 HPUs\n",
      "LOCAL_RANK: 0 - CUDA_VISIBLE_DEVICES: [1]\n"
     ]
    },
    {
     "data": {
      "application/vnd.jupyter.widget-view+json": {
       "model_id": "82f9d728b6694c369699f5e1ea23586f",
       "version_major": 2,
       "version_minor": 0
      },
      "text/plain": [
       "Predicting: 0it [00:00, ?it/s]"
      ]
     },
     "metadata": {},
     "output_type": "display_data"
    },
    {
     "name": "stderr",
     "output_type": "stream",
     "text": [
      "[I 2023-06-22 20:03:58,786] Trial 9 finished with value: 19.617059828266896 and parameters: {'input_chunk_length': 180, 'kernel_size': 3, 'num_filters': 3, 'num_layers': 3, 'dilation_base': 3, 'dropout': 0.1}. Best is trial 4 with value: 17.31843500846497.\n",
      "GPU available: True (cuda), used: True\n",
      "TPU available: False, using: 0 TPU cores\n",
      "IPU available: False, using: 0 IPUs\n",
      "HPU available: False, using: 0 HPUs\n",
      "LOCAL_RANK: 0 - CUDA_VISIBLE_DEVICES: [1]\n"
     ]
    },
    {
     "name": "stdout",
     "output_type": "stream",
     "text": [
      "Current value: 19.617059828266896, Current params: {'input_chunk_length': 180, 'kernel_size': 3, 'num_filters': 3, 'num_layers': 3, 'dilation_base': 3, 'dropout': 0.1}\n",
      "Best value: 17.31843500846497, Best params: {'input_chunk_length': 180, 'kernel_size': 3, 'num_filters': 1, 'num_layers': 3, 'dilation_base': 2, 'dropout': 0.3}\n"
     ]
    },
    {
     "name": "stderr",
     "output_type": "stream",
     "text": [
      "`Trainer.fit` stopped: `max_epochs=400` reached.\n",
      "GPU available: True (cuda), used: True\n",
      "TPU available: False, using: 0 TPU cores\n",
      "IPU available: False, using: 0 IPUs\n",
      "HPU available: False, using: 0 HPUs\n",
      "LOCAL_RANK: 0 - CUDA_VISIBLE_DEVICES: [1]\n"
     ]
    },
    {
     "data": {
      "application/vnd.jupyter.widget-view+json": {
       "model_id": "cb34aa67f63f4df0bc73c9397dfa1d38",
       "version_major": 2,
       "version_minor": 0
      },
      "text/plain": [
       "Predicting: 0it [00:00, ?it/s]"
      ]
     },
     "metadata": {},
     "output_type": "display_data"
    },
    {
     "name": "stderr",
     "output_type": "stream",
     "text": [
      "[I 2023-06-22 20:05:12,597] Trial 10 finished with value: 19.900331646670182 and parameters: {'input_chunk_length': 356, 'kernel_size': 3, 'num_filters': 1, 'num_layers': 3, 'dilation_base': 2, 'dropout': 0.3}. Best is trial 4 with value: 17.31843500846497.\n",
      "GPU available: True (cuda), used: True\n",
      "TPU available: False, using: 0 TPU cores\n",
      "IPU available: False, using: 0 IPUs\n",
      "HPU available: False, using: 0 HPUs\n",
      "LOCAL_RANK: 0 - CUDA_VISIBLE_DEVICES: [1]\n"
     ]
    },
    {
     "name": "stdout",
     "output_type": "stream",
     "text": [
      "Current value: 19.900331646670182, Current params: {'input_chunk_length': 356, 'kernel_size': 3, 'num_filters': 1, 'num_layers': 3, 'dilation_base': 2, 'dropout': 0.3}\n",
      "Best value: 17.31843500846497, Best params: {'input_chunk_length': 180, 'kernel_size': 3, 'num_filters': 1, 'num_layers': 3, 'dilation_base': 2, 'dropout': 0.3}\n"
     ]
    },
    {
     "name": "stderr",
     "output_type": "stream",
     "text": [
      "`Trainer.fit` stopped: `max_epochs=400` reached.\n",
      "GPU available: True (cuda), used: True\n",
      "TPU available: False, using: 0 TPU cores\n",
      "IPU available: False, using: 0 IPUs\n",
      "HPU available: False, using: 0 HPUs\n",
      "LOCAL_RANK: 0 - CUDA_VISIBLE_DEVICES: [1]\n"
     ]
    },
    {
     "data": {
      "application/vnd.jupyter.widget-view+json": {
       "model_id": "748f0061e04e4402863695b436e304f8",
       "version_major": 2,
       "version_minor": 0
      },
      "text/plain": [
       "Predicting: 0it [00:00, ?it/s]"
      ]
     },
     "metadata": {},
     "output_type": "display_data"
    },
    {
     "name": "stderr",
     "output_type": "stream",
     "text": [
      "[I 2023-06-22 20:06:34,717] Trial 11 finished with value: 15.865319960854945 and parameters: {'input_chunk_length': 180, 'kernel_size': 2, 'num_filters': 1, 'num_layers': 3, 'dilation_base': 1, 'dropout': 0.3}. Best is trial 11 with value: 15.865319960854945.\n",
      "GPU available: True (cuda), used: True\n",
      "TPU available: False, using: 0 TPU cores\n",
      "IPU available: False, using: 0 IPUs\n",
      "HPU available: False, using: 0 HPUs\n",
      "LOCAL_RANK: 0 - CUDA_VISIBLE_DEVICES: [1]\n"
     ]
    },
    {
     "name": "stdout",
     "output_type": "stream",
     "text": [
      "Current value: 15.865319960854945, Current params: {'input_chunk_length': 180, 'kernel_size': 2, 'num_filters': 1, 'num_layers': 3, 'dilation_base': 1, 'dropout': 0.3}\n",
      "Best value: 15.865319960854945, Best params: {'input_chunk_length': 180, 'kernel_size': 2, 'num_filters': 1, 'num_layers': 3, 'dilation_base': 1, 'dropout': 0.3}\n"
     ]
    },
    {
     "name": "stderr",
     "output_type": "stream",
     "text": [
      "`Trainer.fit` stopped: `max_epochs=400` reached.\n",
      "GPU available: True (cuda), used: True\n",
      "TPU available: False, using: 0 TPU cores\n",
      "IPU available: False, using: 0 IPUs\n",
      "HPU available: False, using: 0 HPUs\n",
      "LOCAL_RANK: 0 - CUDA_VISIBLE_DEVICES: [1]\n"
     ]
    },
    {
     "data": {
      "application/vnd.jupyter.widget-view+json": {
       "model_id": "90cb749c12f04e2db8d0ba91ede93444",
       "version_major": 2,
       "version_minor": 0
      },
      "text/plain": [
       "Predicting: 0it [00:00, ?it/s]"
      ]
     },
     "metadata": {},
     "output_type": "display_data"
    },
    {
     "name": "stderr",
     "output_type": "stream",
     "text": [
      "[I 2023-06-22 20:07:58,563] Trial 12 finished with value: 21.267946060364924 and parameters: {'input_chunk_length': 180, 'kernel_size': 2, 'num_filters': 1, 'num_layers': 3, 'dilation_base': 1, 'dropout': 0.3}. Best is trial 11 with value: 15.865319960854945.\n",
      "GPU available: True (cuda), used: True\n",
      "TPU available: False, using: 0 TPU cores\n",
      "IPU available: False, using: 0 IPUs\n",
      "HPU available: False, using: 0 HPUs\n",
      "LOCAL_RANK: 0 - CUDA_VISIBLE_DEVICES: [1]\n"
     ]
    },
    {
     "name": "stdout",
     "output_type": "stream",
     "text": [
      "Current value: 21.267946060364924, Current params: {'input_chunk_length': 180, 'kernel_size': 2, 'num_filters': 1, 'num_layers': 3, 'dilation_base': 1, 'dropout': 0.3}\n",
      "Best value: 15.865319960854945, Best params: {'input_chunk_length': 180, 'kernel_size': 2, 'num_filters': 1, 'num_layers': 3, 'dilation_base': 1, 'dropout': 0.3}\n"
     ]
    },
    {
     "name": "stderr",
     "output_type": "stream",
     "text": [
      "`Trainer.fit` stopped: `max_epochs=400` reached.\n",
      "GPU available: True (cuda), used: True\n",
      "TPU available: False, using: 0 TPU cores\n",
      "IPU available: False, using: 0 IPUs\n",
      "HPU available: False, using: 0 HPUs\n",
      "LOCAL_RANK: 0 - CUDA_VISIBLE_DEVICES: [1]\n"
     ]
    },
    {
     "data": {
      "application/vnd.jupyter.widget-view+json": {
       "model_id": "ea7ad0246e2545be8b5f8d8114ed1928",
       "version_major": 2,
       "version_minor": 0
      },
      "text/plain": [
       "Predicting: 0it [00:00, ?it/s]"
      ]
     },
     "metadata": {},
     "output_type": "display_data"
    },
    {
     "name": "stderr",
     "output_type": "stream",
     "text": [
      "[I 2023-06-22 20:09:17,328] Trial 13 finished with value: 26.365431745801537 and parameters: {'input_chunk_length': 180, 'kernel_size': 3, 'num_filters': 1, 'num_layers': 3, 'dilation_base': 1, 'dropout': 0.3}. Best is trial 11 with value: 15.865319960854945.\n",
      "GPU available: True (cuda), used: True\n",
      "TPU available: False, using: 0 TPU cores\n",
      "IPU available: False, using: 0 IPUs\n",
      "HPU available: False, using: 0 HPUs\n",
      "LOCAL_RANK: 0 - CUDA_VISIBLE_DEVICES: [1]\n"
     ]
    },
    {
     "name": "stdout",
     "output_type": "stream",
     "text": [
      "Current value: 26.365431745801537, Current params: {'input_chunk_length': 180, 'kernel_size': 3, 'num_filters': 1, 'num_layers': 3, 'dilation_base': 1, 'dropout': 0.3}\n",
      "Best value: 15.865319960854945, Best params: {'input_chunk_length': 180, 'kernel_size': 2, 'num_filters': 1, 'num_layers': 3, 'dilation_base': 1, 'dropout': 0.3}\n"
     ]
    },
    {
     "name": "stderr",
     "output_type": "stream",
     "text": [
      "`Trainer.fit` stopped: `max_epochs=400` reached.\n",
      "GPU available: True (cuda), used: True\n",
      "TPU available: False, using: 0 TPU cores\n",
      "IPU available: False, using: 0 IPUs\n",
      "HPU available: False, using: 0 HPUs\n",
      "LOCAL_RANK: 0 - CUDA_VISIBLE_DEVICES: [1]\n"
     ]
    },
    {
     "data": {
      "application/vnd.jupyter.widget-view+json": {
       "model_id": "bb2d265b50454a10b3dcd0b7ebb4e15b",
       "version_major": 2,
       "version_minor": 0
      },
      "text/plain": [
       "Predicting: 0it [00:00, ?it/s]"
      ]
     },
     "metadata": {},
     "output_type": "display_data"
    },
    {
     "name": "stderr",
     "output_type": "stream",
     "text": [
      "[I 2023-06-22 20:10:28,756] Trial 14 finished with value: 25.47570346904216 and parameters: {'input_chunk_length': 180, 'kernel_size': 5, 'num_filters': 1, 'num_layers': 3, 'dilation_base': 1, 'dropout': 0.3}. Best is trial 11 with value: 15.865319960854945.\n",
      "GPU available: True (cuda), used: True\n",
      "TPU available: False, using: 0 TPU cores\n",
      "IPU available: False, using: 0 IPUs\n",
      "HPU available: False, using: 0 HPUs\n",
      "LOCAL_RANK: 0 - CUDA_VISIBLE_DEVICES: [1]\n"
     ]
    },
    {
     "name": "stdout",
     "output_type": "stream",
     "text": [
      "Current value: 25.47570346904216, Current params: {'input_chunk_length': 180, 'kernel_size': 5, 'num_filters': 1, 'num_layers': 3, 'dilation_base': 1, 'dropout': 0.3}\n",
      "Best value: 15.865319960854945, Best params: {'input_chunk_length': 180, 'kernel_size': 2, 'num_filters': 1, 'num_layers': 3, 'dilation_base': 1, 'dropout': 0.3}\n"
     ]
    },
    {
     "name": "stderr",
     "output_type": "stream",
     "text": [
      "`Trainer.fit` stopped: `max_epochs=400` reached.\n",
      "GPU available: True (cuda), used: True\n",
      "TPU available: False, using: 0 TPU cores\n",
      "IPU available: False, using: 0 IPUs\n",
      "HPU available: False, using: 0 HPUs\n",
      "LOCAL_RANK: 0 - CUDA_VISIBLE_DEVICES: [1]\n"
     ]
    },
    {
     "data": {
      "application/vnd.jupyter.widget-view+json": {
       "model_id": "a2f1c3eecc394eff925af0dfe14e7634",
       "version_major": 2,
       "version_minor": 0
      },
      "text/plain": [
       "Predicting: 0it [00:00, ?it/s]"
      ]
     },
     "metadata": {},
     "output_type": "display_data"
    },
    {
     "name": "stderr",
     "output_type": "stream",
     "text": [
      "[I 2023-06-22 20:11:50,966] Trial 15 finished with value: 21.84491071338315 and parameters: {'input_chunk_length': 180, 'kernel_size': 2, 'num_filters': 1, 'num_layers': 3, 'dilation_base': 2, 'dropout': 0.3}. Best is trial 11 with value: 15.865319960854945.\n",
      "GPU available: True (cuda), used: True\n",
      "TPU available: False, using: 0 TPU cores\n",
      "IPU available: False, using: 0 IPUs\n",
      "HPU available: False, using: 0 HPUs\n",
      "LOCAL_RANK: 0 - CUDA_VISIBLE_DEVICES: [1]\n"
     ]
    },
    {
     "name": "stdout",
     "output_type": "stream",
     "text": [
      "Current value: 21.84491071338315, Current params: {'input_chunk_length': 180, 'kernel_size': 2, 'num_filters': 1, 'num_layers': 3, 'dilation_base': 2, 'dropout': 0.3}\n",
      "Best value: 15.865319960854945, Best params: {'input_chunk_length': 180, 'kernel_size': 2, 'num_filters': 1, 'num_layers': 3, 'dilation_base': 1, 'dropout': 0.3}\n"
     ]
    },
    {
     "name": "stderr",
     "output_type": "stream",
     "text": [
      "`Trainer.fit` stopped: `max_epochs=400` reached.\n",
      "GPU available: True (cuda), used: True\n",
      "TPU available: False, using: 0 TPU cores\n",
      "IPU available: False, using: 0 IPUs\n",
      "HPU available: False, using: 0 HPUs\n",
      "LOCAL_RANK: 0 - CUDA_VISIBLE_DEVICES: [1]\n"
     ]
    },
    {
     "data": {
      "application/vnd.jupyter.widget-view+json": {
       "model_id": "32059e993fa64ea4803a1f9b16c9b9e0",
       "version_major": 2,
       "version_minor": 0
      },
      "text/plain": [
       "Predicting: 0it [00:00, ?it/s]"
      ]
     },
     "metadata": {},
     "output_type": "display_data"
    },
    {
     "name": "stderr",
     "output_type": "stream",
     "text": [
      "[I 2023-06-22 20:13:19,177] Trial 16 finished with value: 16.494837188465404 and parameters: {'input_chunk_length': 180, 'kernel_size': 3, 'num_filters': 1, 'num_layers': 3, 'dilation_base': 2, 'dropout': 0.3}. Best is trial 11 with value: 15.865319960854945.\n",
      "GPU available: True (cuda), used: True\n",
      "TPU available: False, using: 0 TPU cores\n",
      "IPU available: False, using: 0 IPUs\n",
      "HPU available: False, using: 0 HPUs\n",
      "LOCAL_RANK: 0 - CUDA_VISIBLE_DEVICES: [1]\n"
     ]
    },
    {
     "name": "stdout",
     "output_type": "stream",
     "text": [
      "Current value: 16.494837188465404, Current params: {'input_chunk_length': 180, 'kernel_size': 3, 'num_filters': 1, 'num_layers': 3, 'dilation_base': 2, 'dropout': 0.3}\n",
      "Best value: 15.865319960854945, Best params: {'input_chunk_length': 180, 'kernel_size': 2, 'num_filters': 1, 'num_layers': 3, 'dilation_base': 1, 'dropout': 0.3}\n"
     ]
    },
    {
     "name": "stderr",
     "output_type": "stream",
     "text": [
      "`Trainer.fit` stopped: `max_epochs=400` reached.\n",
      "GPU available: True (cuda), used: True\n",
      "TPU available: False, using: 0 TPU cores\n",
      "IPU available: False, using: 0 IPUs\n",
      "HPU available: False, using: 0 HPUs\n",
      "LOCAL_RANK: 0 - CUDA_VISIBLE_DEVICES: [1]\n"
     ]
    },
    {
     "data": {
      "application/vnd.jupyter.widget-view+json": {
       "model_id": "40103cbe36824d2b9bfd682bc98cd0fc",
       "version_major": 2,
       "version_minor": 0
      },
      "text/plain": [
       "Predicting: 0it [00:00, ?it/s]"
      ]
     },
     "metadata": {},
     "output_type": "display_data"
    },
    {
     "name": "stderr",
     "output_type": "stream",
     "text": [
      "[I 2023-06-22 20:14:33,059] Trial 17 finished with value: 13.014028541091086 and parameters: {'input_chunk_length': 60, 'kernel_size': 3, 'num_filters': 1, 'num_layers': None, 'dilation_base': 1, 'dropout': 0.3}. Best is trial 17 with value: 13.014028541091086.\n",
      "GPU available: True (cuda), used: True\n",
      "TPU available: False, using: 0 TPU cores\n",
      "IPU available: False, using: 0 IPUs\n",
      "HPU available: False, using: 0 HPUs\n",
      "LOCAL_RANK: 0 - CUDA_VISIBLE_DEVICES: [1]\n"
     ]
    },
    {
     "name": "stdout",
     "output_type": "stream",
     "text": [
      "Current value: 13.014028541091086, Current params: {'input_chunk_length': 60, 'kernel_size': 3, 'num_filters': 1, 'num_layers': None, 'dilation_base': 1, 'dropout': 0.3}\n",
      "Best value: 13.014028541091086, Best params: {'input_chunk_length': 60, 'kernel_size': 3, 'num_filters': 1, 'num_layers': None, 'dilation_base': 1, 'dropout': 0.3}\n"
     ]
    },
    {
     "name": "stderr",
     "output_type": "stream",
     "text": [
      "`Trainer.fit` stopped: `max_epochs=400` reached.\n",
      "GPU available: True (cuda), used: True\n",
      "TPU available: False, using: 0 TPU cores\n",
      "IPU available: False, using: 0 IPUs\n",
      "HPU available: False, using: 0 HPUs\n",
      "LOCAL_RANK: 0 - CUDA_VISIBLE_DEVICES: [1]\n"
     ]
    },
    {
     "data": {
      "application/vnd.jupyter.widget-view+json": {
       "model_id": "178de9cafa9d445ab9a33bfb00478928",
       "version_major": 2,
       "version_minor": 0
      },
      "text/plain": [
       "Predicting: 0it [00:00, ?it/s]"
      ]
     },
     "metadata": {},
     "output_type": "display_data"
    },
    {
     "name": "stderr",
     "output_type": "stream",
     "text": [
      "[I 2023-06-22 20:15:53,580] Trial 18 finished with value: 26.292425732783908 and parameters: {'input_chunk_length': 60, 'kernel_size': 2, 'num_filters': 1, 'num_layers': None, 'dilation_base': 1, 'dropout': 0.3}. Best is trial 17 with value: 13.014028541091086.\n",
      "GPU available: True (cuda), used: True\n",
      "TPU available: False, using: 0 TPU cores\n",
      "IPU available: False, using: 0 IPUs\n",
      "HPU available: False, using: 0 HPUs\n",
      "LOCAL_RANK: 0 - CUDA_VISIBLE_DEVICES: [1]\n"
     ]
    },
    {
     "name": "stdout",
     "output_type": "stream",
     "text": [
      "Current value: 26.292425732783908, Current params: {'input_chunk_length': 60, 'kernel_size': 2, 'num_filters': 1, 'num_layers': None, 'dilation_base': 1, 'dropout': 0.3}\n",
      "Best value: 13.014028541091086, Best params: {'input_chunk_length': 60, 'kernel_size': 3, 'num_filters': 1, 'num_layers': None, 'dilation_base': 1, 'dropout': 0.3}\n"
     ]
    },
    {
     "name": "stderr",
     "output_type": "stream",
     "text": [
      "`Trainer.fit` stopped: `max_epochs=400` reached.\n",
      "GPU available: True (cuda), used: True\n",
      "TPU available: False, using: 0 TPU cores\n",
      "IPU available: False, using: 0 IPUs\n",
      "HPU available: False, using: 0 HPUs\n",
      "LOCAL_RANK: 0 - CUDA_VISIBLE_DEVICES: [1]\n"
     ]
    },
    {
     "data": {
      "application/vnd.jupyter.widget-view+json": {
       "model_id": "f4d2bd084e95443da6513f688bfda701",
       "version_major": 2,
       "version_minor": 0
      },
      "text/plain": [
       "Predicting: 0it [00:00, ?it/s]"
      ]
     },
     "metadata": {},
     "output_type": "display_data"
    },
    {
     "name": "stderr",
     "output_type": "stream",
     "text": [
      "[I 2023-06-22 20:17:09,367] Trial 19 finished with value: 171.40973143393117 and parameters: {'input_chunk_length': 60, 'kernel_size': 5, 'num_filters': 5, 'num_layers': None, 'dilation_base': 1, 'dropout': 0.3}. Best is trial 17 with value: 13.014028541091086.\n",
      "GPU available: True (cuda), used: True\n",
      "TPU available: False, using: 0 TPU cores\n",
      "IPU available: False, using: 0 IPUs\n",
      "HPU available: False, using: 0 HPUs\n",
      "LOCAL_RANK: 0 - CUDA_VISIBLE_DEVICES: [1]\n"
     ]
    },
    {
     "name": "stdout",
     "output_type": "stream",
     "text": [
      "Current value: 171.40973143393117, Current params: {'input_chunk_length': 60, 'kernel_size': 5, 'num_filters': 5, 'num_layers': None, 'dilation_base': 1, 'dropout': 0.3}\n",
      "Best value: 13.014028541091086, Best params: {'input_chunk_length': 60, 'kernel_size': 3, 'num_filters': 1, 'num_layers': None, 'dilation_base': 1, 'dropout': 0.3}\n"
     ]
    },
    {
     "name": "stderr",
     "output_type": "stream",
     "text": [
      "`Trainer.fit` stopped: `max_epochs=400` reached.\n",
      "GPU available: True (cuda), used: True\n",
      "TPU available: False, using: 0 TPU cores\n",
      "IPU available: False, using: 0 IPUs\n",
      "HPU available: False, using: 0 HPUs\n",
      "LOCAL_RANK: 0 - CUDA_VISIBLE_DEVICES: [1]\n"
     ]
    },
    {
     "data": {
      "application/vnd.jupyter.widget-view+json": {
       "model_id": "ed7b72352ebb42a6803ad305768f2a7e",
       "version_major": 2,
       "version_minor": 0
      },
      "text/plain": [
       "Predicting: 0it [00:00, ?it/s]"
      ]
     },
     "metadata": {},
     "output_type": "display_data"
    },
    {
     "name": "stderr",
     "output_type": "stream",
     "text": [
      "[I 2023-06-22 20:18:34,732] Trial 20 finished with value: 28.703632594723157 and parameters: {'input_chunk_length': 60, 'kernel_size': 2, 'num_filters': 1, 'num_layers': None, 'dilation_base': 1, 'dropout': 0.2}. Best is trial 17 with value: 13.014028541091086.\n",
      "GPU available: True (cuda), used: True\n",
      "TPU available: False, using: 0 TPU cores\n",
      "IPU available: False, using: 0 IPUs\n",
      "HPU available: False, using: 0 HPUs\n",
      "LOCAL_RANK: 0 - CUDA_VISIBLE_DEVICES: [1]\n"
     ]
    },
    {
     "name": "stdout",
     "output_type": "stream",
     "text": [
      "Current value: 28.703632594723157, Current params: {'input_chunk_length': 60, 'kernel_size': 2, 'num_filters': 1, 'num_layers': None, 'dilation_base': 1, 'dropout': 0.2}\n",
      "Best value: 13.014028541091086, Best params: {'input_chunk_length': 60, 'kernel_size': 3, 'num_filters': 1, 'num_layers': None, 'dilation_base': 1, 'dropout': 0.3}\n"
     ]
    },
    {
     "name": "stderr",
     "output_type": "stream",
     "text": [
      "`Trainer.fit` stopped: `max_epochs=400` reached.\n",
      "GPU available: True (cuda), used: True\n",
      "TPU available: False, using: 0 TPU cores\n",
      "IPU available: False, using: 0 IPUs\n",
      "HPU available: False, using: 0 HPUs\n",
      "LOCAL_RANK: 0 - CUDA_VISIBLE_DEVICES: [1]\n"
     ]
    },
    {
     "data": {
      "application/vnd.jupyter.widget-view+json": {
       "model_id": "c2906ea7d7134fe19a01804ef73cb11e",
       "version_major": 2,
       "version_minor": 0
      },
      "text/plain": [
       "Predicting: 0it [00:00, ?it/s]"
      ]
     },
     "metadata": {},
     "output_type": "display_data"
    },
    {
     "name": "stderr",
     "output_type": "stream",
     "text": [
      "[I 2023-06-22 20:19:50,278] Trial 21 finished with value: 23.293637637790088 and parameters: {'input_chunk_length': 356, 'kernel_size': 3, 'num_filters': 1, 'num_layers': 2, 'dilation_base': 1, 'dropout': 0.3}. Best is trial 17 with value: 13.014028541091086.\n",
      "GPU available: True (cuda), used: True\n",
      "TPU available: False, using: 0 TPU cores\n",
      "IPU available: False, using: 0 IPUs\n",
      "HPU available: False, using: 0 HPUs\n",
      "LOCAL_RANK: 0 - CUDA_VISIBLE_DEVICES: [1]\n"
     ]
    },
    {
     "name": "stdout",
     "output_type": "stream",
     "text": [
      "Current value: 23.293637637790088, Current params: {'input_chunk_length': 356, 'kernel_size': 3, 'num_filters': 1, 'num_layers': 2, 'dilation_base': 1, 'dropout': 0.3}\n",
      "Best value: 13.014028541091086, Best params: {'input_chunk_length': 60, 'kernel_size': 3, 'num_filters': 1, 'num_layers': None, 'dilation_base': 1, 'dropout': 0.3}\n"
     ]
    },
    {
     "name": "stderr",
     "output_type": "stream",
     "text": [
      "`Trainer.fit` stopped: `max_epochs=400` reached.\n",
      "GPU available: True (cuda), used: True\n",
      "TPU available: False, using: 0 TPU cores\n",
      "IPU available: False, using: 0 IPUs\n",
      "HPU available: False, using: 0 HPUs\n",
      "LOCAL_RANK: 0 - CUDA_VISIBLE_DEVICES: [1]\n"
     ]
    },
    {
     "data": {
      "application/vnd.jupyter.widget-view+json": {
       "model_id": "06054d5f7fb345388aca0772921f34bb",
       "version_major": 2,
       "version_minor": 0
      },
      "text/plain": [
       "Predicting: 0it [00:00, ?it/s]"
      ]
     },
     "metadata": {},
     "output_type": "display_data"
    },
    {
     "name": "stderr",
     "output_type": "stream",
     "text": [
      "[I 2023-06-22 20:21:01,931] Trial 22 finished with value: 39.96028704370749 and parameters: {'input_chunk_length': 60, 'kernel_size': 3, 'num_filters': 1, 'num_layers': None, 'dilation_base': 1, 'dropout': 0.3}. Best is trial 17 with value: 13.014028541091086.\n",
      "GPU available: True (cuda), used: True\n",
      "TPU available: False, using: 0 TPU cores\n",
      "IPU available: False, using: 0 IPUs\n",
      "HPU available: False, using: 0 HPUs\n",
      "LOCAL_RANK: 0 - CUDA_VISIBLE_DEVICES: [1]\n"
     ]
    },
    {
     "name": "stdout",
     "output_type": "stream",
     "text": [
      "Current value: 39.96028704370749, Current params: {'input_chunk_length': 60, 'kernel_size': 3, 'num_filters': 1, 'num_layers': None, 'dilation_base': 1, 'dropout': 0.3}\n",
      "Best value: 13.014028541091086, Best params: {'input_chunk_length': 60, 'kernel_size': 3, 'num_filters': 1, 'num_layers': None, 'dilation_base': 1, 'dropout': 0.3}\n"
     ]
    },
    {
     "name": "stderr",
     "output_type": "stream",
     "text": [
      "`Trainer.fit` stopped: `max_epochs=400` reached.\n",
      "GPU available: True (cuda), used: True\n",
      "TPU available: False, using: 0 TPU cores\n",
      "IPU available: False, using: 0 IPUs\n",
      "HPU available: False, using: 0 HPUs\n",
      "LOCAL_RANK: 0 - CUDA_VISIBLE_DEVICES: [1]\n"
     ]
    },
    {
     "data": {
      "application/vnd.jupyter.widget-view+json": {
       "model_id": "6ae27a88ae49410aafe30ca86ac3ab8b",
       "version_major": 2,
       "version_minor": 0
      },
      "text/plain": [
       "Predicting: 0it [00:00, ?it/s]"
      ]
     },
     "metadata": {},
     "output_type": "display_data"
    },
    {
     "name": "stderr",
     "output_type": "stream",
     "text": [
      "[I 2023-06-22 20:22:18,522] Trial 23 finished with value: 22.372053737653967 and parameters: {'input_chunk_length': 180, 'kernel_size': 3, 'num_filters': 1, 'num_layers': 3, 'dilation_base': 2, 'dropout': 0.3}. Best is trial 17 with value: 13.014028541091086.\n",
      "GPU available: True (cuda), used: True\n",
      "TPU available: False, using: 0 TPU cores\n",
      "IPU available: False, using: 0 IPUs\n",
      "HPU available: False, using: 0 HPUs\n",
      "LOCAL_RANK: 0 - CUDA_VISIBLE_DEVICES: [1]\n"
     ]
    },
    {
     "name": "stdout",
     "output_type": "stream",
     "text": [
      "Current value: 22.372053737653967, Current params: {'input_chunk_length': 180, 'kernel_size': 3, 'num_filters': 1, 'num_layers': 3, 'dilation_base': 2, 'dropout': 0.3}\n",
      "Best value: 13.014028541091086, Best params: {'input_chunk_length': 60, 'kernel_size': 3, 'num_filters': 1, 'num_layers': None, 'dilation_base': 1, 'dropout': 0.3}\n"
     ]
    },
    {
     "name": "stderr",
     "output_type": "stream",
     "text": [
      "`Trainer.fit` stopped: `max_epochs=400` reached.\n",
      "GPU available: True (cuda), used: True\n",
      "TPU available: False, using: 0 TPU cores\n",
      "IPU available: False, using: 0 IPUs\n",
      "HPU available: False, using: 0 HPUs\n",
      "LOCAL_RANK: 0 - CUDA_VISIBLE_DEVICES: [1]\n"
     ]
    },
    {
     "data": {
      "application/vnd.jupyter.widget-view+json": {
       "model_id": "02c5824daaf1458eaa86865d86130eb5",
       "version_major": 2,
       "version_minor": 0
      },
      "text/plain": [
       "Predicting: 0it [00:00, ?it/s]"
      ]
     },
     "metadata": {},
     "output_type": "display_data"
    },
    {
     "name": "stderr",
     "output_type": "stream",
     "text": [
      "[I 2023-06-22 20:23:41,331] Trial 24 finished with value: 26.781348442870538 and parameters: {'input_chunk_length': 180, 'kernel_size': 3, 'num_filters': 1, 'num_layers': 3, 'dilation_base': 1, 'dropout': 0.3}. Best is trial 17 with value: 13.014028541091086.\n",
      "GPU available: True (cuda), used: True\n",
      "TPU available: False, using: 0 TPU cores\n",
      "IPU available: False, using: 0 IPUs\n",
      "HPU available: False, using: 0 HPUs\n",
      "LOCAL_RANK: 0 - CUDA_VISIBLE_DEVICES: [1]\n"
     ]
    },
    {
     "name": "stdout",
     "output_type": "stream",
     "text": [
      "Current value: 26.781348442870538, Current params: {'input_chunk_length': 180, 'kernel_size': 3, 'num_filters': 1, 'num_layers': 3, 'dilation_base': 1, 'dropout': 0.3}\n",
      "Best value: 13.014028541091086, Best params: {'input_chunk_length': 60, 'kernel_size': 3, 'num_filters': 1, 'num_layers': None, 'dilation_base': 1, 'dropout': 0.3}\n"
     ]
    },
    {
     "name": "stderr",
     "output_type": "stream",
     "text": [
      "`Trainer.fit` stopped: `max_epochs=400` reached.\n",
      "GPU available: True (cuda), used: True\n",
      "TPU available: False, using: 0 TPU cores\n",
      "IPU available: False, using: 0 IPUs\n",
      "HPU available: False, using: 0 HPUs\n",
      "LOCAL_RANK: 0 - CUDA_VISIBLE_DEVICES: [1]\n"
     ]
    },
    {
     "data": {
      "application/vnd.jupyter.widget-view+json": {
       "model_id": "76b0632e4c3949e286d1fb11e185c2c8",
       "version_major": 2,
       "version_minor": 0
      },
      "text/plain": [
       "Predicting: 0it [00:00, ?it/s]"
      ]
     },
     "metadata": {},
     "output_type": "display_data"
    },
    {
     "name": "stderr",
     "output_type": "stream",
     "text": [
      "[I 2023-06-22 20:24:52,337] Trial 25 finished with value: 17.011243243995004 and parameters: {'input_chunk_length': 60, 'kernel_size': 3, 'num_filters': 1, 'num_layers': None, 'dilation_base': 2, 'dropout': 0.3}. Best is trial 17 with value: 13.014028541091086.\n",
      "GPU available: True (cuda), used: True\n",
      "TPU available: False, using: 0 TPU cores\n",
      "IPU available: False, using: 0 IPUs\n",
      "HPU available: False, using: 0 HPUs\n",
      "LOCAL_RANK: 0 - CUDA_VISIBLE_DEVICES: [1]\n"
     ]
    },
    {
     "name": "stdout",
     "output_type": "stream",
     "text": [
      "Current value: 17.011243243995004, Current params: {'input_chunk_length': 60, 'kernel_size': 3, 'num_filters': 1, 'num_layers': None, 'dilation_base': 2, 'dropout': 0.3}\n",
      "Best value: 13.014028541091086, Best params: {'input_chunk_length': 60, 'kernel_size': 3, 'num_filters': 1, 'num_layers': None, 'dilation_base': 1, 'dropout': 0.3}\n"
     ]
    },
    {
     "name": "stderr",
     "output_type": "stream",
     "text": [
      "`Trainer.fit` stopped: `max_epochs=400` reached.\n",
      "GPU available: True (cuda), used: True\n",
      "TPU available: False, using: 0 TPU cores\n",
      "IPU available: False, using: 0 IPUs\n",
      "HPU available: False, using: 0 HPUs\n",
      "LOCAL_RANK: 0 - CUDA_VISIBLE_DEVICES: [1]\n"
     ]
    },
    {
     "data": {
      "application/vnd.jupyter.widget-view+json": {
       "model_id": "2b57487a35704735a98fc883b9af2e34",
       "version_major": 2,
       "version_minor": 0
      },
      "text/plain": [
       "Predicting: 0it [00:00, ?it/s]"
      ]
     },
     "metadata": {},
     "output_type": "display_data"
    },
    {
     "name": "stderr",
     "output_type": "stream",
     "text": [
      "[I 2023-06-22 20:26:05,837] Trial 26 finished with value: 21.25498188751555 and parameters: {'input_chunk_length': 356, 'kernel_size': 3, 'num_filters': 1, 'num_layers': 1, 'dilation_base': 1, 'dropout': 0.3}. Best is trial 17 with value: 13.014028541091086.\n",
      "GPU available: True (cuda), used: True\n",
      "TPU available: False, using: 0 TPU cores\n",
      "IPU available: False, using: 0 IPUs\n",
      "HPU available: False, using: 0 HPUs\n",
      "LOCAL_RANK: 0 - CUDA_VISIBLE_DEVICES: [1]\n"
     ]
    },
    {
     "name": "stdout",
     "output_type": "stream",
     "text": [
      "Current value: 21.25498188751555, Current params: {'input_chunk_length': 356, 'kernel_size': 3, 'num_filters': 1, 'num_layers': 1, 'dilation_base': 1, 'dropout': 0.3}\n",
      "Best value: 13.014028541091086, Best params: {'input_chunk_length': 60, 'kernel_size': 3, 'num_filters': 1, 'num_layers': None, 'dilation_base': 1, 'dropout': 0.3}\n"
     ]
    },
    {
     "name": "stderr",
     "output_type": "stream",
     "text": [
      "`Trainer.fit` stopped: `max_epochs=400` reached.\n",
      "GPU available: True (cuda), used: True\n",
      "TPU available: False, using: 0 TPU cores\n",
      "IPU available: False, using: 0 IPUs\n",
      "HPU available: False, using: 0 HPUs\n",
      "LOCAL_RANK: 0 - CUDA_VISIBLE_DEVICES: [1]\n"
     ]
    },
    {
     "data": {
      "application/vnd.jupyter.widget-view+json": {
       "model_id": "773b9d45fe364ce0af93cf6540b42f0c",
       "version_major": 2,
       "version_minor": 0
      },
      "text/plain": [
       "Predicting: 0it [00:00, ?it/s]"
      ]
     },
     "metadata": {},
     "output_type": "display_data"
    },
    {
     "name": "stderr",
     "output_type": "stream",
     "text": [
      "[I 2023-06-22 20:27:19,795] Trial 27 finished with value: 36.60207123128841 and parameters: {'input_chunk_length': 31, 'kernel_size': 3, 'num_filters': 1, 'num_layers': 2, 'dilation_base': 1, 'dropout': 0.3}. Best is trial 17 with value: 13.014028541091086.\n",
      "GPU available: True (cuda), used: True\n",
      "TPU available: False, using: 0 TPU cores\n",
      "IPU available: False, using: 0 IPUs\n",
      "HPU available: False, using: 0 HPUs\n",
      "LOCAL_RANK: 0 - CUDA_VISIBLE_DEVICES: [1]\n"
     ]
    },
    {
     "name": "stdout",
     "output_type": "stream",
     "text": [
      "Current value: 36.60207123128841, Current params: {'input_chunk_length': 31, 'kernel_size': 3, 'num_filters': 1, 'num_layers': 2, 'dilation_base': 1, 'dropout': 0.3}\n",
      "Best value: 13.014028541091086, Best params: {'input_chunk_length': 60, 'kernel_size': 3, 'num_filters': 1, 'num_layers': None, 'dilation_base': 1, 'dropout': 0.3}\n"
     ]
    },
    {
     "name": "stderr",
     "output_type": "stream",
     "text": [
      "`Trainer.fit` stopped: `max_epochs=400` reached.\n",
      "GPU available: True (cuda), used: True\n",
      "TPU available: False, using: 0 TPU cores\n",
      "IPU available: False, using: 0 IPUs\n",
      "HPU available: False, using: 0 HPUs\n",
      "LOCAL_RANK: 0 - CUDA_VISIBLE_DEVICES: [1]\n"
     ]
    },
    {
     "data": {
      "application/vnd.jupyter.widget-view+json": {
       "model_id": "e59f435f9d224b53ae8f3dc029eb44df",
       "version_major": 2,
       "version_minor": 0
      },
      "text/plain": [
       "Predicting: 0it [00:00, ?it/s]"
      ]
     },
     "metadata": {},
     "output_type": "display_data"
    },
    {
     "name": "stderr",
     "output_type": "stream",
     "text": [
      "[I 2023-06-22 20:28:34,919] Trial 28 finished with value: 85.63409662821499 and parameters: {'input_chunk_length': 180, 'kernel_size': 5, 'num_filters': 5, 'num_layers': 3, 'dilation_base': 3, 'dropout': 0.2}. Best is trial 17 with value: 13.014028541091086.\n",
      "GPU available: True (cuda), used: True\n",
      "TPU available: False, using: 0 TPU cores\n",
      "IPU available: False, using: 0 IPUs\n",
      "HPU available: False, using: 0 HPUs\n",
      "LOCAL_RANK: 0 - CUDA_VISIBLE_DEVICES: [1]\n"
     ]
    },
    {
     "name": "stdout",
     "output_type": "stream",
     "text": [
      "Current value: 85.63409662821499, Current params: {'input_chunk_length': 180, 'kernel_size': 5, 'num_filters': 5, 'num_layers': 3, 'dilation_base': 3, 'dropout': 0.2}\n",
      "Best value: 13.014028541091086, Best params: {'input_chunk_length': 60, 'kernel_size': 3, 'num_filters': 1, 'num_layers': None, 'dilation_base': 1, 'dropout': 0.3}\n"
     ]
    },
    {
     "name": "stderr",
     "output_type": "stream",
     "text": [
      "`Trainer.fit` stopped: `max_epochs=400` reached.\n",
      "GPU available: True (cuda), used: True\n",
      "TPU available: False, using: 0 TPU cores\n",
      "IPU available: False, using: 0 IPUs\n",
      "HPU available: False, using: 0 HPUs\n",
      "LOCAL_RANK: 0 - CUDA_VISIBLE_DEVICES: [1]\n"
     ]
    },
    {
     "data": {
      "application/vnd.jupyter.widget-view+json": {
       "model_id": "f49ae94320804371a3659e89c3472867",
       "version_major": 2,
       "version_minor": 0
      },
      "text/plain": [
       "Predicting: 0it [00:00, ?it/s]"
      ]
     },
     "metadata": {},
     "output_type": "display_data"
    },
    {
     "name": "stderr",
     "output_type": "stream",
     "text": [
      "[I 2023-06-22 20:29:56,350] Trial 29 finished with value: 85.526833019571 and parameters: {'input_chunk_length': 31, 'kernel_size': 2, 'num_filters': 3, 'num_layers': None, 'dilation_base': 2, 'dropout': 0.3}. Best is trial 17 with value: 13.014028541091086.\n",
      "GPU available: True (cuda), used: True\n",
      "TPU available: False, using: 0 TPU cores\n",
      "IPU available: False, using: 0 IPUs\n",
      "HPU available: False, using: 0 HPUs\n",
      "LOCAL_RANK: 0 - CUDA_VISIBLE_DEVICES: [1]\n"
     ]
    },
    {
     "name": "stdout",
     "output_type": "stream",
     "text": [
      "Current value: 85.526833019571, Current params: {'input_chunk_length': 31, 'kernel_size': 2, 'num_filters': 3, 'num_layers': None, 'dilation_base': 2, 'dropout': 0.3}\n",
      "Best value: 13.014028541091086, Best params: {'input_chunk_length': 60, 'kernel_size': 3, 'num_filters': 1, 'num_layers': None, 'dilation_base': 1, 'dropout': 0.3}\n"
     ]
    },
    {
     "name": "stderr",
     "output_type": "stream",
     "text": [
      "`Trainer.fit` stopped: `max_epochs=400` reached.\n",
      "GPU available: True (cuda), used: True\n",
      "TPU available: False, using: 0 TPU cores\n",
      "IPU available: False, using: 0 IPUs\n",
      "HPU available: False, using: 0 HPUs\n",
      "LOCAL_RANK: 0 - CUDA_VISIBLE_DEVICES: [1]\n"
     ]
    },
    {
     "data": {
      "application/vnd.jupyter.widget-view+json": {
       "model_id": "05bc977151614e26b22c82b0ab9f5642",
       "version_major": 2,
       "version_minor": 0
      },
      "text/plain": [
       "Predicting: 0it [00:00, ?it/s]"
      ]
     },
     "metadata": {},
     "output_type": "display_data"
    },
    {
     "name": "stderr",
     "output_type": "stream",
     "text": [
      "[I 2023-06-22 20:31:12,069] Trial 30 finished with value: 200.0 and parameters: {'input_chunk_length': 60, 'kernel_size': 5, 'num_filters': 3, 'num_layers': None, 'dilation_base': 2, 'dropout': 0.2}. Best is trial 17 with value: 13.014028541091086.\n",
      "GPU available: True (cuda), used: True\n",
      "TPU available: False, using: 0 TPU cores\n",
      "IPU available: False, using: 0 IPUs\n",
      "HPU available: False, using: 0 HPUs\n",
      "LOCAL_RANK: 0 - CUDA_VISIBLE_DEVICES: [1]\n"
     ]
    },
    {
     "name": "stdout",
     "output_type": "stream",
     "text": [
      "Current value: 200.0, Current params: {'input_chunk_length': 60, 'kernel_size': 5, 'num_filters': 3, 'num_layers': None, 'dilation_base': 2, 'dropout': 0.2}\n",
      "Best value: 13.014028541091086, Best params: {'input_chunk_length': 60, 'kernel_size': 3, 'num_filters': 1, 'num_layers': None, 'dilation_base': 1, 'dropout': 0.3}\n"
     ]
    },
    {
     "name": "stderr",
     "output_type": "stream",
     "text": [
      "`Trainer.fit` stopped: `max_epochs=400` reached.\n",
      "GPU available: True (cuda), used: True\n",
      "TPU available: False, using: 0 TPU cores\n",
      "IPU available: False, using: 0 IPUs\n",
      "HPU available: False, using: 0 HPUs\n",
      "LOCAL_RANK: 0 - CUDA_VISIBLE_DEVICES: [1]\n"
     ]
    },
    {
     "data": {
      "application/vnd.jupyter.widget-view+json": {
       "model_id": "e08947d31479402498e6f1d527c7597a",
       "version_major": 2,
       "version_minor": 0
      },
      "text/plain": [
       "Predicting: 0it [00:00, ?it/s]"
      ]
     },
     "metadata": {},
     "output_type": "display_data"
    },
    {
     "name": "stderr",
     "output_type": "stream",
     "text": [
      "[I 2023-06-22 20:32:24,430] Trial 31 finished with value: 28.579802153267092 and parameters: {'input_chunk_length': 60, 'kernel_size': 3, 'num_filters': 1, 'num_layers': None, 'dilation_base': 2, 'dropout': 0.3}. Best is trial 17 with value: 13.014028541091086.\n",
      "GPU available: True (cuda), used: True\n",
      "TPU available: False, using: 0 TPU cores\n",
      "IPU available: False, using: 0 IPUs\n",
      "HPU available: False, using: 0 HPUs\n",
      "LOCAL_RANK: 0 - CUDA_VISIBLE_DEVICES: [1]\n"
     ]
    },
    {
     "name": "stdout",
     "output_type": "stream",
     "text": [
      "Current value: 28.579802153267092, Current params: {'input_chunk_length': 60, 'kernel_size': 3, 'num_filters': 1, 'num_layers': None, 'dilation_base': 2, 'dropout': 0.3}\n",
      "Best value: 13.014028541091086, Best params: {'input_chunk_length': 60, 'kernel_size': 3, 'num_filters': 1, 'num_layers': None, 'dilation_base': 1, 'dropout': 0.3}\n"
     ]
    },
    {
     "name": "stderr",
     "output_type": "stream",
     "text": [
      "`Trainer.fit` stopped: `max_epochs=400` reached.\n",
      "GPU available: True (cuda), used: True\n",
      "TPU available: False, using: 0 TPU cores\n",
      "IPU available: False, using: 0 IPUs\n",
      "HPU available: False, using: 0 HPUs\n",
      "LOCAL_RANK: 0 - CUDA_VISIBLE_DEVICES: [1]\n"
     ]
    },
    {
     "data": {
      "application/vnd.jupyter.widget-view+json": {
       "model_id": "e808a475af96400697926904598140a8",
       "version_major": 2,
       "version_minor": 0
      },
      "text/plain": [
       "Predicting: 0it [00:00, ?it/s]"
      ]
     },
     "metadata": {},
     "output_type": "display_data"
    },
    {
     "name": "stderr",
     "output_type": "stream",
     "text": [
      "[I 2023-06-22 20:33:34,186] Trial 32 finished with value: 14.417806038893533 and parameters: {'input_chunk_length': 60, 'kernel_size': 3, 'num_filters': 1, 'num_layers': None, 'dilation_base': 2, 'dropout': 0.3}. Best is trial 17 with value: 13.014028541091086.\n",
      "GPU available: True (cuda), used: True\n",
      "TPU available: False, using: 0 TPU cores\n",
      "IPU available: False, using: 0 IPUs\n",
      "HPU available: False, using: 0 HPUs\n",
      "LOCAL_RANK: 0 - CUDA_VISIBLE_DEVICES: [1]\n"
     ]
    },
    {
     "name": "stdout",
     "output_type": "stream",
     "text": [
      "Current value: 14.417806038893533, Current params: {'input_chunk_length': 60, 'kernel_size': 3, 'num_filters': 1, 'num_layers': None, 'dilation_base': 2, 'dropout': 0.3}\n",
      "Best value: 13.014028541091086, Best params: {'input_chunk_length': 60, 'kernel_size': 3, 'num_filters': 1, 'num_layers': None, 'dilation_base': 1, 'dropout': 0.3}\n"
     ]
    },
    {
     "name": "stderr",
     "output_type": "stream",
     "text": [
      "`Trainer.fit` stopped: `max_epochs=400` reached.\n",
      "GPU available: True (cuda), used: True\n",
      "TPU available: False, using: 0 TPU cores\n",
      "IPU available: False, using: 0 IPUs\n",
      "HPU available: False, using: 0 HPUs\n",
      "LOCAL_RANK: 0 - CUDA_VISIBLE_DEVICES: [1]\n"
     ]
    },
    {
     "data": {
      "application/vnd.jupyter.widget-view+json": {
       "model_id": "9c37888c228247fcbfdf46681897d322",
       "version_major": 2,
       "version_minor": 0
      },
      "text/plain": [
       "Predicting: 0it [00:00, ?it/s]"
      ]
     },
     "metadata": {},
     "output_type": "display_data"
    },
    {
     "name": "stderr",
     "output_type": "stream",
     "text": [
      "[I 2023-06-22 20:34:47,879] Trial 33 finished with value: 25.225581495600828 and parameters: {'input_chunk_length': 60, 'kernel_size': 3, 'num_filters': 1, 'num_layers': None, 'dilation_base': 2, 'dropout': 0.3}. Best is trial 17 with value: 13.014028541091086.\n",
      "GPU available: True (cuda), used: True\n",
      "TPU available: False, using: 0 TPU cores\n",
      "IPU available: False, using: 0 IPUs\n",
      "HPU available: False, using: 0 HPUs\n",
      "LOCAL_RANK: 0 - CUDA_VISIBLE_DEVICES: [1]\n"
     ]
    },
    {
     "name": "stdout",
     "output_type": "stream",
     "text": [
      "Current value: 25.225581495600828, Current params: {'input_chunk_length': 60, 'kernel_size': 3, 'num_filters': 1, 'num_layers': None, 'dilation_base': 2, 'dropout': 0.3}\n",
      "Best value: 13.014028541091086, Best params: {'input_chunk_length': 60, 'kernel_size': 3, 'num_filters': 1, 'num_layers': None, 'dilation_base': 1, 'dropout': 0.3}\n"
     ]
    },
    {
     "name": "stderr",
     "output_type": "stream",
     "text": [
      "`Trainer.fit` stopped: `max_epochs=400` reached.\n",
      "GPU available: True (cuda), used: True\n",
      "TPU available: False, using: 0 TPU cores\n",
      "IPU available: False, using: 0 IPUs\n",
      "HPU available: False, using: 0 HPUs\n",
      "LOCAL_RANK: 0 - CUDA_VISIBLE_DEVICES: [1]\n"
     ]
    },
    {
     "data": {
      "application/vnd.jupyter.widget-view+json": {
       "model_id": "aee1a5f8c57e4206972336e90b560837",
       "version_major": 2,
       "version_minor": 0
      },
      "text/plain": [
       "Predicting: 0it [00:00, ?it/s]"
      ]
     },
     "metadata": {},
     "output_type": "display_data"
    },
    {
     "name": "stderr",
     "output_type": "stream",
     "text": [
      "[I 2023-06-22 20:36:06,918] Trial 34 finished with value: 25.628499907599945 and parameters: {'input_chunk_length': 60, 'kernel_size': 3, 'num_filters': 1, 'num_layers': 1, 'dilation_base': 2, 'dropout': 0.3}. Best is trial 17 with value: 13.014028541091086.\n",
      "GPU available: True (cuda), used: True\n",
      "TPU available: False, using: 0 TPU cores\n",
      "IPU available: False, using: 0 IPUs\n",
      "HPU available: False, using: 0 HPUs\n",
      "LOCAL_RANK: 0 - CUDA_VISIBLE_DEVICES: [1]\n"
     ]
    },
    {
     "name": "stdout",
     "output_type": "stream",
     "text": [
      "Current value: 25.628499907599945, Current params: {'input_chunk_length': 60, 'kernel_size': 3, 'num_filters': 1, 'num_layers': 1, 'dilation_base': 2, 'dropout': 0.3}\n",
      "Best value: 13.014028541091086, Best params: {'input_chunk_length': 60, 'kernel_size': 3, 'num_filters': 1, 'num_layers': None, 'dilation_base': 1, 'dropout': 0.3}\n"
     ]
    },
    {
     "name": "stderr",
     "output_type": "stream",
     "text": [
      "`Trainer.fit` stopped: `max_epochs=400` reached.\n",
      "GPU available: True (cuda), used: True\n",
      "TPU available: False, using: 0 TPU cores\n",
      "IPU available: False, using: 0 IPUs\n",
      "HPU available: False, using: 0 HPUs\n",
      "LOCAL_RANK: 0 - CUDA_VISIBLE_DEVICES: [1]\n"
     ]
    },
    {
     "data": {
      "application/vnd.jupyter.widget-view+json": {
       "model_id": "56a1f03977cc4251a01de5af48b1349e",
       "version_major": 2,
       "version_minor": 0
      },
      "text/plain": [
       "Predicting: 0it [00:00, ?it/s]"
      ]
     },
     "metadata": {},
     "output_type": "display_data"
    },
    {
     "name": "stderr",
     "output_type": "stream",
     "text": [
      "[I 2023-06-22 20:37:20,783] Trial 35 finished with value: 68.42055606763083 and parameters: {'input_chunk_length': 31, 'kernel_size': 3, 'num_filters': 3, 'num_layers': None, 'dilation_base': 3, 'dropout': 0.1}. Best is trial 17 with value: 13.014028541091086.\n",
      "GPU available: True (cuda), used: True\n",
      "TPU available: False, using: 0 TPU cores\n",
      "IPU available: False, using: 0 IPUs\n",
      "HPU available: False, using: 0 HPUs\n",
      "LOCAL_RANK: 0 - CUDA_VISIBLE_DEVICES: [1]\n"
     ]
    },
    {
     "name": "stdout",
     "output_type": "stream",
     "text": [
      "Current value: 68.42055606763083, Current params: {'input_chunk_length': 31, 'kernel_size': 3, 'num_filters': 3, 'num_layers': None, 'dilation_base': 3, 'dropout': 0.1}\n",
      "Best value: 13.014028541091086, Best params: {'input_chunk_length': 60, 'kernel_size': 3, 'num_filters': 1, 'num_layers': None, 'dilation_base': 1, 'dropout': 0.3}\n"
     ]
    },
    {
     "name": "stderr",
     "output_type": "stream",
     "text": [
      "`Trainer.fit` stopped: `max_epochs=400` reached.\n",
      "GPU available: True (cuda), used: True\n",
      "TPU available: False, using: 0 TPU cores\n",
      "IPU available: False, using: 0 IPUs\n",
      "HPU available: False, using: 0 HPUs\n",
      "LOCAL_RANK: 0 - CUDA_VISIBLE_DEVICES: [1]\n"
     ]
    },
    {
     "data": {
      "application/vnd.jupyter.widget-view+json": {
       "model_id": "af040af76f564223895c597e3f49a704",
       "version_major": 2,
       "version_minor": 0
      },
      "text/plain": [
       "Predicting: 0it [00:00, ?it/s]"
      ]
     },
     "metadata": {},
     "output_type": "display_data"
    },
    {
     "name": "stderr",
     "output_type": "stream",
     "text": [
      "[I 2023-06-22 20:38:39,987] Trial 36 finished with value: 26.7424213984082 and parameters: {'input_chunk_length': 60, 'kernel_size': 2, 'num_filters': 1, 'num_layers': 3, 'dilation_base': 2, 'dropout': 0.3}. Best is trial 17 with value: 13.014028541091086.\n",
      "GPU available: True (cuda), used: True\n",
      "TPU available: False, using: 0 TPU cores\n",
      "IPU available: False, using: 0 IPUs\n",
      "HPU available: False, using: 0 HPUs\n",
      "LOCAL_RANK: 0 - CUDA_VISIBLE_DEVICES: [1]\n"
     ]
    },
    {
     "name": "stdout",
     "output_type": "stream",
     "text": [
      "Current value: 26.7424213984082, Current params: {'input_chunk_length': 60, 'kernel_size': 2, 'num_filters': 1, 'num_layers': 3, 'dilation_base': 2, 'dropout': 0.3}\n",
      "Best value: 13.014028541091086, Best params: {'input_chunk_length': 60, 'kernel_size': 3, 'num_filters': 1, 'num_layers': None, 'dilation_base': 1, 'dropout': 0.3}\n"
     ]
    },
    {
     "name": "stderr",
     "output_type": "stream",
     "text": [
      "`Trainer.fit` stopped: `max_epochs=400` reached.\n",
      "GPU available: True (cuda), used: True\n",
      "TPU available: False, using: 0 TPU cores\n",
      "IPU available: False, using: 0 IPUs\n",
      "HPU available: False, using: 0 HPUs\n",
      "LOCAL_RANK: 0 - CUDA_VISIBLE_DEVICES: [1]\n"
     ]
    },
    {
     "data": {
      "application/vnd.jupyter.widget-view+json": {
       "model_id": "0f19ec774b4e402693c6b9ca6830c6c2",
       "version_major": 2,
       "version_minor": 0
      },
      "text/plain": [
       "Predicting: 0it [00:00, ?it/s]"
      ]
     },
     "metadata": {},
     "output_type": "display_data"
    },
    {
     "name": "stderr",
     "output_type": "stream",
     "text": [
      "[I 2023-06-22 20:39:59,348] Trial 37 finished with value: 23.891669701086307 and parameters: {'input_chunk_length': 180, 'kernel_size': 3, 'num_filters': 1, 'num_layers': 2, 'dilation_base': 1, 'dropout': 0.3}. Best is trial 17 with value: 13.014028541091086.\n",
      "GPU available: True (cuda), used: True\n",
      "TPU available: False, using: 0 TPU cores\n",
      "IPU available: False, using: 0 IPUs\n",
      "HPU available: False, using: 0 HPUs\n",
      "LOCAL_RANK: 0 - CUDA_VISIBLE_DEVICES: [1]\n"
     ]
    },
    {
     "name": "stdout",
     "output_type": "stream",
     "text": [
      "Current value: 23.891669701086307, Current params: {'input_chunk_length': 180, 'kernel_size': 3, 'num_filters': 1, 'num_layers': 2, 'dilation_base': 1, 'dropout': 0.3}\n",
      "Best value: 13.014028541091086, Best params: {'input_chunk_length': 60, 'kernel_size': 3, 'num_filters': 1, 'num_layers': None, 'dilation_base': 1, 'dropout': 0.3}\n"
     ]
    },
    {
     "name": "stderr",
     "output_type": "stream",
     "text": [
      "`Trainer.fit` stopped: `max_epochs=400` reached.\n",
      "GPU available: True (cuda), used: True\n",
      "TPU available: False, using: 0 TPU cores\n",
      "IPU available: False, using: 0 IPUs\n",
      "HPU available: False, using: 0 HPUs\n",
      "LOCAL_RANK: 0 - CUDA_VISIBLE_DEVICES: [1]\n"
     ]
    },
    {
     "data": {
      "application/vnd.jupyter.widget-view+json": {
       "model_id": "f2fdf506ca5244bdaf3940a4885bc46f",
       "version_major": 2,
       "version_minor": 0
      },
      "text/plain": [
       "Predicting: 0it [00:00, ?it/s]"
      ]
     },
     "metadata": {},
     "output_type": "display_data"
    },
    {
     "name": "stderr",
     "output_type": "stream",
     "text": [
      "[I 2023-06-22 20:41:17,479] Trial 38 finished with value: 19.17204079228404 and parameters: {'input_chunk_length': 60, 'kernel_size': 3, 'num_filters': 1, 'num_layers': 1, 'dilation_base': 3, 'dropout': 0.1}. Best is trial 17 with value: 13.014028541091086.\n",
      "GPU available: True (cuda), used: True\n",
      "TPU available: False, using: 0 TPU cores\n",
      "IPU available: False, using: 0 IPUs\n",
      "HPU available: False, using: 0 HPUs\n",
      "LOCAL_RANK: 0 - CUDA_VISIBLE_DEVICES: [1]\n"
     ]
    },
    {
     "name": "stdout",
     "output_type": "stream",
     "text": [
      "Current value: 19.17204079228404, Current params: {'input_chunk_length': 60, 'kernel_size': 3, 'num_filters': 1, 'num_layers': 1, 'dilation_base': 3, 'dropout': 0.1}\n",
      "Best value: 13.014028541091086, Best params: {'input_chunk_length': 60, 'kernel_size': 3, 'num_filters': 1, 'num_layers': None, 'dilation_base': 1, 'dropout': 0.3}\n"
     ]
    },
    {
     "name": "stderr",
     "output_type": "stream",
     "text": [
      "`Trainer.fit` stopped: `max_epochs=400` reached.\n",
      "GPU available: True (cuda), used: True\n",
      "TPU available: False, using: 0 TPU cores\n",
      "IPU available: False, using: 0 IPUs\n",
      "HPU available: False, using: 0 HPUs\n",
      "LOCAL_RANK: 0 - CUDA_VISIBLE_DEVICES: [1]\n"
     ]
    },
    {
     "data": {
      "application/vnd.jupyter.widget-view+json": {
       "model_id": "9f67f1b8045f4439a7ab4e464c19eccb",
       "version_major": 2,
       "version_minor": 0
      },
      "text/plain": [
       "Predicting: 0it [00:00, ?it/s]"
      ]
     },
     "metadata": {},
     "output_type": "display_data"
    },
    {
     "name": "stderr",
     "output_type": "stream",
     "text": [
      "[I 2023-06-22 20:42:42,408] Trial 39 finished with value: 193.14193471653232 and parameters: {'input_chunk_length': 180, 'kernel_size': 2, 'num_filters': 5, 'num_layers': None, 'dilation_base': 2, 'dropout': 0.2}. Best is trial 17 with value: 13.014028541091086.\n",
      "GPU available: True (cuda), used: True\n",
      "TPU available: False, using: 0 TPU cores\n",
      "IPU available: False, using: 0 IPUs\n",
      "HPU available: False, using: 0 HPUs\n",
      "LOCAL_RANK: 0 - CUDA_VISIBLE_DEVICES: [1]\n"
     ]
    },
    {
     "name": "stdout",
     "output_type": "stream",
     "text": [
      "Current value: 193.14193471653232, Current params: {'input_chunk_length': 180, 'kernel_size': 2, 'num_filters': 5, 'num_layers': None, 'dilation_base': 2, 'dropout': 0.2}\n",
      "Best value: 13.014028541091086, Best params: {'input_chunk_length': 60, 'kernel_size': 3, 'num_filters': 1, 'num_layers': None, 'dilation_base': 1, 'dropout': 0.3}\n"
     ]
    },
    {
     "name": "stderr",
     "output_type": "stream",
     "text": [
      "`Trainer.fit` stopped: `max_epochs=400` reached.\n",
      "GPU available: True (cuda), used: True\n",
      "TPU available: False, using: 0 TPU cores\n",
      "IPU available: False, using: 0 IPUs\n",
      "HPU available: False, using: 0 HPUs\n",
      "LOCAL_RANK: 0 - CUDA_VISIBLE_DEVICES: [1]\n"
     ]
    },
    {
     "data": {
      "application/vnd.jupyter.widget-view+json": {
       "model_id": "48b00bd1aab3404c933d84dc86d02a59",
       "version_major": 2,
       "version_minor": 0
      },
      "text/plain": [
       "Predicting: 0it [00:00, ?it/s]"
      ]
     },
     "metadata": {},
     "output_type": "display_data"
    },
    {
     "name": "stderr",
     "output_type": "stream",
     "text": [
      "[I 2023-06-22 20:43:53,663] Trial 40 finished with value: 24.728895296685952 and parameters: {'input_chunk_length': 31, 'kernel_size': 5, 'num_filters': 3, 'num_layers': 3, 'dilation_base': 1, 'dropout': 0.3}. Best is trial 17 with value: 13.014028541091086.\n",
      "GPU available: True (cuda), used: True\n",
      "TPU available: False, using: 0 TPU cores\n",
      "IPU available: False, using: 0 IPUs\n",
      "HPU available: False, using: 0 HPUs\n",
      "LOCAL_RANK: 0 - CUDA_VISIBLE_DEVICES: [1]\n"
     ]
    },
    {
     "name": "stdout",
     "output_type": "stream",
     "text": [
      "Current value: 24.728895296685952, Current params: {'input_chunk_length': 31, 'kernel_size': 5, 'num_filters': 3, 'num_layers': 3, 'dilation_base': 1, 'dropout': 0.3}\n",
      "Best value: 13.014028541091086, Best params: {'input_chunk_length': 60, 'kernel_size': 3, 'num_filters': 1, 'num_layers': None, 'dilation_base': 1, 'dropout': 0.3}\n"
     ]
    },
    {
     "name": "stderr",
     "output_type": "stream",
     "text": [
      "`Trainer.fit` stopped: `max_epochs=400` reached.\n",
      "GPU available: True (cuda), used: True\n",
      "TPU available: False, using: 0 TPU cores\n",
      "IPU available: False, using: 0 IPUs\n",
      "HPU available: False, using: 0 HPUs\n",
      "LOCAL_RANK: 0 - CUDA_VISIBLE_DEVICES: [1]\n"
     ]
    },
    {
     "data": {
      "application/vnd.jupyter.widget-view+json": {
       "model_id": "862f5dbd329645238dd00d29016854ac",
       "version_major": 2,
       "version_minor": 0
      },
      "text/plain": [
       "Predicting: 0it [00:00, ?it/s]"
      ]
     },
     "metadata": {},
     "output_type": "display_data"
    },
    {
     "name": "stderr",
     "output_type": "stream",
     "text": [
      "[I 2023-06-22 20:45:08,641] Trial 41 finished with value: 15.603070209985074 and parameters: {'input_chunk_length': 60, 'kernel_size': 3, 'num_filters': 1, 'num_layers': None, 'dilation_base': 2, 'dropout': 0.3}. Best is trial 17 with value: 13.014028541091086.\n",
      "GPU available: True (cuda), used: True\n",
      "TPU available: False, using: 0 TPU cores\n",
      "IPU available: False, using: 0 IPUs\n",
      "HPU available: False, using: 0 HPUs\n",
      "LOCAL_RANK: 0 - CUDA_VISIBLE_DEVICES: [1]\n"
     ]
    },
    {
     "name": "stdout",
     "output_type": "stream",
     "text": [
      "Current value: 15.603070209985074, Current params: {'input_chunk_length': 60, 'kernel_size': 3, 'num_filters': 1, 'num_layers': None, 'dilation_base': 2, 'dropout': 0.3}\n",
      "Best value: 13.014028541091086, Best params: {'input_chunk_length': 60, 'kernel_size': 3, 'num_filters': 1, 'num_layers': None, 'dilation_base': 1, 'dropout': 0.3}\n"
     ]
    },
    {
     "name": "stderr",
     "output_type": "stream",
     "text": [
      "`Trainer.fit` stopped: `max_epochs=400` reached.\n",
      "GPU available: True (cuda), used: True\n",
      "TPU available: False, using: 0 TPU cores\n",
      "IPU available: False, using: 0 IPUs\n",
      "HPU available: False, using: 0 HPUs\n",
      "LOCAL_RANK: 0 - CUDA_VISIBLE_DEVICES: [1]\n"
     ]
    },
    {
     "data": {
      "application/vnd.jupyter.widget-view+json": {
       "model_id": "9dcd272a0fc64297a791280589d53eb9",
       "version_major": 2,
       "version_minor": 0
      },
      "text/plain": [
       "Predicting: 0it [00:00, ?it/s]"
      ]
     },
     "metadata": {},
     "output_type": "display_data"
    },
    {
     "name": "stderr",
     "output_type": "stream",
     "text": [
      "[I 2023-06-22 20:46:25,895] Trial 42 finished with value: 31.46585240744974 and parameters: {'input_chunk_length': 60, 'kernel_size': 3, 'num_filters': 1, 'num_layers': None, 'dilation_base': 2, 'dropout': 0.3}. Best is trial 17 with value: 13.014028541091086.\n",
      "GPU available: True (cuda), used: True\n",
      "TPU available: False, using: 0 TPU cores\n",
      "IPU available: False, using: 0 IPUs\n",
      "HPU available: False, using: 0 HPUs\n",
      "LOCAL_RANK: 0 - CUDA_VISIBLE_DEVICES: [1]\n"
     ]
    },
    {
     "name": "stdout",
     "output_type": "stream",
     "text": [
      "Current value: 31.46585240744974, Current params: {'input_chunk_length': 60, 'kernel_size': 3, 'num_filters': 1, 'num_layers': None, 'dilation_base': 2, 'dropout': 0.3}\n",
      "Best value: 13.014028541091086, Best params: {'input_chunk_length': 60, 'kernel_size': 3, 'num_filters': 1, 'num_layers': None, 'dilation_base': 1, 'dropout': 0.3}\n"
     ]
    },
    {
     "name": "stderr",
     "output_type": "stream",
     "text": [
      "`Trainer.fit` stopped: `max_epochs=400` reached.\n",
      "GPU available: True (cuda), used: True\n",
      "TPU available: False, using: 0 TPU cores\n",
      "IPU available: False, using: 0 IPUs\n",
      "HPU available: False, using: 0 HPUs\n",
      "LOCAL_RANK: 0 - CUDA_VISIBLE_DEVICES: [1]\n"
     ]
    },
    {
     "data": {
      "application/vnd.jupyter.widget-view+json": {
       "model_id": "30d82aebf66d45dda4383673950c044a",
       "version_major": 2,
       "version_minor": 0
      },
      "text/plain": [
       "Predicting: 0it [00:00, ?it/s]"
      ]
     },
     "metadata": {},
     "output_type": "display_data"
    },
    {
     "name": "stderr",
     "output_type": "stream",
     "text": [
      "[I 2023-06-22 20:47:39,096] Trial 43 finished with value: 30.411390233545287 and parameters: {'input_chunk_length': 60, 'kernel_size': 3, 'num_filters': 1, 'num_layers': None, 'dilation_base': 2, 'dropout': 0.3}. Best is trial 17 with value: 13.014028541091086.\n",
      "GPU available: True (cuda), used: True\n",
      "TPU available: False, using: 0 TPU cores\n",
      "IPU available: False, using: 0 IPUs\n",
      "HPU available: False, using: 0 HPUs\n",
      "LOCAL_RANK: 0 - CUDA_VISIBLE_DEVICES: [1]\n"
     ]
    },
    {
     "name": "stdout",
     "output_type": "stream",
     "text": [
      "Current value: 30.411390233545287, Current params: {'input_chunk_length': 60, 'kernel_size': 3, 'num_filters': 1, 'num_layers': None, 'dilation_base': 2, 'dropout': 0.3}\n",
      "Best value: 13.014028541091086, Best params: {'input_chunk_length': 60, 'kernel_size': 3, 'num_filters': 1, 'num_layers': None, 'dilation_base': 1, 'dropout': 0.3}\n"
     ]
    },
    {
     "name": "stderr",
     "output_type": "stream",
     "text": [
      "`Trainer.fit` stopped: `max_epochs=400` reached.\n",
      "GPU available: True (cuda), used: True\n",
      "TPU available: False, using: 0 TPU cores\n",
      "IPU available: False, using: 0 IPUs\n",
      "HPU available: False, using: 0 HPUs\n",
      "LOCAL_RANK: 0 - CUDA_VISIBLE_DEVICES: [1]\n"
     ]
    },
    {
     "data": {
      "application/vnd.jupyter.widget-view+json": {
       "model_id": "f9d51477001542b5bac169fa3f9de17a",
       "version_major": 2,
       "version_minor": 0
      },
      "text/plain": [
       "Predicting: 0it [00:00, ?it/s]"
      ]
     },
     "metadata": {},
     "output_type": "display_data"
    },
    {
     "name": "stderr",
     "output_type": "stream",
     "text": [
      "[I 2023-06-22 20:48:50,268] Trial 44 finished with value: 16.852538552469774 and parameters: {'input_chunk_length': 60, 'kernel_size': 3, 'num_filters': 1, 'num_layers': None, 'dilation_base': 2, 'dropout': 0.3}. Best is trial 17 with value: 13.014028541091086.\n",
      "GPU available: True (cuda), used: True\n",
      "TPU available: False, using: 0 TPU cores\n",
      "IPU available: False, using: 0 IPUs\n",
      "HPU available: False, using: 0 HPUs\n",
      "LOCAL_RANK: 0 - CUDA_VISIBLE_DEVICES: [1]\n"
     ]
    },
    {
     "name": "stdout",
     "output_type": "stream",
     "text": [
      "Current value: 16.852538552469774, Current params: {'input_chunk_length': 60, 'kernel_size': 3, 'num_filters': 1, 'num_layers': None, 'dilation_base': 2, 'dropout': 0.3}\n",
      "Best value: 13.014028541091086, Best params: {'input_chunk_length': 60, 'kernel_size': 3, 'num_filters': 1, 'num_layers': None, 'dilation_base': 1, 'dropout': 0.3}\n"
     ]
    },
    {
     "name": "stderr",
     "output_type": "stream",
     "text": [
      "`Trainer.fit` stopped: `max_epochs=400` reached.\n",
      "GPU available: True (cuda), used: True\n",
      "TPU available: False, using: 0 TPU cores\n",
      "IPU available: False, using: 0 IPUs\n",
      "HPU available: False, using: 0 HPUs\n",
      "LOCAL_RANK: 0 - CUDA_VISIBLE_DEVICES: [1]\n"
     ]
    },
    {
     "data": {
      "application/vnd.jupyter.widget-view+json": {
       "model_id": "32853148c561436f99d2468e494082d3",
       "version_major": 2,
       "version_minor": 0
      },
      "text/plain": [
       "Predicting: 0it [00:00, ?it/s]"
      ]
     },
     "metadata": {},
     "output_type": "display_data"
    },
    {
     "name": "stderr",
     "output_type": "stream",
     "text": [
      "[I 2023-06-22 20:50:05,435] Trial 45 finished with value: 18.99676034743264 and parameters: {'input_chunk_length': 356, 'kernel_size': 3, 'num_filters': 1, 'num_layers': 3, 'dilation_base': 2, 'dropout': 0.1}. Best is trial 17 with value: 13.014028541091086.\n",
      "GPU available: True (cuda), used: True\n",
      "TPU available: False, using: 0 TPU cores\n",
      "IPU available: False, using: 0 IPUs\n",
      "HPU available: False, using: 0 HPUs\n",
      "LOCAL_RANK: 0 - CUDA_VISIBLE_DEVICES: [1]\n"
     ]
    },
    {
     "name": "stdout",
     "output_type": "stream",
     "text": [
      "Current value: 18.99676034743264, Current params: {'input_chunk_length': 356, 'kernel_size': 3, 'num_filters': 1, 'num_layers': 3, 'dilation_base': 2, 'dropout': 0.1}\n",
      "Best value: 13.014028541091086, Best params: {'input_chunk_length': 60, 'kernel_size': 3, 'num_filters': 1, 'num_layers': None, 'dilation_base': 1, 'dropout': 0.3}\n"
     ]
    },
    {
     "name": "stderr",
     "output_type": "stream",
     "text": [
      "`Trainer.fit` stopped: `max_epochs=400` reached.\n",
      "GPU available: True (cuda), used: True\n",
      "TPU available: False, using: 0 TPU cores\n",
      "IPU available: False, using: 0 IPUs\n",
      "HPU available: False, using: 0 HPUs\n",
      "LOCAL_RANK: 0 - CUDA_VISIBLE_DEVICES: [1]\n"
     ]
    },
    {
     "data": {
      "application/vnd.jupyter.widget-view+json": {
       "model_id": "63093f3b32544866a58742e262d83e8c",
       "version_major": 2,
       "version_minor": 0
      },
      "text/plain": [
       "Predicting: 0it [00:00, ?it/s]"
      ]
     },
     "metadata": {},
     "output_type": "display_data"
    },
    {
     "name": "stderr",
     "output_type": "stream",
     "text": [
      "[I 2023-06-22 20:51:25,440] Trial 46 finished with value: 20.48844061657902 and parameters: {'input_chunk_length': 180, 'kernel_size': 3, 'num_filters': 1, 'num_layers': None, 'dilation_base': 2, 'dropout': 0.3}. Best is trial 17 with value: 13.014028541091086.\n",
      "GPU available: True (cuda), used: True\n",
      "TPU available: False, using: 0 TPU cores\n",
      "IPU available: False, using: 0 IPUs\n",
      "HPU available: False, using: 0 HPUs\n",
      "LOCAL_RANK: 0 - CUDA_VISIBLE_DEVICES: [1]\n"
     ]
    },
    {
     "name": "stdout",
     "output_type": "stream",
     "text": [
      "Current value: 20.48844061657902, Current params: {'input_chunk_length': 180, 'kernel_size': 3, 'num_filters': 1, 'num_layers': None, 'dilation_base': 2, 'dropout': 0.3}\n",
      "Best value: 13.014028541091086, Best params: {'input_chunk_length': 60, 'kernel_size': 3, 'num_filters': 1, 'num_layers': None, 'dilation_base': 1, 'dropout': 0.3}\n"
     ]
    },
    {
     "name": "stderr",
     "output_type": "stream",
     "text": [
      "`Trainer.fit` stopped: `max_epochs=400` reached.\n",
      "GPU available: True (cuda), used: True\n",
      "TPU available: False, using: 0 TPU cores\n",
      "IPU available: False, using: 0 IPUs\n",
      "HPU available: False, using: 0 HPUs\n",
      "LOCAL_RANK: 0 - CUDA_VISIBLE_DEVICES: [1]\n"
     ]
    },
    {
     "data": {
      "application/vnd.jupyter.widget-view+json": {
       "model_id": "2e12a4d4047e4a0785e238bca7079cc4",
       "version_major": 2,
       "version_minor": 0
      },
      "text/plain": [
       "Predicting: 0it [00:00, ?it/s]"
      ]
     },
     "metadata": {},
     "output_type": "display_data"
    },
    {
     "name": "stderr",
     "output_type": "stream",
     "text": [
      "[I 2023-06-22 20:52:49,873] Trial 47 finished with value: 35.71967445064664 and parameters: {'input_chunk_length': 180, 'kernel_size': 2, 'num_filters': 1, 'num_layers': 2, 'dilation_base': 3, 'dropout': 0.3}. Best is trial 17 with value: 13.014028541091086.\n",
      "GPU available: True (cuda), used: True\n",
      "TPU available: False, using: 0 TPU cores\n",
      "IPU available: False, using: 0 IPUs\n",
      "HPU available: False, using: 0 HPUs\n",
      "LOCAL_RANK: 0 - CUDA_VISIBLE_DEVICES: [1]\n"
     ]
    },
    {
     "name": "stdout",
     "output_type": "stream",
     "text": [
      "Current value: 35.71967445064664, Current params: {'input_chunk_length': 180, 'kernel_size': 2, 'num_filters': 1, 'num_layers': 2, 'dilation_base': 3, 'dropout': 0.3}\n",
      "Best value: 13.014028541091086, Best params: {'input_chunk_length': 60, 'kernel_size': 3, 'num_filters': 1, 'num_layers': None, 'dilation_base': 1, 'dropout': 0.3}\n"
     ]
    },
    {
     "name": "stderr",
     "output_type": "stream",
     "text": [
      "`Trainer.fit` stopped: `max_epochs=400` reached.\n",
      "GPU available: True (cuda), used: True\n",
      "TPU available: False, using: 0 TPU cores\n",
      "IPU available: False, using: 0 IPUs\n",
      "HPU available: False, using: 0 HPUs\n",
      "LOCAL_RANK: 0 - CUDA_VISIBLE_DEVICES: [1]\n"
     ]
    },
    {
     "data": {
      "application/vnd.jupyter.widget-view+json": {
       "model_id": "d0477014460b4d72a9f823f294385a34",
       "version_major": 2,
       "version_minor": 0
      },
      "text/plain": [
       "Predicting: 0it [00:00, ?it/s]"
      ]
     },
     "metadata": {},
     "output_type": "display_data"
    },
    {
     "name": "stderr",
     "output_type": "stream",
     "text": [
      "[I 2023-06-22 20:54:02,501] Trial 48 finished with value: 199.26141617030964 and parameters: {'input_chunk_length': 60, 'kernel_size': 3, 'num_filters': 5, 'num_layers': 3, 'dilation_base': 1, 'dropout': 0.3}. Best is trial 17 with value: 13.014028541091086.\n",
      "GPU available: True (cuda), used: True\n",
      "TPU available: False, using: 0 TPU cores\n",
      "IPU available: False, using: 0 IPUs\n",
      "HPU available: False, using: 0 HPUs\n",
      "LOCAL_RANK: 0 - CUDA_VISIBLE_DEVICES: [1]\n"
     ]
    },
    {
     "name": "stdout",
     "output_type": "stream",
     "text": [
      "Current value: 199.26141617030964, Current params: {'input_chunk_length': 60, 'kernel_size': 3, 'num_filters': 5, 'num_layers': 3, 'dilation_base': 1, 'dropout': 0.3}\n",
      "Best value: 13.014028541091086, Best params: {'input_chunk_length': 60, 'kernel_size': 3, 'num_filters': 1, 'num_layers': None, 'dilation_base': 1, 'dropout': 0.3}\n"
     ]
    },
    {
     "name": "stderr",
     "output_type": "stream",
     "text": [
      "`Trainer.fit` stopped: `max_epochs=400` reached.\n",
      "GPU available: True (cuda), used: True\n",
      "TPU available: False, using: 0 TPU cores\n",
      "IPU available: False, using: 0 IPUs\n",
      "HPU available: False, using: 0 HPUs\n",
      "LOCAL_RANK: 0 - CUDA_VISIBLE_DEVICES: [1]\n"
     ]
    },
    {
     "data": {
      "application/vnd.jupyter.widget-view+json": {
       "model_id": "0e11113b29e04f779d05e63c5338fb66",
       "version_major": 2,
       "version_minor": 0
      },
      "text/plain": [
       "Predicting: 0it [00:00, ?it/s]"
      ]
     },
     "metadata": {},
     "output_type": "display_data"
    },
    {
     "name": "stderr",
     "output_type": "stream",
     "text": [
      "[I 2023-06-22 20:55:26,840] Trial 49 finished with value: 23.305316848185793 and parameters: {'input_chunk_length': 180, 'kernel_size': 2, 'num_filters': 1, 'num_layers': 1, 'dilation_base': 2, 'dropout': 0.2}. Best is trial 17 with value: 13.014028541091086.\n",
      "GPU available: True (cuda), used: True\n",
      "TPU available: False, using: 0 TPU cores\n",
      "IPU available: False, using: 0 IPUs\n",
      "HPU available: False, using: 0 HPUs\n",
      "LOCAL_RANK: 0 - CUDA_VISIBLE_DEVICES: [1]\n"
     ]
    },
    {
     "name": "stdout",
     "output_type": "stream",
     "text": [
      "Current value: 23.305316848185793, Current params: {'input_chunk_length': 180, 'kernel_size': 2, 'num_filters': 1, 'num_layers': 1, 'dilation_base': 2, 'dropout': 0.2}\n",
      "Best value: 13.014028541091086, Best params: {'input_chunk_length': 60, 'kernel_size': 3, 'num_filters': 1, 'num_layers': None, 'dilation_base': 1, 'dropout': 0.3}\n"
     ]
    },
    {
     "name": "stderr",
     "output_type": "stream",
     "text": [
      "`Trainer.fit` stopped: `max_epochs=400` reached.\n",
      "GPU available: True (cuda), used: True\n",
      "TPU available: False, using: 0 TPU cores\n",
      "IPU available: False, using: 0 IPUs\n",
      "HPU available: False, using: 0 HPUs\n",
      "LOCAL_RANK: 0 - CUDA_VISIBLE_DEVICES: [1]\n"
     ]
    },
    {
     "data": {
      "application/vnd.jupyter.widget-view+json": {
       "model_id": "a42efa45e9b041ecb761e468a243ced1",
       "version_major": 2,
       "version_minor": 0
      },
      "text/plain": [
       "Predicting: 0it [00:00, ?it/s]"
      ]
     },
     "metadata": {},
     "output_type": "display_data"
    },
    {
     "name": "stderr",
     "output_type": "stream",
     "text": [
      "[I 2023-06-22 20:56:44,192] Trial 50 finished with value: 22.969082685410694 and parameters: {'input_chunk_length': 60, 'kernel_size': 3, 'num_filters': 1, 'num_layers': 3, 'dilation_base': 1, 'dropout': 0.1}. Best is trial 17 with value: 13.014028541091086.\n",
      "GPU available: True (cuda), used: True\n",
      "TPU available: False, using: 0 TPU cores\n",
      "IPU available: False, using: 0 IPUs\n",
      "HPU available: False, using: 0 HPUs\n",
      "LOCAL_RANK: 0 - CUDA_VISIBLE_DEVICES: [1]\n"
     ]
    },
    {
     "name": "stdout",
     "output_type": "stream",
     "text": [
      "Current value: 22.969082685410694, Current params: {'input_chunk_length': 60, 'kernel_size': 3, 'num_filters': 1, 'num_layers': 3, 'dilation_base': 1, 'dropout': 0.1}\n",
      "Best value: 13.014028541091086, Best params: {'input_chunk_length': 60, 'kernel_size': 3, 'num_filters': 1, 'num_layers': None, 'dilation_base': 1, 'dropout': 0.3}\n"
     ]
    },
    {
     "name": "stderr",
     "output_type": "stream",
     "text": [
      "`Trainer.fit` stopped: `max_epochs=400` reached.\n",
      "GPU available: True (cuda), used: True\n",
      "TPU available: False, using: 0 TPU cores\n",
      "IPU available: False, using: 0 IPUs\n",
      "HPU available: False, using: 0 HPUs\n",
      "LOCAL_RANK: 0 - CUDA_VISIBLE_DEVICES: [1]\n"
     ]
    },
    {
     "data": {
      "application/vnd.jupyter.widget-view+json": {
       "model_id": "7c0ead31001a4dce8c4ff624c46fdbac",
       "version_major": 2,
       "version_minor": 0
      },
      "text/plain": [
       "Predicting: 0it [00:00, ?it/s]"
      ]
     },
     "metadata": {},
     "output_type": "display_data"
    },
    {
     "name": "stderr",
     "output_type": "stream",
     "text": [
      "[I 2023-06-22 20:57:56,246] Trial 51 finished with value: 29.172747613828427 and parameters: {'input_chunk_length': 60, 'kernel_size': 3, 'num_filters': 1, 'num_layers': None, 'dilation_base': 2, 'dropout': 0.3}. Best is trial 17 with value: 13.014028541091086.\n",
      "GPU available: True (cuda), used: True\n",
      "TPU available: False, using: 0 TPU cores\n",
      "IPU available: False, using: 0 IPUs\n",
      "HPU available: False, using: 0 HPUs\n",
      "LOCAL_RANK: 0 - CUDA_VISIBLE_DEVICES: [1]\n"
     ]
    },
    {
     "name": "stdout",
     "output_type": "stream",
     "text": [
      "Current value: 29.172747613828427, Current params: {'input_chunk_length': 60, 'kernel_size': 3, 'num_filters': 1, 'num_layers': None, 'dilation_base': 2, 'dropout': 0.3}\n",
      "Best value: 13.014028541091086, Best params: {'input_chunk_length': 60, 'kernel_size': 3, 'num_filters': 1, 'num_layers': None, 'dilation_base': 1, 'dropout': 0.3}\n"
     ]
    },
    {
     "name": "stderr",
     "output_type": "stream",
     "text": [
      "`Trainer.fit` stopped: `max_epochs=400` reached.\n",
      "GPU available: True (cuda), used: True\n",
      "TPU available: False, using: 0 TPU cores\n",
      "IPU available: False, using: 0 IPUs\n",
      "HPU available: False, using: 0 HPUs\n",
      "LOCAL_RANK: 0 - CUDA_VISIBLE_DEVICES: [1]\n"
     ]
    },
    {
     "data": {
      "application/vnd.jupyter.widget-view+json": {
       "model_id": "9599c524bd5c4526a85a1365b7c4c3c9",
       "version_major": 2,
       "version_minor": 0
      },
      "text/plain": [
       "Predicting: 0it [00:00, ?it/s]"
      ]
     },
     "metadata": {},
     "output_type": "display_data"
    },
    {
     "name": "stderr",
     "output_type": "stream",
     "text": [
      "[I 2023-06-22 20:59:09,549] Trial 52 finished with value: 17.29517731493097 and parameters: {'input_chunk_length': 60, 'kernel_size': 3, 'num_filters': 1, 'num_layers': None, 'dilation_base': 2, 'dropout': 0.3}. Best is trial 17 with value: 13.014028541091086.\n",
      "GPU available: True (cuda), used: True\n",
      "TPU available: False, using: 0 TPU cores\n",
      "IPU available: False, using: 0 IPUs\n",
      "HPU available: False, using: 0 HPUs\n",
      "LOCAL_RANK: 0 - CUDA_VISIBLE_DEVICES: [1]\n"
     ]
    },
    {
     "name": "stdout",
     "output_type": "stream",
     "text": [
      "Current value: 17.29517731493097, Current params: {'input_chunk_length': 60, 'kernel_size': 3, 'num_filters': 1, 'num_layers': None, 'dilation_base': 2, 'dropout': 0.3}\n",
      "Best value: 13.014028541091086, Best params: {'input_chunk_length': 60, 'kernel_size': 3, 'num_filters': 1, 'num_layers': None, 'dilation_base': 1, 'dropout': 0.3}\n"
     ]
    },
    {
     "name": "stderr",
     "output_type": "stream",
     "text": [
      "`Trainer.fit` stopped: `max_epochs=400` reached.\n",
      "GPU available: True (cuda), used: True\n",
      "TPU available: False, using: 0 TPU cores\n",
      "IPU available: False, using: 0 IPUs\n",
      "HPU available: False, using: 0 HPUs\n",
      "LOCAL_RANK: 0 - CUDA_VISIBLE_DEVICES: [1]\n"
     ]
    },
    {
     "data": {
      "application/vnd.jupyter.widget-view+json": {
       "model_id": "00d35445a561482dbde2c7eef5b86d8e",
       "version_major": 2,
       "version_minor": 0
      },
      "text/plain": [
       "Predicting: 0it [00:00, ?it/s]"
      ]
     },
     "metadata": {},
     "output_type": "display_data"
    },
    {
     "name": "stderr",
     "output_type": "stream",
     "text": [
      "[I 2023-06-22 21:00:25,219] Trial 53 finished with value: 21.361848372871936 and parameters: {'input_chunk_length': 60, 'kernel_size': 3, 'num_filters': 1, 'num_layers': None, 'dilation_base': 2, 'dropout': 0.3}. Best is trial 17 with value: 13.014028541091086.\n",
      "GPU available: True (cuda), used: True\n",
      "TPU available: False, using: 0 TPU cores\n",
      "IPU available: False, using: 0 IPUs\n",
      "HPU available: False, using: 0 HPUs\n",
      "LOCAL_RANK: 0 - CUDA_VISIBLE_DEVICES: [1]\n"
     ]
    },
    {
     "name": "stdout",
     "output_type": "stream",
     "text": [
      "Current value: 21.361848372871936, Current params: {'input_chunk_length': 60, 'kernel_size': 3, 'num_filters': 1, 'num_layers': None, 'dilation_base': 2, 'dropout': 0.3}\n",
      "Best value: 13.014028541091086, Best params: {'input_chunk_length': 60, 'kernel_size': 3, 'num_filters': 1, 'num_layers': None, 'dilation_base': 1, 'dropout': 0.3}\n"
     ]
    },
    {
     "name": "stderr",
     "output_type": "stream",
     "text": [
      "`Trainer.fit` stopped: `max_epochs=400` reached.\n",
      "GPU available: True (cuda), used: True\n",
      "TPU available: False, using: 0 TPU cores\n",
      "IPU available: False, using: 0 IPUs\n",
      "HPU available: False, using: 0 HPUs\n",
      "LOCAL_RANK: 0 - CUDA_VISIBLE_DEVICES: [1]\n"
     ]
    },
    {
     "data": {
      "application/vnd.jupyter.widget-view+json": {
       "model_id": "d028751de8444dc3b0fb2d2841043dcf",
       "version_major": 2,
       "version_minor": 0
      },
      "text/plain": [
       "Predicting: 0it [00:00, ?it/s]"
      ]
     },
     "metadata": {},
     "output_type": "display_data"
    },
    {
     "name": "stderr",
     "output_type": "stream",
     "text": [
      "[I 2023-06-22 21:01:37,364] Trial 54 finished with value: 16.91142872615982 and parameters: {'input_chunk_length': 60, 'kernel_size': 3, 'num_filters': 1, 'num_layers': None, 'dilation_base': 2, 'dropout': 0.3}. Best is trial 17 with value: 13.014028541091086.\n",
      "GPU available: True (cuda), used: True\n",
      "TPU available: False, using: 0 TPU cores\n",
      "IPU available: False, using: 0 IPUs\n",
      "HPU available: False, using: 0 HPUs\n",
      "LOCAL_RANK: 0 - CUDA_VISIBLE_DEVICES: [1]\n"
     ]
    },
    {
     "name": "stdout",
     "output_type": "stream",
     "text": [
      "Current value: 16.91142872615982, Current params: {'input_chunk_length': 60, 'kernel_size': 3, 'num_filters': 1, 'num_layers': None, 'dilation_base': 2, 'dropout': 0.3}\n",
      "Best value: 13.014028541091086, Best params: {'input_chunk_length': 60, 'kernel_size': 3, 'num_filters': 1, 'num_layers': None, 'dilation_base': 1, 'dropout': 0.3}\n"
     ]
    },
    {
     "name": "stderr",
     "output_type": "stream",
     "text": [
      "`Trainer.fit` stopped: `max_epochs=400` reached.\n",
      "GPU available: True (cuda), used: True\n",
      "TPU available: False, using: 0 TPU cores\n",
      "IPU available: False, using: 0 IPUs\n",
      "HPU available: False, using: 0 HPUs\n",
      "LOCAL_RANK: 0 - CUDA_VISIBLE_DEVICES: [1]\n"
     ]
    },
    {
     "data": {
      "application/vnd.jupyter.widget-view+json": {
       "model_id": "ba14353da51c4e38b77c93d5eae60d40",
       "version_major": 2,
       "version_minor": 0
      },
      "text/plain": [
       "Predicting: 0it [00:00, ?it/s]"
      ]
     },
     "metadata": {},
     "output_type": "display_data"
    },
    {
     "name": "stderr",
     "output_type": "stream",
     "text": [
      "[I 2023-06-22 21:02:49,840] Trial 55 finished with value: 24.46161018208884 and parameters: {'input_chunk_length': 60, 'kernel_size': 3, 'num_filters': 1, 'num_layers': None, 'dilation_base': 2, 'dropout': 0.3}. Best is trial 17 with value: 13.014028541091086.\n",
      "GPU available: True (cuda), used: True\n",
      "TPU available: False, using: 0 TPU cores\n",
      "IPU available: False, using: 0 IPUs\n",
      "HPU available: False, using: 0 HPUs\n",
      "LOCAL_RANK: 0 - CUDA_VISIBLE_DEVICES: [1]\n"
     ]
    },
    {
     "name": "stdout",
     "output_type": "stream",
     "text": [
      "Current value: 24.46161018208884, Current params: {'input_chunk_length': 60, 'kernel_size': 3, 'num_filters': 1, 'num_layers': None, 'dilation_base': 2, 'dropout': 0.3}\n",
      "Best value: 13.014028541091086, Best params: {'input_chunk_length': 60, 'kernel_size': 3, 'num_filters': 1, 'num_layers': None, 'dilation_base': 1, 'dropout': 0.3}\n"
     ]
    },
    {
     "name": "stderr",
     "output_type": "stream",
     "text": [
      "`Trainer.fit` stopped: `max_epochs=400` reached.\n",
      "GPU available: True (cuda), used: True\n",
      "TPU available: False, using: 0 TPU cores\n",
      "IPU available: False, using: 0 IPUs\n",
      "HPU available: False, using: 0 HPUs\n",
      "LOCAL_RANK: 0 - CUDA_VISIBLE_DEVICES: [1]\n"
     ]
    },
    {
     "data": {
      "application/vnd.jupyter.widget-view+json": {
       "model_id": "d588f9a1ad6745efb285ac08eaa341a9",
       "version_major": 2,
       "version_minor": 0
      },
      "text/plain": [
       "Predicting: 0it [00:00, ?it/s]"
      ]
     },
     "metadata": {},
     "output_type": "display_data"
    },
    {
     "name": "stderr",
     "output_type": "stream",
     "text": [
      "[I 2023-06-22 21:04:06,654] Trial 56 finished with value: 24.56635338734247 and parameters: {'input_chunk_length': 356, 'kernel_size': 2, 'num_filters': 1, 'num_layers': None, 'dilation_base': 1, 'dropout': 0.3}. Best is trial 17 with value: 13.014028541091086.\n",
      "GPU available: True (cuda), used: True\n",
      "TPU available: False, using: 0 TPU cores\n",
      "IPU available: False, using: 0 IPUs\n",
      "HPU available: False, using: 0 HPUs\n",
      "LOCAL_RANK: 0 - CUDA_VISIBLE_DEVICES: [1]\n"
     ]
    },
    {
     "name": "stdout",
     "output_type": "stream",
     "text": [
      "Current value: 24.56635338734247, Current params: {'input_chunk_length': 356, 'kernel_size': 2, 'num_filters': 1, 'num_layers': None, 'dilation_base': 1, 'dropout': 0.3}\n",
      "Best value: 13.014028541091086, Best params: {'input_chunk_length': 60, 'kernel_size': 3, 'num_filters': 1, 'num_layers': None, 'dilation_base': 1, 'dropout': 0.3}\n"
     ]
    },
    {
     "name": "stderr",
     "output_type": "stream",
     "text": [
      "`Trainer.fit` stopped: `max_epochs=400` reached.\n",
      "GPU available: True (cuda), used: True\n",
      "TPU available: False, using: 0 TPU cores\n",
      "IPU available: False, using: 0 IPUs\n",
      "HPU available: False, using: 0 HPUs\n",
      "LOCAL_RANK: 0 - CUDA_VISIBLE_DEVICES: [1]\n"
     ]
    },
    {
     "data": {
      "application/vnd.jupyter.widget-view+json": {
       "model_id": "f2428bea941f468ca51a1f1974b417c0",
       "version_major": 2,
       "version_minor": 0
      },
      "text/plain": [
       "Predicting: 0it [00:00, ?it/s]"
      ]
     },
     "metadata": {},
     "output_type": "display_data"
    },
    {
     "name": "stderr",
     "output_type": "stream",
     "text": [
      "[I 2023-06-22 21:05:13,968] Trial 57 finished with value: 34.99613295476093 and parameters: {'input_chunk_length': 180, 'kernel_size': 5, 'num_filters': 1, 'num_layers': 3, 'dilation_base': 2, 'dropout': 0.3}. Best is trial 17 with value: 13.014028541091086.\n",
      "GPU available: True (cuda), used: True\n",
      "TPU available: False, using: 0 TPU cores\n",
      "IPU available: False, using: 0 IPUs\n",
      "HPU available: False, using: 0 HPUs\n",
      "LOCAL_RANK: 0 - CUDA_VISIBLE_DEVICES: [1]\n"
     ]
    },
    {
     "name": "stdout",
     "output_type": "stream",
     "text": [
      "Current value: 34.99613295476093, Current params: {'input_chunk_length': 180, 'kernel_size': 5, 'num_filters': 1, 'num_layers': 3, 'dilation_base': 2, 'dropout': 0.3}\n",
      "Best value: 13.014028541091086, Best params: {'input_chunk_length': 60, 'kernel_size': 3, 'num_filters': 1, 'num_layers': None, 'dilation_base': 1, 'dropout': 0.3}\n"
     ]
    },
    {
     "name": "stderr",
     "output_type": "stream",
     "text": [
      "`Trainer.fit` stopped: `max_epochs=400` reached.\n",
      "GPU available: True (cuda), used: True\n",
      "TPU available: False, using: 0 TPU cores\n",
      "IPU available: False, using: 0 IPUs\n",
      "HPU available: False, using: 0 HPUs\n",
      "LOCAL_RANK: 0 - CUDA_VISIBLE_DEVICES: [1]\n"
     ]
    },
    {
     "data": {
      "application/vnd.jupyter.widget-view+json": {
       "model_id": "aa0ec0fd41ae415bb2b625e58eedd877",
       "version_major": 2,
       "version_minor": 0
      },
      "text/plain": [
       "Predicting: 0it [00:00, ?it/s]"
      ]
     },
     "metadata": {},
     "output_type": "display_data"
    },
    {
     "name": "stderr",
     "output_type": "stream",
     "text": [
      "[I 2023-06-22 21:06:25,561] Trial 58 finished with value: 73.29687113724559 and parameters: {'input_chunk_length': 60, 'kernel_size': 3, 'num_filters': 5, 'num_layers': None, 'dilation_base': 1, 'dropout': 0.3}. Best is trial 17 with value: 13.014028541091086.\n",
      "GPU available: True (cuda), used: True\n",
      "TPU available: False, using: 0 TPU cores\n",
      "IPU available: False, using: 0 IPUs\n",
      "HPU available: False, using: 0 HPUs\n",
      "LOCAL_RANK: 0 - CUDA_VISIBLE_DEVICES: [1]\n"
     ]
    },
    {
     "name": "stdout",
     "output_type": "stream",
     "text": [
      "Current value: 73.29687113724559, Current params: {'input_chunk_length': 60, 'kernel_size': 3, 'num_filters': 5, 'num_layers': None, 'dilation_base': 1, 'dropout': 0.3}\n",
      "Best value: 13.014028541091086, Best params: {'input_chunk_length': 60, 'kernel_size': 3, 'num_filters': 1, 'num_layers': None, 'dilation_base': 1, 'dropout': 0.3}\n"
     ]
    },
    {
     "name": "stderr",
     "output_type": "stream",
     "text": [
      "`Trainer.fit` stopped: `max_epochs=400` reached.\n",
      "GPU available: True (cuda), used: True\n",
      "TPU available: False, using: 0 TPU cores\n",
      "IPU available: False, using: 0 IPUs\n",
      "HPU available: False, using: 0 HPUs\n",
      "LOCAL_RANK: 0 - CUDA_VISIBLE_DEVICES: [1]\n"
     ]
    },
    {
     "data": {
      "application/vnd.jupyter.widget-view+json": {
       "model_id": "ff8d73c393ec4f21b00e22facf901eb8",
       "version_major": 2,
       "version_minor": 0
      },
      "text/plain": [
       "Predicting: 0it [00:00, ?it/s]"
      ]
     },
     "metadata": {},
     "output_type": "display_data"
    },
    {
     "name": "stderr",
     "output_type": "stream",
     "text": [
      "[I 2023-06-22 21:07:38,360] Trial 59 finished with value: 12.77039122701725 and parameters: {'input_chunk_length': 180, 'kernel_size': 3, 'num_filters': 1, 'num_layers': 3, 'dilation_base': 2, 'dropout': 0.3}. Best is trial 59 with value: 12.77039122701725.\n",
      "GPU available: True (cuda), used: True\n",
      "TPU available: False, using: 0 TPU cores\n",
      "IPU available: False, using: 0 IPUs\n",
      "HPU available: False, using: 0 HPUs\n",
      "LOCAL_RANK: 0 - CUDA_VISIBLE_DEVICES: [1]\n"
     ]
    },
    {
     "name": "stdout",
     "output_type": "stream",
     "text": [
      "Current value: 12.77039122701725, Current params: {'input_chunk_length': 180, 'kernel_size': 3, 'num_filters': 1, 'num_layers': 3, 'dilation_base': 2, 'dropout': 0.3}\n",
      "Best value: 12.77039122701725, Best params: {'input_chunk_length': 180, 'kernel_size': 3, 'num_filters': 1, 'num_layers': 3, 'dilation_base': 2, 'dropout': 0.3}\n"
     ]
    },
    {
     "name": "stderr",
     "output_type": "stream",
     "text": [
      "`Trainer.fit` stopped: `max_epochs=400` reached.\n",
      "GPU available: True (cuda), used: True\n",
      "TPU available: False, using: 0 TPU cores\n",
      "IPU available: False, using: 0 IPUs\n",
      "HPU available: False, using: 0 HPUs\n",
      "LOCAL_RANK: 0 - CUDA_VISIBLE_DEVICES: [1]\n"
     ]
    },
    {
     "data": {
      "application/vnd.jupyter.widget-view+json": {
       "model_id": "186023c36b4d493399b1e62f39cdb987",
       "version_major": 2,
       "version_minor": 0
      },
      "text/plain": [
       "Predicting: 0it [00:00, ?it/s]"
      ]
     },
     "metadata": {},
     "output_type": "display_data"
    },
    {
     "name": "stderr",
     "output_type": "stream",
     "text": [
      "[I 2023-06-22 21:09:00,272] Trial 60 finished with value: 29.94235250252225 and parameters: {'input_chunk_length': 180, 'kernel_size': 2, 'num_filters': 3, 'num_layers': 3, 'dilation_base': 3, 'dropout': 0.3}. Best is trial 59 with value: 12.77039122701725.\n",
      "GPU available: True (cuda), used: True\n",
      "TPU available: False, using: 0 TPU cores\n",
      "IPU available: False, using: 0 IPUs\n",
      "HPU available: False, using: 0 HPUs\n",
      "LOCAL_RANK: 0 - CUDA_VISIBLE_DEVICES: [1]\n"
     ]
    },
    {
     "name": "stdout",
     "output_type": "stream",
     "text": [
      "Current value: 29.94235250252225, Current params: {'input_chunk_length': 180, 'kernel_size': 2, 'num_filters': 3, 'num_layers': 3, 'dilation_base': 3, 'dropout': 0.3}\n",
      "Best value: 12.77039122701725, Best params: {'input_chunk_length': 180, 'kernel_size': 3, 'num_filters': 1, 'num_layers': 3, 'dilation_base': 2, 'dropout': 0.3}\n"
     ]
    },
    {
     "name": "stderr",
     "output_type": "stream",
     "text": [
      "`Trainer.fit` stopped: `max_epochs=400` reached.\n",
      "GPU available: True (cuda), used: True\n",
      "TPU available: False, using: 0 TPU cores\n",
      "IPU available: False, using: 0 IPUs\n",
      "HPU available: False, using: 0 HPUs\n",
      "LOCAL_RANK: 0 - CUDA_VISIBLE_DEVICES: [1]\n"
     ]
    },
    {
     "data": {
      "application/vnd.jupyter.widget-view+json": {
       "model_id": "9b816b35c68a414e9092014558cf8d3e",
       "version_major": 2,
       "version_minor": 0
      },
      "text/plain": [
       "Predicting: 0it [00:00, ?it/s]"
      ]
     },
     "metadata": {},
     "output_type": "display_data"
    },
    {
     "name": "stderr",
     "output_type": "stream",
     "text": [
      "[I 2023-06-22 21:10:16,415] Trial 61 finished with value: 19.00947541958517 and parameters: {'input_chunk_length': 180, 'kernel_size': 3, 'num_filters': 1, 'num_layers': 3, 'dilation_base': 2, 'dropout': 0.3}. Best is trial 59 with value: 12.77039122701725.\n",
      "GPU available: True (cuda), used: True\n",
      "TPU available: False, using: 0 TPU cores\n",
      "IPU available: False, using: 0 IPUs\n",
      "HPU available: False, using: 0 HPUs\n",
      "LOCAL_RANK: 0 - CUDA_VISIBLE_DEVICES: [1]\n"
     ]
    },
    {
     "name": "stdout",
     "output_type": "stream",
     "text": [
      "Current value: 19.00947541958517, Current params: {'input_chunk_length': 180, 'kernel_size': 3, 'num_filters': 1, 'num_layers': 3, 'dilation_base': 2, 'dropout': 0.3}\n",
      "Best value: 12.77039122701725, Best params: {'input_chunk_length': 180, 'kernel_size': 3, 'num_filters': 1, 'num_layers': 3, 'dilation_base': 2, 'dropout': 0.3}\n"
     ]
    },
    {
     "name": "stderr",
     "output_type": "stream",
     "text": [
      "`Trainer.fit` stopped: `max_epochs=400` reached.\n",
      "GPU available: True (cuda), used: True\n",
      "TPU available: False, using: 0 TPU cores\n",
      "IPU available: False, using: 0 IPUs\n",
      "HPU available: False, using: 0 HPUs\n",
      "LOCAL_RANK: 0 - CUDA_VISIBLE_DEVICES: [1]\n"
     ]
    },
    {
     "data": {
      "application/vnd.jupyter.widget-view+json": {
       "model_id": "6db8685d0bf24af9ad97f703b3537faf",
       "version_major": 2,
       "version_minor": 0
      },
      "text/plain": [
       "Predicting: 0it [00:00, ?it/s]"
      ]
     },
     "metadata": {},
     "output_type": "display_data"
    },
    {
     "name": "stderr",
     "output_type": "stream",
     "text": [
      "[I 2023-06-22 21:11:30,701] Trial 62 finished with value: 20.574364109033986 and parameters: {'input_chunk_length': 180, 'kernel_size': 3, 'num_filters': 1, 'num_layers': 3, 'dilation_base': 2, 'dropout': 0.3}. Best is trial 59 with value: 12.77039122701725.\n",
      "GPU available: True (cuda), used: True\n",
      "TPU available: False, using: 0 TPU cores\n",
      "IPU available: False, using: 0 IPUs\n",
      "HPU available: False, using: 0 HPUs\n",
      "LOCAL_RANK: 0 - CUDA_VISIBLE_DEVICES: [1]\n"
     ]
    },
    {
     "name": "stdout",
     "output_type": "stream",
     "text": [
      "Current value: 20.574364109033986, Current params: {'input_chunk_length': 180, 'kernel_size': 3, 'num_filters': 1, 'num_layers': 3, 'dilation_base': 2, 'dropout': 0.3}\n",
      "Best value: 12.77039122701725, Best params: {'input_chunk_length': 180, 'kernel_size': 3, 'num_filters': 1, 'num_layers': 3, 'dilation_base': 2, 'dropout': 0.3}\n"
     ]
    },
    {
     "name": "stderr",
     "output_type": "stream",
     "text": [
      "`Trainer.fit` stopped: `max_epochs=400` reached.\n",
      "GPU available: True (cuda), used: True\n",
      "TPU available: False, using: 0 TPU cores\n",
      "IPU available: False, using: 0 IPUs\n",
      "HPU available: False, using: 0 HPUs\n",
      "LOCAL_RANK: 0 - CUDA_VISIBLE_DEVICES: [1]\n"
     ]
    },
    {
     "data": {
      "application/vnd.jupyter.widget-view+json": {
       "model_id": "97a81077a1f84398a33a270f3c7c0f16",
       "version_major": 2,
       "version_minor": 0
      },
      "text/plain": [
       "Predicting: 0it [00:00, ?it/s]"
      ]
     },
     "metadata": {},
     "output_type": "display_data"
    },
    {
     "name": "stderr",
     "output_type": "stream",
     "text": [
      "[I 2023-06-22 21:12:45,232] Trial 63 finished with value: 35.617281995882216 and parameters: {'input_chunk_length': 180, 'kernel_size': 3, 'num_filters': 1, 'num_layers': 3, 'dilation_base': 2, 'dropout': 0.3}. Best is trial 59 with value: 12.77039122701725.\n",
      "GPU available: True (cuda), used: True\n",
      "TPU available: False, using: 0 TPU cores\n",
      "IPU available: False, using: 0 IPUs\n",
      "HPU available: False, using: 0 HPUs\n",
      "LOCAL_RANK: 0 - CUDA_VISIBLE_DEVICES: [1]\n"
     ]
    },
    {
     "name": "stdout",
     "output_type": "stream",
     "text": [
      "Current value: 35.617281995882216, Current params: {'input_chunk_length': 180, 'kernel_size': 3, 'num_filters': 1, 'num_layers': 3, 'dilation_base': 2, 'dropout': 0.3}\n",
      "Best value: 12.77039122701725, Best params: {'input_chunk_length': 180, 'kernel_size': 3, 'num_filters': 1, 'num_layers': 3, 'dilation_base': 2, 'dropout': 0.3}\n"
     ]
    },
    {
     "name": "stderr",
     "output_type": "stream",
     "text": [
      "`Trainer.fit` stopped: `max_epochs=400` reached.\n",
      "GPU available: True (cuda), used: True\n",
      "TPU available: False, using: 0 TPU cores\n",
      "IPU available: False, using: 0 IPUs\n",
      "HPU available: False, using: 0 HPUs\n",
      "LOCAL_RANK: 0 - CUDA_VISIBLE_DEVICES: [1]\n"
     ]
    },
    {
     "data": {
      "application/vnd.jupyter.widget-view+json": {
       "model_id": "bfc3813e6f5f429baac6aaca5c4a4043",
       "version_major": 2,
       "version_minor": 0
      },
      "text/plain": [
       "Predicting: 0it [00:00, ?it/s]"
      ]
     },
     "metadata": {},
     "output_type": "display_data"
    },
    {
     "name": "stderr",
     "output_type": "stream",
     "text": [
      "[I 2023-06-22 21:14:15,942] Trial 64 finished with value: 14.281150355142517 and parameters: {'input_chunk_length': 180, 'kernel_size': 3, 'num_filters': 1, 'num_layers': 3, 'dilation_base': 2, 'dropout': 0.3}. Best is trial 59 with value: 12.77039122701725.\n",
      "GPU available: True (cuda), used: True\n",
      "TPU available: False, using: 0 TPU cores\n",
      "IPU available: False, using: 0 IPUs\n",
      "HPU available: False, using: 0 HPUs\n",
      "LOCAL_RANK: 0 - CUDA_VISIBLE_DEVICES: [1]\n"
     ]
    },
    {
     "name": "stdout",
     "output_type": "stream",
     "text": [
      "Current value: 14.281150355142517, Current params: {'input_chunk_length': 180, 'kernel_size': 3, 'num_filters': 1, 'num_layers': 3, 'dilation_base': 2, 'dropout': 0.3}\n",
      "Best value: 12.77039122701725, Best params: {'input_chunk_length': 180, 'kernel_size': 3, 'num_filters': 1, 'num_layers': 3, 'dilation_base': 2, 'dropout': 0.3}\n"
     ]
    },
    {
     "name": "stderr",
     "output_type": "stream",
     "text": [
      "`Trainer.fit` stopped: `max_epochs=400` reached.\n",
      "GPU available: True (cuda), used: True\n",
      "TPU available: False, using: 0 TPU cores\n",
      "IPU available: False, using: 0 IPUs\n",
      "HPU available: False, using: 0 HPUs\n",
      "LOCAL_RANK: 0 - CUDA_VISIBLE_DEVICES: [1]\n"
     ]
    },
    {
     "data": {
      "application/vnd.jupyter.widget-view+json": {
       "model_id": "ed1cccd8c5f849dab2c89c2f88f13b63",
       "version_major": 2,
       "version_minor": 0
      },
      "text/plain": [
       "Predicting: 0it [00:00, ?it/s]"
      ]
     },
     "metadata": {},
     "output_type": "display_data"
    },
    {
     "name": "stderr",
     "output_type": "stream",
     "text": [
      "[I 2023-06-22 21:15:34,419] Trial 65 finished with value: 19.304481876557862 and parameters: {'input_chunk_length': 180, 'kernel_size': 3, 'num_filters': 1, 'num_layers': 3, 'dilation_base': 2, 'dropout': 0.3}. Best is trial 59 with value: 12.77039122701725.\n",
      "GPU available: True (cuda), used: True\n",
      "TPU available: False, using: 0 TPU cores\n",
      "IPU available: False, using: 0 IPUs\n",
      "HPU available: False, using: 0 HPUs\n",
      "LOCAL_RANK: 0 - CUDA_VISIBLE_DEVICES: [1]\n"
     ]
    },
    {
     "name": "stdout",
     "output_type": "stream",
     "text": [
      "Current value: 19.304481876557862, Current params: {'input_chunk_length': 180, 'kernel_size': 3, 'num_filters': 1, 'num_layers': 3, 'dilation_base': 2, 'dropout': 0.3}\n",
      "Best value: 12.77039122701725, Best params: {'input_chunk_length': 180, 'kernel_size': 3, 'num_filters': 1, 'num_layers': 3, 'dilation_base': 2, 'dropout': 0.3}\n"
     ]
    },
    {
     "name": "stderr",
     "output_type": "stream",
     "text": [
      "`Trainer.fit` stopped: `max_epochs=400` reached.\n",
      "GPU available: True (cuda), used: True\n",
      "TPU available: False, using: 0 TPU cores\n",
      "IPU available: False, using: 0 IPUs\n",
      "HPU available: False, using: 0 HPUs\n",
      "LOCAL_RANK: 0 - CUDA_VISIBLE_DEVICES: [1]\n"
     ]
    },
    {
     "data": {
      "application/vnd.jupyter.widget-view+json": {
       "model_id": "15d92b5f5a4049c1bf41d8ac73992f67",
       "version_major": 2,
       "version_minor": 0
      },
      "text/plain": [
       "Predicting: 0it [00:00, ?it/s]"
      ]
     },
     "metadata": {},
     "output_type": "display_data"
    },
    {
     "name": "stderr",
     "output_type": "stream",
     "text": [
      "[I 2023-06-22 21:16:51,842] Trial 66 finished with value: 20.642041032496238 and parameters: {'input_chunk_length': 180, 'kernel_size': 3, 'num_filters': 1, 'num_layers': 3, 'dilation_base': 1, 'dropout': 0.3}. Best is trial 59 with value: 12.77039122701725.\n",
      "GPU available: True (cuda), used: True\n",
      "TPU available: False, using: 0 TPU cores\n",
      "IPU available: False, using: 0 IPUs\n",
      "HPU available: False, using: 0 HPUs\n",
      "LOCAL_RANK: 0 - CUDA_VISIBLE_DEVICES: [1]\n"
     ]
    },
    {
     "name": "stdout",
     "output_type": "stream",
     "text": [
      "Current value: 20.642041032496238, Current params: {'input_chunk_length': 180, 'kernel_size': 3, 'num_filters': 1, 'num_layers': 3, 'dilation_base': 1, 'dropout': 0.3}\n",
      "Best value: 12.77039122701725, Best params: {'input_chunk_length': 180, 'kernel_size': 3, 'num_filters': 1, 'num_layers': 3, 'dilation_base': 2, 'dropout': 0.3}\n"
     ]
    },
    {
     "name": "stderr",
     "output_type": "stream",
     "text": [
      "`Trainer.fit` stopped: `max_epochs=400` reached.\n",
      "GPU available: True (cuda), used: True\n",
      "TPU available: False, using: 0 TPU cores\n",
      "IPU available: False, using: 0 IPUs\n",
      "HPU available: False, using: 0 HPUs\n",
      "LOCAL_RANK: 0 - CUDA_VISIBLE_DEVICES: [1]\n"
     ]
    },
    {
     "data": {
      "application/vnd.jupyter.widget-view+json": {
       "model_id": "59bb3c642b34424381920e60e5bb3c56",
       "version_major": 2,
       "version_minor": 0
      },
      "text/plain": [
       "Predicting: 0it [00:00, ?it/s]"
      ]
     },
     "metadata": {},
     "output_type": "display_data"
    },
    {
     "name": "stderr",
     "output_type": "stream",
     "text": [
      "[I 2023-06-22 21:18:07,804] Trial 67 finished with value: 17.588480681844548 and parameters: {'input_chunk_length': 180, 'kernel_size': 3, 'num_filters': 1, 'num_layers': 3, 'dilation_base': 2, 'dropout': 0.2}. Best is trial 59 with value: 12.77039122701725.\n",
      "GPU available: True (cuda), used: True\n",
      "TPU available: False, using: 0 TPU cores\n",
      "IPU available: False, using: 0 IPUs\n",
      "HPU available: False, using: 0 HPUs\n",
      "LOCAL_RANK: 0 - CUDA_VISIBLE_DEVICES: [1]\n"
     ]
    },
    {
     "name": "stdout",
     "output_type": "stream",
     "text": [
      "Current value: 17.588480681844548, Current params: {'input_chunk_length': 180, 'kernel_size': 3, 'num_filters': 1, 'num_layers': 3, 'dilation_base': 2, 'dropout': 0.2}\n",
      "Best value: 12.77039122701725, Best params: {'input_chunk_length': 180, 'kernel_size': 3, 'num_filters': 1, 'num_layers': 3, 'dilation_base': 2, 'dropout': 0.3}\n"
     ]
    },
    {
     "name": "stderr",
     "output_type": "stream",
     "text": [
      "`Trainer.fit` stopped: `max_epochs=400` reached.\n",
      "GPU available: True (cuda), used: True\n",
      "TPU available: False, using: 0 TPU cores\n",
      "IPU available: False, using: 0 IPUs\n",
      "HPU available: False, using: 0 HPUs\n",
      "LOCAL_RANK: 0 - CUDA_VISIBLE_DEVICES: [1]\n"
     ]
    },
    {
     "data": {
      "application/vnd.jupyter.widget-view+json": {
       "model_id": "aaae673ece7a481fad2518d1c94ff5ca",
       "version_major": 2,
       "version_minor": 0
      },
      "text/plain": [
       "Predicting: 0it [00:00, ?it/s]"
      ]
     },
     "metadata": {},
     "output_type": "display_data"
    },
    {
     "name": "stderr",
     "output_type": "stream",
     "text": [
      "[I 2023-06-22 21:19:23,431] Trial 68 finished with value: 17.644394056590908 and parameters: {'input_chunk_length': 180, 'kernel_size': 5, 'num_filters': 1, 'num_layers': 3, 'dilation_base': 1, 'dropout': 0.3}. Best is trial 59 with value: 12.77039122701725.\n",
      "GPU available: True (cuda), used: True\n",
      "TPU available: False, using: 0 TPU cores\n",
      "IPU available: False, using: 0 IPUs\n",
      "HPU available: False, using: 0 HPUs\n",
      "LOCAL_RANK: 0 - CUDA_VISIBLE_DEVICES: [1]\n"
     ]
    },
    {
     "name": "stdout",
     "output_type": "stream",
     "text": [
      "Current value: 17.644394056590908, Current params: {'input_chunk_length': 180, 'kernel_size': 5, 'num_filters': 1, 'num_layers': 3, 'dilation_base': 1, 'dropout': 0.3}\n",
      "Best value: 12.77039122701725, Best params: {'input_chunk_length': 180, 'kernel_size': 3, 'num_filters': 1, 'num_layers': 3, 'dilation_base': 2, 'dropout': 0.3}\n"
     ]
    },
    {
     "name": "stderr",
     "output_type": "stream",
     "text": [
      "`Trainer.fit` stopped: `max_epochs=400` reached.\n",
      "GPU available: True (cuda), used: True\n",
      "TPU available: False, using: 0 TPU cores\n",
      "IPU available: False, using: 0 IPUs\n",
      "HPU available: False, using: 0 HPUs\n",
      "LOCAL_RANK: 0 - CUDA_VISIBLE_DEVICES: [1]\n"
     ]
    },
    {
     "data": {
      "application/vnd.jupyter.widget-view+json": {
       "model_id": "6e83df29b46b4154a30a911d2618e7d1",
       "version_major": 2,
       "version_minor": 0
      },
      "text/plain": [
       "Predicting: 0it [00:00, ?it/s]"
      ]
     },
     "metadata": {},
     "output_type": "display_data"
    },
    {
     "name": "stderr",
     "output_type": "stream",
     "text": [
      "[I 2023-06-22 21:20:40,054] Trial 69 finished with value: 28.966479619325213 and parameters: {'input_chunk_length': 31, 'kernel_size': 3, 'num_filters': 1, 'num_layers': 2, 'dilation_base': 2, 'dropout': 0.3}. Best is trial 59 with value: 12.77039122701725.\n",
      "GPU available: True (cuda), used: True\n",
      "TPU available: False, using: 0 TPU cores\n",
      "IPU available: False, using: 0 IPUs\n",
      "HPU available: False, using: 0 HPUs\n",
      "LOCAL_RANK: 0 - CUDA_VISIBLE_DEVICES: [1]\n"
     ]
    },
    {
     "name": "stdout",
     "output_type": "stream",
     "text": [
      "Current value: 28.966479619325213, Current params: {'input_chunk_length': 31, 'kernel_size': 3, 'num_filters': 1, 'num_layers': 2, 'dilation_base': 2, 'dropout': 0.3}\n",
      "Best value: 12.77039122701725, Best params: {'input_chunk_length': 180, 'kernel_size': 3, 'num_filters': 1, 'num_layers': 3, 'dilation_base': 2, 'dropout': 0.3}\n"
     ]
    },
    {
     "name": "stderr",
     "output_type": "stream",
     "text": [
      "`Trainer.fit` stopped: `max_epochs=400` reached.\n",
      "GPU available: True (cuda), used: True\n",
      "TPU available: False, using: 0 TPU cores\n",
      "IPU available: False, using: 0 IPUs\n",
      "HPU available: False, using: 0 HPUs\n",
      "LOCAL_RANK: 0 - CUDA_VISIBLE_DEVICES: [1]\n"
     ]
    },
    {
     "data": {
      "application/vnd.jupyter.widget-view+json": {
       "model_id": "a0929539a5ce4d3e9397b95b1a7f918e",
       "version_major": 2,
       "version_minor": 0
      },
      "text/plain": [
       "Predicting: 0it [00:00, ?it/s]"
      ]
     },
     "metadata": {},
     "output_type": "display_data"
    },
    {
     "name": "stderr",
     "output_type": "stream",
     "text": [
      "[I 2023-06-22 21:22:04,314] Trial 70 finished with value: 15.445401245469794 and parameters: {'input_chunk_length': 180, 'kernel_size': 2, 'num_filters': 3, 'num_layers': 3, 'dilation_base': 2, 'dropout': 0.1}. Best is trial 59 with value: 12.77039122701725.\n",
      "GPU available: True (cuda), used: True\n",
      "TPU available: False, using: 0 TPU cores\n",
      "IPU available: False, using: 0 IPUs\n",
      "HPU available: False, using: 0 HPUs\n",
      "LOCAL_RANK: 0 - CUDA_VISIBLE_DEVICES: [1]\n"
     ]
    },
    {
     "name": "stdout",
     "output_type": "stream",
     "text": [
      "Current value: 15.445401245469794, Current params: {'input_chunk_length': 180, 'kernel_size': 2, 'num_filters': 3, 'num_layers': 3, 'dilation_base': 2, 'dropout': 0.1}\n",
      "Best value: 12.77039122701725, Best params: {'input_chunk_length': 180, 'kernel_size': 3, 'num_filters': 1, 'num_layers': 3, 'dilation_base': 2, 'dropout': 0.3}\n"
     ]
    },
    {
     "name": "stderr",
     "output_type": "stream",
     "text": [
      "`Trainer.fit` stopped: `max_epochs=400` reached.\n",
      "GPU available: True (cuda), used: True\n",
      "TPU available: False, using: 0 TPU cores\n",
      "IPU available: False, using: 0 IPUs\n",
      "HPU available: False, using: 0 HPUs\n",
      "LOCAL_RANK: 0 - CUDA_VISIBLE_DEVICES: [1]\n"
     ]
    },
    {
     "data": {
      "application/vnd.jupyter.widget-view+json": {
       "model_id": "1b9942269f3042e9bab2e67b6107bb19",
       "version_major": 2,
       "version_minor": 0
      },
      "text/plain": [
       "Predicting: 0it [00:00, ?it/s]"
      ]
     },
     "metadata": {},
     "output_type": "display_data"
    },
    {
     "name": "stderr",
     "output_type": "stream",
     "text": [
      "[I 2023-06-22 21:23:26,602] Trial 71 finished with value: 19.021177550912057 and parameters: {'input_chunk_length': 180, 'kernel_size': 2, 'num_filters': 3, 'num_layers': 3, 'dilation_base': 2, 'dropout': 0.1}. Best is trial 59 with value: 12.77039122701725.\n",
      "GPU available: True (cuda), used: True\n",
      "TPU available: False, using: 0 TPU cores\n",
      "IPU available: False, using: 0 IPUs\n",
      "HPU available: False, using: 0 HPUs\n",
      "LOCAL_RANK: 0 - CUDA_VISIBLE_DEVICES: [1]\n"
     ]
    },
    {
     "name": "stdout",
     "output_type": "stream",
     "text": [
      "Current value: 19.021177550912057, Current params: {'input_chunk_length': 180, 'kernel_size': 2, 'num_filters': 3, 'num_layers': 3, 'dilation_base': 2, 'dropout': 0.1}\n",
      "Best value: 12.77039122701725, Best params: {'input_chunk_length': 180, 'kernel_size': 3, 'num_filters': 1, 'num_layers': 3, 'dilation_base': 2, 'dropout': 0.3}\n"
     ]
    },
    {
     "name": "stderr",
     "output_type": "stream",
     "text": [
      "`Trainer.fit` stopped: `max_epochs=400` reached.\n",
      "GPU available: True (cuda), used: True\n",
      "TPU available: False, using: 0 TPU cores\n",
      "IPU available: False, using: 0 IPUs\n",
      "HPU available: False, using: 0 HPUs\n",
      "LOCAL_RANK: 0 - CUDA_VISIBLE_DEVICES: [1]\n"
     ]
    },
    {
     "data": {
      "application/vnd.jupyter.widget-view+json": {
       "model_id": "7e05648eafa34d4d927d672d9bc96bfe",
       "version_major": 2,
       "version_minor": 0
      },
      "text/plain": [
       "Predicting: 0it [00:00, ?it/s]"
      ]
     },
     "metadata": {},
     "output_type": "display_data"
    },
    {
     "name": "stderr",
     "output_type": "stream",
     "text": [
      "[I 2023-06-22 21:24:53,905] Trial 72 finished with value: 87.10108569336388 and parameters: {'input_chunk_length': 180, 'kernel_size': 2, 'num_filters': 3, 'num_layers': 3, 'dilation_base': 2, 'dropout': 0.1}. Best is trial 59 with value: 12.77039122701725.\n",
      "GPU available: True (cuda), used: True\n",
      "TPU available: False, using: 0 TPU cores\n",
      "IPU available: False, using: 0 IPUs\n",
      "HPU available: False, using: 0 HPUs\n",
      "LOCAL_RANK: 0 - CUDA_VISIBLE_DEVICES: [1]\n"
     ]
    },
    {
     "name": "stdout",
     "output_type": "stream",
     "text": [
      "Current value: 87.10108569336388, Current params: {'input_chunk_length': 180, 'kernel_size': 2, 'num_filters': 3, 'num_layers': 3, 'dilation_base': 2, 'dropout': 0.1}\n",
      "Best value: 12.77039122701725, Best params: {'input_chunk_length': 180, 'kernel_size': 3, 'num_filters': 1, 'num_layers': 3, 'dilation_base': 2, 'dropout': 0.3}\n"
     ]
    },
    {
     "name": "stderr",
     "output_type": "stream",
     "text": [
      "`Trainer.fit` stopped: `max_epochs=400` reached.\n",
      "GPU available: True (cuda), used: True\n",
      "TPU available: False, using: 0 TPU cores\n",
      "IPU available: False, using: 0 IPUs\n",
      "HPU available: False, using: 0 HPUs\n",
      "LOCAL_RANK: 0 - CUDA_VISIBLE_DEVICES: [1]\n"
     ]
    },
    {
     "data": {
      "application/vnd.jupyter.widget-view+json": {
       "model_id": "d79d9ad89a67434f8cddebe47683dda0",
       "version_major": 2,
       "version_minor": 0
      },
      "text/plain": [
       "Predicting: 0it [00:00, ?it/s]"
      ]
     },
     "metadata": {},
     "output_type": "display_data"
    },
    {
     "name": "stderr",
     "output_type": "stream",
     "text": [
      "[I 2023-06-22 21:26:16,055] Trial 73 finished with value: 50.6871158333914 and parameters: {'input_chunk_length': 180, 'kernel_size': 2, 'num_filters': 3, 'num_layers': 3, 'dilation_base': 2, 'dropout': 0.1}. Best is trial 59 with value: 12.77039122701725.\n",
      "GPU available: True (cuda), used: True\n",
      "TPU available: False, using: 0 TPU cores\n",
      "IPU available: False, using: 0 IPUs\n",
      "HPU available: False, using: 0 HPUs\n",
      "LOCAL_RANK: 0 - CUDA_VISIBLE_DEVICES: [1]\n"
     ]
    },
    {
     "name": "stdout",
     "output_type": "stream",
     "text": [
      "Current value: 50.6871158333914, Current params: {'input_chunk_length': 180, 'kernel_size': 2, 'num_filters': 3, 'num_layers': 3, 'dilation_base': 2, 'dropout': 0.1}\n",
      "Best value: 12.77039122701725, Best params: {'input_chunk_length': 180, 'kernel_size': 3, 'num_filters': 1, 'num_layers': 3, 'dilation_base': 2, 'dropout': 0.3}\n"
     ]
    },
    {
     "name": "stderr",
     "output_type": "stream",
     "text": [
      "`Trainer.fit` stopped: `max_epochs=400` reached.\n",
      "GPU available: True (cuda), used: True\n",
      "TPU available: False, using: 0 TPU cores\n",
      "IPU available: False, using: 0 IPUs\n",
      "HPU available: False, using: 0 HPUs\n",
      "LOCAL_RANK: 0 - CUDA_VISIBLE_DEVICES: [1]\n"
     ]
    },
    {
     "data": {
      "application/vnd.jupyter.widget-view+json": {
       "model_id": "860b994a66644e7ebe394cb4f8d834b2",
       "version_major": 2,
       "version_minor": 0
      },
      "text/plain": [
       "Predicting: 0it [00:00, ?it/s]"
      ]
     },
     "metadata": {},
     "output_type": "display_data"
    },
    {
     "name": "stderr",
     "output_type": "stream",
     "text": [
      "[I 2023-06-22 21:27:35,018] Trial 74 finished with value: 22.348311791449348 and parameters: {'input_chunk_length': 180, 'kernel_size': 2, 'num_filters': 3, 'num_layers': 3, 'dilation_base': 2, 'dropout': 0.1}. Best is trial 59 with value: 12.77039122701725.\n",
      "GPU available: True (cuda), used: True\n",
      "TPU available: False, using: 0 TPU cores\n",
      "IPU available: False, using: 0 IPUs\n",
      "HPU available: False, using: 0 HPUs\n",
      "LOCAL_RANK: 0 - CUDA_VISIBLE_DEVICES: [1]\n"
     ]
    },
    {
     "name": "stdout",
     "output_type": "stream",
     "text": [
      "Current value: 22.348311791449348, Current params: {'input_chunk_length': 180, 'kernel_size': 2, 'num_filters': 3, 'num_layers': 3, 'dilation_base': 2, 'dropout': 0.1}\n",
      "Best value: 12.77039122701725, Best params: {'input_chunk_length': 180, 'kernel_size': 3, 'num_filters': 1, 'num_layers': 3, 'dilation_base': 2, 'dropout': 0.3}\n"
     ]
    },
    {
     "name": "stderr",
     "output_type": "stream",
     "text": [
      "`Trainer.fit` stopped: `max_epochs=400` reached.\n",
      "GPU available: True (cuda), used: True\n",
      "TPU available: False, using: 0 TPU cores\n",
      "IPU available: False, using: 0 IPUs\n",
      "HPU available: False, using: 0 HPUs\n",
      "LOCAL_RANK: 0 - CUDA_VISIBLE_DEVICES: [1]\n"
     ]
    },
    {
     "data": {
      "application/vnd.jupyter.widget-view+json": {
       "model_id": "d5b23e96ab1c460db4c0d4518e949a45",
       "version_major": 2,
       "version_minor": 0
      },
      "text/plain": [
       "Predicting: 0it [00:00, ?it/s]"
      ]
     },
     "metadata": {},
     "output_type": "display_data"
    },
    {
     "name": "stderr",
     "output_type": "stream",
     "text": [
      "[I 2023-06-22 21:28:44,585] Trial 75 finished with value: 17.907491672615425 and parameters: {'input_chunk_length': 356, 'kernel_size': 2, 'num_filters': 3, 'num_layers': 1, 'dilation_base': 1, 'dropout': 0.1}. Best is trial 59 with value: 12.77039122701725.\n",
      "GPU available: True (cuda), used: True\n",
      "TPU available: False, using: 0 TPU cores\n",
      "IPU available: False, using: 0 IPUs\n",
      "HPU available: False, using: 0 HPUs\n",
      "LOCAL_RANK: 0 - CUDA_VISIBLE_DEVICES: [1]\n"
     ]
    },
    {
     "name": "stdout",
     "output_type": "stream",
     "text": [
      "Current value: 17.907491672615425, Current params: {'input_chunk_length': 356, 'kernel_size': 2, 'num_filters': 3, 'num_layers': 1, 'dilation_base': 1, 'dropout': 0.1}\n",
      "Best value: 12.77039122701725, Best params: {'input_chunk_length': 180, 'kernel_size': 3, 'num_filters': 1, 'num_layers': 3, 'dilation_base': 2, 'dropout': 0.3}\n"
     ]
    },
    {
     "name": "stderr",
     "output_type": "stream",
     "text": [
      "`Trainer.fit` stopped: `max_epochs=400` reached.\n",
      "GPU available: True (cuda), used: True\n",
      "TPU available: False, using: 0 TPU cores\n",
      "IPU available: False, using: 0 IPUs\n",
      "HPU available: False, using: 0 HPUs\n",
      "LOCAL_RANK: 0 - CUDA_VISIBLE_DEVICES: [1]\n"
     ]
    },
    {
     "data": {
      "application/vnd.jupyter.widget-view+json": {
       "model_id": "7e82fcf90fed49ddb967bca978d2df6e",
       "version_major": 2,
       "version_minor": 0
      },
      "text/plain": [
       "Predicting: 0it [00:00, ?it/s]"
      ]
     },
     "metadata": {},
     "output_type": "display_data"
    },
    {
     "name": "stderr",
     "output_type": "stream",
     "text": [
      "[I 2023-06-22 21:30:00,938] Trial 76 finished with value: 35.17672981807472 and parameters: {'input_chunk_length': 180, 'kernel_size': 3, 'num_filters': 5, 'num_layers': 3, 'dilation_base': 2, 'dropout': 0.3}. Best is trial 59 with value: 12.77039122701725.\n",
      "GPU available: True (cuda), used: True\n",
      "TPU available: False, using: 0 TPU cores\n",
      "IPU available: False, using: 0 IPUs\n",
      "HPU available: False, using: 0 HPUs\n",
      "LOCAL_RANK: 0 - CUDA_VISIBLE_DEVICES: [1]\n"
     ]
    },
    {
     "name": "stdout",
     "output_type": "stream",
     "text": [
      "Current value: 35.17672981807472, Current params: {'input_chunk_length': 180, 'kernel_size': 3, 'num_filters': 5, 'num_layers': 3, 'dilation_base': 2, 'dropout': 0.3}\n",
      "Best value: 12.77039122701725, Best params: {'input_chunk_length': 180, 'kernel_size': 3, 'num_filters': 1, 'num_layers': 3, 'dilation_base': 2, 'dropout': 0.3}\n"
     ]
    },
    {
     "name": "stderr",
     "output_type": "stream",
     "text": [
      "`Trainer.fit` stopped: `max_epochs=400` reached.\n",
      "GPU available: True (cuda), used: True\n",
      "TPU available: False, using: 0 TPU cores\n",
      "IPU available: False, using: 0 IPUs\n",
      "HPU available: False, using: 0 HPUs\n",
      "LOCAL_RANK: 0 - CUDA_VISIBLE_DEVICES: [1]\n"
     ]
    },
    {
     "data": {
      "application/vnd.jupyter.widget-view+json": {
       "model_id": "1ec569b339a2401ca69cb0d136c08412",
       "version_major": 2,
       "version_minor": 0
      },
      "text/plain": [
       "Predicting: 0it [00:00, ?it/s]"
      ]
     },
     "metadata": {},
     "output_type": "display_data"
    },
    {
     "name": "stderr",
     "output_type": "stream",
     "text": [
      "[I 2023-06-22 21:31:15,394] Trial 77 finished with value: 27.201013561769578 and parameters: {'input_chunk_length': 180, 'kernel_size': 3, 'num_filters': 1, 'num_layers': 3, 'dilation_base': 2, 'dropout': 0.3}. Best is trial 59 with value: 12.77039122701725.\n",
      "GPU available: True (cuda), used: True\n",
      "TPU available: False, using: 0 TPU cores\n",
      "IPU available: False, using: 0 IPUs\n",
      "HPU available: False, using: 0 HPUs\n",
      "LOCAL_RANK: 0 - CUDA_VISIBLE_DEVICES: [1]\n"
     ]
    },
    {
     "name": "stdout",
     "output_type": "stream",
     "text": [
      "Current value: 27.201013561769578, Current params: {'input_chunk_length': 180, 'kernel_size': 3, 'num_filters': 1, 'num_layers': 3, 'dilation_base': 2, 'dropout': 0.3}\n",
      "Best value: 12.77039122701725, Best params: {'input_chunk_length': 180, 'kernel_size': 3, 'num_filters': 1, 'num_layers': 3, 'dilation_base': 2, 'dropout': 0.3}\n"
     ]
    },
    {
     "name": "stderr",
     "output_type": "stream",
     "text": [
      "`Trainer.fit` stopped: `max_epochs=400` reached.\n",
      "GPU available: True (cuda), used: True\n",
      "TPU available: False, using: 0 TPU cores\n",
      "IPU available: False, using: 0 IPUs\n",
      "HPU available: False, using: 0 HPUs\n",
      "LOCAL_RANK: 0 - CUDA_VISIBLE_DEVICES: [1]\n"
     ]
    },
    {
     "data": {
      "application/vnd.jupyter.widget-view+json": {
       "model_id": "2c1042918bf84076a034c1906f57fe17",
       "version_major": 2,
       "version_minor": 0
      },
      "text/plain": [
       "Predicting: 0it [00:00, ?it/s]"
      ]
     },
     "metadata": {},
     "output_type": "display_data"
    },
    {
     "name": "stderr",
     "output_type": "stream",
     "text": [
      "[I 2023-06-22 21:32:34,122] Trial 78 finished with value: 23.495990508443747 and parameters: {'input_chunk_length': 180, 'kernel_size': 2, 'num_filters': 1, 'num_layers': 3, 'dilation_base': 3, 'dropout': 0.3}. Best is trial 59 with value: 12.77039122701725.\n",
      "GPU available: True (cuda), used: True\n",
      "TPU available: False, using: 0 TPU cores\n",
      "IPU available: False, using: 0 IPUs\n",
      "HPU available: False, using: 0 HPUs\n",
      "LOCAL_RANK: 0 - CUDA_VISIBLE_DEVICES: [1]\n"
     ]
    },
    {
     "name": "stdout",
     "output_type": "stream",
     "text": [
      "Current value: 23.495990508443747, Current params: {'input_chunk_length': 180, 'kernel_size': 2, 'num_filters': 1, 'num_layers': 3, 'dilation_base': 3, 'dropout': 0.3}\n",
      "Best value: 12.77039122701725, Best params: {'input_chunk_length': 180, 'kernel_size': 3, 'num_filters': 1, 'num_layers': 3, 'dilation_base': 2, 'dropout': 0.3}\n"
     ]
    },
    {
     "name": "stderr",
     "output_type": "stream",
     "text": [
      "`Trainer.fit` stopped: `max_epochs=400` reached.\n",
      "GPU available: True (cuda), used: True\n",
      "TPU available: False, using: 0 TPU cores\n",
      "IPU available: False, using: 0 IPUs\n",
      "HPU available: False, using: 0 HPUs\n",
      "LOCAL_RANK: 0 - CUDA_VISIBLE_DEVICES: [1]\n"
     ]
    },
    {
     "data": {
      "application/vnd.jupyter.widget-view+json": {
       "model_id": "de1ae03b95224f7584407628e68bf7f1",
       "version_major": 2,
       "version_minor": 0
      },
      "text/plain": [
       "Predicting: 0it [00:00, ?it/s]"
      ]
     },
     "metadata": {},
     "output_type": "display_data"
    },
    {
     "name": "stderr",
     "output_type": "stream",
     "text": [
      "[I 2023-06-22 21:33:47,234] Trial 79 finished with value: 21.100029515079207 and parameters: {'input_chunk_length': 31, 'kernel_size': 3, 'num_filters': 1, 'num_layers': 2, 'dilation_base': 1, 'dropout': 0.2}. Best is trial 59 with value: 12.77039122701725.\n",
      "GPU available: True (cuda), used: True\n",
      "TPU available: False, using: 0 TPU cores\n",
      "IPU available: False, using: 0 IPUs\n",
      "HPU available: False, using: 0 HPUs\n",
      "LOCAL_RANK: 0 - CUDA_VISIBLE_DEVICES: [1]\n"
     ]
    },
    {
     "name": "stdout",
     "output_type": "stream",
     "text": [
      "Current value: 21.100029515079207, Current params: {'input_chunk_length': 31, 'kernel_size': 3, 'num_filters': 1, 'num_layers': 2, 'dilation_base': 1, 'dropout': 0.2}\n",
      "Best value: 12.77039122701725, Best params: {'input_chunk_length': 180, 'kernel_size': 3, 'num_filters': 1, 'num_layers': 3, 'dilation_base': 2, 'dropout': 0.3}\n"
     ]
    },
    {
     "name": "stderr",
     "output_type": "stream",
     "text": [
      "`Trainer.fit` stopped: `max_epochs=400` reached.\n",
      "GPU available: True (cuda), used: True\n",
      "TPU available: False, using: 0 TPU cores\n",
      "IPU available: False, using: 0 IPUs\n",
      "HPU available: False, using: 0 HPUs\n",
      "LOCAL_RANK: 0 - CUDA_VISIBLE_DEVICES: [1]\n"
     ]
    },
    {
     "data": {
      "application/vnd.jupyter.widget-view+json": {
       "model_id": "7684058c9b7142debc27eb585c751ab8",
       "version_major": 2,
       "version_minor": 0
      },
      "text/plain": [
       "Predicting: 0it [00:00, ?it/s]"
      ]
     },
     "metadata": {},
     "output_type": "display_data"
    },
    {
     "name": "stderr",
     "output_type": "stream",
     "text": [
      "[I 2023-06-22 21:34:59,566] Trial 80 finished with value: 60.94402789049623 and parameters: {'input_chunk_length': 180, 'kernel_size': 5, 'num_filters': 3, 'num_layers': 3, 'dilation_base': 2, 'dropout': 0.1}. Best is trial 59 with value: 12.77039122701725.\n",
      "GPU available: True (cuda), used: True\n",
      "TPU available: False, using: 0 TPU cores\n",
      "IPU available: False, using: 0 IPUs\n",
      "HPU available: False, using: 0 HPUs\n",
      "LOCAL_RANK: 0 - CUDA_VISIBLE_DEVICES: [1]\n"
     ]
    },
    {
     "name": "stdout",
     "output_type": "stream",
     "text": [
      "Current value: 60.94402789049623, Current params: {'input_chunk_length': 180, 'kernel_size': 5, 'num_filters': 3, 'num_layers': 3, 'dilation_base': 2, 'dropout': 0.1}\n",
      "Best value: 12.77039122701725, Best params: {'input_chunk_length': 180, 'kernel_size': 3, 'num_filters': 1, 'num_layers': 3, 'dilation_base': 2, 'dropout': 0.3}\n"
     ]
    },
    {
     "name": "stderr",
     "output_type": "stream",
     "text": [
      "`Trainer.fit` stopped: `max_epochs=400` reached.\n",
      "GPU available: True (cuda), used: True\n",
      "TPU available: False, using: 0 TPU cores\n",
      "IPU available: False, using: 0 IPUs\n",
      "HPU available: False, using: 0 HPUs\n",
      "LOCAL_RANK: 0 - CUDA_VISIBLE_DEVICES: [1]\n"
     ]
    },
    {
     "data": {
      "application/vnd.jupyter.widget-view+json": {
       "model_id": "9f2f6f8ea3cb408388d0f0ab0f8b0561",
       "version_major": 2,
       "version_minor": 0
      },
      "text/plain": [
       "Predicting: 0it [00:00, ?it/s]"
      ]
     },
     "metadata": {},
     "output_type": "display_data"
    },
    {
     "name": "stderr",
     "output_type": "stream",
     "text": [
      "[I 2023-06-22 21:36:11,368] Trial 81 finished with value: 22.14583827876926 and parameters: {'input_chunk_length': 60, 'kernel_size': 3, 'num_filters': 1, 'num_layers': None, 'dilation_base': 2, 'dropout': 0.3}. Best is trial 59 with value: 12.77039122701725.\n",
      "GPU available: True (cuda), used: True\n",
      "TPU available: False, using: 0 TPU cores\n",
      "IPU available: False, using: 0 IPUs\n",
      "HPU available: False, using: 0 HPUs\n",
      "LOCAL_RANK: 0 - CUDA_VISIBLE_DEVICES: [1]\n"
     ]
    },
    {
     "name": "stdout",
     "output_type": "stream",
     "text": [
      "Current value: 22.14583827876926, Current params: {'input_chunk_length': 60, 'kernel_size': 3, 'num_filters': 1, 'num_layers': None, 'dilation_base': 2, 'dropout': 0.3}\n",
      "Best value: 12.77039122701725, Best params: {'input_chunk_length': 180, 'kernel_size': 3, 'num_filters': 1, 'num_layers': 3, 'dilation_base': 2, 'dropout': 0.3}\n"
     ]
    },
    {
     "name": "stderr",
     "output_type": "stream",
     "text": [
      "`Trainer.fit` stopped: `max_epochs=400` reached.\n",
      "GPU available: True (cuda), used: True\n",
      "TPU available: False, using: 0 TPU cores\n",
      "IPU available: False, using: 0 IPUs\n",
      "HPU available: False, using: 0 HPUs\n",
      "LOCAL_RANK: 0 - CUDA_VISIBLE_DEVICES: [1]\n"
     ]
    },
    {
     "data": {
      "application/vnd.jupyter.widget-view+json": {
       "model_id": "46363a25e0e34edd9554ffd647078554",
       "version_major": 2,
       "version_minor": 0
      },
      "text/plain": [
       "Predicting: 0it [00:00, ?it/s]"
      ]
     },
     "metadata": {},
     "output_type": "display_data"
    },
    {
     "name": "stderr",
     "output_type": "stream",
     "text": [
      "[I 2023-06-22 21:37:20,748] Trial 82 finished with value: 18.551933370244203 and parameters: {'input_chunk_length': 60, 'kernel_size': 3, 'num_filters': 1, 'num_layers': None, 'dilation_base': 2, 'dropout': 0.3}. Best is trial 59 with value: 12.77039122701725.\n",
      "GPU available: True (cuda), used: True\n",
      "TPU available: False, using: 0 TPU cores\n",
      "IPU available: False, using: 0 IPUs\n",
      "HPU available: False, using: 0 HPUs\n",
      "LOCAL_RANK: 0 - CUDA_VISIBLE_DEVICES: [1]\n"
     ]
    },
    {
     "name": "stdout",
     "output_type": "stream",
     "text": [
      "Current value: 18.551933370244203, Current params: {'input_chunk_length': 60, 'kernel_size': 3, 'num_filters': 1, 'num_layers': None, 'dilation_base': 2, 'dropout': 0.3}\n",
      "Best value: 12.77039122701725, Best params: {'input_chunk_length': 180, 'kernel_size': 3, 'num_filters': 1, 'num_layers': 3, 'dilation_base': 2, 'dropout': 0.3}\n"
     ]
    },
    {
     "name": "stderr",
     "output_type": "stream",
     "text": [
      "`Trainer.fit` stopped: `max_epochs=400` reached.\n",
      "GPU available: True (cuda), used: True\n",
      "TPU available: False, using: 0 TPU cores\n",
      "IPU available: False, using: 0 IPUs\n",
      "HPU available: False, using: 0 HPUs\n",
      "LOCAL_RANK: 0 - CUDA_VISIBLE_DEVICES: [1]\n"
     ]
    },
    {
     "data": {
      "application/vnd.jupyter.widget-view+json": {
       "model_id": "46fcb849bfc04c73999a3254cbac8ca0",
       "version_major": 2,
       "version_minor": 0
      },
      "text/plain": [
       "Predicting: 0it [00:00, ?it/s]"
      ]
     },
     "metadata": {},
     "output_type": "display_data"
    },
    {
     "name": "stderr",
     "output_type": "stream",
     "text": [
      "[I 2023-06-22 21:38:31,242] Trial 83 finished with value: 42.06706867220385 and parameters: {'input_chunk_length': 60, 'kernel_size': 3, 'num_filters': 1, 'num_layers': None, 'dilation_base': 2, 'dropout': 0.3}. Best is trial 59 with value: 12.77039122701725.\n",
      "GPU available: True (cuda), used: True\n",
      "TPU available: False, using: 0 TPU cores\n",
      "IPU available: False, using: 0 IPUs\n",
      "HPU available: False, using: 0 HPUs\n",
      "LOCAL_RANK: 0 - CUDA_VISIBLE_DEVICES: [1]\n"
     ]
    },
    {
     "name": "stdout",
     "output_type": "stream",
     "text": [
      "Current value: 42.06706867220385, Current params: {'input_chunk_length': 60, 'kernel_size': 3, 'num_filters': 1, 'num_layers': None, 'dilation_base': 2, 'dropout': 0.3}\n",
      "Best value: 12.77039122701725, Best params: {'input_chunk_length': 180, 'kernel_size': 3, 'num_filters': 1, 'num_layers': 3, 'dilation_base': 2, 'dropout': 0.3}\n"
     ]
    },
    {
     "name": "stderr",
     "output_type": "stream",
     "text": [
      "`Trainer.fit` stopped: `max_epochs=400` reached.\n",
      "GPU available: True (cuda), used: True\n",
      "TPU available: False, using: 0 TPU cores\n",
      "IPU available: False, using: 0 IPUs\n",
      "HPU available: False, using: 0 HPUs\n",
      "LOCAL_RANK: 0 - CUDA_VISIBLE_DEVICES: [1]\n"
     ]
    },
    {
     "data": {
      "application/vnd.jupyter.widget-view+json": {
       "model_id": "3a7f87b1c8fb46889ad6ab264432240c",
       "version_major": 2,
       "version_minor": 0
      },
      "text/plain": [
       "Predicting: 0it [00:00, ?it/s]"
      ]
     },
     "metadata": {},
     "output_type": "display_data"
    },
    {
     "name": "stderr",
     "output_type": "stream",
     "text": [
      "[I 2023-06-22 21:39:43,754] Trial 84 finished with value: 25.011049563700865 and parameters: {'input_chunk_length': 60, 'kernel_size': 3, 'num_filters': 1, 'num_layers': None, 'dilation_base': 2, 'dropout': 0.3}. Best is trial 59 with value: 12.77039122701725.\n",
      "GPU available: True (cuda), used: True\n",
      "TPU available: False, using: 0 TPU cores\n",
      "IPU available: False, using: 0 IPUs\n",
      "HPU available: False, using: 0 HPUs\n",
      "LOCAL_RANK: 0 - CUDA_VISIBLE_DEVICES: [1]\n"
     ]
    },
    {
     "name": "stdout",
     "output_type": "stream",
     "text": [
      "Current value: 25.011049563700865, Current params: {'input_chunk_length': 60, 'kernel_size': 3, 'num_filters': 1, 'num_layers': None, 'dilation_base': 2, 'dropout': 0.3}\n",
      "Best value: 12.77039122701725, Best params: {'input_chunk_length': 180, 'kernel_size': 3, 'num_filters': 1, 'num_layers': 3, 'dilation_base': 2, 'dropout': 0.3}\n"
     ]
    },
    {
     "name": "stderr",
     "output_type": "stream",
     "text": [
      "`Trainer.fit` stopped: `max_epochs=400` reached.\n",
      "GPU available: True (cuda), used: True\n",
      "TPU available: False, using: 0 TPU cores\n",
      "IPU available: False, using: 0 IPUs\n",
      "HPU available: False, using: 0 HPUs\n",
      "LOCAL_RANK: 0 - CUDA_VISIBLE_DEVICES: [1]\n"
     ]
    },
    {
     "data": {
      "application/vnd.jupyter.widget-view+json": {
       "model_id": "65add23c98674b638a8f9ba62923b767",
       "version_major": 2,
       "version_minor": 0
      },
      "text/plain": [
       "Predicting: 0it [00:00, ?it/s]"
      ]
     },
     "metadata": {},
     "output_type": "display_data"
    },
    {
     "name": "stderr",
     "output_type": "stream",
     "text": [
      "[I 2023-06-22 21:40:58,419] Trial 85 finished with value: 17.11839473928831 and parameters: {'input_chunk_length': 60, 'kernel_size': 3, 'num_filters': 1, 'num_layers': None, 'dilation_base': 2, 'dropout': 0.3}. Best is trial 59 with value: 12.77039122701725.\n",
      "GPU available: True (cuda), used: True\n",
      "TPU available: False, using: 0 TPU cores\n",
      "IPU available: False, using: 0 IPUs\n",
      "HPU available: False, using: 0 HPUs\n",
      "LOCAL_RANK: 0 - CUDA_VISIBLE_DEVICES: [1]\n"
     ]
    },
    {
     "name": "stdout",
     "output_type": "stream",
     "text": [
      "Current value: 17.11839473928831, Current params: {'input_chunk_length': 60, 'kernel_size': 3, 'num_filters': 1, 'num_layers': None, 'dilation_base': 2, 'dropout': 0.3}\n",
      "Best value: 12.77039122701725, Best params: {'input_chunk_length': 180, 'kernel_size': 3, 'num_filters': 1, 'num_layers': 3, 'dilation_base': 2, 'dropout': 0.3}\n"
     ]
    },
    {
     "name": "stderr",
     "output_type": "stream",
     "text": [
      "`Trainer.fit` stopped: `max_epochs=400` reached.\n",
      "GPU available: True (cuda), used: True\n",
      "TPU available: False, using: 0 TPU cores\n",
      "IPU available: False, using: 0 IPUs\n",
      "HPU available: False, using: 0 HPUs\n",
      "LOCAL_RANK: 0 - CUDA_VISIBLE_DEVICES: [1]\n"
     ]
    },
    {
     "data": {
      "application/vnd.jupyter.widget-view+json": {
       "model_id": "143e8167503444398c9cdb3d3430b908",
       "version_major": 2,
       "version_minor": 0
      },
      "text/plain": [
       "Predicting: 0it [00:00, ?it/s]"
      ]
     },
     "metadata": {},
     "output_type": "display_data"
    },
    {
     "name": "stderr",
     "output_type": "stream",
     "text": [
      "[I 2023-06-22 21:42:11,412] Trial 86 finished with value: 22.119388755405364 and parameters: {'input_chunk_length': 60, 'kernel_size': 3, 'num_filters': 1, 'num_layers': 1, 'dilation_base': 2, 'dropout': 0.3}. Best is trial 59 with value: 12.77039122701725.\n",
      "GPU available: True (cuda), used: True\n",
      "TPU available: False, using: 0 TPU cores\n",
      "IPU available: False, using: 0 IPUs\n",
      "HPU available: False, using: 0 HPUs\n",
      "LOCAL_RANK: 0 - CUDA_VISIBLE_DEVICES: [1]\n"
     ]
    },
    {
     "name": "stdout",
     "output_type": "stream",
     "text": [
      "Current value: 22.119388755405364, Current params: {'input_chunk_length': 60, 'kernel_size': 3, 'num_filters': 1, 'num_layers': 1, 'dilation_base': 2, 'dropout': 0.3}\n",
      "Best value: 12.77039122701725, Best params: {'input_chunk_length': 180, 'kernel_size': 3, 'num_filters': 1, 'num_layers': 3, 'dilation_base': 2, 'dropout': 0.3}\n"
     ]
    },
    {
     "name": "stderr",
     "output_type": "stream",
     "text": [
      "`Trainer.fit` stopped: `max_epochs=400` reached.\n",
      "GPU available: True (cuda), used: True\n",
      "TPU available: False, using: 0 TPU cores\n",
      "IPU available: False, using: 0 IPUs\n",
      "HPU available: False, using: 0 HPUs\n",
      "LOCAL_RANK: 0 - CUDA_VISIBLE_DEVICES: [1]\n"
     ]
    },
    {
     "data": {
      "application/vnd.jupyter.widget-view+json": {
       "model_id": "191fd1abae5141f0915aa64bb8d38707",
       "version_major": 2,
       "version_minor": 0
      },
      "text/plain": [
       "Predicting: 0it [00:00, ?it/s]"
      ]
     },
     "metadata": {},
     "output_type": "display_data"
    },
    {
     "name": "stderr",
     "output_type": "stream",
     "text": [
      "[I 2023-06-22 21:43:19,905] Trial 87 finished with value: 26.24359799027442 and parameters: {'input_chunk_length': 356, 'kernel_size': 3, 'num_filters': 1, 'num_layers': None, 'dilation_base': 1, 'dropout': 0.3}. Best is trial 59 with value: 12.77039122701725.\n",
      "GPU available: True (cuda), used: True\n",
      "TPU available: False, using: 0 TPU cores\n",
      "IPU available: False, using: 0 IPUs\n",
      "HPU available: False, using: 0 HPUs\n",
      "LOCAL_RANK: 0 - CUDA_VISIBLE_DEVICES: [1]\n"
     ]
    },
    {
     "name": "stdout",
     "output_type": "stream",
     "text": [
      "Current value: 26.24359799027442, Current params: {'input_chunk_length': 356, 'kernel_size': 3, 'num_filters': 1, 'num_layers': None, 'dilation_base': 1, 'dropout': 0.3}\n",
      "Best value: 12.77039122701725, Best params: {'input_chunk_length': 180, 'kernel_size': 3, 'num_filters': 1, 'num_layers': 3, 'dilation_base': 2, 'dropout': 0.3}\n"
     ]
    },
    {
     "name": "stderr",
     "output_type": "stream",
     "text": [
      "`Trainer.fit` stopped: `max_epochs=400` reached.\n",
      "GPU available: True (cuda), used: True\n",
      "TPU available: False, using: 0 TPU cores\n",
      "IPU available: False, using: 0 IPUs\n",
      "HPU available: False, using: 0 HPUs\n",
      "LOCAL_RANK: 0 - CUDA_VISIBLE_DEVICES: [1]\n"
     ]
    },
    {
     "data": {
      "application/vnd.jupyter.widget-view+json": {
       "model_id": "5b64c32b9a6442e1b652318f268af9a4",
       "version_major": 2,
       "version_minor": 0
      },
      "text/plain": [
       "Predicting: 0it [00:00, ?it/s]"
      ]
     },
     "metadata": {},
     "output_type": "display_data"
    },
    {
     "name": "stderr",
     "output_type": "stream",
     "text": [
      "[I 2023-06-22 21:44:41,066] Trial 88 finished with value: 26.627743693369844 and parameters: {'input_chunk_length': 180, 'kernel_size': 2, 'num_filters': 1, 'num_layers': 3, 'dilation_base': 2, 'dropout': 0.3}. Best is trial 59 with value: 12.77039122701725.\n",
      "GPU available: True (cuda), used: True\n",
      "TPU available: False, using: 0 TPU cores\n",
      "IPU available: False, using: 0 IPUs\n",
      "HPU available: False, using: 0 HPUs\n",
      "LOCAL_RANK: 0 - CUDA_VISIBLE_DEVICES: [1]\n"
     ]
    },
    {
     "name": "stdout",
     "output_type": "stream",
     "text": [
      "Current value: 26.627743693369844, Current params: {'input_chunk_length': 180, 'kernel_size': 2, 'num_filters': 1, 'num_layers': 3, 'dilation_base': 2, 'dropout': 0.3}\n",
      "Best value: 12.77039122701725, Best params: {'input_chunk_length': 180, 'kernel_size': 3, 'num_filters': 1, 'num_layers': 3, 'dilation_base': 2, 'dropout': 0.3}\n"
     ]
    },
    {
     "name": "stderr",
     "output_type": "stream",
     "text": [
      "`Trainer.fit` stopped: `max_epochs=400` reached.\n",
      "GPU available: True (cuda), used: True\n",
      "TPU available: False, using: 0 TPU cores\n",
      "IPU available: False, using: 0 IPUs\n",
      "HPU available: False, using: 0 HPUs\n",
      "LOCAL_RANK: 0 - CUDA_VISIBLE_DEVICES: [1]\n"
     ]
    },
    {
     "data": {
      "application/vnd.jupyter.widget-view+json": {
       "model_id": "2d1e16577bcd47f6a94a68e36856c9cc",
       "version_major": 2,
       "version_minor": 0
      },
      "text/plain": [
       "Predicting: 0it [00:00, ?it/s]"
      ]
     },
     "metadata": {},
     "output_type": "display_data"
    },
    {
     "name": "stderr",
     "output_type": "stream",
     "text": [
      "[I 2023-06-22 21:45:50,658] Trial 89 finished with value: 48.2332503901456 and parameters: {'input_chunk_length': 60, 'kernel_size': 3, 'num_filters': 5, 'num_layers': None, 'dilation_base': 2, 'dropout': 0.3}. Best is trial 59 with value: 12.77039122701725.\n",
      "GPU available: True (cuda), used: True\n",
      "TPU available: False, using: 0 TPU cores\n",
      "IPU available: False, using: 0 IPUs\n",
      "HPU available: False, using: 0 HPUs\n",
      "LOCAL_RANK: 0 - CUDA_VISIBLE_DEVICES: [1]\n"
     ]
    },
    {
     "name": "stdout",
     "output_type": "stream",
     "text": [
      "Current value: 48.2332503901456, Current params: {'input_chunk_length': 60, 'kernel_size': 3, 'num_filters': 5, 'num_layers': None, 'dilation_base': 2, 'dropout': 0.3}\n",
      "Best value: 12.77039122701725, Best params: {'input_chunk_length': 180, 'kernel_size': 3, 'num_filters': 1, 'num_layers': 3, 'dilation_base': 2, 'dropout': 0.3}\n"
     ]
    },
    {
     "name": "stderr",
     "output_type": "stream",
     "text": [
      "`Trainer.fit` stopped: `max_epochs=400` reached.\n",
      "GPU available: True (cuda), used: True\n",
      "TPU available: False, using: 0 TPU cores\n",
      "IPU available: False, using: 0 IPUs\n",
      "HPU available: False, using: 0 HPUs\n",
      "LOCAL_RANK: 0 - CUDA_VISIBLE_DEVICES: [1]\n"
     ]
    },
    {
     "data": {
      "application/vnd.jupyter.widget-view+json": {
       "model_id": "836b79d3ac954ec1b0914333a97cffe3",
       "version_major": 2,
       "version_minor": 0
      },
      "text/plain": [
       "Predicting: 0it [00:00, ?it/s]"
      ]
     },
     "metadata": {},
     "output_type": "display_data"
    },
    {
     "name": "stderr",
     "output_type": "stream",
     "text": [
      "[I 2023-06-22 21:47:04,871] Trial 90 finished with value: 16.253043041803945 and parameters: {'input_chunk_length': 180, 'kernel_size': 3, 'num_filters': 1, 'num_layers': 3, 'dilation_base': 3, 'dropout': 0.3}. Best is trial 59 with value: 12.77039122701725.\n",
      "GPU available: True (cuda), used: True\n",
      "TPU available: False, using: 0 TPU cores\n",
      "IPU available: False, using: 0 IPUs\n",
      "HPU available: False, using: 0 HPUs\n",
      "LOCAL_RANK: 0 - CUDA_VISIBLE_DEVICES: [1]\n"
     ]
    },
    {
     "name": "stdout",
     "output_type": "stream",
     "text": [
      "Current value: 16.253043041803945, Current params: {'input_chunk_length': 180, 'kernel_size': 3, 'num_filters': 1, 'num_layers': 3, 'dilation_base': 3, 'dropout': 0.3}\n",
      "Best value: 12.77039122701725, Best params: {'input_chunk_length': 180, 'kernel_size': 3, 'num_filters': 1, 'num_layers': 3, 'dilation_base': 2, 'dropout': 0.3}\n"
     ]
    },
    {
     "name": "stderr",
     "output_type": "stream",
     "text": [
      "`Trainer.fit` stopped: `max_epochs=400` reached.\n",
      "GPU available: True (cuda), used: True\n",
      "TPU available: False, using: 0 TPU cores\n",
      "IPU available: False, using: 0 IPUs\n",
      "HPU available: False, using: 0 HPUs\n",
      "LOCAL_RANK: 0 - CUDA_VISIBLE_DEVICES: [1]\n"
     ]
    },
    {
     "data": {
      "application/vnd.jupyter.widget-view+json": {
       "model_id": "c7c6c0974dde40e4890345145039319d",
       "version_major": 2,
       "version_minor": 0
      },
      "text/plain": [
       "Predicting: 0it [00:00, ?it/s]"
      ]
     },
     "metadata": {},
     "output_type": "display_data"
    },
    {
     "name": "stderr",
     "output_type": "stream",
     "text": [
      "[I 2023-06-22 21:48:19,344] Trial 91 finished with value: 37.84103272066172 and parameters: {'input_chunk_length': 180, 'kernel_size': 3, 'num_filters': 1, 'num_layers': 3, 'dilation_base': 3, 'dropout': 0.3}. Best is trial 59 with value: 12.77039122701725.\n",
      "GPU available: True (cuda), used: True\n",
      "TPU available: False, using: 0 TPU cores\n",
      "IPU available: False, using: 0 IPUs\n",
      "HPU available: False, using: 0 HPUs\n",
      "LOCAL_RANK: 0 - CUDA_VISIBLE_DEVICES: [1]\n"
     ]
    },
    {
     "name": "stdout",
     "output_type": "stream",
     "text": [
      "Current value: 37.84103272066172, Current params: {'input_chunk_length': 180, 'kernel_size': 3, 'num_filters': 1, 'num_layers': 3, 'dilation_base': 3, 'dropout': 0.3}\n",
      "Best value: 12.77039122701725, Best params: {'input_chunk_length': 180, 'kernel_size': 3, 'num_filters': 1, 'num_layers': 3, 'dilation_base': 2, 'dropout': 0.3}\n"
     ]
    },
    {
     "name": "stderr",
     "output_type": "stream",
     "text": [
      "`Trainer.fit` stopped: `max_epochs=400` reached.\n",
      "GPU available: True (cuda), used: True\n",
      "TPU available: False, using: 0 TPU cores\n",
      "IPU available: False, using: 0 IPUs\n",
      "HPU available: False, using: 0 HPUs\n",
      "LOCAL_RANK: 0 - CUDA_VISIBLE_DEVICES: [1]\n"
     ]
    },
    {
     "data": {
      "application/vnd.jupyter.widget-view+json": {
       "model_id": "5b7064a6f76444e888e24357946cdad6",
       "version_major": 2,
       "version_minor": 0
      },
      "text/plain": [
       "Predicting: 0it [00:00, ?it/s]"
      ]
     },
     "metadata": {},
     "output_type": "display_data"
    },
    {
     "name": "stderr",
     "output_type": "stream",
     "text": [
      "[I 2023-06-22 21:49:33,427] Trial 92 finished with value: 51.01524008921536 and parameters: {'input_chunk_length': 180, 'kernel_size': 3, 'num_filters': 1, 'num_layers': 3, 'dilation_base': 3, 'dropout': 0.3}. Best is trial 59 with value: 12.77039122701725.\n",
      "GPU available: True (cuda), used: True\n",
      "TPU available: False, using: 0 TPU cores\n",
      "IPU available: False, using: 0 IPUs\n",
      "HPU available: False, using: 0 HPUs\n",
      "LOCAL_RANK: 0 - CUDA_VISIBLE_DEVICES: [1]\n"
     ]
    },
    {
     "name": "stdout",
     "output_type": "stream",
     "text": [
      "Current value: 51.01524008921536, Current params: {'input_chunk_length': 180, 'kernel_size': 3, 'num_filters': 1, 'num_layers': 3, 'dilation_base': 3, 'dropout': 0.3}\n",
      "Best value: 12.77039122701725, Best params: {'input_chunk_length': 180, 'kernel_size': 3, 'num_filters': 1, 'num_layers': 3, 'dilation_base': 2, 'dropout': 0.3}\n"
     ]
    },
    {
     "name": "stderr",
     "output_type": "stream",
     "text": [
      "`Trainer.fit` stopped: `max_epochs=400` reached.\n",
      "GPU available: True (cuda), used: True\n",
      "TPU available: False, using: 0 TPU cores\n",
      "IPU available: False, using: 0 IPUs\n",
      "HPU available: False, using: 0 HPUs\n",
      "LOCAL_RANK: 0 - CUDA_VISIBLE_DEVICES: [1]\n"
     ]
    },
    {
     "data": {
      "application/vnd.jupyter.widget-view+json": {
       "model_id": "cdd5d5a676e1404184fb4a3d667a40a0",
       "version_major": 2,
       "version_minor": 0
      },
      "text/plain": [
       "Predicting: 0it [00:00, ?it/s]"
      ]
     },
     "metadata": {},
     "output_type": "display_data"
    },
    {
     "name": "stderr",
     "output_type": "stream",
     "text": [
      "[I 2023-06-22 21:50:48,344] Trial 93 finished with value: 20.354233998025833 and parameters: {'input_chunk_length': 180, 'kernel_size': 3, 'num_filters': 1, 'num_layers': 3, 'dilation_base': 3, 'dropout': 0.3}. Best is trial 59 with value: 12.77039122701725.\n",
      "GPU available: True (cuda), used: True\n",
      "TPU available: False, using: 0 TPU cores\n",
      "IPU available: False, using: 0 IPUs\n",
      "HPU available: False, using: 0 HPUs\n",
      "LOCAL_RANK: 0 - CUDA_VISIBLE_DEVICES: [1]\n"
     ]
    },
    {
     "name": "stdout",
     "output_type": "stream",
     "text": [
      "Current value: 20.354233998025833, Current params: {'input_chunk_length': 180, 'kernel_size': 3, 'num_filters': 1, 'num_layers': 3, 'dilation_base': 3, 'dropout': 0.3}\n",
      "Best value: 12.77039122701725, Best params: {'input_chunk_length': 180, 'kernel_size': 3, 'num_filters': 1, 'num_layers': 3, 'dilation_base': 2, 'dropout': 0.3}\n"
     ]
    },
    {
     "name": "stderr",
     "output_type": "stream",
     "text": [
      "`Trainer.fit` stopped: `max_epochs=400` reached.\n",
      "GPU available: True (cuda), used: True\n",
      "TPU available: False, using: 0 TPU cores\n",
      "IPU available: False, using: 0 IPUs\n",
      "HPU available: False, using: 0 HPUs\n",
      "LOCAL_RANK: 0 - CUDA_VISIBLE_DEVICES: [1]\n"
     ]
    },
    {
     "data": {
      "application/vnd.jupyter.widget-view+json": {
       "model_id": "3584d040c77a4347ab066c3be26987ab",
       "version_major": 2,
       "version_minor": 0
      },
      "text/plain": [
       "Predicting: 0it [00:00, ?it/s]"
      ]
     },
     "metadata": {},
     "output_type": "display_data"
    },
    {
     "name": "stderr",
     "output_type": "stream",
     "text": [
      "[I 2023-06-22 21:52:02,018] Trial 94 finished with value: 20.57832485794277 and parameters: {'input_chunk_length': 180, 'kernel_size': 3, 'num_filters': 1, 'num_layers': 3, 'dilation_base': 3, 'dropout': 0.3}. Best is trial 59 with value: 12.77039122701725.\n",
      "GPU available: True (cuda), used: True\n",
      "TPU available: False, using: 0 TPU cores\n",
      "IPU available: False, using: 0 IPUs\n",
      "HPU available: False, using: 0 HPUs\n",
      "LOCAL_RANK: 0 - CUDA_VISIBLE_DEVICES: [1]\n"
     ]
    },
    {
     "name": "stdout",
     "output_type": "stream",
     "text": [
      "Current value: 20.57832485794277, Current params: {'input_chunk_length': 180, 'kernel_size': 3, 'num_filters': 1, 'num_layers': 3, 'dilation_base': 3, 'dropout': 0.3}\n",
      "Best value: 12.77039122701725, Best params: {'input_chunk_length': 180, 'kernel_size': 3, 'num_filters': 1, 'num_layers': 3, 'dilation_base': 2, 'dropout': 0.3}\n"
     ]
    },
    {
     "name": "stderr",
     "output_type": "stream",
     "text": [
      "`Trainer.fit` stopped: `max_epochs=400` reached.\n",
      "GPU available: True (cuda), used: True\n",
      "TPU available: False, using: 0 TPU cores\n",
      "IPU available: False, using: 0 IPUs\n",
      "HPU available: False, using: 0 HPUs\n",
      "LOCAL_RANK: 0 - CUDA_VISIBLE_DEVICES: [1]\n"
     ]
    },
    {
     "data": {
      "application/vnd.jupyter.widget-view+json": {
       "model_id": "2cf26e3210f44eb2aedd849b8c2c23ae",
       "version_major": 2,
       "version_minor": 0
      },
      "text/plain": [
       "Predicting: 0it [00:00, ?it/s]"
      ]
     },
     "metadata": {},
     "output_type": "display_data"
    },
    {
     "name": "stderr",
     "output_type": "stream",
     "text": [
      "[I 2023-06-22 21:53:14,870] Trial 95 finished with value: 39.58432626685438 and parameters: {'input_chunk_length': 60, 'kernel_size': 3, 'num_filters': 1, 'num_layers': None, 'dilation_base': 3, 'dropout': 0.3}. Best is trial 59 with value: 12.77039122701725.\n",
      "GPU available: True (cuda), used: True\n",
      "TPU available: False, using: 0 TPU cores\n",
      "IPU available: False, using: 0 IPUs\n",
      "HPU available: False, using: 0 HPUs\n",
      "LOCAL_RANK: 0 - CUDA_VISIBLE_DEVICES: [1]\n"
     ]
    },
    {
     "name": "stdout",
     "output_type": "stream",
     "text": [
      "Current value: 39.58432626685438, Current params: {'input_chunk_length': 60, 'kernel_size': 3, 'num_filters': 1, 'num_layers': None, 'dilation_base': 3, 'dropout': 0.3}\n",
      "Best value: 12.77039122701725, Best params: {'input_chunk_length': 180, 'kernel_size': 3, 'num_filters': 1, 'num_layers': 3, 'dilation_base': 2, 'dropout': 0.3}\n"
     ]
    },
    {
     "name": "stderr",
     "output_type": "stream",
     "text": [
      "`Trainer.fit` stopped: `max_epochs=400` reached.\n",
      "GPU available: True (cuda), used: True\n",
      "TPU available: False, using: 0 TPU cores\n",
      "IPU available: False, using: 0 IPUs\n",
      "HPU available: False, using: 0 HPUs\n",
      "LOCAL_RANK: 0 - CUDA_VISIBLE_DEVICES: [1]\n"
     ]
    },
    {
     "data": {
      "application/vnd.jupyter.widget-view+json": {
       "model_id": "09900dc6391a4198b90330e2465d5d15",
       "version_major": 2,
       "version_minor": 0
      },
      "text/plain": [
       "Predicting: 0it [00:00, ?it/s]"
      ]
     },
     "metadata": {},
     "output_type": "display_data"
    },
    {
     "name": "stderr",
     "output_type": "stream",
     "text": [
      "[I 2023-06-22 21:54:29,910] Trial 96 finished with value: 19.762897947214896 and parameters: {'input_chunk_length': 180, 'kernel_size': 3, 'num_filters': 1, 'num_layers': 3, 'dilation_base': 1, 'dropout': 0.3}. Best is trial 59 with value: 12.77039122701725.\n",
      "GPU available: True (cuda), used: True\n",
      "TPU available: False, using: 0 TPU cores\n",
      "IPU available: False, using: 0 IPUs\n",
      "HPU available: False, using: 0 HPUs\n",
      "LOCAL_RANK: 0 - CUDA_VISIBLE_DEVICES: [1]\n"
     ]
    },
    {
     "name": "stdout",
     "output_type": "stream",
     "text": [
      "Current value: 19.762897947214896, Current params: {'input_chunk_length': 180, 'kernel_size': 3, 'num_filters': 1, 'num_layers': 3, 'dilation_base': 1, 'dropout': 0.3}\n",
      "Best value: 12.77039122701725, Best params: {'input_chunk_length': 180, 'kernel_size': 3, 'num_filters': 1, 'num_layers': 3, 'dilation_base': 2, 'dropout': 0.3}\n"
     ]
    },
    {
     "name": "stderr",
     "output_type": "stream",
     "text": [
      "`Trainer.fit` stopped: `max_epochs=400` reached.\n",
      "GPU available: True (cuda), used: True\n",
      "TPU available: False, using: 0 TPU cores\n",
      "IPU available: False, using: 0 IPUs\n",
      "HPU available: False, using: 0 HPUs\n",
      "LOCAL_RANK: 0 - CUDA_VISIBLE_DEVICES: [1]\n"
     ]
    },
    {
     "data": {
      "application/vnd.jupyter.widget-view+json": {
       "model_id": "29b4bba8c0c54784b3d4237026e65514",
       "version_major": 2,
       "version_minor": 0
      },
      "text/plain": [
       "Predicting: 0it [00:00, ?it/s]"
      ]
     },
     "metadata": {},
     "output_type": "display_data"
    },
    {
     "name": "stderr",
     "output_type": "stream",
     "text": [
      "[I 2023-06-22 21:55:49,034] Trial 97 finished with value: 19.96247911545715 and parameters: {'input_chunk_length': 180, 'kernel_size': 2, 'num_filters': 1, 'num_layers': 3, 'dilation_base': 2, 'dropout': 0.2}. Best is trial 59 with value: 12.77039122701725.\n",
      "GPU available: True (cuda), used: True\n",
      "TPU available: False, using: 0 TPU cores\n",
      "IPU available: False, using: 0 IPUs\n",
      "HPU available: False, using: 0 HPUs\n",
      "LOCAL_RANK: 0 - CUDA_VISIBLE_DEVICES: [1]\n"
     ]
    },
    {
     "name": "stdout",
     "output_type": "stream",
     "text": [
      "Current value: 19.96247911545715, Current params: {'input_chunk_length': 180, 'kernel_size': 2, 'num_filters': 1, 'num_layers': 3, 'dilation_base': 2, 'dropout': 0.2}\n",
      "Best value: 12.77039122701725, Best params: {'input_chunk_length': 180, 'kernel_size': 3, 'num_filters': 1, 'num_layers': 3, 'dilation_base': 2, 'dropout': 0.3}\n"
     ]
    },
    {
     "name": "stderr",
     "output_type": "stream",
     "text": [
      "`Trainer.fit` stopped: `max_epochs=400` reached.\n",
      "GPU available: True (cuda), used: True\n",
      "TPU available: False, using: 0 TPU cores\n",
      "IPU available: False, using: 0 IPUs\n",
      "HPU available: False, using: 0 HPUs\n",
      "LOCAL_RANK: 0 - CUDA_VISIBLE_DEVICES: [1]\n"
     ]
    },
    {
     "data": {
      "application/vnd.jupyter.widget-view+json": {
       "model_id": "ceada38135da4d879f7a65c0fd77b43c",
       "version_major": 2,
       "version_minor": 0
      },
      "text/plain": [
       "Predicting: 0it [00:00, ?it/s]"
      ]
     },
     "metadata": {},
     "output_type": "display_data"
    },
    {
     "name": "stderr",
     "output_type": "stream",
     "text": [
      "[I 2023-06-22 21:57:03,633] Trial 98 finished with value: 28.707738794222703 and parameters: {'input_chunk_length': 31, 'kernel_size': 3, 'num_filters': 1, 'num_layers': 2, 'dilation_base': 2, 'dropout': 0.3}. Best is trial 59 with value: 12.77039122701725.\n",
      "GPU available: True (cuda), used: True\n",
      "TPU available: False, using: 0 TPU cores\n",
      "IPU available: False, using: 0 IPUs\n",
      "HPU available: False, using: 0 HPUs\n",
      "LOCAL_RANK: 0 - CUDA_VISIBLE_DEVICES: [1]\n"
     ]
    },
    {
     "name": "stdout",
     "output_type": "stream",
     "text": [
      "Current value: 28.707738794222703, Current params: {'input_chunk_length': 31, 'kernel_size': 3, 'num_filters': 1, 'num_layers': 2, 'dilation_base': 2, 'dropout': 0.3}\n",
      "Best value: 12.77039122701725, Best params: {'input_chunk_length': 180, 'kernel_size': 3, 'num_filters': 1, 'num_layers': 3, 'dilation_base': 2, 'dropout': 0.3}\n"
     ]
    },
    {
     "name": "stderr",
     "output_type": "stream",
     "text": [
      "`Trainer.fit` stopped: `max_epochs=400` reached.\n",
      "GPU available: True (cuda), used: True\n",
      "TPU available: False, using: 0 TPU cores\n",
      "IPU available: False, using: 0 IPUs\n",
      "HPU available: False, using: 0 HPUs\n",
      "LOCAL_RANK: 0 - CUDA_VISIBLE_DEVICES: [1]\n"
     ]
    },
    {
     "data": {
      "application/vnd.jupyter.widget-view+json": {
       "model_id": "e4ee7eec02e1406a9163da25635eca5d",
       "version_major": 2,
       "version_minor": 0
      },
      "text/plain": [
       "Predicting: 0it [00:00, ?it/s]"
      ]
     },
     "metadata": {},
     "output_type": "display_data"
    },
    {
     "name": "stderr",
     "output_type": "stream",
     "text": [
      "[I 2023-06-22 21:58:13,672] Trial 99 finished with value: 156.4371673831797 and parameters: {'input_chunk_length': 60, 'kernel_size': 3, 'num_filters': 3, 'num_layers': None, 'dilation_base': 1, 'dropout': 0.1}. Best is trial 59 with value: 12.77039122701725.\n"
     ]
    },
    {
     "name": "stdout",
     "output_type": "stream",
     "text": [
      "Current value: 156.4371673831797, Current params: {'input_chunk_length': 60, 'kernel_size': 3, 'num_filters': 3, 'num_layers': None, 'dilation_base': 1, 'dropout': 0.1}\n",
      "Best value: 12.77039122701725, Best params: {'input_chunk_length': 180, 'kernel_size': 3, 'num_filters': 1, 'num_layers': 3, 'dilation_base': 2, 'dropout': 0.3}\n",
      "Best value: 12.77039122701725, Best params: {'input_chunk_length': 180, 'kernel_size': 3, 'num_filters': 1, 'num_layers': 3, 'dilation_base': 2, 'dropout': 0.3}\n"
     ]
    }
   ],
   "source": [
    "def print_callback(study, trial):\n",
    "    print(f\"Current value: {trial.value}, Current params: {trial.params}\")\n",
    "    print(f\"Best value: {study.best_value}, Best params: {study.best_trial.params}\")\n",
    "\n",
    "\n",
    "study = optuna.create_study(direction=\"minimize\")\n",
    "\n",
    "study.optimize(objective, n_trials=100, callbacks=[print_callback])\n",
    "\n",
    "# We could also have used a command as follows to limit the number of trials instead:\n",
    "# study.optimize(objective, n_trials=100, callbacks=[print_callback])\n",
    "\n",
    "# Finally, print the best value and best hyperparameters:\n",
    "print(f\"Best value: {study.best_value}, Best params: {study.best_trial.params}\")"
   ]
  },
  {
   "cell_type": "markdown",
   "id": "c3a3d2f0-c001-4ab6-8853-d949b7d2347f",
   "metadata": {},
   "source": [
    "Now, looking at a model trained on these final hyperpameters"
   ]
  },
  {
   "cell_type": "code",
   "execution_count": 39,
   "id": "35391944-d1e9-485e-9102-ce9d0dd7223b",
   "metadata": {},
   "outputs": [],
   "source": [
    "val_split = pd.Timestamp(year=2023, month=6, day=1)\n",
    "training_set, validation_set = inputs.split_before(val_split)"
   ]
  },
  {
   "cell_type": "code",
   "execution_count": 40,
   "id": "d4b2a715-52e3-4c8d-a8b6-021120ce7c1f",
   "metadata": {},
   "outputs": [
    {
     "name": "stderr",
     "output_type": "stream",
     "text": [
      "GPU available: True (cuda), used: True\n",
      "TPU available: False, using: 0 TPU cores\n",
      "IPU available: False, using: 0 IPUs\n",
      "HPU available: False, using: 0 HPUs\n",
      "LOCAL_RANK: 0 - CUDA_VISIBLE_DEVICES: [1]\n",
      "`Trainer.fit` stopped: `max_epochs=400` reached.\n"
     ]
    },
    {
     "name": "stdout",
     "output_type": "stream",
     "text": [
      "60.63168168067932\n"
     ]
    }
   ],
   "source": [
    "import time\n",
    "start = time.time()\n",
    "final_model = TCNModel(input_chunk_length=180,\n",
    "                                kernel_size=3,\n",
    "                                num_filters=1,\n",
    "                                num_layers=3,\n",
    "                                dilation_base=2,\n",
    "                                output_chunk_length=30,\n",
    "                                likelihood=QuantileRegression([0.05, 0.1, 0.5, 0.9, 0.95]),\n",
    "                                random_state=0)\n",
    "    \n",
    "final_model.fit(training_set,\n",
    "                past_covariates=covs,\n",
    "                epochs=400, \n",
    "                verbose=False)\n",
    "print(time.time()-start)"
   ]
  },
  {
   "cell_type": "markdown",
   "id": "cb876343-53a0-465f-984d-2516db6a127f",
   "metadata": {},
   "source": [
    "Plotting,"
   ]
  },
  {
   "cell_type": "code",
   "execution_count": 41,
   "id": "8ce06245-b4cc-4764-8a6f-eca6913b38d1",
   "metadata": {},
   "outputs": [
    {
     "name": "stderr",
     "output_type": "stream",
     "text": [
      "GPU available: True (cuda), used: True\n",
      "TPU available: False, using: 0 TPU cores\n",
      "IPU available: False, using: 0 IPUs\n",
      "HPU available: False, using: 0 HPUs\n",
      "LOCAL_RANK: 0 - CUDA_VISIBLE_DEVICES: [1]\n"
     ]
    },
    {
     "data": {
      "application/vnd.jupyter.widget-view+json": {
       "model_id": "1a2626ef37804c4dbe5842eba33eb523",
       "version_major": 2,
       "version_minor": 0
      },
      "text/plain": [
       "Predicting: 0it [00:00, ?it/s]"
      ]
     },
     "metadata": {},
     "output_type": "display_data"
    },
    {
     "data": {
      "image/png": "[encoded data removed]",
      "text/plain": [
       "<Figure size 640x480 with 1 Axes>"
      ]
     },
     "metadata": {},
     "output_type": "display_data"
    }
   ],
   "source": [
    "plt.clf()\n",
    "preds = final_model.predict(n=30,\n",
    "                            past_covariates=covs, \n",
    "                            num_samples=500)\n",
    "preds[:18].plot(color=\"blue\", label=\"forecast\")\n",
    "validation_set.plot(color=\"black\", label=\"observed\")\n",
    "plt.show()"
   ]
  },
  {
   "cell_type": "code",
   "execution_count": 42,
   "id": "5060bcdb-8e2d-4375-8e8f-2091739d7b3c",
   "metadata": {},
   "outputs": [
    {
     "name": "stderr",
     "output_type": "stream",
     "text": [
      "You are transforming a stochastic TimeSeries (i.e., contains several samples). The resulting DataFrame is a 2D object with all samples on the columns. If this is not the expected behavior consider calling a function adapted to stochastic TimeSeries like quantile_df().\n"
     ]
    }
   ],
   "source": [
    "preds[:18].pd_dataframe().to_csv(\"predicted_direct_example.csv\")"
   ]
  },
  {
   "cell_type": "code",
   "execution_count": null,
   "id": "8a9c6930-5623-47da-a17a-1763aed23b98",
   "metadata": {},
   "outputs": [],
   "source": []
  }
 ],
 "metadata": {
  "kernelspec": {
   "display_name": "Python 3 (ipykernel)",
   "language": "python",
   "name": "python3"
  },
  "language_info": {
   "codemirror_mode": {
    "name": "ipython",
    "version": 3
   },
   "file_extension": ".py",
   "mimetype": "text/x-python",
   "name": "python",
   "nbconvert_exporter": "python",
   "pygments_lexer": "ipython3",
   "version": "3.10.6"
  }
 },
 "nbformat": 4,
 "nbformat_minor": 5
}
