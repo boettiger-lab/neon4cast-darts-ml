{
 "cells": [
  {
   "cell_type": "code",
   "execution_count": 11,
   "id": "aaa16ac0-6d98-4768-961c-574f862c57da",
   "metadata": {},
   "outputs": [],
   "source": [
    "from darts import TimeSeries\n",
    "import pandas as pd\n",
    "import matplotlib.pyplot as plt\n",
    "import pandas as pd\n",
    "from darts.models import GaussianProcessFilter\n",
    "from darts import TimeSeries\n",
    "from sklearn.gaussian_process.kernels import RBF\n",
    "from darts.models import BlockRNNModel\n",
    "from darts.utils.likelihood_models import QuantileRegression\n",
    "from darts.dataprocessing.transformers import Scaler\n",
    "from darts.metrics import smape\n",
    "import numpy as np\n",
    "import ray\n",
    "import os\n",
    "import optuna \n",
    "from darts.models import TCNModel\n",
    "\n",
    "os.environ[\"CUDA_VISIBLE_DEVICES\"] = \"1\"\n",
    "df = pd.read_csv(\"aquatics-ARIK-oxygen-Predicted.csv\")"
   ]
  },
  {
   "cell_type": "markdown",
   "id": "f06da11d-23bf-4d0b-8190-2aacc53b9127",
   "metadata": {},
   "source": [
    "This notebook is definitely a mess at the moment as it is the main place where I did my scratch work here. But gist is that I am training a model the residuals of a deterministic forecast. Then forecasting the residuals which will modify this original deterministic forecast model. Note that the original model need not be deterministic."
   ]
  },
  {
   "cell_type": "code",
   "execution_count": 2,
   "id": "d3568158-c2b8-47e8-a2ce-7d8d219edff0",
   "metadata": {},
   "outputs": [
    {
     "data": {
      "text/html": [
       "<div>\n",
       "<style scoped>\n",
       "    .dataframe tbody tr th:only-of-type {\n",
       "        vertical-align: middle;\n",
       "    }\n",
       "\n",
       "    .dataframe tbody tr th {\n",
       "        vertical-align: top;\n",
       "    }\n",
       "\n",
       "    .dataframe thead th {\n",
       "        text-align: right;\n",
       "    }\n",
       "</style>\n",
       "<table border=\"1\" class=\"dataframe\">\n",
       "  <thead>\n",
       "    <tr style=\"text-align: right;\">\n",
       "      <th></th>\n",
       "      <th>datetime</th>\n",
       "      <th>.pred</th>\n",
       "      <th>oxygen</th>\n",
       "      <th>air_temperature</th>\n",
       "      <th>surface_downwelling_longwave_flux_in_air</th>\n",
       "      <th>surface_downwelling_shortwave_flux_in_air</th>\n",
       "      <th>precipitation_flux</th>\n",
       "      <th>air_pressure</th>\n",
       "      <th>relative_humidity</th>\n",
       "      <th>northward_wind</th>\n",
       "      <th>eastward_wind</th>\n",
       "    </tr>\n",
       "  </thead>\n",
       "  <tbody>\n",
       "    <tr>\n",
       "      <th>0</th>\n",
       "      <td>2020-11-02</td>\n",
       "      <td>6.526266</td>\n",
       "      <td>6.119156</td>\n",
       "      <td>13.359830</td>\n",
       "      <td>272.077880</td>\n",
       "      <td>162.629032</td>\n",
       "      <td>0.0</td>\n",
       "      <td>88821.367692</td>\n",
       "      <td>0.309830</td>\n",
       "      <td>2.668139</td>\n",
       "      <td>0.257750</td>\n",
       "    </tr>\n",
       "    <tr>\n",
       "      <th>1</th>\n",
       "      <td>2020-11-03</td>\n",
       "      <td>6.075640</td>\n",
       "      <td>5.877618</td>\n",
       "      <td>16.389842</td>\n",
       "      <td>278.678338</td>\n",
       "      <td>158.225806</td>\n",
       "      <td>0.0</td>\n",
       "      <td>88163.690199</td>\n",
       "      <td>0.241677</td>\n",
       "      <td>2.488065</td>\n",
       "      <td>1.287034</td>\n",
       "    </tr>\n",
       "    <tr>\n",
       "      <th>2</th>\n",
       "      <td>2020-11-04</td>\n",
       "      <td>5.625103</td>\n",
       "      <td>5.172174</td>\n",
       "      <td>18.337971</td>\n",
       "      <td>304.047355</td>\n",
       "      <td>151.000000</td>\n",
       "      <td>0.0</td>\n",
       "      <td>88007.810631</td>\n",
       "      <td>0.242501</td>\n",
       "      <td>3.420230</td>\n",
       "      <td>-2.225313</td>\n",
       "    </tr>\n",
       "    <tr>\n",
       "      <th>3</th>\n",
       "      <td>2020-11-05</td>\n",
       "      <td>5.607800</td>\n",
       "      <td>5.053873</td>\n",
       "      <td>16.067992</td>\n",
       "      <td>282.212475</td>\n",
       "      <td>153.540323</td>\n",
       "      <td>0.0</td>\n",
       "      <td>88587.113575</td>\n",
       "      <td>0.278865</td>\n",
       "      <td>1.365854</td>\n",
       "      <td>-0.820159</td>\n",
       "    </tr>\n",
       "    <tr>\n",
       "      <th>4</th>\n",
       "      <td>2020-11-06</td>\n",
       "      <td>5.341532</td>\n",
       "      <td>5.348101</td>\n",
       "      <td>17.385899</td>\n",
       "      <td>280.930195</td>\n",
       "      <td>143.596774</td>\n",
       "      <td>0.0</td>\n",
       "      <td>87818.473118</td>\n",
       "      <td>0.250312</td>\n",
       "      <td>1.305135</td>\n",
       "      <td>6.879596</td>\n",
       "    </tr>\n",
       "  </tbody>\n",
       "</table>\n",
       "</div>"
      ],
      "text/plain": [
       "     datetime     .pred    oxygen  air_temperature  \\\n",
       "0  2020-11-02  6.526266  6.119156        13.359830   \n",
       "1  2020-11-03  6.075640  5.877618        16.389842   \n",
       "2  2020-11-04  5.625103  5.172174        18.337971   \n",
       "3  2020-11-05  5.607800  5.053873        16.067992   \n",
       "4  2020-11-06  5.341532  5.348101        17.385899   \n",
       "\n",
       "   surface_downwelling_longwave_flux_in_air  \\\n",
       "0                                272.077880   \n",
       "1                                278.678338   \n",
       "2                                304.047355   \n",
       "3                                282.212475   \n",
       "4                                280.930195   \n",
       "\n",
       "   surface_downwelling_shortwave_flux_in_air  precipitation_flux  \\\n",
       "0                                 162.629032                 0.0   \n",
       "1                                 158.225806                 0.0   \n",
       "2                                 151.000000                 0.0   \n",
       "3                                 153.540323                 0.0   \n",
       "4                                 143.596774                 0.0   \n",
       "\n",
       "   air_pressure  relative_humidity  northward_wind  eastward_wind  \n",
       "0  88821.367692           0.309830        2.668139       0.257750  \n",
       "1  88163.690199           0.241677        2.488065       1.287034  \n",
       "2  88007.810631           0.242501        3.420230      -2.225313  \n",
       "3  88587.113575           0.278865        1.365854      -0.820159  \n",
       "4  87818.473118           0.250312        1.305135       6.879596  "
      ]
     },
     "execution_count": 2,
     "metadata": {},
     "output_type": "execute_result"
    }
   ],
   "source": [
    "df.head()"
   ]
  },
  {
   "cell_type": "markdown",
   "id": "8888d233-9033-447c-8e43-23fa6c0f6644",
   "metadata": {},
   "source": [
    "Doing preprocessing here to fill in gaps in data."
   ]
  },
  {
   "cell_type": "code",
   "execution_count": 3,
   "id": "95073555-b8c7-4385-8937-0f061ad3371b",
   "metadata": {},
   "outputs": [],
   "source": [
    "import pandas as pd\n",
    "from darts.models import GaussianProcessFilter\n",
    "from darts import TimeSeries\n",
    "from sklearn.gaussian_process.kernels import RBF\n",
    "from darts.models import BlockRNNModel\n",
    "from darts.utils.likelihood_models import LaplaceLikelihood\n",
    "from darts.dataprocessing.transformers import Scaler\n",
    "import ray\n",
    "\n",
    "def make_stitched_series(variable_tseries):\n",
    "    \"\"\"\n",
    "    Returns a dictionary {\"variable\": stitched time series of variable}\n",
    "    \"\"\"\n",
    "    kernel = RBF()\n",
    "    \n",
    "    gpf_missing = GaussianProcessFilter(kernel=kernel, \n",
    "                                        alpha=0.001, \n",
    "                                        n_restarts_optimizer=100)\n",
    "    \n",
    "    gpf_missing_big_gaps = GaussianProcessFilter(kernel=kernel, \n",
    "                                                 alpha=2, \n",
    "                                                 n_restarts_optimizer=10)\n",
    "    stitched_series = {}\n",
    "\n",
    "    # Filtering the TimeSeries\n",
    "    try:\n",
    "        filtered = gpf_missing.filter(variable_tseries, num_samples=500)\n",
    "        filtered_big_gaps = gpf_missing_big_gaps.filter(variable_tseries, \n",
    "                                                        num_samples=500)\n",
    "    except:\n",
    "        return None\n",
    "\n",
    "    #if there is a gap over 7 indices, use big gap filter\n",
    "    gap_series = variable_tseries.gaps()\n",
    "    stitched_df = filtered.pd_dataframe()\n",
    "    replacement_df = filtered_big_gaps.pd_dataframe()\n",
    "    \n",
    "    for index, row in gap_series.iterrows():\n",
    "        if row[\"gap_size\"] > 7:\n",
    "            for date in pd.date_range(row[\"gap_start\"], row[\"gap_end\"]):\n",
    "                stitched_df.loc[date] = replacement_df.loc[date]\n",
    "    \n",
    "    stitched_series = TimeSeries.from_times_and_values(\n",
    "                                stitched_df.index, \n",
    "                                stitched_df.values.reshape(\n",
    "                                            len(stitched_df), \n",
    "                                            1, \n",
    "                                            -1))\n",
    "    \n",
    "    return stitched_series"
   ]
  },
  {
   "cell_type": "code",
   "execution_count": 4,
   "id": "92de2557-c0ef-4109-86a3-1dcb2e96aa74",
   "metadata": {},
   "outputs": [],
   "source": [
    "times = pd.to_datetime(df[\"datetime\"])\n",
    "times = pd.DatetimeIndex(times)\n",
    "oxy_tseries = TimeSeries.from_times_and_values(times, df[\"oxygen\"], fill_missing_dates=True, freq=\"D\")\n",
    "predictions_tseries = TimeSeries.from_times_and_values(times, df[\".pred\"], fill_missing_dates=True, freq=\"D\")"
   ]
  },
  {
   "cell_type": "code",
   "execution_count": 5,
   "id": "96a00317-409e-4870-a536-50b77491c315",
   "metadata": {},
   "outputs": [],
   "source": [
    "covs_dict = {}\n",
    "for cov in df.columns[3:]:\n",
    "    covs_dict[cov] = TimeSeries.from_times_and_values(times, df[cov], fill_missing_dates=True, freq=\"D\")"
   ]
  },
  {
   "cell_type": "code",
   "execution_count": 6,
   "id": "ca623954-d10e-446a-9ced-dfd352e64b4c",
   "metadata": {},
   "outputs": [],
   "source": [
    "def make_cov_plot(cov, covs_dict):\n",
    "    plt.clf()\n",
    "    covs_dict[cov].plot(label=f\"{cov}\")\n",
    "    plt.show()"
   ]
  },
  {
   "cell_type": "code",
   "execution_count": 7,
   "id": "e363e162-aa11-4ad1-8438-d5fbfea7e2d6",
   "metadata": {
    "scrolled": true
   },
   "outputs": [
    {
     "name": "stderr",
     "output_type": "stream",
     "text": [
      "You are transforming a stochastic TimeSeries (i.e., contains several samples). The resulting DataFrame is a 2D object with all samples on the columns. If this is not the expected behavior consider calling a function adapted to stochastic TimeSeries like quantile_df().\n",
      "You are transforming a stochastic TimeSeries (i.e., contains several samples). The resulting DataFrame is a 2D object with all samples on the columns. If this is not the expected behavior consider calling a function adapted to stochastic TimeSeries like quantile_df().\n",
      "You are transforming a stochastic TimeSeries (i.e., contains several samples). The resulting DataFrame is a 2D object with all samples on the columns. If this is not the expected behavior consider calling a function adapted to stochastic TimeSeries like quantile_df().\n",
      "You are transforming a stochastic TimeSeries (i.e., contains several samples). The resulting DataFrame is a 2D object with all samples on the columns. If this is not the expected behavior consider calling a function adapted to stochastic TimeSeries like quantile_df().\n",
      "You are transforming a stochastic TimeSeries (i.e., contains several samples). The resulting DataFrame is a 2D object with all samples on the columns. If this is not the expected behavior consider calling a function adapted to stochastic TimeSeries like quantile_df().\n",
      "You are transforming a stochastic TimeSeries (i.e., contains several samples). The resulting DataFrame is a 2D object with all samples on the columns. If this is not the expected behavior consider calling a function adapted to stochastic TimeSeries like quantile_df().\n",
      "/home/rstudio/.local/lib/python3.10/site-packages/sklearn/gaussian_process/_gpr.py:629: ConvergenceWarning: lbfgs failed to converge (status=2):\n",
      "ABNORMAL_TERMINATION_IN_LNSRCH.\n",
      "\n",
      "Increase the number of iterations (max_iter) or scale the data as shown in:\n",
      "    https://scikit-learn.org/stable/modules/preprocessing.html\n",
      "  _check_optimize_result(\"lbfgs\", opt_res)\n",
      "You are transforming a stochastic TimeSeries (i.e., contains several samples). The resulting DataFrame is a 2D object with all samples on the columns. If this is not the expected behavior consider calling a function adapted to stochastic TimeSeries like quantile_df().\n",
      "You are transforming a stochastic TimeSeries (i.e., contains several samples). The resulting DataFrame is a 2D object with all samples on the columns. If this is not the expected behavior consider calling a function adapted to stochastic TimeSeries like quantile_df().\n",
      "You are transforming a stochastic TimeSeries (i.e., contains several samples). The resulting DataFrame is a 2D object with all samples on the columns. If this is not the expected behavior consider calling a function adapted to stochastic TimeSeries like quantile_df().\n",
      "You are transforming a stochastic TimeSeries (i.e., contains several samples). The resulting DataFrame is a 2D object with all samples on the columns. If this is not the expected behavior consider calling a function adapted to stochastic TimeSeries like quantile_df().\n",
      "/home/rstudio/.local/lib/python3.10/site-packages/sklearn/gaussian_process/kernels.py:430: ConvergenceWarning: The optimal value found for dimension 0 of parameter length_scale is close to the specified upper bound 100000.0. Increasing the bound and calling fit again may find a better value.\n",
      "  warnings.warn(\n",
      "/home/rstudio/.local/lib/python3.10/site-packages/sklearn/gaussian_process/kernels.py:430: ConvergenceWarning: The optimal value found for dimension 0 of parameter length_scale is close to the specified upper bound 100000.0. Increasing the bound and calling fit again may find a better value.\n",
      "  warnings.warn(\n",
      "You are transforming a stochastic TimeSeries (i.e., contains several samples). The resulting DataFrame is a 2D object with all samples on the columns. If this is not the expected behavior consider calling a function adapted to stochastic TimeSeries like quantile_df().\n",
      "You are transforming a stochastic TimeSeries (i.e., contains several samples). The resulting DataFrame is a 2D object with all samples on the columns. If this is not the expected behavior consider calling a function adapted to stochastic TimeSeries like quantile_df().\n",
      "/home/rstudio/.local/lib/python3.10/site-packages/sklearn/gaussian_process/kernels.py:430: ConvergenceWarning: The optimal value found for dimension 0 of parameter length_scale is close to the specified upper bound 100000.0. Increasing the bound and calling fit again may find a better value.\n",
      "  warnings.warn(\n",
      "You are transforming a stochastic TimeSeries (i.e., contains several samples). The resulting DataFrame is a 2D object with all samples on the columns. If this is not the expected behavior consider calling a function adapted to stochastic TimeSeries like quantile_df().\n",
      "You are transforming a stochastic TimeSeries (i.e., contains several samples). The resulting DataFrame is a 2D object with all samples on the columns. If this is not the expected behavior consider calling a function adapted to stochastic TimeSeries like quantile_df().\n",
      "/home/rstudio/.local/lib/python3.10/site-packages/sklearn/gaussian_process/kernels.py:430: ConvergenceWarning: The optimal value found for dimension 0 of parameter length_scale is close to the specified upper bound 100000.0. Increasing the bound and calling fit again may find a better value.\n",
      "  warnings.warn(\n",
      "You are transforming a stochastic TimeSeries (i.e., contains several samples). The resulting DataFrame is a 2D object with all samples on the columns. If this is not the expected behavior consider calling a function adapted to stochastic TimeSeries like quantile_df().\n",
      "You are transforming a stochastic TimeSeries (i.e., contains several samples). The resulting DataFrame is a 2D object with all samples on the columns. If this is not the expected behavior consider calling a function adapted to stochastic TimeSeries like quantile_df().\n",
      "You are transforming a stochastic TimeSeries (i.e., contains several samples). The resulting DataFrame is a 2D object with all samples on the columns. If this is not the expected behavior consider calling a function adapted to stochastic TimeSeries like quantile_df().\n",
      "You are transforming a stochastic TimeSeries (i.e., contains several samples). The resulting DataFrame is a 2D object with all samples on the columns. If this is not the expected behavior consider calling a function adapted to stochastic TimeSeries like quantile_df().\n",
      "You are transforming a stochastic TimeSeries (i.e., contains several samples). The resulting DataFrame is a 2D object with all samples on the columns. If this is not the expected behavior consider calling a function adapted to stochastic TimeSeries like quantile_df().\n",
      "You are transforming a stochastic TimeSeries (i.e., contains several samples). The resulting DataFrame is a 2D object with all samples on the columns. If this is not the expected behavior consider calling a function adapted to stochastic TimeSeries like quantile_df().\n"
     ]
    }
   ],
   "source": [
    "filtered_covs_dict = {}\n",
    "predictions_filtered = make_stitched_series(predictions_tseries)\n",
    "oxy_tseries_filtered = make_stitched_series(oxy_tseries)\n",
    "for key in covs_dict.keys():\n",
    "    filtered_covs_dict[key] = make_stitched_series(covs_dict[key])"
   ]
  },
  {
   "cell_type": "code",
   "execution_count": null,
   "id": "0fff456b-87e1-496c-9607-bd1467b2d0d2",
   "metadata": {},
   "outputs": [],
   "source": [
    "covs_dict.keys()"
   ]
  },
  {
   "cell_type": "markdown",
   "id": "f75ae0f8-e85f-438e-b076-3d71797f6832",
   "metadata": {},
   "source": [
    "Just checking in on some of the filtered covariate time series."
   ]
  },
  {
   "cell_type": "code",
   "execution_count": 9,
   "id": "624fc372-c08b-48ed-80fa-19d66e6298cb",
   "metadata": {},
   "outputs": [
    {
     "data": {
      "image/png": "[encoded data removed]",
      "text/plain": [
       "<Figure size 640x480 with 1 Axes>"
      ]
     },
     "metadata": {},
     "output_type": "display_data"
    }
   ],
   "source": [
    "plt.clf()\n",
    "filtered_covs_dict[\"eastward_wind\"].plot(label=\"filtered\")\n",
    "covs_dict[\"eastward_wind\"].plot(label=\"true\")\n",
    "plt.show()"
   ]
  },
  {
   "cell_type": "markdown",
   "id": "ec053e6c-53cf-4520-a262-3de1f06f2849",
   "metadata": {},
   "source": [
    "Now below here, I was doing a lot of jumping around, but here on I am forecasting residuals, examining my predictions and modifying the original forecast."
   ]
  },
  {
   "cell_type": "code",
   "execution_count": 78,
   "id": "0cdf141f-d6cf-47a9-8990-a1eac1b1fe0a",
   "metadata": {},
   "outputs": [],
   "source": [
    "inputs = predictions_filtered-oxy_tseries_filtered\n",
    "# For covariates here we have [predictions, observed oxygen, air temperature]\n",
    "covs = predictions_filtered.concatenate(oxy_tseries_filtered, axis=1, ignore_time_axis=True)\n",
    "covs = covs.concatenate(filtered_covs_dict[\"air_temperature\"], axis=1, ignore_time_axis=True)\n",
    "\n",
    "val_split = pd.Timestamp(year=2023, month=6, day=18)\n",
    "training_set, validation_set = inputs.split_before(val_split)"
   ]
  },
  {
   "cell_type": "code",
   "execution_count": 26,
   "id": "3f8f4f34-a891-45b3-a55f-26ec590aea8a",
   "metadata": {},
   "outputs": [
    {
     "name": "stderr",
     "output_type": "stream",
     "text": [
      "GPU available: True (cuda), used: True\n",
      "TPU available: False, using: 0 TPU cores\n",
      "IPU available: False, using: 0 IPUs\n",
      "HPU available: False, using: 0 HPUs\n",
      "LOCAL_RANK: 0 - CUDA_VISIBLE_DEVICES: [1]\n",
      "`Trainer.fit` stopped: `max_epochs=500` reached.\n"
     ]
    },
    {
     "name": "stdout",
     "output_type": "stream",
     "text": [
      "682.7718353271484\n"
     ]
    }
   ],
   "source": [
    "import time\n",
    "start = time.time()\n",
    "rnn = BlockRNNModel(model=\"LSTM\",\n",
    "                    hidden_dim=256,\n",
    "                    batch_size=8,\n",
    "                    input_chunk_length=15,\n",
    "                    output_chunk_length=34,\n",
    "                    likelihood=QuantileRegression([0.05, 0.1, 0.5, 0.9, 0.95]),\n",
    "                    optimizer_kwargs={\"lr\": 1e-4},\n",
    "                    n_rnn_layers=3,\n",
    "                    random_state=0)\n",
    "    \n",
    "rnn.fit(training_set,\n",
    "        past_covariates=covs,\n",
    "        epochs=500, \n",
    "        verbose=False)\n",
    "print(time.time()-start)"
   ]
  },
  {
   "cell_type": "code",
   "execution_count": 27,
   "id": "6566f43a-35a4-4b63-8bf0-49ea66694589",
   "metadata": {},
   "outputs": [
    {
     "name": "stderr",
     "output_type": "stream",
     "text": [
      "GPU available: True (cuda), used: True\n",
      "TPU available: False, using: 0 TPU cores\n",
      "IPU available: False, using: 0 IPUs\n",
      "HPU available: False, using: 0 HPUs\n",
      "LOCAL_RANK: 0 - CUDA_VISIBLE_DEVICES: [1]\n"
     ]
    },
    {
     "data": {
      "application/vnd.jupyter.widget-view+json": {
       "model_id": "0d2924a8694943ac929b8ec9df93c2a6",
       "version_major": 2,
       "version_minor": 0
      },
      "text/plain": [
       "Predicting: 0it [00:00, ?it/s]"
      ]
     },
     "metadata": {},
     "output_type": "display_data"
    },
    {
     "data": {
      "image/png": "[encoded data removed]",
      "text/plain": [
       "<Figure size 640x480 with 1 Axes>"
      ]
     },
     "metadata": {},
     "output_type": "display_data"
    }
   ],
   "source": [
    "plt.clf()\n",
    "preds = rnn.predict(n=30,\n",
    "                    past_covariates=covs, \n",
    "                    num_samples=50)\n",
    "preds.plot(label=\"forecast\")\n",
    "validation_set.plot(label=\"truth\")\n",
    "plt.show()"
   ]
  },
  {
   "cell_type": "code",
   "execution_count": 80,
   "id": "c8f826b9-0434-48be-891d-f29596f8862b",
   "metadata": {},
   "outputs": [
    {
     "name": "stderr",
     "output_type": "stream",
     "text": [
      "GPU available: True (cuda), used: True\n",
      "TPU available: False, using: 0 TPU cores\n",
      "IPU available: False, using: 0 IPUs\n",
      "HPU available: False, using: 0 HPUs\n",
      "LOCAL_RANK: 0 - CUDA_VISIBLE_DEVICES: [1]\n",
      "`Trainer.fit` stopped: `max_epochs=500` reached.\n"
     ]
    },
    {
     "name": "stdout",
     "output_type": "stream",
     "text": [
      "92.09227752685547\n"
     ]
    }
   ],
   "source": [
    "start = time.time()\n",
    "tcn = TCNModel(input_chunk_length=35,\n",
    "               output_chunk_length=34,\n",
    "               likelihood=QuantileRegression([0.05, 0.1, 0.5, 0.9, 0.95]),\n",
    "               random_state=0)\n",
    "    \n",
    "tcn.fit(training_set,\n",
    "        past_covariates=covs,\n",
    "        epochs=500, \n",
    "        verbose=False)\n",
    "print(time.time()-start)"
   ]
  },
  {
   "cell_type": "code",
   "execution_count": 81,
   "id": "a0304b8f-7c28-48d2-a25e-f4e3bf6f6772",
   "metadata": {},
   "outputs": [
    {
     "name": "stderr",
     "output_type": "stream",
     "text": [
      "GPU available: True (cuda), used: True\n",
      "TPU available: False, using: 0 TPU cores\n",
      "IPU available: False, using: 0 IPUs\n",
      "HPU available: False, using: 0 HPUs\n",
      "LOCAL_RANK: 0 - CUDA_VISIBLE_DEVICES: [1]\n"
     ]
    },
    {
     "data": {
      "application/vnd.jupyter.widget-view+json": {
       "model_id": "a37689eeb42343f481fd36d77fc02f41",
       "version_major": 2,
       "version_minor": 0
      },
      "text/plain": [
       "Predicting: 0it [00:00, ?it/s]"
      ]
     },
     "metadata": {},
     "output_type": "display_data"
    },
    {
     "data": {
      "image/png": "[encoded data removed]",
      "text/plain": [
       "<Figure size 640x480 with 1 Axes>"
      ]
     },
     "metadata": {},
     "output_type": "display_data"
    }
   ],
   "source": [
    "plt.clf()\n",
    "preds = tcn.predict(n=34,\n",
    "                    past_covariates=covs, \n",
    "                    num_samples=500)\n",
    "preds.plot(label=\"forecast\")\n",
    "#validation_set.plot(label=\"truth\")\n",
    "plt.show()"
   ]
  },
  {
   "cell_type": "code",
   "execution_count": 86,
   "id": "889f47ed-5f35-4aac-a57a-06b94ae4d92c",
   "metadata": {},
   "outputs": [
    {
     "name": "stderr",
     "output_type": "stream",
     "text": [
      "You are transforming a stochastic TimeSeries (i.e., contains several samples). The resulting DataFrame is a 2D object with all samples on the columns. If this is not the expected behavior consider calling a function adapted to stochastic TimeSeries like quantile_df().\n"
     ]
    }
   ],
   "source": [
    "preds.pd_dataframe().to_csv(\"predicted_residuals_2023_06_21.csv\")"
   ]
  },
  {
   "cell_type": "code",
   "execution_count": 17,
   "id": "b49fdcbc-9296-413c-99c0-bb0c7dd08f80",
   "metadata": {},
   "outputs": [],
   "source": [
    "val_split = pd.Timestamp(year=2023, month=6, day=1)\n",
    "_, oxy_val = oxy_tseries_filtered.split_before(val_split)\n",
    "_, predictions_val = predictions_filtered.split_before(val_split)"
   ]
  },
  {
   "cell_type": "code",
   "execution_count": 60,
   "id": "2c9b3385-2104-43a2-8da6-a7e83a858ded",
   "metadata": {},
   "outputs": [
    {
     "data": {
      "image/png": "[encoded data removed]",
      "text/plain": [
       "<Figure size 640x480 with 1 Axes>"
      ]
     },
     "metadata": {},
     "output_type": "display_data"
    }
   ],
   "source": [
    "plt.clf()\n",
    "predictions_val.plot(color=\"orange\", label=\"unadjusted_forecast\")\n",
    "#(predictions_val-preds[:18]).plot(color=\"blue\", label=\"adjusted_forecast\")\n",
    "oxy_val.plot(color=\"black\", label=\"observed\")\n",
    "plt.show()"
   ]
  },
  {
   "cell_type": "code",
   "execution_count": 61,
   "id": "d284c3ef-3071-48dc-9b6a-6aadcaaaee4c",
   "metadata": {},
   "outputs": [
    {
     "data": {
      "image/png": "[encoded data removed]",
      "text/plain": [
       "<Figure size 640x480 with 1 Axes>"
      ]
     },
     "metadata": {},
     "output_type": "display_data"
    }
   ],
   "source": [
    "plt.clf()\n",
    "(predictions_val-preds[:18]).plot(color=\"blue\", label=\"adjusted_forecast\")\n",
    "oxy_val.plot(color=\"black\", label=\"observed\")\n",
    "plt.show()"
   ]
  },
  {
   "cell_type": "code",
   "execution_count": 8,
   "id": "80c88374-c11c-4b7c-9c11-71c35c3cbd22",
   "metadata": {},
   "outputs": [],
   "source": [
    "inputs = predictions_filtered-oxy_tseries_filtered\n",
    "# For covariates here we have [predictions, observed oxygen, air temperature]\n",
    "covs = predictions_filtered.concatenate(oxy_tseries_filtered, axis=1, ignore_time_axis=True)\n",
    "covs = covs.concatenate(filtered_covs_dict[\"air_temperature\"], axis=1, ignore_time_axis=True)\n",
    "\n",
    "val_split = pd.Timestamp(year=2023, month=5, day=1)\n",
    "training_set, validation_set = inputs.split_before(val_split)"
   ]
  },
  {
   "cell_type": "markdown",
   "id": "5fd7f9f0-4d42-44c9-9fa6-2191593d1d12",
   "metadata": {},
   "source": [
    "Performing hyperparameter tuning"
   ]
  },
  {
   "cell_type": "code",
   "execution_count": 12,
   "id": "e1bcbb84-552f-4e79-8d03-e4154a56e3a8",
   "metadata": {},
   "outputs": [],
   "source": [
    "from optuna.integration import PyTorchLightningPruningCallback\n",
    "def objective(trial):\n",
    "    callback = [PyTorchLightningPruningCallback(trial, monitor=\"val_loss\")]\n",
    "\n",
    "    # Hyperparameters\n",
    "    input_chunk_length = trial.suggest_categorical(\"input_chunk_length\", [31, 60, 180, 356])\n",
    "    kernel_size = trial.suggest_categorical(\"kernel_size\", [2, 3, 5])\n",
    "    num_filters = trial.suggest_categorical(\"num_filters\", [1, 3, 5])\n",
    "    num_layers = trial.suggest_categorical(\"num_layers\", [None, 1, 2, 3])\n",
    "    dilation_base = trial.suggest_categorical(\"dilation_base\", [1, 2, 3])\n",
    "    dropout = trial.suggest_categorical(\"dropout\", [0.1, 0.2, 0.3])\n",
    "\n",
    "    tcn_model = TCNModel(input_chunk_length=input_chunk_length,\n",
    "                    kernel_size=kernel_size,\n",
    "                    num_filters=num_filters,\n",
    "                    output_chunk_length=30,\n",
    "                    likelihood=QuantileRegression([0.05, 0.1, 0.5, 0.9, 0.95]))\n",
    "\n",
    "    tcn_model.fit(training_set,\n",
    "                  past_covariates=covs,\n",
    "                  epochs=400, \n",
    "                  verbose=False)\n",
    "\n",
    "    predictions = tcn_model.predict(n=len(validation_set[:30]), \n",
    "                                    past_covariates=covs, \n",
    "                                    num_samples=50)\n",
    "    smapes = smape(validation_set[:30], predictions, n_jobs=-1, verbose=False)\n",
    "    smape_val = np.mean(smapes)\n",
    "\n",
    "    return smape_val if smape_val != np.nan else float(\"inf\")"
   ]
  },
  {
   "cell_type": "code",
   "execution_count": 13,
   "id": "2e9fd69f-f90b-47f6-b09a-a5c13ec508e9",
   "metadata": {
    "scrolled": true
   },
   "outputs": [
    {
     "name": "stderr",
     "output_type": "stream",
     "text": [
      "[I 2023-06-22 19:25:19,527] A new study created in memory with name: no-name-e700fb51-04e3-477a-bd56-6da99e56c254\n",
      "GPU available: True (cuda), used: True\n",
      "TPU available: False, using: 0 TPU cores\n",
      "IPU available: False, using: 0 IPUs\n",
      "HPU available: False, using: 0 HPUs\n",
      "LOCAL_RANK: 0 - CUDA_VISIBLE_DEVICES: [1]\n",
      "`Trainer.fit` stopped: `max_epochs=400` reached.\n",
      "GPU available: True (cuda), used: True\n",
      "TPU available: False, using: 0 TPU cores\n",
      "IPU available: False, using: 0 IPUs\n",
      "HPU available: False, using: 0 HPUs\n",
      "LOCAL_RANK: 0 - CUDA_VISIBLE_DEVICES: [1]\n"
     ]
    },
    {
     "data": {
      "application/vnd.jupyter.widget-view+json": {
       "model_id": "5ee47aac23b0458fa9ad7c3193b12df7",
       "version_major": 2,
       "version_minor": 0
      },
      "text/plain": [
       "Predicting: 0it [00:00, ?it/s]"
      ]
     },
     "metadata": {},
     "output_type": "display_data"
    },
    {
     "name": "stderr",
     "output_type": "stream",
     "text": [
      "[I 2023-06-22 19:26:32,324] Trial 0 finished with value: 146.40894838776896 and parameters: {'input_chunk_length': 60, 'kernel_size': 3, 'num_filters': 5, 'num_layers': 2, 'dilation_base': 1, 'dropout': 0.2}. Best is trial 0 with value: 146.40894838776896.\n",
      "GPU available: True (cuda), used: True\n",
      "TPU available: False, using: 0 TPU cores\n",
      "IPU available: False, using: 0 IPUs\n",
      "HPU available: False, using: 0 HPUs\n",
      "LOCAL_RANK: 0 - CUDA_VISIBLE_DEVICES: [1]\n"
     ]
    },
    {
     "name": "stdout",
     "output_type": "stream",
     "text": [
      "Current value: 146.40894838776896, Current params: {'input_chunk_length': 60, 'kernel_size': 3, 'num_filters': 5, 'num_layers': 2, 'dilation_base': 1, 'dropout': 0.2}\n",
      "Best value: 146.40894838776896, Best params: {'input_chunk_length': 60, 'kernel_size': 3, 'num_filters': 5, 'num_layers': 2, 'dilation_base': 1, 'dropout': 0.2}\n"
     ]
    },
    {
     "name": "stderr",
     "output_type": "stream",
     "text": [
      "`Trainer.fit` stopped: `max_epochs=400` reached.\n",
      "GPU available: True (cuda), used: True\n",
      "TPU available: False, using: 0 TPU cores\n",
      "IPU available: False, using: 0 IPUs\n",
      "HPU available: False, using: 0 HPUs\n",
      "LOCAL_RANK: 0 - CUDA_VISIBLE_DEVICES: [1]\n"
     ]
    },
    {
     "data": {
      "application/vnd.jupyter.widget-view+json": {
       "model_id": "328d4467fefd4aad86365c958dad4c9a",
       "version_major": 2,
       "version_minor": 0
      },
      "text/plain": [
       "Predicting: 0it [00:00, ?it/s]"
      ]
     },
     "metadata": {},
     "output_type": "display_data"
    },
    {
     "name": "stderr",
     "output_type": "stream",
     "text": [
      "[I 2023-06-22 19:27:39,082] Trial 1 finished with value: 119.64783037049105 and parameters: {'input_chunk_length': 356, 'kernel_size': 2, 'num_filters': 1, 'num_layers': None, 'dilation_base': 3, 'dropout': 0.3}. Best is trial 1 with value: 119.64783037049105.\n",
      "GPU available: True (cuda), used: True\n",
      "TPU available: False, using: 0 TPU cores\n",
      "IPU available: False, using: 0 IPUs\n",
      "HPU available: False, using: 0 HPUs\n",
      "LOCAL_RANK: 0 - CUDA_VISIBLE_DEVICES: [1]\n"
     ]
    },
    {
     "name": "stdout",
     "output_type": "stream",
     "text": [
      "Current value: 119.64783037049105, Current params: {'input_chunk_length': 356, 'kernel_size': 2, 'num_filters': 1, 'num_layers': None, 'dilation_base': 3, 'dropout': 0.3}\n",
      "Best value: 119.64783037049105, Best params: {'input_chunk_length': 356, 'kernel_size': 2, 'num_filters': 1, 'num_layers': None, 'dilation_base': 3, 'dropout': 0.3}\n"
     ]
    },
    {
     "name": "stderr",
     "output_type": "stream",
     "text": [
      "`Trainer.fit` stopped: `max_epochs=400` reached.\n",
      "GPU available: True (cuda), used: True\n",
      "TPU available: False, using: 0 TPU cores\n",
      "IPU available: False, using: 0 IPUs\n",
      "HPU available: False, using: 0 HPUs\n",
      "LOCAL_RANK: 0 - CUDA_VISIBLE_DEVICES: [1]\n"
     ]
    },
    {
     "data": {
      "application/vnd.jupyter.widget-view+json": {
       "model_id": "e35a3017c1934d25a080e627b109e26e",
       "version_major": 2,
       "version_minor": 0
      },
      "text/plain": [
       "Predicting: 0it [00:00, ?it/s]"
      ]
     },
     "metadata": {},
     "output_type": "display_data"
    },
    {
     "name": "stderr",
     "output_type": "stream",
     "text": [
      "[I 2023-06-22 19:28:42,101] Trial 2 finished with value: 163.05910575607479 and parameters: {'input_chunk_length': 31, 'kernel_size': 5, 'num_filters': 5, 'num_layers': 3, 'dilation_base': 1, 'dropout': 0.3}. Best is trial 1 with value: 119.64783037049105.\n",
      "GPU available: True (cuda), used: True\n",
      "TPU available: False, using: 0 TPU cores\n",
      "IPU available: False, using: 0 IPUs\n",
      "HPU available: False, using: 0 HPUs\n",
      "LOCAL_RANK: 0 - CUDA_VISIBLE_DEVICES: [1]\n"
     ]
    },
    {
     "name": "stdout",
     "output_type": "stream",
     "text": [
      "Current value: 163.05910575607479, Current params: {'input_chunk_length': 31, 'kernel_size': 5, 'num_filters': 5, 'num_layers': 3, 'dilation_base': 1, 'dropout': 0.3}\n",
      "Best value: 119.64783037049105, Best params: {'input_chunk_length': 356, 'kernel_size': 2, 'num_filters': 1, 'num_layers': None, 'dilation_base': 3, 'dropout': 0.3}\n"
     ]
    },
    {
     "name": "stderr",
     "output_type": "stream",
     "text": [
      "`Trainer.fit` stopped: `max_epochs=400` reached.\n",
      "GPU available: True (cuda), used: True\n",
      "TPU available: False, using: 0 TPU cores\n",
      "IPU available: False, using: 0 IPUs\n",
      "HPU available: False, using: 0 HPUs\n",
      "LOCAL_RANK: 0 - CUDA_VISIBLE_DEVICES: [1]\n"
     ]
    },
    {
     "data": {
      "application/vnd.jupyter.widget-view+json": {
       "model_id": "35042288b5564a619a6569f467a56b44",
       "version_major": 2,
       "version_minor": 0
      },
      "text/plain": [
       "Predicting: 0it [00:00, ?it/s]"
      ]
     },
     "metadata": {},
     "output_type": "display_data"
    },
    {
     "name": "stderr",
     "output_type": "stream",
     "text": [
      "[I 2023-06-22 19:29:51,379] Trial 3 finished with value: 139.60271677772366 and parameters: {'input_chunk_length': 356, 'kernel_size': 2, 'num_filters': 1, 'num_layers': 1, 'dilation_base': 3, 'dropout': 0.1}. Best is trial 1 with value: 119.64783037049105.\n",
      "GPU available: True (cuda), used: True\n",
      "TPU available: False, using: 0 TPU cores\n",
      "IPU available: False, using: 0 IPUs\n",
      "HPU available: False, using: 0 HPUs\n",
      "LOCAL_RANK: 0 - CUDA_VISIBLE_DEVICES: [1]\n"
     ]
    },
    {
     "name": "stdout",
     "output_type": "stream",
     "text": [
      "Current value: 139.60271677772366, Current params: {'input_chunk_length': 356, 'kernel_size': 2, 'num_filters': 1, 'num_layers': 1, 'dilation_base': 3, 'dropout': 0.1}\n",
      "Best value: 119.64783037049105, Best params: {'input_chunk_length': 356, 'kernel_size': 2, 'num_filters': 1, 'num_layers': None, 'dilation_base': 3, 'dropout': 0.3}\n"
     ]
    },
    {
     "name": "stderr",
     "output_type": "stream",
     "text": [
      "`Trainer.fit` stopped: `max_epochs=400` reached.\n",
      "GPU available: True (cuda), used: True\n",
      "TPU available: False, using: 0 TPU cores\n",
      "IPU available: False, using: 0 IPUs\n",
      "HPU available: False, using: 0 HPUs\n",
      "LOCAL_RANK: 0 - CUDA_VISIBLE_DEVICES: [1]\n"
     ]
    },
    {
     "data": {
      "application/vnd.jupyter.widget-view+json": {
       "model_id": "99895fb15c8b4f118fea97c2f6c57269",
       "version_major": 2,
       "version_minor": 0
      },
      "text/plain": [
       "Predicting: 0it [00:00, ?it/s]"
      ]
     },
     "metadata": {},
     "output_type": "display_data"
    },
    {
     "name": "stderr",
     "output_type": "stream",
     "text": [
      "[I 2023-06-22 19:30:54,400] Trial 4 finished with value: 143.34480310296013 and parameters: {'input_chunk_length': 356, 'kernel_size': 3, 'num_filters': 1, 'num_layers': None, 'dilation_base': 3, 'dropout': 0.3}. Best is trial 1 with value: 119.64783037049105.\n",
      "GPU available: True (cuda), used: True\n",
      "TPU available: False, using: 0 TPU cores\n",
      "IPU available: False, using: 0 IPUs\n",
      "HPU available: False, using: 0 HPUs\n",
      "LOCAL_RANK: 0 - CUDA_VISIBLE_DEVICES: [1]\n"
     ]
    },
    {
     "name": "stdout",
     "output_type": "stream",
     "text": [
      "Current value: 143.34480310296013, Current params: {'input_chunk_length': 356, 'kernel_size': 3, 'num_filters': 1, 'num_layers': None, 'dilation_base': 3, 'dropout': 0.3}\n",
      "Best value: 119.64783037049105, Best params: {'input_chunk_length': 356, 'kernel_size': 2, 'num_filters': 1, 'num_layers': None, 'dilation_base': 3, 'dropout': 0.3}\n"
     ]
    },
    {
     "name": "stderr",
     "output_type": "stream",
     "text": [
      "`Trainer.fit` stopped: `max_epochs=400` reached.\n",
      "GPU available: True (cuda), used: True\n",
      "TPU available: False, using: 0 TPU cores\n",
      "IPU available: False, using: 0 IPUs\n",
      "HPU available: False, using: 0 HPUs\n",
      "LOCAL_RANK: 0 - CUDA_VISIBLE_DEVICES: [1]\n"
     ]
    },
    {
     "data": {
      "application/vnd.jupyter.widget-view+json": {
       "model_id": "16a2b7cb5b554d75b26d81440cc85204",
       "version_major": 2,
       "version_minor": 0
      },
      "text/plain": [
       "Predicting: 0it [00:00, ?it/s]"
      ]
     },
     "metadata": {},
     "output_type": "display_data"
    },
    {
     "name": "stderr",
     "output_type": "stream",
     "text": [
      "[I 2023-06-22 19:32:03,115] Trial 5 finished with value: 171.428922387542 and parameters: {'input_chunk_length': 180, 'kernel_size': 5, 'num_filters': 5, 'num_layers': 1, 'dilation_base': 1, 'dropout': 0.1}. Best is trial 1 with value: 119.64783037049105.\n",
      "GPU available: True (cuda), used: True\n",
      "TPU available: False, using: 0 TPU cores\n",
      "IPU available: False, using: 0 IPUs\n",
      "HPU available: False, using: 0 HPUs\n",
      "LOCAL_RANK: 0 - CUDA_VISIBLE_DEVICES: [1]\n"
     ]
    },
    {
     "name": "stdout",
     "output_type": "stream",
     "text": [
      "Current value: 171.428922387542, Current params: {'input_chunk_length': 180, 'kernel_size': 5, 'num_filters': 5, 'num_layers': 1, 'dilation_base': 1, 'dropout': 0.1}\n",
      "Best value: 119.64783037049105, Best params: {'input_chunk_length': 356, 'kernel_size': 2, 'num_filters': 1, 'num_layers': None, 'dilation_base': 3, 'dropout': 0.3}\n"
     ]
    },
    {
     "name": "stderr",
     "output_type": "stream",
     "text": [
      "`Trainer.fit` stopped: `max_epochs=400` reached.\n",
      "GPU available: True (cuda), used: True\n",
      "TPU available: False, using: 0 TPU cores\n",
      "IPU available: False, using: 0 IPUs\n",
      "HPU available: False, using: 0 HPUs\n",
      "LOCAL_RANK: 0 - CUDA_VISIBLE_DEVICES: [1]\n"
     ]
    },
    {
     "data": {
      "application/vnd.jupyter.widget-view+json": {
       "model_id": "1d8d7311145747c4bff9abc17d87591b",
       "version_major": 2,
       "version_minor": 0
      },
      "text/plain": [
       "Predicting: 0it [00:00, ?it/s]"
      ]
     },
     "metadata": {},
     "output_type": "display_data"
    },
    {
     "name": "stderr",
     "output_type": "stream",
     "text": [
      "[I 2023-06-22 19:33:06,561] Trial 6 finished with value: 172.73901942888344 and parameters: {'input_chunk_length': 356, 'kernel_size': 3, 'num_filters': 3, 'num_layers': 2, 'dilation_base': 1, 'dropout': 0.3}. Best is trial 1 with value: 119.64783037049105.\n",
      "GPU available: True (cuda), used: True\n",
      "TPU available: False, using: 0 TPU cores\n",
      "IPU available: False, using: 0 IPUs\n",
      "HPU available: False, using: 0 HPUs\n",
      "LOCAL_RANK: 0 - CUDA_VISIBLE_DEVICES: [1]\n"
     ]
    },
    {
     "name": "stdout",
     "output_type": "stream",
     "text": [
      "Current value: 172.73901942888344, Current params: {'input_chunk_length': 356, 'kernel_size': 3, 'num_filters': 3, 'num_layers': 2, 'dilation_base': 1, 'dropout': 0.3}\n",
      "Best value: 119.64783037049105, Best params: {'input_chunk_length': 356, 'kernel_size': 2, 'num_filters': 1, 'num_layers': None, 'dilation_base': 3, 'dropout': 0.3}\n"
     ]
    },
    {
     "name": "stderr",
     "output_type": "stream",
     "text": [
      "`Trainer.fit` stopped: `max_epochs=400` reached.\n",
      "GPU available: True (cuda), used: True\n",
      "TPU available: False, using: 0 TPU cores\n",
      "IPU available: False, using: 0 IPUs\n",
      "HPU available: False, using: 0 HPUs\n",
      "LOCAL_RANK: 0 - CUDA_VISIBLE_DEVICES: [1]\n"
     ]
    },
    {
     "data": {
      "application/vnd.jupyter.widget-view+json": {
       "model_id": "8dc24361d30d454981905f242cd99906",
       "version_major": 2,
       "version_minor": 0
      },
      "text/plain": [
       "Predicting: 0it [00:00, ?it/s]"
      ]
     },
     "metadata": {},
     "output_type": "display_data"
    },
    {
     "name": "stderr",
     "output_type": "stream",
     "text": [
      "[I 2023-06-22 19:34:16,402] Trial 7 finished with value: 136.6452734677295 and parameters: {'input_chunk_length': 60, 'kernel_size': 3, 'num_filters': 1, 'num_layers': 1, 'dilation_base': 3, 'dropout': 0.2}. Best is trial 1 with value: 119.64783037049105.\n",
      "GPU available: True (cuda), used: True\n",
      "TPU available: False, using: 0 TPU cores\n",
      "IPU available: False, using: 0 IPUs\n",
      "HPU available: False, using: 0 HPUs\n",
      "LOCAL_RANK: 0 - CUDA_VISIBLE_DEVICES: [1]\n"
     ]
    },
    {
     "name": "stdout",
     "output_type": "stream",
     "text": [
      "Current value: 136.6452734677295, Current params: {'input_chunk_length': 60, 'kernel_size': 3, 'num_filters': 1, 'num_layers': 1, 'dilation_base': 3, 'dropout': 0.2}\n",
      "Best value: 119.64783037049105, Best params: {'input_chunk_length': 356, 'kernel_size': 2, 'num_filters': 1, 'num_layers': None, 'dilation_base': 3, 'dropout': 0.3}\n"
     ]
    },
    {
     "name": "stderr",
     "output_type": "stream",
     "text": [
      "`Trainer.fit` stopped: `max_epochs=400` reached.\n",
      "GPU available: True (cuda), used: True\n",
      "TPU available: False, using: 0 TPU cores\n",
      "IPU available: False, using: 0 IPUs\n",
      "HPU available: False, using: 0 HPUs\n",
      "LOCAL_RANK: 0 - CUDA_VISIBLE_DEVICES: [1]\n"
     ]
    },
    {
     "data": {
      "application/vnd.jupyter.widget-view+json": {
       "model_id": "ad264bb37f6245eeaa68bdef2761d153",
       "version_major": 2,
       "version_minor": 0
      },
      "text/plain": [
       "Predicting: 0it [00:00, ?it/s]"
      ]
     },
     "metadata": {},
     "output_type": "display_data"
    },
    {
     "name": "stderr",
     "output_type": "stream",
     "text": [
      "[I 2023-06-22 19:35:27,342] Trial 8 finished with value: 119.10328796189455 and parameters: {'input_chunk_length': 180, 'kernel_size': 3, 'num_filters': 1, 'num_layers': 3, 'dilation_base': 2, 'dropout': 0.2}. Best is trial 8 with value: 119.10328796189455.\n",
      "GPU available: True (cuda), used: True\n",
      "TPU available: False, using: 0 TPU cores\n",
      "IPU available: False, using: 0 IPUs\n",
      "HPU available: False, using: 0 HPUs\n",
      "LOCAL_RANK: 0 - CUDA_VISIBLE_DEVICES: [1]\n"
     ]
    },
    {
     "name": "stdout",
     "output_type": "stream",
     "text": [
      "Current value: 119.10328796189455, Current params: {'input_chunk_length': 180, 'kernel_size': 3, 'num_filters': 1, 'num_layers': 3, 'dilation_base': 2, 'dropout': 0.2}\n",
      "Best value: 119.10328796189455, Best params: {'input_chunk_length': 180, 'kernel_size': 3, 'num_filters': 1, 'num_layers': 3, 'dilation_base': 2, 'dropout': 0.2}\n"
     ]
    },
    {
     "name": "stderr",
     "output_type": "stream",
     "text": [
      "`Trainer.fit` stopped: `max_epochs=400` reached.\n",
      "GPU available: True (cuda), used: True\n",
      "TPU available: False, using: 0 TPU cores\n",
      "IPU available: False, using: 0 IPUs\n",
      "HPU available: False, using: 0 HPUs\n",
      "LOCAL_RANK: 0 - CUDA_VISIBLE_DEVICES: [1]\n"
     ]
    },
    {
     "data": {
      "application/vnd.jupyter.widget-view+json": {
       "model_id": "caf21496b53e43139ad7ce60e122391a",
       "version_major": 2,
       "version_minor": 0
      },
      "text/plain": [
       "Predicting: 0it [00:00, ?it/s]"
      ]
     },
     "metadata": {},
     "output_type": "display_data"
    },
    {
     "name": "stderr",
     "output_type": "stream",
     "text": [
      "[I 2023-06-22 19:36:32,021] Trial 9 finished with value: 145.6207195580331 and parameters: {'input_chunk_length': 356, 'kernel_size': 2, 'num_filters': 3, 'num_layers': 2, 'dilation_base': 2, 'dropout': 0.1}. Best is trial 8 with value: 119.10328796189455.\n",
      "GPU available: True (cuda), used: True\n",
      "TPU available: False, using: 0 TPU cores\n",
      "IPU available: False, using: 0 IPUs\n",
      "HPU available: False, using: 0 HPUs\n",
      "LOCAL_RANK: 0 - CUDA_VISIBLE_DEVICES: [1]\n"
     ]
    },
    {
     "name": "stdout",
     "output_type": "stream",
     "text": [
      "Current value: 145.6207195580331, Current params: {'input_chunk_length': 356, 'kernel_size': 2, 'num_filters': 3, 'num_layers': 2, 'dilation_base': 2, 'dropout': 0.1}\n",
      "Best value: 119.10328796189455, Best params: {'input_chunk_length': 180, 'kernel_size': 3, 'num_filters': 1, 'num_layers': 3, 'dilation_base': 2, 'dropout': 0.2}\n"
     ]
    },
    {
     "name": "stderr",
     "output_type": "stream",
     "text": [
      "`Trainer.fit` stopped: `max_epochs=400` reached.\n",
      "GPU available: True (cuda), used: True\n",
      "TPU available: False, using: 0 TPU cores\n",
      "IPU available: False, using: 0 IPUs\n",
      "HPU available: False, using: 0 HPUs\n",
      "LOCAL_RANK: 0 - CUDA_VISIBLE_DEVICES: [1]\n"
     ]
    },
    {
     "data": {
      "application/vnd.jupyter.widget-view+json": {
       "model_id": "743c793f5a2a47fa8f7a8ebeb678f227",
       "version_major": 2,
       "version_minor": 0
      },
      "text/plain": [
       "Predicting: 0it [00:00, ?it/s]"
      ]
     },
     "metadata": {},
     "output_type": "display_data"
    },
    {
     "name": "stderr",
     "output_type": "stream",
     "text": [
      "[I 2023-06-22 19:37:46,280] Trial 10 finished with value: 133.41423389608636 and parameters: {'input_chunk_length': 180, 'kernel_size': 3, 'num_filters': 1, 'num_layers': 3, 'dilation_base': 2, 'dropout': 0.2}. Best is trial 8 with value: 119.10328796189455.\n",
      "GPU available: True (cuda), used: True\n",
      "TPU available: False, using: 0 TPU cores\n",
      "IPU available: False, using: 0 IPUs\n",
      "HPU available: False, using: 0 HPUs\n",
      "LOCAL_RANK: 0 - CUDA_VISIBLE_DEVICES: [1]\n"
     ]
    },
    {
     "name": "stdout",
     "output_type": "stream",
     "text": [
      "Current value: 133.41423389608636, Current params: {'input_chunk_length': 180, 'kernel_size': 3, 'num_filters': 1, 'num_layers': 3, 'dilation_base': 2, 'dropout': 0.2}\n",
      "Best value: 119.10328796189455, Best params: {'input_chunk_length': 180, 'kernel_size': 3, 'num_filters': 1, 'num_layers': 3, 'dilation_base': 2, 'dropout': 0.2}\n"
     ]
    },
    {
     "name": "stderr",
     "output_type": "stream",
     "text": [
      "`Trainer.fit` stopped: `max_epochs=400` reached.\n",
      "GPU available: True (cuda), used: True\n",
      "TPU available: False, using: 0 TPU cores\n",
      "IPU available: False, using: 0 IPUs\n",
      "HPU available: False, using: 0 HPUs\n",
      "LOCAL_RANK: 0 - CUDA_VISIBLE_DEVICES: [1]\n"
     ]
    },
    {
     "data": {
      "application/vnd.jupyter.widget-view+json": {
       "model_id": "9aa3f326e8fa45a7a34312d0d3d1bdcd",
       "version_major": 2,
       "version_minor": 0
      },
      "text/plain": [
       "Predicting: 0it [00:00, ?it/s]"
      ]
     },
     "metadata": {},
     "output_type": "display_data"
    },
    {
     "name": "stderr",
     "output_type": "stream",
     "text": [
      "[I 2023-06-22 19:39:01,946] Trial 11 finished with value: 146.89044719223747 and parameters: {'input_chunk_length': 180, 'kernel_size': 2, 'num_filters': 1, 'num_layers': None, 'dilation_base': 2, 'dropout': 0.2}. Best is trial 8 with value: 119.10328796189455.\n",
      "GPU available: True (cuda), used: True\n",
      "TPU available: False, using: 0 TPU cores\n",
      "IPU available: False, using: 0 IPUs\n",
      "HPU available: False, using: 0 HPUs\n",
      "LOCAL_RANK: 0 - CUDA_VISIBLE_DEVICES: [1]\n"
     ]
    },
    {
     "name": "stdout",
     "output_type": "stream",
     "text": [
      "Current value: 146.89044719223747, Current params: {'input_chunk_length': 180, 'kernel_size': 2, 'num_filters': 1, 'num_layers': None, 'dilation_base': 2, 'dropout': 0.2}\n",
      "Best value: 119.10328796189455, Best params: {'input_chunk_length': 180, 'kernel_size': 3, 'num_filters': 1, 'num_layers': 3, 'dilation_base': 2, 'dropout': 0.2}\n"
     ]
    },
    {
     "name": "stderr",
     "output_type": "stream",
     "text": [
      "`Trainer.fit` stopped: `max_epochs=400` reached.\n",
      "GPU available: True (cuda), used: True\n",
      "TPU available: False, using: 0 TPU cores\n",
      "IPU available: False, using: 0 IPUs\n",
      "HPU available: False, using: 0 HPUs\n",
      "LOCAL_RANK: 0 - CUDA_VISIBLE_DEVICES: [1]\n"
     ]
    },
    {
     "data": {
      "application/vnd.jupyter.widget-view+json": {
       "model_id": "c2c12706e7914e60bcbcf11ee1cbabcf",
       "version_major": 2,
       "version_minor": 0
      },
      "text/plain": [
       "Predicting: 0it [00:00, ?it/s]"
      ]
     },
     "metadata": {},
     "output_type": "display_data"
    },
    {
     "name": "stderr",
     "output_type": "stream",
     "text": [
      "[I 2023-06-22 19:40:13,199] Trial 12 finished with value: 132.3013708780476 and parameters: {'input_chunk_length': 31, 'kernel_size': 2, 'num_filters': 1, 'num_layers': 3, 'dilation_base': 3, 'dropout': 0.3}. Best is trial 8 with value: 119.10328796189455.\n",
      "GPU available: True (cuda), used: True\n",
      "TPU available: False, using: 0 TPU cores\n",
      "IPU available: False, using: 0 IPUs\n",
      "HPU available: False, using: 0 HPUs\n",
      "LOCAL_RANK: 0 - CUDA_VISIBLE_DEVICES: [1]\n"
     ]
    },
    {
     "name": "stdout",
     "output_type": "stream",
     "text": [
      "Current value: 132.3013708780476, Current params: {'input_chunk_length': 31, 'kernel_size': 2, 'num_filters': 1, 'num_layers': 3, 'dilation_base': 3, 'dropout': 0.3}\n",
      "Best value: 119.10328796189455, Best params: {'input_chunk_length': 180, 'kernel_size': 3, 'num_filters': 1, 'num_layers': 3, 'dilation_base': 2, 'dropout': 0.2}\n"
     ]
    },
    {
     "name": "stderr",
     "output_type": "stream",
     "text": [
      "`Trainer.fit` stopped: `max_epochs=400` reached.\n",
      "GPU available: True (cuda), used: True\n",
      "TPU available: False, using: 0 TPU cores\n",
      "IPU available: False, using: 0 IPUs\n",
      "HPU available: False, using: 0 HPUs\n",
      "LOCAL_RANK: 0 - CUDA_VISIBLE_DEVICES: [1]\n"
     ]
    },
    {
     "data": {
      "application/vnd.jupyter.widget-view+json": {
       "model_id": "9c4d74c029f647118c2090a863931641",
       "version_major": 2,
       "version_minor": 0
      },
      "text/plain": [
       "Predicting: 0it [00:00, ?it/s]"
      ]
     },
     "metadata": {},
     "output_type": "display_data"
    },
    {
     "name": "stderr",
     "output_type": "stream",
     "text": [
      "[I 2023-06-22 19:41:29,563] Trial 13 finished with value: 142.43549774223013 and parameters: {'input_chunk_length': 180, 'kernel_size': 2, 'num_filters': 1, 'num_layers': None, 'dilation_base': 2, 'dropout': 0.2}. Best is trial 8 with value: 119.10328796189455.\n",
      "GPU available: True (cuda), used: True\n",
      "TPU available: False, using: 0 TPU cores\n",
      "IPU available: False, using: 0 IPUs\n",
      "HPU available: False, using: 0 HPUs\n",
      "LOCAL_RANK: 0 - CUDA_VISIBLE_DEVICES: [1]\n"
     ]
    },
    {
     "name": "stdout",
     "output_type": "stream",
     "text": [
      "Current value: 142.43549774223013, Current params: {'input_chunk_length': 180, 'kernel_size': 2, 'num_filters': 1, 'num_layers': None, 'dilation_base': 2, 'dropout': 0.2}\n",
      "Best value: 119.10328796189455, Best params: {'input_chunk_length': 180, 'kernel_size': 3, 'num_filters': 1, 'num_layers': 3, 'dilation_base': 2, 'dropout': 0.2}\n"
     ]
    },
    {
     "name": "stderr",
     "output_type": "stream",
     "text": [
      "`Trainer.fit` stopped: `max_epochs=400` reached.\n",
      "GPU available: True (cuda), used: True\n",
      "TPU available: False, using: 0 TPU cores\n",
      "IPU available: False, using: 0 IPUs\n",
      "HPU available: False, using: 0 HPUs\n",
      "LOCAL_RANK: 0 - CUDA_VISIBLE_DEVICES: [1]\n"
     ]
    },
    {
     "data": {
      "application/vnd.jupyter.widget-view+json": {
       "model_id": "5beefaa458d24300bbe1913e8f2ab1e8",
       "version_major": 2,
       "version_minor": 0
      },
      "text/plain": [
       "Predicting: 0it [00:00, ?it/s]"
      ]
     },
     "metadata": {},
     "output_type": "display_data"
    },
    {
     "name": "stderr",
     "output_type": "stream",
     "text": [
      "[I 2023-06-22 19:42:28,669] Trial 14 finished with value: 150.84313116557757 and parameters: {'input_chunk_length': 356, 'kernel_size': 5, 'num_filters': 1, 'num_layers': None, 'dilation_base': 3, 'dropout': 0.3}. Best is trial 8 with value: 119.10328796189455.\n",
      "GPU available: True (cuda), used: True\n",
      "TPU available: False, using: 0 TPU cores\n",
      "IPU available: False, using: 0 IPUs\n",
      "HPU available: False, using: 0 HPUs\n",
      "LOCAL_RANK: 0 - CUDA_VISIBLE_DEVICES: [1]\n"
     ]
    },
    {
     "name": "stdout",
     "output_type": "stream",
     "text": [
      "Current value: 150.84313116557757, Current params: {'input_chunk_length': 356, 'kernel_size': 5, 'num_filters': 1, 'num_layers': None, 'dilation_base': 3, 'dropout': 0.3}\n",
      "Best value: 119.10328796189455, Best params: {'input_chunk_length': 180, 'kernel_size': 3, 'num_filters': 1, 'num_layers': 3, 'dilation_base': 2, 'dropout': 0.2}\n"
     ]
    },
    {
     "name": "stderr",
     "output_type": "stream",
     "text": [
      "`Trainer.fit` stopped: `max_epochs=400` reached.\n",
      "GPU available: True (cuda), used: True\n",
      "TPU available: False, using: 0 TPU cores\n",
      "IPU available: False, using: 0 IPUs\n",
      "HPU available: False, using: 0 HPUs\n",
      "LOCAL_RANK: 0 - CUDA_VISIBLE_DEVICES: [1]\n"
     ]
    },
    {
     "data": {
      "application/vnd.jupyter.widget-view+json": {
       "model_id": "e10e02054b654f5ca4cb8afed6dbc73c",
       "version_major": 2,
       "version_minor": 0
      },
      "text/plain": [
       "Predicting: 0it [00:00, ?it/s]"
      ]
     },
     "metadata": {},
     "output_type": "display_data"
    },
    {
     "name": "stderr",
     "output_type": "stream",
     "text": [
      "[I 2023-06-22 19:43:44,615] Trial 15 finished with value: 138.92311992787265 and parameters: {'input_chunk_length': 180, 'kernel_size': 3, 'num_filters': 3, 'num_layers': 3, 'dilation_base': 2, 'dropout': 0.2}. Best is trial 8 with value: 119.10328796189455.\n",
      "GPU available: True (cuda), used: True\n",
      "TPU available: False, using: 0 TPU cores\n",
      "IPU available: False, using: 0 IPUs\n",
      "HPU available: False, using: 0 HPUs\n",
      "LOCAL_RANK: 0 - CUDA_VISIBLE_DEVICES: [1]\n"
     ]
    },
    {
     "name": "stdout",
     "output_type": "stream",
     "text": [
      "Current value: 138.92311992787265, Current params: {'input_chunk_length': 180, 'kernel_size': 3, 'num_filters': 3, 'num_layers': 3, 'dilation_base': 2, 'dropout': 0.2}\n",
      "Best value: 119.10328796189455, Best params: {'input_chunk_length': 180, 'kernel_size': 3, 'num_filters': 1, 'num_layers': 3, 'dilation_base': 2, 'dropout': 0.2}\n"
     ]
    },
    {
     "name": "stderr",
     "output_type": "stream",
     "text": [
      "`Trainer.fit` stopped: `max_epochs=400` reached.\n",
      "GPU available: True (cuda), used: True\n",
      "TPU available: False, using: 0 TPU cores\n",
      "IPU available: False, using: 0 IPUs\n",
      "HPU available: False, using: 0 HPUs\n",
      "LOCAL_RANK: 0 - CUDA_VISIBLE_DEVICES: [1]\n"
     ]
    },
    {
     "data": {
      "application/vnd.jupyter.widget-view+json": {
       "model_id": "fddcde89d3034ca8badcd0de5d0b6d55",
       "version_major": 2,
       "version_minor": 0
      },
      "text/plain": [
       "Predicting: 0it [00:00, ?it/s]"
      ]
     },
     "metadata": {},
     "output_type": "display_data"
    },
    {
     "name": "stderr",
     "output_type": "stream",
     "text": [
      "[I 2023-06-22 19:44:55,851] Trial 16 finished with value: 143.486292846637 and parameters: {'input_chunk_length': 31, 'kernel_size': 2, 'num_filters': 1, 'num_layers': 3, 'dilation_base': 2, 'dropout': 0.3}. Best is trial 8 with value: 119.10328796189455.\n",
      "GPU available: True (cuda), used: True\n",
      "TPU available: False, using: 0 TPU cores\n",
      "IPU available: False, using: 0 IPUs\n",
      "HPU available: False, using: 0 HPUs\n",
      "LOCAL_RANK: 0 - CUDA_VISIBLE_DEVICES: [1]\n"
     ]
    },
    {
     "name": "stdout",
     "output_type": "stream",
     "text": [
      "Current value: 143.486292846637, Current params: {'input_chunk_length': 31, 'kernel_size': 2, 'num_filters': 1, 'num_layers': 3, 'dilation_base': 2, 'dropout': 0.3}\n",
      "Best value: 119.10328796189455, Best params: {'input_chunk_length': 180, 'kernel_size': 3, 'num_filters': 1, 'num_layers': 3, 'dilation_base': 2, 'dropout': 0.2}\n"
     ]
    },
    {
     "name": "stderr",
     "output_type": "stream",
     "text": [
      "`Trainer.fit` stopped: `max_epochs=400` reached.\n",
      "GPU available: True (cuda), used: True\n",
      "TPU available: False, using: 0 TPU cores\n",
      "IPU available: False, using: 0 IPUs\n",
      "HPU available: False, using: 0 HPUs\n",
      "LOCAL_RANK: 0 - CUDA_VISIBLE_DEVICES: [1]\n"
     ]
    },
    {
     "data": {
      "application/vnd.jupyter.widget-view+json": {
       "model_id": "ecb9cef7ed954ded853dca48c43bdb9a",
       "version_major": 2,
       "version_minor": 0
      },
      "text/plain": [
       "Predicting: 0it [00:00, ?it/s]"
      ]
     },
     "metadata": {},
     "output_type": "display_data"
    },
    {
     "name": "stderr",
     "output_type": "stream",
     "text": [
      "[I 2023-06-22 19:46:12,020] Trial 17 finished with value: 137.22547728696057 and parameters: {'input_chunk_length': 60, 'kernel_size': 2, 'num_filters': 1, 'num_layers': None, 'dilation_base': 3, 'dropout': 0.3}. Best is trial 8 with value: 119.10328796189455.\n",
      "GPU available: True (cuda), used: True\n",
      "TPU available: False, using: 0 TPU cores\n",
      "IPU available: False, using: 0 IPUs\n",
      "HPU available: False, using: 0 HPUs\n",
      "LOCAL_RANK: 0 - CUDA_VISIBLE_DEVICES: [1]\n"
     ]
    },
    {
     "name": "stdout",
     "output_type": "stream",
     "text": [
      "Current value: 137.22547728696057, Current params: {'input_chunk_length': 60, 'kernel_size': 2, 'num_filters': 1, 'num_layers': None, 'dilation_base': 3, 'dropout': 0.3}\n",
      "Best value: 119.10328796189455, Best params: {'input_chunk_length': 180, 'kernel_size': 3, 'num_filters': 1, 'num_layers': 3, 'dilation_base': 2, 'dropout': 0.2}\n"
     ]
    },
    {
     "name": "stderr",
     "output_type": "stream",
     "text": [
      "`Trainer.fit` stopped: `max_epochs=400` reached.\n",
      "GPU available: True (cuda), used: True\n",
      "TPU available: False, using: 0 TPU cores\n",
      "IPU available: False, using: 0 IPUs\n",
      "HPU available: False, using: 0 HPUs\n",
      "LOCAL_RANK: 0 - CUDA_VISIBLE_DEVICES: [1]\n"
     ]
    },
    {
     "data": {
      "application/vnd.jupyter.widget-view+json": {
       "model_id": "15c38ded63a346f3a1d4f75ea84fb672",
       "version_major": 2,
       "version_minor": 0
      },
      "text/plain": [
       "Predicting: 0it [00:00, ?it/s]"
      ]
     },
     "metadata": {},
     "output_type": "display_data"
    },
    {
     "name": "stderr",
     "output_type": "stream",
     "text": [
      "[I 2023-06-22 19:47:23,783] Trial 18 finished with value: 146.99933939342094 and parameters: {'input_chunk_length': 180, 'kernel_size': 3, 'num_filters': 3, 'num_layers': 3, 'dilation_base': 3, 'dropout': 0.2}. Best is trial 8 with value: 119.10328796189455.\n",
      "GPU available: True (cuda), used: True\n",
      "TPU available: False, using: 0 TPU cores\n",
      "IPU available: False, using: 0 IPUs\n",
      "HPU available: False, using: 0 HPUs\n",
      "LOCAL_RANK: 0 - CUDA_VISIBLE_DEVICES: [1]\n"
     ]
    },
    {
     "name": "stdout",
     "output_type": "stream",
     "text": [
      "Current value: 146.99933939342094, Current params: {'input_chunk_length': 180, 'kernel_size': 3, 'num_filters': 3, 'num_layers': 3, 'dilation_base': 3, 'dropout': 0.2}\n",
      "Best value: 119.10328796189455, Best params: {'input_chunk_length': 180, 'kernel_size': 3, 'num_filters': 1, 'num_layers': 3, 'dilation_base': 2, 'dropout': 0.2}\n"
     ]
    },
    {
     "name": "stderr",
     "output_type": "stream",
     "text": [
      "`Trainer.fit` stopped: `max_epochs=400` reached.\n",
      "GPU available: True (cuda), used: True\n",
      "TPU available: False, using: 0 TPU cores\n",
      "IPU available: False, using: 0 IPUs\n",
      "HPU available: False, using: 0 HPUs\n",
      "LOCAL_RANK: 0 - CUDA_VISIBLE_DEVICES: [1]\n"
     ]
    },
    {
     "data": {
      "application/vnd.jupyter.widget-view+json": {
       "model_id": "a34c801556714be183577f90bb08ecf3",
       "version_major": 2,
       "version_minor": 0
      },
      "text/plain": [
       "Predicting: 0it [00:00, ?it/s]"
      ]
     },
     "metadata": {},
     "output_type": "display_data"
    },
    {
     "name": "stderr",
     "output_type": "stream",
     "text": [
      "[I 2023-06-22 19:48:24,776] Trial 19 finished with value: 161.1631970008092 and parameters: {'input_chunk_length': 356, 'kernel_size': 5, 'num_filters': 5, 'num_layers': None, 'dilation_base': 2, 'dropout': 0.1}. Best is trial 8 with value: 119.10328796189455.\n",
      "GPU available: True (cuda), used: True\n",
      "TPU available: False, using: 0 TPU cores\n",
      "IPU available: False, using: 0 IPUs\n",
      "HPU available: False, using: 0 HPUs\n",
      "LOCAL_RANK: 0 - CUDA_VISIBLE_DEVICES: [1]\n"
     ]
    },
    {
     "name": "stdout",
     "output_type": "stream",
     "text": [
      "Current value: 161.1631970008092, Current params: {'input_chunk_length': 356, 'kernel_size': 5, 'num_filters': 5, 'num_layers': None, 'dilation_base': 2, 'dropout': 0.1}\n",
      "Best value: 119.10328796189455, Best params: {'input_chunk_length': 180, 'kernel_size': 3, 'num_filters': 1, 'num_layers': 3, 'dilation_base': 2, 'dropout': 0.2}\n"
     ]
    },
    {
     "name": "stderr",
     "output_type": "stream",
     "text": [
      "`Trainer.fit` stopped: `max_epochs=400` reached.\n",
      "GPU available: True (cuda), used: True\n",
      "TPU available: False, using: 0 TPU cores\n",
      "IPU available: False, using: 0 IPUs\n",
      "HPU available: False, using: 0 HPUs\n",
      "LOCAL_RANK: 0 - CUDA_VISIBLE_DEVICES: [1]\n"
     ]
    },
    {
     "data": {
      "application/vnd.jupyter.widget-view+json": {
       "model_id": "6b5dc191e43840128bf9d6a6b5efe902",
       "version_major": 2,
       "version_minor": 0
      },
      "text/plain": [
       "Predicting: 0it [00:00, ?it/s]"
      ]
     },
     "metadata": {},
     "output_type": "display_data"
    },
    {
     "name": "stderr",
     "output_type": "stream",
     "text": [
      "[I 2023-06-22 19:49:45,520] Trial 20 finished with value: 149.21016626637055 and parameters: {'input_chunk_length': 180, 'kernel_size': 2, 'num_filters': 1, 'num_layers': 3, 'dilation_base': 3, 'dropout': 0.3}. Best is trial 8 with value: 119.10328796189455.\n",
      "GPU available: True (cuda), used: True\n",
      "TPU available: False, using: 0 TPU cores\n",
      "IPU available: False, using: 0 IPUs\n",
      "HPU available: False, using: 0 HPUs\n",
      "LOCAL_RANK: 0 - CUDA_VISIBLE_DEVICES: [1]\n"
     ]
    },
    {
     "name": "stdout",
     "output_type": "stream",
     "text": [
      "Current value: 149.21016626637055, Current params: {'input_chunk_length': 180, 'kernel_size': 2, 'num_filters': 1, 'num_layers': 3, 'dilation_base': 3, 'dropout': 0.3}\n",
      "Best value: 119.10328796189455, Best params: {'input_chunk_length': 180, 'kernel_size': 3, 'num_filters': 1, 'num_layers': 3, 'dilation_base': 2, 'dropout': 0.2}\n"
     ]
    },
    {
     "name": "stderr",
     "output_type": "stream",
     "text": [
      "`Trainer.fit` stopped: `max_epochs=400` reached.\n",
      "GPU available: True (cuda), used: True\n",
      "TPU available: False, using: 0 TPU cores\n",
      "IPU available: False, using: 0 IPUs\n",
      "HPU available: False, using: 0 HPUs\n",
      "LOCAL_RANK: 0 - CUDA_VISIBLE_DEVICES: [1]\n"
     ]
    },
    {
     "data": {
      "application/vnd.jupyter.widget-view+json": {
       "model_id": "9e4f59c045d44c298f01d1b4b57899f9",
       "version_major": 2,
       "version_minor": 0
      },
      "text/plain": [
       "Predicting: 0it [00:00, ?it/s]"
      ]
     },
     "metadata": {},
     "output_type": "display_data"
    },
    {
     "name": "stderr",
     "output_type": "stream",
     "text": [
      "[I 2023-06-22 19:50:57,663] Trial 21 finished with value: 142.21668154409542 and parameters: {'input_chunk_length': 31, 'kernel_size': 2, 'num_filters': 1, 'num_layers': 3, 'dilation_base': 3, 'dropout': 0.3}. Best is trial 8 with value: 119.10328796189455.\n",
      "GPU available: True (cuda), used: True\n",
      "TPU available: False, using: 0 TPU cores\n",
      "IPU available: False, using: 0 IPUs\n",
      "HPU available: False, using: 0 HPUs\n",
      "LOCAL_RANK: 0 - CUDA_VISIBLE_DEVICES: [1]\n"
     ]
    },
    {
     "name": "stdout",
     "output_type": "stream",
     "text": [
      "Current value: 142.21668154409542, Current params: {'input_chunk_length': 31, 'kernel_size': 2, 'num_filters': 1, 'num_layers': 3, 'dilation_base': 3, 'dropout': 0.3}\n",
      "Best value: 119.10328796189455, Best params: {'input_chunk_length': 180, 'kernel_size': 3, 'num_filters': 1, 'num_layers': 3, 'dilation_base': 2, 'dropout': 0.2}\n"
     ]
    },
    {
     "name": "stderr",
     "output_type": "stream",
     "text": [
      "`Trainer.fit` stopped: `max_epochs=400` reached.\n",
      "GPU available: True (cuda), used: True\n",
      "TPU available: False, using: 0 TPU cores\n",
      "IPU available: False, using: 0 IPUs\n",
      "HPU available: False, using: 0 HPUs\n",
      "LOCAL_RANK: 0 - CUDA_VISIBLE_DEVICES: [1]\n"
     ]
    },
    {
     "data": {
      "application/vnd.jupyter.widget-view+json": {
       "model_id": "b1658fbf78864a6fa70f6fee830f969e",
       "version_major": 2,
       "version_minor": 0
      },
      "text/plain": [
       "Predicting: 0it [00:00, ?it/s]"
      ]
     },
     "metadata": {},
     "output_type": "display_data"
    },
    {
     "name": "stderr",
     "output_type": "stream",
     "text": [
      "[I 2023-06-22 19:52:06,973] Trial 22 finished with value: 155.86614457152416 and parameters: {'input_chunk_length': 31, 'kernel_size': 2, 'num_filters': 1, 'num_layers': 3, 'dilation_base': 3, 'dropout': 0.3}. Best is trial 8 with value: 119.10328796189455.\n",
      "GPU available: True (cuda), used: True\n",
      "TPU available: False, using: 0 TPU cores\n",
      "IPU available: False, using: 0 IPUs\n",
      "HPU available: False, using: 0 HPUs\n",
      "LOCAL_RANK: 0 - CUDA_VISIBLE_DEVICES: [1]\n"
     ]
    },
    {
     "name": "stdout",
     "output_type": "stream",
     "text": [
      "Current value: 155.86614457152416, Current params: {'input_chunk_length': 31, 'kernel_size': 2, 'num_filters': 1, 'num_layers': 3, 'dilation_base': 3, 'dropout': 0.3}\n",
      "Best value: 119.10328796189455, Best params: {'input_chunk_length': 180, 'kernel_size': 3, 'num_filters': 1, 'num_layers': 3, 'dilation_base': 2, 'dropout': 0.2}\n"
     ]
    },
    {
     "name": "stderr",
     "output_type": "stream",
     "text": [
      "`Trainer.fit` stopped: `max_epochs=400` reached.\n",
      "GPU available: True (cuda), used: True\n",
      "TPU available: False, using: 0 TPU cores\n",
      "IPU available: False, using: 0 IPUs\n",
      "HPU available: False, using: 0 HPUs\n",
      "LOCAL_RANK: 0 - CUDA_VISIBLE_DEVICES: [1]\n"
     ]
    },
    {
     "data": {
      "application/vnd.jupyter.widget-view+json": {
       "model_id": "3ba421620bdf408183ef85d19a529175",
       "version_major": 2,
       "version_minor": 0
      },
      "text/plain": [
       "Predicting: 0it [00:00, ?it/s]"
      ]
     },
     "metadata": {},
     "output_type": "display_data"
    },
    {
     "name": "stderr",
     "output_type": "stream",
     "text": [
      "[I 2023-06-22 19:53:18,436] Trial 23 finished with value: 138.39288783980282 and parameters: {'input_chunk_length': 31, 'kernel_size': 2, 'num_filters': 1, 'num_layers': 3, 'dilation_base': 3, 'dropout': 0.3}. Best is trial 8 with value: 119.10328796189455.\n",
      "GPU available: True (cuda), used: True\n",
      "TPU available: False, using: 0 TPU cores\n",
      "IPU available: False, using: 0 IPUs\n",
      "HPU available: False, using: 0 HPUs\n",
      "LOCAL_RANK: 0 - CUDA_VISIBLE_DEVICES: [1]\n"
     ]
    },
    {
     "name": "stdout",
     "output_type": "stream",
     "text": [
      "Current value: 138.39288783980282, Current params: {'input_chunk_length': 31, 'kernel_size': 2, 'num_filters': 1, 'num_layers': 3, 'dilation_base': 3, 'dropout': 0.3}\n",
      "Best value: 119.10328796189455, Best params: {'input_chunk_length': 180, 'kernel_size': 3, 'num_filters': 1, 'num_layers': 3, 'dilation_base': 2, 'dropout': 0.2}\n"
     ]
    },
    {
     "name": "stderr",
     "output_type": "stream",
     "text": [
      "`Trainer.fit` stopped: `max_epochs=400` reached.\n",
      "GPU available: True (cuda), used: True\n",
      "TPU available: False, using: 0 TPU cores\n",
      "IPU available: False, using: 0 IPUs\n",
      "HPU available: False, using: 0 HPUs\n",
      "LOCAL_RANK: 0 - CUDA_VISIBLE_DEVICES: [1]\n"
     ]
    },
    {
     "data": {
      "application/vnd.jupyter.widget-view+json": {
       "model_id": "a3add71091f54ee6bef526df97dbb11a",
       "version_major": 2,
       "version_minor": 0
      },
      "text/plain": [
       "Predicting: 0it [00:00, ?it/s]"
      ]
     },
     "metadata": {},
     "output_type": "display_data"
    },
    {
     "name": "stderr",
     "output_type": "stream",
     "text": [
      "[I 2023-06-22 19:54:26,501] Trial 24 finished with value: 148.44575263697993 and parameters: {'input_chunk_length': 31, 'kernel_size': 2, 'num_filters': 1, 'num_layers': 3, 'dilation_base': 3, 'dropout': 0.3}. Best is trial 8 with value: 119.10328796189455.\n",
      "GPU available: True (cuda), used: True\n",
      "TPU available: False, using: 0 TPU cores\n",
      "IPU available: False, using: 0 IPUs\n",
      "HPU available: False, using: 0 HPUs\n",
      "LOCAL_RANK: 0 - CUDA_VISIBLE_DEVICES: [1]\n"
     ]
    },
    {
     "name": "stdout",
     "output_type": "stream",
     "text": [
      "Current value: 148.44575263697993, Current params: {'input_chunk_length': 31, 'kernel_size': 2, 'num_filters': 1, 'num_layers': 3, 'dilation_base': 3, 'dropout': 0.3}\n",
      "Best value: 119.10328796189455, Best params: {'input_chunk_length': 180, 'kernel_size': 3, 'num_filters': 1, 'num_layers': 3, 'dilation_base': 2, 'dropout': 0.2}\n"
     ]
    },
    {
     "name": "stderr",
     "output_type": "stream",
     "text": [
      "`Trainer.fit` stopped: `max_epochs=400` reached.\n",
      "GPU available: True (cuda), used: True\n",
      "TPU available: False, using: 0 TPU cores\n",
      "IPU available: False, using: 0 IPUs\n",
      "HPU available: False, using: 0 HPUs\n",
      "LOCAL_RANK: 0 - CUDA_VISIBLE_DEVICES: [1]\n"
     ]
    },
    {
     "data": {
      "application/vnd.jupyter.widget-view+json": {
       "model_id": "aea3c4d6ea11452daea0e548b54859ef",
       "version_major": 2,
       "version_minor": 0
      },
      "text/plain": [
       "Predicting: 0it [00:00, ?it/s]"
      ]
     },
     "metadata": {},
     "output_type": "display_data"
    },
    {
     "name": "stderr",
     "output_type": "stream",
     "text": [
      "[I 2023-06-22 19:55:43,425] Trial 25 finished with value: 152.2545759425271 and parameters: {'input_chunk_length': 31, 'kernel_size': 3, 'num_filters': 1, 'num_layers': None, 'dilation_base': 2, 'dropout': 0.2}. Best is trial 8 with value: 119.10328796189455.\n",
      "GPU available: True (cuda), used: True\n",
      "TPU available: False, using: 0 TPU cores\n",
      "IPU available: False, using: 0 IPUs\n",
      "HPU available: False, using: 0 HPUs\n",
      "LOCAL_RANK: 0 - CUDA_VISIBLE_DEVICES: [1]\n"
     ]
    },
    {
     "name": "stdout",
     "output_type": "stream",
     "text": [
      "Current value: 152.2545759425271, Current params: {'input_chunk_length': 31, 'kernel_size': 3, 'num_filters': 1, 'num_layers': None, 'dilation_base': 2, 'dropout': 0.2}\n",
      "Best value: 119.10328796189455, Best params: {'input_chunk_length': 180, 'kernel_size': 3, 'num_filters': 1, 'num_layers': 3, 'dilation_base': 2, 'dropout': 0.2}\n"
     ]
    },
    {
     "name": "stderr",
     "output_type": "stream",
     "text": [
      "`Trainer.fit` stopped: `max_epochs=400` reached.\n",
      "GPU available: True (cuda), used: True\n",
      "TPU available: False, using: 0 TPU cores\n",
      "IPU available: False, using: 0 IPUs\n",
      "HPU available: False, using: 0 HPUs\n",
      "LOCAL_RANK: 0 - CUDA_VISIBLE_DEVICES: [1]\n"
     ]
    },
    {
     "data": {
      "application/vnd.jupyter.widget-view+json": {
       "model_id": "0534947ddcee4734bf9270cbf9d1e8ec",
       "version_major": 2,
       "version_minor": 0
      },
      "text/plain": [
       "Predicting: 0it [00:00, ?it/s]"
      ]
     },
     "metadata": {},
     "output_type": "display_data"
    },
    {
     "name": "stderr",
     "output_type": "stream",
     "text": [
      "[I 2023-06-22 19:57:02,835] Trial 26 finished with value: 139.73881477886246 and parameters: {'input_chunk_length': 356, 'kernel_size': 2, 'num_filters': 1, 'num_layers': 1, 'dilation_base': 3, 'dropout': 0.3}. Best is trial 8 with value: 119.10328796189455.\n",
      "GPU available: True (cuda), used: True\n",
      "TPU available: False, using: 0 TPU cores\n",
      "IPU available: False, using: 0 IPUs\n",
      "HPU available: False, using: 0 HPUs\n",
      "LOCAL_RANK: 0 - CUDA_VISIBLE_DEVICES: [1]\n"
     ]
    },
    {
     "name": "stdout",
     "output_type": "stream",
     "text": [
      "Current value: 139.73881477886246, Current params: {'input_chunk_length': 356, 'kernel_size': 2, 'num_filters': 1, 'num_layers': 1, 'dilation_base': 3, 'dropout': 0.3}\n",
      "Best value: 119.10328796189455, Best params: {'input_chunk_length': 180, 'kernel_size': 3, 'num_filters': 1, 'num_layers': 3, 'dilation_base': 2, 'dropout': 0.2}\n"
     ]
    },
    {
     "name": "stderr",
     "output_type": "stream",
     "text": [
      "`Trainer.fit` stopped: `max_epochs=400` reached.\n",
      "GPU available: True (cuda), used: True\n",
      "TPU available: False, using: 0 TPU cores\n",
      "IPU available: False, using: 0 IPUs\n",
      "HPU available: False, using: 0 HPUs\n",
      "LOCAL_RANK: 0 - CUDA_VISIBLE_DEVICES: [1]\n"
     ]
    },
    {
     "data": {
      "application/vnd.jupyter.widget-view+json": {
       "model_id": "8aa03e458cc442388e024607cf170585",
       "version_major": 2,
       "version_minor": 0
      },
      "text/plain": [
       "Predicting: 0it [00:00, ?it/s]"
      ]
     },
     "metadata": {},
     "output_type": "display_data"
    },
    {
     "name": "stderr",
     "output_type": "stream",
     "text": [
      "[I 2023-06-22 19:58:20,010] Trial 27 finished with value: 133.91392792895942 and parameters: {'input_chunk_length': 60, 'kernel_size': 2, 'num_filters': 1, 'num_layers': 2, 'dilation_base': 3, 'dropout': 0.3}. Best is trial 8 with value: 119.10328796189455.\n",
      "GPU available: True (cuda), used: True\n",
      "TPU available: False, using: 0 TPU cores\n",
      "IPU available: False, using: 0 IPUs\n",
      "HPU available: False, using: 0 HPUs\n",
      "LOCAL_RANK: 0 - CUDA_VISIBLE_DEVICES: [1]\n"
     ]
    },
    {
     "name": "stdout",
     "output_type": "stream",
     "text": [
      "Current value: 133.91392792895942, Current params: {'input_chunk_length': 60, 'kernel_size': 2, 'num_filters': 1, 'num_layers': 2, 'dilation_base': 3, 'dropout': 0.3}\n",
      "Best value: 119.10328796189455, Best params: {'input_chunk_length': 180, 'kernel_size': 3, 'num_filters': 1, 'num_layers': 3, 'dilation_base': 2, 'dropout': 0.2}\n"
     ]
    },
    {
     "name": "stderr",
     "output_type": "stream",
     "text": [
      "`Trainer.fit` stopped: `max_epochs=400` reached.\n",
      "GPU available: True (cuda), used: True\n",
      "TPU available: False, using: 0 TPU cores\n",
      "IPU available: False, using: 0 IPUs\n",
      "HPU available: False, using: 0 HPUs\n",
      "LOCAL_RANK: 0 - CUDA_VISIBLE_DEVICES: [1]\n"
     ]
    },
    {
     "data": {
      "application/vnd.jupyter.widget-view+json": {
       "model_id": "9c056035b5784dc6a3e5019949d81e4b",
       "version_major": 2,
       "version_minor": 0
      },
      "text/plain": [
       "Predicting: 0it [00:00, ?it/s]"
      ]
     },
     "metadata": {},
     "output_type": "display_data"
    },
    {
     "name": "stderr",
     "output_type": "stream",
     "text": [
      "[I 2023-06-22 19:59:27,584] Trial 28 finished with value: 168.74081243582643 and parameters: {'input_chunk_length': 356, 'kernel_size': 5, 'num_filters': 5, 'num_layers': 3, 'dilation_base': 1, 'dropout': 0.1}. Best is trial 8 with value: 119.10328796189455.\n",
      "GPU available: True (cuda), used: True\n",
      "TPU available: False, using: 0 TPU cores\n",
      "IPU available: False, using: 0 IPUs\n",
      "HPU available: False, using: 0 HPUs\n",
      "LOCAL_RANK: 0 - CUDA_VISIBLE_DEVICES: [1]\n"
     ]
    },
    {
     "name": "stdout",
     "output_type": "stream",
     "text": [
      "Current value: 168.74081243582643, Current params: {'input_chunk_length': 356, 'kernel_size': 5, 'num_filters': 5, 'num_layers': 3, 'dilation_base': 1, 'dropout': 0.1}\n",
      "Best value: 119.10328796189455, Best params: {'input_chunk_length': 180, 'kernel_size': 3, 'num_filters': 1, 'num_layers': 3, 'dilation_base': 2, 'dropout': 0.2}\n"
     ]
    },
    {
     "name": "stderr",
     "output_type": "stream",
     "text": [
      "`Trainer.fit` stopped: `max_epochs=400` reached.\n",
      "GPU available: True (cuda), used: True\n",
      "TPU available: False, using: 0 TPU cores\n",
      "IPU available: False, using: 0 IPUs\n",
      "HPU available: False, using: 0 HPUs\n",
      "LOCAL_RANK: 0 - CUDA_VISIBLE_DEVICES: [1]\n"
     ]
    },
    {
     "data": {
      "application/vnd.jupyter.widget-view+json": {
       "model_id": "b4bdea18590f44c4a42f69933d581dcd",
       "version_major": 2,
       "version_minor": 0
      },
      "text/plain": [
       "Predicting: 0it [00:00, ?it/s]"
      ]
     },
     "metadata": {},
     "output_type": "display_data"
    },
    {
     "name": "stderr",
     "output_type": "stream",
     "text": [
      "[I 2023-06-22 20:00:39,381] Trial 29 finished with value: 155.3168083395324 and parameters: {'input_chunk_length': 60, 'kernel_size': 3, 'num_filters': 3, 'num_layers': 2, 'dilation_base': 2, 'dropout': 0.2}. Best is trial 8 with value: 119.10328796189455.\n",
      "GPU available: True (cuda), used: True\n",
      "TPU available: False, using: 0 TPU cores\n",
      "IPU available: False, using: 0 IPUs\n",
      "HPU available: False, using: 0 HPUs\n",
      "LOCAL_RANK: 0 - CUDA_VISIBLE_DEVICES: [1]\n"
     ]
    },
    {
     "name": "stdout",
     "output_type": "stream",
     "text": [
      "Current value: 155.3168083395324, Current params: {'input_chunk_length': 60, 'kernel_size': 3, 'num_filters': 3, 'num_layers': 2, 'dilation_base': 2, 'dropout': 0.2}\n",
      "Best value: 119.10328796189455, Best params: {'input_chunk_length': 180, 'kernel_size': 3, 'num_filters': 1, 'num_layers': 3, 'dilation_base': 2, 'dropout': 0.2}\n"
     ]
    },
    {
     "name": "stderr",
     "output_type": "stream",
     "text": [
      "`Trainer.fit` stopped: `max_epochs=400` reached.\n",
      "GPU available: True (cuda), used: True\n",
      "TPU available: False, using: 0 TPU cores\n",
      "IPU available: False, using: 0 IPUs\n",
      "HPU available: False, using: 0 HPUs\n",
      "LOCAL_RANK: 0 - CUDA_VISIBLE_DEVICES: [1]\n"
     ]
    },
    {
     "data": {
      "application/vnd.jupyter.widget-view+json": {
       "model_id": "c14a067d1fbd4522b1fe191095bbd8b1",
       "version_major": 2,
       "version_minor": 0
      },
      "text/plain": [
       "Predicting: 0it [00:00, ?it/s]"
      ]
     },
     "metadata": {},
     "output_type": "display_data"
    },
    {
     "name": "stderr",
     "output_type": "stream",
     "text": [
      "[I 2023-06-22 20:01:58,836] Trial 30 finished with value: 152.79853528619876 and parameters: {'input_chunk_length': 31, 'kernel_size': 3, 'num_filters': 5, 'num_layers': None, 'dilation_base': 1, 'dropout': 0.2}. Best is trial 8 with value: 119.10328796189455.\n",
      "GPU available: True (cuda), used: True\n",
      "TPU available: False, using: 0 TPU cores\n",
      "IPU available: False, using: 0 IPUs\n",
      "HPU available: False, using: 0 HPUs\n",
      "LOCAL_RANK: 0 - CUDA_VISIBLE_DEVICES: [1]\n"
     ]
    },
    {
     "name": "stdout",
     "output_type": "stream",
     "text": [
      "Current value: 152.79853528619876, Current params: {'input_chunk_length': 31, 'kernel_size': 3, 'num_filters': 5, 'num_layers': None, 'dilation_base': 1, 'dropout': 0.2}\n",
      "Best value: 119.10328796189455, Best params: {'input_chunk_length': 180, 'kernel_size': 3, 'num_filters': 1, 'num_layers': 3, 'dilation_base': 2, 'dropout': 0.2}\n"
     ]
    },
    {
     "name": "stderr",
     "output_type": "stream",
     "text": [
      "`Trainer.fit` stopped: `max_epochs=400` reached.\n",
      "GPU available: True (cuda), used: True\n",
      "TPU available: False, using: 0 TPU cores\n",
      "IPU available: False, using: 0 IPUs\n",
      "HPU available: False, using: 0 HPUs\n",
      "LOCAL_RANK: 0 - CUDA_VISIBLE_DEVICES: [1]\n"
     ]
    },
    {
     "data": {
      "application/vnd.jupyter.widget-view+json": {
       "model_id": "fb6e9892643241bfafe63d9602a35022",
       "version_major": 2,
       "version_minor": 0
      },
      "text/plain": [
       "Predicting: 0it [00:00, ?it/s]"
      ]
     },
     "metadata": {},
     "output_type": "display_data"
    },
    {
     "name": "stderr",
     "output_type": "stream",
     "text": [
      "[I 2023-06-22 20:03:14,654] Trial 31 finished with value: 150.5607756394166 and parameters: {'input_chunk_length': 180, 'kernel_size': 3, 'num_filters': 1, 'num_layers': 3, 'dilation_base': 2, 'dropout': 0.2}. Best is trial 8 with value: 119.10328796189455.\n",
      "GPU available: True (cuda), used: True\n",
      "TPU available: False, using: 0 TPU cores\n",
      "IPU available: False, using: 0 IPUs\n",
      "HPU available: False, using: 0 HPUs\n",
      "LOCAL_RANK: 0 - CUDA_VISIBLE_DEVICES: [1]\n"
     ]
    },
    {
     "name": "stdout",
     "output_type": "stream",
     "text": [
      "Current value: 150.5607756394166, Current params: {'input_chunk_length': 180, 'kernel_size': 3, 'num_filters': 1, 'num_layers': 3, 'dilation_base': 2, 'dropout': 0.2}\n",
      "Best value: 119.10328796189455, Best params: {'input_chunk_length': 180, 'kernel_size': 3, 'num_filters': 1, 'num_layers': 3, 'dilation_base': 2, 'dropout': 0.2}\n"
     ]
    },
    {
     "name": "stderr",
     "output_type": "stream",
     "text": [
      "`Trainer.fit` stopped: `max_epochs=400` reached.\n",
      "GPU available: True (cuda), used: True\n",
      "TPU available: False, using: 0 TPU cores\n",
      "IPU available: False, using: 0 IPUs\n",
      "HPU available: False, using: 0 HPUs\n",
      "LOCAL_RANK: 0 - CUDA_VISIBLE_DEVICES: [1]\n"
     ]
    },
    {
     "data": {
      "application/vnd.jupyter.widget-view+json": {
       "model_id": "be045e1da0e04eae9b1c4926d61817de",
       "version_major": 2,
       "version_minor": 0
      },
      "text/plain": [
       "Predicting: 0it [00:00, ?it/s]"
      ]
     },
     "metadata": {},
     "output_type": "display_data"
    },
    {
     "name": "stderr",
     "output_type": "stream",
     "text": [
      "[I 2023-06-22 20:04:28,140] Trial 32 finished with value: 124.21789621096828 and parameters: {'input_chunk_length': 180, 'kernel_size': 3, 'num_filters': 1, 'num_layers': 3, 'dilation_base': 2, 'dropout': 0.2}. Best is trial 8 with value: 119.10328796189455.\n",
      "GPU available: True (cuda), used: True\n",
      "TPU available: False, using: 0 TPU cores\n",
      "IPU available: False, using: 0 IPUs\n",
      "HPU available: False, using: 0 HPUs\n",
      "LOCAL_RANK: 0 - CUDA_VISIBLE_DEVICES: [1]\n"
     ]
    },
    {
     "name": "stdout",
     "output_type": "stream",
     "text": [
      "Current value: 124.21789621096828, Current params: {'input_chunk_length': 180, 'kernel_size': 3, 'num_filters': 1, 'num_layers': 3, 'dilation_base': 2, 'dropout': 0.2}\n",
      "Best value: 119.10328796189455, Best params: {'input_chunk_length': 180, 'kernel_size': 3, 'num_filters': 1, 'num_layers': 3, 'dilation_base': 2, 'dropout': 0.2}\n"
     ]
    },
    {
     "name": "stderr",
     "output_type": "stream",
     "text": [
      "`Trainer.fit` stopped: `max_epochs=400` reached.\n",
      "GPU available: True (cuda), used: True\n",
      "TPU available: False, using: 0 TPU cores\n",
      "IPU available: False, using: 0 IPUs\n",
      "HPU available: False, using: 0 HPUs\n",
      "LOCAL_RANK: 0 - CUDA_VISIBLE_DEVICES: [1]\n"
     ]
    },
    {
     "data": {
      "application/vnd.jupyter.widget-view+json": {
       "model_id": "563bac62ec324b9ebc97b94b35af84ed",
       "version_major": 2,
       "version_minor": 0
      },
      "text/plain": [
       "Predicting: 0it [00:00, ?it/s]"
      ]
     },
     "metadata": {},
     "output_type": "display_data"
    },
    {
     "name": "stderr",
     "output_type": "stream",
     "text": [
      "[I 2023-06-22 20:05:39,626] Trial 33 finished with value: 122.59266488628901 and parameters: {'input_chunk_length': 180, 'kernel_size': 3, 'num_filters': 1, 'num_layers': 3, 'dilation_base': 2, 'dropout': 0.2}. Best is trial 8 with value: 119.10328796189455.\n",
      "GPU available: True (cuda), used: True\n",
      "TPU available: False, using: 0 TPU cores\n",
      "IPU available: False, using: 0 IPUs\n",
      "HPU available: False, using: 0 HPUs\n",
      "LOCAL_RANK: 0 - CUDA_VISIBLE_DEVICES: [1]\n"
     ]
    },
    {
     "name": "stdout",
     "output_type": "stream",
     "text": [
      "Current value: 122.59266488628901, Current params: {'input_chunk_length': 180, 'kernel_size': 3, 'num_filters': 1, 'num_layers': 3, 'dilation_base': 2, 'dropout': 0.2}\n",
      "Best value: 119.10328796189455, Best params: {'input_chunk_length': 180, 'kernel_size': 3, 'num_filters': 1, 'num_layers': 3, 'dilation_base': 2, 'dropout': 0.2}\n"
     ]
    },
    {
     "name": "stderr",
     "output_type": "stream",
     "text": [
      "`Trainer.fit` stopped: `max_epochs=400` reached.\n",
      "GPU available: True (cuda), used: True\n",
      "TPU available: False, using: 0 TPU cores\n",
      "IPU available: False, using: 0 IPUs\n",
      "HPU available: False, using: 0 HPUs\n",
      "LOCAL_RANK: 0 - CUDA_VISIBLE_DEVICES: [1]\n"
     ]
    },
    {
     "data": {
      "application/vnd.jupyter.widget-view+json": {
       "model_id": "5493ec096d28486ab397aaa7ec527ebc",
       "version_major": 2,
       "version_minor": 0
      },
      "text/plain": [
       "Predicting: 0it [00:00, ?it/s]"
      ]
     },
     "metadata": {},
     "output_type": "display_data"
    },
    {
     "name": "stderr",
     "output_type": "stream",
     "text": [
      "[I 2023-06-22 20:06:52,719] Trial 34 finished with value: 143.9969718571986 and parameters: {'input_chunk_length': 180, 'kernel_size': 3, 'num_filters': 1, 'num_layers': 3, 'dilation_base': 2, 'dropout': 0.2}. Best is trial 8 with value: 119.10328796189455.\n",
      "GPU available: True (cuda), used: True\n",
      "TPU available: False, using: 0 TPU cores\n",
      "IPU available: False, using: 0 IPUs\n",
      "HPU available: False, using: 0 HPUs\n",
      "LOCAL_RANK: 0 - CUDA_VISIBLE_DEVICES: [1]\n"
     ]
    },
    {
     "name": "stdout",
     "output_type": "stream",
     "text": [
      "Current value: 143.9969718571986, Current params: {'input_chunk_length': 180, 'kernel_size': 3, 'num_filters': 1, 'num_layers': 3, 'dilation_base': 2, 'dropout': 0.2}\n",
      "Best value: 119.10328796189455, Best params: {'input_chunk_length': 180, 'kernel_size': 3, 'num_filters': 1, 'num_layers': 3, 'dilation_base': 2, 'dropout': 0.2}\n"
     ]
    },
    {
     "name": "stderr",
     "output_type": "stream",
     "text": [
      "`Trainer.fit` stopped: `max_epochs=400` reached.\n",
      "GPU available: True (cuda), used: True\n",
      "TPU available: False, using: 0 TPU cores\n",
      "IPU available: False, using: 0 IPUs\n",
      "HPU available: False, using: 0 HPUs\n",
      "LOCAL_RANK: 0 - CUDA_VISIBLE_DEVICES: [1]\n"
     ]
    },
    {
     "data": {
      "application/vnd.jupyter.widget-view+json": {
       "model_id": "91359d0b73ca489db314c1da39214f8e",
       "version_major": 2,
       "version_minor": 0
      },
      "text/plain": [
       "Predicting: 0it [00:00, ?it/s]"
      ]
     },
     "metadata": {},
     "output_type": "display_data"
    },
    {
     "name": "stderr",
     "output_type": "stream",
     "text": [
      "[I 2023-06-22 20:08:06,095] Trial 35 finished with value: 144.57437610469356 and parameters: {'input_chunk_length': 180, 'kernel_size': 3, 'num_filters': 1, 'num_layers': 3, 'dilation_base': 2, 'dropout': 0.2}. Best is trial 8 with value: 119.10328796189455.\n",
      "GPU available: True (cuda), used: True\n",
      "TPU available: False, using: 0 TPU cores\n",
      "IPU available: False, using: 0 IPUs\n",
      "HPU available: False, using: 0 HPUs\n",
      "LOCAL_RANK: 0 - CUDA_VISIBLE_DEVICES: [1]\n"
     ]
    },
    {
     "name": "stdout",
     "output_type": "stream",
     "text": [
      "Current value: 144.57437610469356, Current params: {'input_chunk_length': 180, 'kernel_size': 3, 'num_filters': 1, 'num_layers': 3, 'dilation_base': 2, 'dropout': 0.2}\n",
      "Best value: 119.10328796189455, Best params: {'input_chunk_length': 180, 'kernel_size': 3, 'num_filters': 1, 'num_layers': 3, 'dilation_base': 2, 'dropout': 0.2}\n"
     ]
    },
    {
     "name": "stderr",
     "output_type": "stream",
     "text": [
      "`Trainer.fit` stopped: `max_epochs=400` reached.\n",
      "GPU available: True (cuda), used: True\n",
      "TPU available: False, using: 0 TPU cores\n",
      "IPU available: False, using: 0 IPUs\n",
      "HPU available: False, using: 0 HPUs\n",
      "LOCAL_RANK: 0 - CUDA_VISIBLE_DEVICES: [1]\n"
     ]
    },
    {
     "data": {
      "application/vnd.jupyter.widget-view+json": {
       "model_id": "721925e42c70444b9f1283fd69712ab6",
       "version_major": 2,
       "version_minor": 0
      },
      "text/plain": [
       "Predicting: 0it [00:00, ?it/s]"
      ]
     },
     "metadata": {},
     "output_type": "display_data"
    },
    {
     "name": "stderr",
     "output_type": "stream",
     "text": [
      "[I 2023-06-22 20:09:19,189] Trial 36 finished with value: 152.5218068828807 and parameters: {'input_chunk_length': 180, 'kernel_size': 3, 'num_filters': 5, 'num_layers': 1, 'dilation_base': 2, 'dropout': 0.2}. Best is trial 8 with value: 119.10328796189455.\n",
      "GPU available: True (cuda), used: True\n",
      "TPU available: False, using: 0 TPU cores\n",
      "IPU available: False, using: 0 IPUs\n",
      "HPU available: False, using: 0 HPUs\n",
      "LOCAL_RANK: 0 - CUDA_VISIBLE_DEVICES: [1]\n"
     ]
    },
    {
     "name": "stdout",
     "output_type": "stream",
     "text": [
      "Current value: 152.5218068828807, Current params: {'input_chunk_length': 180, 'kernel_size': 3, 'num_filters': 5, 'num_layers': 1, 'dilation_base': 2, 'dropout': 0.2}\n",
      "Best value: 119.10328796189455, Best params: {'input_chunk_length': 180, 'kernel_size': 3, 'num_filters': 1, 'num_layers': 3, 'dilation_base': 2, 'dropout': 0.2}\n"
     ]
    },
    {
     "name": "stderr",
     "output_type": "stream",
     "text": [
      "`Trainer.fit` stopped: `max_epochs=400` reached.\n",
      "GPU available: True (cuda), used: True\n",
      "TPU available: False, using: 0 TPU cores\n",
      "IPU available: False, using: 0 IPUs\n",
      "HPU available: False, using: 0 HPUs\n",
      "LOCAL_RANK: 0 - CUDA_VISIBLE_DEVICES: [1]\n"
     ]
    },
    {
     "data": {
      "application/vnd.jupyter.widget-view+json": {
       "model_id": "46554bf180e64088beb8269f2f984842",
       "version_major": 2,
       "version_minor": 0
      },
      "text/plain": [
       "Predicting: 0it [00:00, ?it/s]"
      ]
     },
     "metadata": {},
     "output_type": "display_data"
    },
    {
     "name": "stderr",
     "output_type": "stream",
     "text": [
      "[I 2023-06-22 20:10:30,176] Trial 37 finished with value: 132.20238831761267 and parameters: {'input_chunk_length': 180, 'kernel_size': 3, 'num_filters': 1, 'num_layers': 3, 'dilation_base': 2, 'dropout': 0.2}. Best is trial 8 with value: 119.10328796189455.\n",
      "GPU available: True (cuda), used: True\n",
      "TPU available: False, using: 0 TPU cores\n",
      "IPU available: False, using: 0 IPUs\n",
      "HPU available: False, using: 0 HPUs\n",
      "LOCAL_RANK: 0 - CUDA_VISIBLE_DEVICES: [1]\n"
     ]
    },
    {
     "name": "stdout",
     "output_type": "stream",
     "text": [
      "Current value: 132.20238831761267, Current params: {'input_chunk_length': 180, 'kernel_size': 3, 'num_filters': 1, 'num_layers': 3, 'dilation_base': 2, 'dropout': 0.2}\n",
      "Best value: 119.10328796189455, Best params: {'input_chunk_length': 180, 'kernel_size': 3, 'num_filters': 1, 'num_layers': 3, 'dilation_base': 2, 'dropout': 0.2}\n"
     ]
    },
    {
     "name": "stderr",
     "output_type": "stream",
     "text": [
      "`Trainer.fit` stopped: `max_epochs=400` reached.\n",
      "GPU available: True (cuda), used: True\n",
      "TPU available: False, using: 0 TPU cores\n",
      "IPU available: False, using: 0 IPUs\n",
      "HPU available: False, using: 0 HPUs\n",
      "LOCAL_RANK: 0 - CUDA_VISIBLE_DEVICES: [1]\n"
     ]
    },
    {
     "data": {
      "application/vnd.jupyter.widget-view+json": {
       "model_id": "1c43bf5cc64e4c44b5f323a940dee2be",
       "version_major": 2,
       "version_minor": 0
      },
      "text/plain": [
       "Predicting: 0it [00:00, ?it/s]"
      ]
     },
     "metadata": {},
     "output_type": "display_data"
    },
    {
     "name": "stderr",
     "output_type": "stream",
     "text": [
      "[I 2023-06-22 20:11:43,683] Trial 38 finished with value: 135.5676233496139 and parameters: {'input_chunk_length': 180, 'kernel_size': 3, 'num_filters': 1, 'num_layers': 2, 'dilation_base': 1, 'dropout': 0.2}. Best is trial 8 with value: 119.10328796189455.\n",
      "GPU available: True (cuda), used: True\n",
      "TPU available: False, using: 0 TPU cores\n",
      "IPU available: False, using: 0 IPUs\n",
      "HPU available: False, using: 0 HPUs\n",
      "LOCAL_RANK: 0 - CUDA_VISIBLE_DEVICES: [1]\n"
     ]
    },
    {
     "name": "stdout",
     "output_type": "stream",
     "text": [
      "Current value: 135.5676233496139, Current params: {'input_chunk_length': 180, 'kernel_size': 3, 'num_filters': 1, 'num_layers': 2, 'dilation_base': 1, 'dropout': 0.2}\n",
      "Best value: 119.10328796189455, Best params: {'input_chunk_length': 180, 'kernel_size': 3, 'num_filters': 1, 'num_layers': 3, 'dilation_base': 2, 'dropout': 0.2}\n"
     ]
    },
    {
     "name": "stderr",
     "output_type": "stream",
     "text": [
      "`Trainer.fit` stopped: `max_epochs=400` reached.\n",
      "GPU available: True (cuda), used: True\n",
      "TPU available: False, using: 0 TPU cores\n",
      "IPU available: False, using: 0 IPUs\n",
      "HPU available: False, using: 0 HPUs\n",
      "LOCAL_RANK: 0 - CUDA_VISIBLE_DEVICES: [1]\n"
     ]
    },
    {
     "data": {
      "application/vnd.jupyter.widget-view+json": {
       "model_id": "f7ba323e2d8a4cb3b21b2630d45b1a51",
       "version_major": 2,
       "version_minor": 0
      },
      "text/plain": [
       "Predicting: 0it [00:00, ?it/s]"
      ]
     },
     "metadata": {},
     "output_type": "display_data"
    },
    {
     "name": "stderr",
     "output_type": "stream",
     "text": [
      "[I 2023-06-22 20:12:56,266] Trial 39 finished with value: 131.418052122222 and parameters: {'input_chunk_length': 356, 'kernel_size': 3, 'num_filters': 3, 'num_layers': 1, 'dilation_base': 2, 'dropout': 0.1}. Best is trial 8 with value: 119.10328796189455.\n",
      "GPU available: True (cuda), used: True\n",
      "TPU available: False, using: 0 TPU cores\n",
      "IPU available: False, using: 0 IPUs\n",
      "HPU available: False, using: 0 HPUs\n",
      "LOCAL_RANK: 0 - CUDA_VISIBLE_DEVICES: [1]\n"
     ]
    },
    {
     "name": "stdout",
     "output_type": "stream",
     "text": [
      "Current value: 131.418052122222, Current params: {'input_chunk_length': 356, 'kernel_size': 3, 'num_filters': 3, 'num_layers': 1, 'dilation_base': 2, 'dropout': 0.1}\n",
      "Best value: 119.10328796189455, Best params: {'input_chunk_length': 180, 'kernel_size': 3, 'num_filters': 1, 'num_layers': 3, 'dilation_base': 2, 'dropout': 0.2}\n"
     ]
    },
    {
     "name": "stderr",
     "output_type": "stream",
     "text": [
      "`Trainer.fit` stopped: `max_epochs=400` reached.\n",
      "GPU available: True (cuda), used: True\n",
      "TPU available: False, using: 0 TPU cores\n",
      "IPU available: False, using: 0 IPUs\n",
      "HPU available: False, using: 0 HPUs\n",
      "LOCAL_RANK: 0 - CUDA_VISIBLE_DEVICES: [1]\n"
     ]
    },
    {
     "data": {
      "application/vnd.jupyter.widget-view+json": {
       "model_id": "42b2cdee235c41789bb068eac5f41f83",
       "version_major": 2,
       "version_minor": 0
      },
      "text/plain": [
       "Predicting: 0it [00:00, ?it/s]"
      ]
     },
     "metadata": {},
     "output_type": "display_data"
    },
    {
     "name": "stderr",
     "output_type": "stream",
     "text": [
      "[I 2023-06-22 20:14:07,441] Trial 40 finished with value: 115.06090781369282 and parameters: {'input_chunk_length': 180, 'kernel_size': 5, 'num_filters': 1, 'num_layers': None, 'dilation_base': 2, 'dropout': 0.2}. Best is trial 40 with value: 115.06090781369282.\n",
      "GPU available: True (cuda), used: True\n",
      "TPU available: False, using: 0 TPU cores\n",
      "IPU available: False, using: 0 IPUs\n",
      "HPU available: False, using: 0 HPUs\n",
      "LOCAL_RANK: 0 - CUDA_VISIBLE_DEVICES: [1]\n"
     ]
    },
    {
     "name": "stdout",
     "output_type": "stream",
     "text": [
      "Current value: 115.06090781369282, Current params: {'input_chunk_length': 180, 'kernel_size': 5, 'num_filters': 1, 'num_layers': None, 'dilation_base': 2, 'dropout': 0.2}\n",
      "Best value: 115.06090781369282, Best params: {'input_chunk_length': 180, 'kernel_size': 5, 'num_filters': 1, 'num_layers': None, 'dilation_base': 2, 'dropout': 0.2}\n"
     ]
    },
    {
     "name": "stderr",
     "output_type": "stream",
     "text": [
      "`Trainer.fit` stopped: `max_epochs=400` reached.\n",
      "GPU available: True (cuda), used: True\n",
      "TPU available: False, using: 0 TPU cores\n",
      "IPU available: False, using: 0 IPUs\n",
      "HPU available: False, using: 0 HPUs\n",
      "LOCAL_RANK: 0 - CUDA_VISIBLE_DEVICES: [1]\n"
     ]
    },
    {
     "data": {
      "application/vnd.jupyter.widget-view+json": {
       "model_id": "a8ffffc71b0543edbcec1618b409be66",
       "version_major": 2,
       "version_minor": 0
      },
      "text/plain": [
       "Predicting: 0it [00:00, ?it/s]"
      ]
     },
     "metadata": {},
     "output_type": "display_data"
    },
    {
     "name": "stderr",
     "output_type": "stream",
     "text": [
      "[I 2023-06-22 20:15:15,108] Trial 41 finished with value: 129.92119452916268 and parameters: {'input_chunk_length': 180, 'kernel_size': 5, 'num_filters': 1, 'num_layers': None, 'dilation_base': 2, 'dropout': 0.2}. Best is trial 40 with value: 115.06090781369282.\n",
      "GPU available: True (cuda), used: True\n",
      "TPU available: False, using: 0 TPU cores\n",
      "IPU available: False, using: 0 IPUs\n",
      "HPU available: False, using: 0 HPUs\n",
      "LOCAL_RANK: 0 - CUDA_VISIBLE_DEVICES: [1]\n"
     ]
    },
    {
     "name": "stdout",
     "output_type": "stream",
     "text": [
      "Current value: 129.92119452916268, Current params: {'input_chunk_length': 180, 'kernel_size': 5, 'num_filters': 1, 'num_layers': None, 'dilation_base': 2, 'dropout': 0.2}\n",
      "Best value: 115.06090781369282, Best params: {'input_chunk_length': 180, 'kernel_size': 5, 'num_filters': 1, 'num_layers': None, 'dilation_base': 2, 'dropout': 0.2}\n"
     ]
    },
    {
     "name": "stderr",
     "output_type": "stream",
     "text": [
      "`Trainer.fit` stopped: `max_epochs=400` reached.\n",
      "GPU available: True (cuda), used: True\n",
      "TPU available: False, using: 0 TPU cores\n",
      "IPU available: False, using: 0 IPUs\n",
      "HPU available: False, using: 0 HPUs\n",
      "LOCAL_RANK: 0 - CUDA_VISIBLE_DEVICES: [1]\n"
     ]
    },
    {
     "data": {
      "application/vnd.jupyter.widget-view+json": {
       "model_id": "4df795be64574a1fb130263dee42e274",
       "version_major": 2,
       "version_minor": 0
      },
      "text/plain": [
       "Predicting: 0it [00:00, ?it/s]"
      ]
     },
     "metadata": {},
     "output_type": "display_data"
    },
    {
     "name": "stderr",
     "output_type": "stream",
     "text": [
      "[I 2023-06-22 20:16:22,371] Trial 42 finished with value: 130.08413552815276 and parameters: {'input_chunk_length': 180, 'kernel_size': 5, 'num_filters': 1, 'num_layers': None, 'dilation_base': 2, 'dropout': 0.2}. Best is trial 40 with value: 115.06090781369282.\n",
      "GPU available: True (cuda), used: True\n",
      "TPU available: False, using: 0 TPU cores\n",
      "IPU available: False, using: 0 IPUs\n",
      "HPU available: False, using: 0 HPUs\n",
      "LOCAL_RANK: 0 - CUDA_VISIBLE_DEVICES: [1]\n"
     ]
    },
    {
     "name": "stdout",
     "output_type": "stream",
     "text": [
      "Current value: 130.08413552815276, Current params: {'input_chunk_length': 180, 'kernel_size': 5, 'num_filters': 1, 'num_layers': None, 'dilation_base': 2, 'dropout': 0.2}\n",
      "Best value: 115.06090781369282, Best params: {'input_chunk_length': 180, 'kernel_size': 5, 'num_filters': 1, 'num_layers': None, 'dilation_base': 2, 'dropout': 0.2}\n"
     ]
    },
    {
     "name": "stderr",
     "output_type": "stream",
     "text": [
      "`Trainer.fit` stopped: `max_epochs=400` reached.\n",
      "GPU available: True (cuda), used: True\n",
      "TPU available: False, using: 0 TPU cores\n",
      "IPU available: False, using: 0 IPUs\n",
      "HPU available: False, using: 0 HPUs\n",
      "LOCAL_RANK: 0 - CUDA_VISIBLE_DEVICES: [1]\n"
     ]
    },
    {
     "data": {
      "application/vnd.jupyter.widget-view+json": {
       "model_id": "4c661ce9a11a46af9bcc812038d407ff",
       "version_major": 2,
       "version_minor": 0
      },
      "text/plain": [
       "Predicting: 0it [00:00, ?it/s]"
      ]
     },
     "metadata": {},
     "output_type": "display_data"
    },
    {
     "name": "stderr",
     "output_type": "stream",
     "text": [
      "[I 2023-06-22 20:17:30,130] Trial 43 finished with value: 131.42286773266073 and parameters: {'input_chunk_length': 180, 'kernel_size': 5, 'num_filters': 1, 'num_layers': None, 'dilation_base': 2, 'dropout': 0.2}. Best is trial 40 with value: 115.06090781369282.\n",
      "GPU available: True (cuda), used: True\n",
      "TPU available: False, using: 0 TPU cores\n",
      "IPU available: False, using: 0 IPUs\n",
      "HPU available: False, using: 0 HPUs\n",
      "LOCAL_RANK: 0 - CUDA_VISIBLE_DEVICES: [1]\n"
     ]
    },
    {
     "name": "stdout",
     "output_type": "stream",
     "text": [
      "Current value: 131.42286773266073, Current params: {'input_chunk_length': 180, 'kernel_size': 5, 'num_filters': 1, 'num_layers': None, 'dilation_base': 2, 'dropout': 0.2}\n",
      "Best value: 115.06090781369282, Best params: {'input_chunk_length': 180, 'kernel_size': 5, 'num_filters': 1, 'num_layers': None, 'dilation_base': 2, 'dropout': 0.2}\n"
     ]
    },
    {
     "name": "stderr",
     "output_type": "stream",
     "text": [
      "`Trainer.fit` stopped: `max_epochs=400` reached.\n",
      "GPU available: True (cuda), used: True\n",
      "TPU available: False, using: 0 TPU cores\n",
      "IPU available: False, using: 0 IPUs\n",
      "HPU available: False, using: 0 HPUs\n",
      "LOCAL_RANK: 0 - CUDA_VISIBLE_DEVICES: [1]\n"
     ]
    },
    {
     "data": {
      "application/vnd.jupyter.widget-view+json": {
       "model_id": "a4c292686e874bd0b1b65ae2870e3f65",
       "version_major": 2,
       "version_minor": 0
      },
      "text/plain": [
       "Predicting: 0it [00:00, ?it/s]"
      ]
     },
     "metadata": {},
     "output_type": "display_data"
    },
    {
     "name": "stderr",
     "output_type": "stream",
     "text": [
      "[I 2023-06-22 20:18:38,010] Trial 44 finished with value: 125.92872713480754 and parameters: {'input_chunk_length': 180, 'kernel_size': 5, 'num_filters': 1, 'num_layers': None, 'dilation_base': 2, 'dropout': 0.2}. Best is trial 40 with value: 115.06090781369282.\n",
      "GPU available: True (cuda), used: True\n",
      "TPU available: False, using: 0 TPU cores\n",
      "IPU available: False, using: 0 IPUs\n",
      "HPU available: False, using: 0 HPUs\n",
      "LOCAL_RANK: 0 - CUDA_VISIBLE_DEVICES: [1]\n"
     ]
    },
    {
     "name": "stdout",
     "output_type": "stream",
     "text": [
      "Current value: 125.92872713480754, Current params: {'input_chunk_length': 180, 'kernel_size': 5, 'num_filters': 1, 'num_layers': None, 'dilation_base': 2, 'dropout': 0.2}\n",
      "Best value: 115.06090781369282, Best params: {'input_chunk_length': 180, 'kernel_size': 5, 'num_filters': 1, 'num_layers': None, 'dilation_base': 2, 'dropout': 0.2}\n"
     ]
    },
    {
     "name": "stderr",
     "output_type": "stream",
     "text": [
      "`Trainer.fit` stopped: `max_epochs=400` reached.\n",
      "GPU available: True (cuda), used: True\n",
      "TPU available: False, using: 0 TPU cores\n",
      "IPU available: False, using: 0 IPUs\n",
      "HPU available: False, using: 0 HPUs\n",
      "LOCAL_RANK: 0 - CUDA_VISIBLE_DEVICES: [1]\n"
     ]
    },
    {
     "data": {
      "application/vnd.jupyter.widget-view+json": {
       "model_id": "9ee8323131df4a29a30e9928c3d30f0a",
       "version_major": 2,
       "version_minor": 0
      },
      "text/plain": [
       "Predicting: 0it [00:00, ?it/s]"
      ]
     },
     "metadata": {},
     "output_type": "display_data"
    },
    {
     "name": "stderr",
     "output_type": "stream",
     "text": [
      "[I 2023-06-22 20:19:55,991] Trial 45 finished with value: 134.66079373617075 and parameters: {'input_chunk_length': 180, 'kernel_size': 3, 'num_filters': 1, 'num_layers': None, 'dilation_base': 2, 'dropout': 0.2}. Best is trial 40 with value: 115.06090781369282.\n",
      "GPU available: True (cuda), used: True\n",
      "TPU available: False, using: 0 TPU cores\n",
      "IPU available: False, using: 0 IPUs\n",
      "HPU available: False, using: 0 HPUs\n",
      "LOCAL_RANK: 0 - CUDA_VISIBLE_DEVICES: [1]\n"
     ]
    },
    {
     "name": "stdout",
     "output_type": "stream",
     "text": [
      "Current value: 134.66079373617075, Current params: {'input_chunk_length': 180, 'kernel_size': 3, 'num_filters': 1, 'num_layers': None, 'dilation_base': 2, 'dropout': 0.2}\n",
      "Best value: 115.06090781369282, Best params: {'input_chunk_length': 180, 'kernel_size': 5, 'num_filters': 1, 'num_layers': None, 'dilation_base': 2, 'dropout': 0.2}\n"
     ]
    },
    {
     "name": "stderr",
     "output_type": "stream",
     "text": [
      "`Trainer.fit` stopped: `max_epochs=400` reached.\n",
      "GPU available: True (cuda), used: True\n",
      "TPU available: False, using: 0 TPU cores\n",
      "IPU available: False, using: 0 IPUs\n",
      "HPU available: False, using: 0 HPUs\n",
      "LOCAL_RANK: 0 - CUDA_VISIBLE_DEVICES: [1]\n"
     ]
    },
    {
     "data": {
      "application/vnd.jupyter.widget-view+json": {
       "model_id": "ba35764ebb8f4b38b25a34d70caece3a",
       "version_major": 2,
       "version_minor": 0
      },
      "text/plain": [
       "Predicting: 0it [00:00, ?it/s]"
      ]
     },
     "metadata": {},
     "output_type": "display_data"
    },
    {
     "name": "stderr",
     "output_type": "stream",
     "text": [
      "[I 2023-06-22 20:20:57,154] Trial 46 finished with value: 156.67933509416275 and parameters: {'input_chunk_length': 356, 'kernel_size': 5, 'num_filters': 1, 'num_layers': 3, 'dilation_base': 2, 'dropout': 0.2}. Best is trial 40 with value: 115.06090781369282.\n",
      "GPU available: True (cuda), used: True\n",
      "TPU available: False, using: 0 TPU cores\n",
      "IPU available: False, using: 0 IPUs\n",
      "HPU available: False, using: 0 HPUs\n",
      "LOCAL_RANK: 0 - CUDA_VISIBLE_DEVICES: [1]\n"
     ]
    },
    {
     "name": "stdout",
     "output_type": "stream",
     "text": [
      "Current value: 156.67933509416275, Current params: {'input_chunk_length': 356, 'kernel_size': 5, 'num_filters': 1, 'num_layers': 3, 'dilation_base': 2, 'dropout': 0.2}\n",
      "Best value: 115.06090781369282, Best params: {'input_chunk_length': 180, 'kernel_size': 5, 'num_filters': 1, 'num_layers': None, 'dilation_base': 2, 'dropout': 0.2}\n"
     ]
    },
    {
     "name": "stderr",
     "output_type": "stream",
     "text": [
      "`Trainer.fit` stopped: `max_epochs=400` reached.\n",
      "GPU available: True (cuda), used: True\n",
      "TPU available: False, using: 0 TPU cores\n",
      "IPU available: False, using: 0 IPUs\n",
      "HPU available: False, using: 0 HPUs\n",
      "LOCAL_RANK: 0 - CUDA_VISIBLE_DEVICES: [1]\n"
     ]
    },
    {
     "data": {
      "application/vnd.jupyter.widget-view+json": {
       "model_id": "edc9ac963e7c4406a303ccf54183182f",
       "version_major": 2,
       "version_minor": 0
      },
      "text/plain": [
       "Predicting: 0it [00:00, ?it/s]"
      ]
     },
     "metadata": {},
     "output_type": "display_data"
    },
    {
     "name": "stderr",
     "output_type": "stream",
     "text": [
      "[I 2023-06-22 20:22:07,922] Trial 47 finished with value: 138.48683881283256 and parameters: {'input_chunk_length': 180, 'kernel_size': 3, 'num_filters': 1, 'num_layers': 3, 'dilation_base': 1, 'dropout': 0.1}. Best is trial 40 with value: 115.06090781369282.\n",
      "GPU available: True (cuda), used: True\n",
      "TPU available: False, using: 0 TPU cores\n",
      "IPU available: False, using: 0 IPUs\n",
      "HPU available: False, using: 0 HPUs\n",
      "LOCAL_RANK: 0 - CUDA_VISIBLE_DEVICES: [1]\n"
     ]
    },
    {
     "name": "stdout",
     "output_type": "stream",
     "text": [
      "Current value: 138.48683881283256, Current params: {'input_chunk_length': 180, 'kernel_size': 3, 'num_filters': 1, 'num_layers': 3, 'dilation_base': 1, 'dropout': 0.1}\n",
      "Best value: 115.06090781369282, Best params: {'input_chunk_length': 180, 'kernel_size': 5, 'num_filters': 1, 'num_layers': None, 'dilation_base': 2, 'dropout': 0.2}\n"
     ]
    },
    {
     "name": "stderr",
     "output_type": "stream",
     "text": [
      "`Trainer.fit` stopped: `max_epochs=400` reached.\n",
      "GPU available: True (cuda), used: True\n",
      "TPU available: False, using: 0 TPU cores\n",
      "IPU available: False, using: 0 IPUs\n",
      "HPU available: False, using: 0 HPUs\n",
      "LOCAL_RANK: 0 - CUDA_VISIBLE_DEVICES: [1]\n"
     ]
    },
    {
     "data": {
      "application/vnd.jupyter.widget-view+json": {
       "model_id": "2460f2b28feb46bfae8aa6ff6af75f76",
       "version_major": 2,
       "version_minor": 0
      },
      "text/plain": [
       "Predicting: 0it [00:00, ?it/s]"
      ]
     },
     "metadata": {},
     "output_type": "display_data"
    },
    {
     "name": "stderr",
     "output_type": "stream",
     "text": [
      "[I 2023-06-22 20:23:19,094] Trial 48 finished with value: 176.84969973392523 and parameters: {'input_chunk_length': 180, 'kernel_size': 3, 'num_filters': 5, 'num_layers': None, 'dilation_base': 2, 'dropout': 0.2}. Best is trial 40 with value: 115.06090781369282.\n",
      "GPU available: True (cuda), used: True\n",
      "TPU available: False, using: 0 TPU cores\n",
      "IPU available: False, using: 0 IPUs\n",
      "HPU available: False, using: 0 HPUs\n",
      "LOCAL_RANK: 0 - CUDA_VISIBLE_DEVICES: [1]\n"
     ]
    },
    {
     "name": "stdout",
     "output_type": "stream",
     "text": [
      "Current value: 176.84969973392523, Current params: {'input_chunk_length': 180, 'kernel_size': 3, 'num_filters': 5, 'num_layers': None, 'dilation_base': 2, 'dropout': 0.2}\n",
      "Best value: 115.06090781369282, Best params: {'input_chunk_length': 180, 'kernel_size': 5, 'num_filters': 1, 'num_layers': None, 'dilation_base': 2, 'dropout': 0.2}\n"
     ]
    },
    {
     "name": "stderr",
     "output_type": "stream",
     "text": [
      "`Trainer.fit` stopped: `max_epochs=400` reached.\n",
      "GPU available: True (cuda), used: True\n",
      "TPU available: False, using: 0 TPU cores\n",
      "IPU available: False, using: 0 IPUs\n",
      "HPU available: False, using: 0 HPUs\n",
      "LOCAL_RANK: 0 - CUDA_VISIBLE_DEVICES: [1]\n"
     ]
    },
    {
     "data": {
      "application/vnd.jupyter.widget-view+json": {
       "model_id": "703ff3990e764dfea587b0a49667a3d8",
       "version_major": 2,
       "version_minor": 0
      },
      "text/plain": [
       "Predicting: 0it [00:00, ?it/s]"
      ]
     },
     "metadata": {},
     "output_type": "display_data"
    },
    {
     "name": "stderr",
     "output_type": "stream",
     "text": [
      "[I 2023-06-22 20:24:29,741] Trial 49 finished with value: 168.6913010106045 and parameters: {'input_chunk_length': 60, 'kernel_size': 5, 'num_filters': 3, 'num_layers': 2, 'dilation_base': 2, 'dropout': 0.2}. Best is trial 40 with value: 115.06090781369282.\n",
      "GPU available: True (cuda), used: True\n",
      "TPU available: False, using: 0 TPU cores\n",
      "IPU available: False, using: 0 IPUs\n",
      "HPU available: False, using: 0 HPUs\n",
      "LOCAL_RANK: 0 - CUDA_VISIBLE_DEVICES: [1]\n"
     ]
    },
    {
     "name": "stdout",
     "output_type": "stream",
     "text": [
      "Current value: 168.6913010106045, Current params: {'input_chunk_length': 60, 'kernel_size': 5, 'num_filters': 3, 'num_layers': 2, 'dilation_base': 2, 'dropout': 0.2}\n",
      "Best value: 115.06090781369282, Best params: {'input_chunk_length': 180, 'kernel_size': 5, 'num_filters': 1, 'num_layers': None, 'dilation_base': 2, 'dropout': 0.2}\n"
     ]
    },
    {
     "name": "stderr",
     "output_type": "stream",
     "text": [
      "`Trainer.fit` stopped: `max_epochs=400` reached.\n",
      "GPU available: True (cuda), used: True\n",
      "TPU available: False, using: 0 TPU cores\n",
      "IPU available: False, using: 0 IPUs\n",
      "HPU available: False, using: 0 HPUs\n",
      "LOCAL_RANK: 0 - CUDA_VISIBLE_DEVICES: [1]\n"
     ]
    },
    {
     "data": {
      "application/vnd.jupyter.widget-view+json": {
       "model_id": "d91129537f1d46a2ab4ed22e9a8999d8",
       "version_major": 2,
       "version_minor": 0
      },
      "text/plain": [
       "Predicting: 0it [00:00, ?it/s]"
      ]
     },
     "metadata": {},
     "output_type": "display_data"
    },
    {
     "name": "stderr",
     "output_type": "stream",
     "text": [
      "[I 2023-06-22 20:25:44,325] Trial 50 finished with value: 144.4157516008127 and parameters: {'input_chunk_length': 356, 'kernel_size': 3, 'num_filters': 1, 'num_layers': 1, 'dilation_base': 2, 'dropout': 0.2}. Best is trial 40 with value: 115.06090781369282.\n",
      "GPU available: True (cuda), used: True\n",
      "TPU available: False, using: 0 TPU cores\n",
      "IPU available: False, using: 0 IPUs\n",
      "HPU available: False, using: 0 HPUs\n",
      "LOCAL_RANK: 0 - CUDA_VISIBLE_DEVICES: [1]\n"
     ]
    },
    {
     "name": "stdout",
     "output_type": "stream",
     "text": [
      "Current value: 144.4157516008127, Current params: {'input_chunk_length': 356, 'kernel_size': 3, 'num_filters': 1, 'num_layers': 1, 'dilation_base': 2, 'dropout': 0.2}\n",
      "Best value: 115.06090781369282, Best params: {'input_chunk_length': 180, 'kernel_size': 5, 'num_filters': 1, 'num_layers': None, 'dilation_base': 2, 'dropout': 0.2}\n"
     ]
    },
    {
     "name": "stderr",
     "output_type": "stream",
     "text": [
      "`Trainer.fit` stopped: `max_epochs=400` reached.\n",
      "GPU available: True (cuda), used: True\n",
      "TPU available: False, using: 0 TPU cores\n",
      "IPU available: False, using: 0 IPUs\n",
      "HPU available: False, using: 0 HPUs\n",
      "LOCAL_RANK: 0 - CUDA_VISIBLE_DEVICES: [1]\n"
     ]
    },
    {
     "data": {
      "application/vnd.jupyter.widget-view+json": {
       "model_id": "f2ef5b45e0064a6e9bca89f09c498db0",
       "version_major": 2,
       "version_minor": 0
      },
      "text/plain": [
       "Predicting: 0it [00:00, ?it/s]"
      ]
     },
     "metadata": {},
     "output_type": "display_data"
    },
    {
     "name": "stderr",
     "output_type": "stream",
     "text": [
      "[I 2023-06-22 20:26:49,544] Trial 51 finished with value: 147.2850022250269 and parameters: {'input_chunk_length': 180, 'kernel_size': 5, 'num_filters': 1, 'num_layers': None, 'dilation_base': 2, 'dropout': 0.2}. Best is trial 40 with value: 115.06090781369282.\n",
      "GPU available: True (cuda), used: True\n",
      "TPU available: False, using: 0 TPU cores\n",
      "IPU available: False, using: 0 IPUs\n",
      "HPU available: False, using: 0 HPUs\n",
      "LOCAL_RANK: 0 - CUDA_VISIBLE_DEVICES: [1]\n"
     ]
    },
    {
     "name": "stdout",
     "output_type": "stream",
     "text": [
      "Current value: 147.2850022250269, Current params: {'input_chunk_length': 180, 'kernel_size': 5, 'num_filters': 1, 'num_layers': None, 'dilation_base': 2, 'dropout': 0.2}\n",
      "Best value: 115.06090781369282, Best params: {'input_chunk_length': 180, 'kernel_size': 5, 'num_filters': 1, 'num_layers': None, 'dilation_base': 2, 'dropout': 0.2}\n"
     ]
    },
    {
     "name": "stderr",
     "output_type": "stream",
     "text": [
      "`Trainer.fit` stopped: `max_epochs=400` reached.\n",
      "GPU available: True (cuda), used: True\n",
      "TPU available: False, using: 0 TPU cores\n",
      "IPU available: False, using: 0 IPUs\n",
      "HPU available: False, using: 0 HPUs\n",
      "LOCAL_RANK: 0 - CUDA_VISIBLE_DEVICES: [1]\n"
     ]
    },
    {
     "data": {
      "application/vnd.jupyter.widget-view+json": {
       "model_id": "e8c3358fdb9044a1a3600742bbed0cb3",
       "version_major": 2,
       "version_minor": 0
      },
      "text/plain": [
       "Predicting: 0it [00:00, ?it/s]"
      ]
     },
     "metadata": {},
     "output_type": "display_data"
    },
    {
     "name": "stderr",
     "output_type": "stream",
     "text": [
      "[I 2023-06-22 20:27:56,775] Trial 52 finished with value: 133.27777584583785 and parameters: {'input_chunk_length': 180, 'kernel_size': 5, 'num_filters': 1, 'num_layers': None, 'dilation_base': 2, 'dropout': 0.2}. Best is trial 40 with value: 115.06090781369282.\n",
      "GPU available: True (cuda), used: True\n",
      "TPU available: False, using: 0 TPU cores\n",
      "IPU available: False, using: 0 IPUs\n",
      "HPU available: False, using: 0 HPUs\n",
      "LOCAL_RANK: 0 - CUDA_VISIBLE_DEVICES: [1]\n"
     ]
    },
    {
     "name": "stdout",
     "output_type": "stream",
     "text": [
      "Current value: 133.27777584583785, Current params: {'input_chunk_length': 180, 'kernel_size': 5, 'num_filters': 1, 'num_layers': None, 'dilation_base': 2, 'dropout': 0.2}\n",
      "Best value: 115.06090781369282, Best params: {'input_chunk_length': 180, 'kernel_size': 5, 'num_filters': 1, 'num_layers': None, 'dilation_base': 2, 'dropout': 0.2}\n"
     ]
    },
    {
     "name": "stderr",
     "output_type": "stream",
     "text": [
      "`Trainer.fit` stopped: `max_epochs=400` reached.\n",
      "GPU available: True (cuda), used: True\n",
      "TPU available: False, using: 0 TPU cores\n",
      "IPU available: False, using: 0 IPUs\n",
      "HPU available: False, using: 0 HPUs\n",
      "LOCAL_RANK: 0 - CUDA_VISIBLE_DEVICES: [1]\n"
     ]
    },
    {
     "data": {
      "application/vnd.jupyter.widget-view+json": {
       "model_id": "f9821acb02804e628808406a11d099ff",
       "version_major": 2,
       "version_minor": 0
      },
      "text/plain": [
       "Predicting: 0it [00:00, ?it/s]"
      ]
     },
     "metadata": {},
     "output_type": "display_data"
    },
    {
     "name": "stderr",
     "output_type": "stream",
     "text": [
      "[I 2023-06-22 20:29:06,749] Trial 53 finished with value: 135.79641832265347 and parameters: {'input_chunk_length': 180, 'kernel_size': 5, 'num_filters': 1, 'num_layers': None, 'dilation_base': 2, 'dropout': 0.2}. Best is trial 40 with value: 115.06090781369282.\n",
      "GPU available: True (cuda), used: True\n",
      "TPU available: False, using: 0 TPU cores\n",
      "IPU available: False, using: 0 IPUs\n",
      "HPU available: False, using: 0 HPUs\n",
      "LOCAL_RANK: 0 - CUDA_VISIBLE_DEVICES: [1]\n"
     ]
    },
    {
     "name": "stdout",
     "output_type": "stream",
     "text": [
      "Current value: 135.79641832265347, Current params: {'input_chunk_length': 180, 'kernel_size': 5, 'num_filters': 1, 'num_layers': None, 'dilation_base': 2, 'dropout': 0.2}\n",
      "Best value: 115.06090781369282, Best params: {'input_chunk_length': 180, 'kernel_size': 5, 'num_filters': 1, 'num_layers': None, 'dilation_base': 2, 'dropout': 0.2}\n"
     ]
    },
    {
     "name": "stderr",
     "output_type": "stream",
     "text": [
      "`Trainer.fit` stopped: `max_epochs=400` reached.\n",
      "GPU available: True (cuda), used: True\n",
      "TPU available: False, using: 0 TPU cores\n",
      "IPU available: False, using: 0 IPUs\n",
      "HPU available: False, using: 0 HPUs\n",
      "LOCAL_RANK: 0 - CUDA_VISIBLE_DEVICES: [1]\n"
     ]
    },
    {
     "data": {
      "application/vnd.jupyter.widget-view+json": {
       "model_id": "394b23c7cd83461d90539375fd1fa69e",
       "version_major": 2,
       "version_minor": 0
      },
      "text/plain": [
       "Predicting: 0it [00:00, ?it/s]"
      ]
     },
     "metadata": {},
     "output_type": "display_data"
    },
    {
     "name": "stderr",
     "output_type": "stream",
     "text": [
      "[I 2023-06-22 20:30:13,078] Trial 54 finished with value: 140.04420072427283 and parameters: {'input_chunk_length': 180, 'kernel_size': 5, 'num_filters': 1, 'num_layers': None, 'dilation_base': 2, 'dropout': 0.2}. Best is trial 40 with value: 115.06090781369282.\n",
      "GPU available: True (cuda), used: True\n",
      "TPU available: False, using: 0 TPU cores\n",
      "IPU available: False, using: 0 IPUs\n",
      "HPU available: False, using: 0 HPUs\n",
      "LOCAL_RANK: 0 - CUDA_VISIBLE_DEVICES: [1]\n"
     ]
    },
    {
     "name": "stdout",
     "output_type": "stream",
     "text": [
      "Current value: 140.04420072427283, Current params: {'input_chunk_length': 180, 'kernel_size': 5, 'num_filters': 1, 'num_layers': None, 'dilation_base': 2, 'dropout': 0.2}\n",
      "Best value: 115.06090781369282, Best params: {'input_chunk_length': 180, 'kernel_size': 5, 'num_filters': 1, 'num_layers': None, 'dilation_base': 2, 'dropout': 0.2}\n"
     ]
    },
    {
     "name": "stderr",
     "output_type": "stream",
     "text": [
      "`Trainer.fit` stopped: `max_epochs=400` reached.\n",
      "GPU available: True (cuda), used: True\n",
      "TPU available: False, using: 0 TPU cores\n",
      "IPU available: False, using: 0 IPUs\n",
      "HPU available: False, using: 0 HPUs\n",
      "LOCAL_RANK: 0 - CUDA_VISIBLE_DEVICES: [1]\n"
     ]
    },
    {
     "data": {
      "application/vnd.jupyter.widget-view+json": {
       "model_id": "dc9e96ab97544d8dac44e9e34181517c",
       "version_major": 2,
       "version_minor": 0
      },
      "text/plain": [
       "Predicting: 0it [00:00, ?it/s]"
      ]
     },
     "metadata": {},
     "output_type": "display_data"
    },
    {
     "name": "stderr",
     "output_type": "stream",
     "text": [
      "[I 2023-06-22 20:31:24,498] Trial 55 finished with value: 129.98957331666512 and parameters: {'input_chunk_length': 180, 'kernel_size': 5, 'num_filters': 1, 'num_layers': None, 'dilation_base': 2, 'dropout': 0.2}. Best is trial 40 with value: 115.06090781369282.\n",
      "GPU available: True (cuda), used: True\n",
      "TPU available: False, using: 0 TPU cores\n",
      "IPU available: False, using: 0 IPUs\n",
      "HPU available: False, using: 0 HPUs\n",
      "LOCAL_RANK: 0 - CUDA_VISIBLE_DEVICES: [1]\n"
     ]
    },
    {
     "name": "stdout",
     "output_type": "stream",
     "text": [
      "Current value: 129.98957331666512, Current params: {'input_chunk_length': 180, 'kernel_size': 5, 'num_filters': 1, 'num_layers': None, 'dilation_base': 2, 'dropout': 0.2}\n",
      "Best value: 115.06090781369282, Best params: {'input_chunk_length': 180, 'kernel_size': 5, 'num_filters': 1, 'num_layers': None, 'dilation_base': 2, 'dropout': 0.2}\n"
     ]
    },
    {
     "name": "stderr",
     "output_type": "stream",
     "text": [
      "`Trainer.fit` stopped: `max_epochs=400` reached.\n",
      "GPU available: True (cuda), used: True\n",
      "TPU available: False, using: 0 TPU cores\n",
      "IPU available: False, using: 0 IPUs\n",
      "HPU available: False, using: 0 HPUs\n",
      "LOCAL_RANK: 0 - CUDA_VISIBLE_DEVICES: [1]\n"
     ]
    },
    {
     "data": {
      "application/vnd.jupyter.widget-view+json": {
       "model_id": "dd72e16cf92d46219fa5d865492a8cd4",
       "version_major": 2,
       "version_minor": 0
      },
      "text/plain": [
       "Predicting: 0it [00:00, ?it/s]"
      ]
     },
     "metadata": {},
     "output_type": "display_data"
    },
    {
     "name": "stderr",
     "output_type": "stream",
     "text": [
      "[I 2023-06-22 20:32:37,522] Trial 56 finished with value: 144.44814603213308 and parameters: {'input_chunk_length': 180, 'kernel_size': 3, 'num_filters': 1, 'num_layers': 3, 'dilation_base': 2, 'dropout': 0.1}. Best is trial 40 with value: 115.06090781369282.\n",
      "GPU available: True (cuda), used: True\n",
      "TPU available: False, using: 0 TPU cores\n",
      "IPU available: False, using: 0 IPUs\n",
      "HPU available: False, using: 0 HPUs\n",
      "LOCAL_RANK: 0 - CUDA_VISIBLE_DEVICES: [1]\n"
     ]
    },
    {
     "name": "stdout",
     "output_type": "stream",
     "text": [
      "Current value: 144.44814603213308, Current params: {'input_chunk_length': 180, 'kernel_size': 3, 'num_filters': 1, 'num_layers': 3, 'dilation_base': 2, 'dropout': 0.1}\n",
      "Best value: 115.06090781369282, Best params: {'input_chunk_length': 180, 'kernel_size': 5, 'num_filters': 1, 'num_layers': None, 'dilation_base': 2, 'dropout': 0.2}\n"
     ]
    },
    {
     "name": "stderr",
     "output_type": "stream",
     "text": [
      "`Trainer.fit` stopped: `max_epochs=400` reached.\n",
      "GPU available: True (cuda), used: True\n",
      "TPU available: False, using: 0 TPU cores\n",
      "IPU available: False, using: 0 IPUs\n",
      "HPU available: False, using: 0 HPUs\n",
      "LOCAL_RANK: 0 - CUDA_VISIBLE_DEVICES: [1]\n"
     ]
    },
    {
     "data": {
      "application/vnd.jupyter.widget-view+json": {
       "model_id": "b416e90667ad43609b895fe4acc87538",
       "version_major": 2,
       "version_minor": 0
      },
      "text/plain": [
       "Predicting: 0it [00:00, ?it/s]"
      ]
     },
     "metadata": {},
     "output_type": "display_data"
    },
    {
     "name": "stderr",
     "output_type": "stream",
     "text": [
      "[I 2023-06-22 20:33:38,591] Trial 57 finished with value: 132.79615382412 and parameters: {'input_chunk_length': 356, 'kernel_size': 5, 'num_filters': 1, 'num_layers': 3, 'dilation_base': 2, 'dropout': 0.2}. Best is trial 40 with value: 115.06090781369282.\n",
      "GPU available: True (cuda), used: True\n",
      "TPU available: False, using: 0 TPU cores\n",
      "IPU available: False, using: 0 IPUs\n",
      "HPU available: False, using: 0 HPUs\n",
      "LOCAL_RANK: 0 - CUDA_VISIBLE_DEVICES: [1]\n"
     ]
    },
    {
     "name": "stdout",
     "output_type": "stream",
     "text": [
      "Current value: 132.79615382412, Current params: {'input_chunk_length': 356, 'kernel_size': 5, 'num_filters': 1, 'num_layers': 3, 'dilation_base': 2, 'dropout': 0.2}\n",
      "Best value: 115.06090781369282, Best params: {'input_chunk_length': 180, 'kernel_size': 5, 'num_filters': 1, 'num_layers': None, 'dilation_base': 2, 'dropout': 0.2}\n"
     ]
    },
    {
     "name": "stderr",
     "output_type": "stream",
     "text": [
      "`Trainer.fit` stopped: `max_epochs=400` reached.\n",
      "GPU available: True (cuda), used: True\n",
      "TPU available: False, using: 0 TPU cores\n",
      "IPU available: False, using: 0 IPUs\n",
      "HPU available: False, using: 0 HPUs\n",
      "LOCAL_RANK: 0 - CUDA_VISIBLE_DEVICES: [1]\n"
     ]
    },
    {
     "data": {
      "application/vnd.jupyter.widget-view+json": {
       "model_id": "5acb8ed3e0824e00aa12646baa5954a4",
       "version_major": 2,
       "version_minor": 0
      },
      "text/plain": [
       "Predicting: 0it [00:00, ?it/s]"
      ]
     },
     "metadata": {},
     "output_type": "display_data"
    },
    {
     "name": "stderr",
     "output_type": "stream",
     "text": [
      "[I 2023-06-22 20:34:55,565] Trial 58 finished with value: 126.9755896444116 and parameters: {'input_chunk_length': 180, 'kernel_size': 2, 'num_filters': 1, 'num_layers': None, 'dilation_base': 3, 'dropout': 0.3}. Best is trial 40 with value: 115.06090781369282.\n",
      "GPU available: True (cuda), used: True\n",
      "TPU available: False, using: 0 TPU cores\n",
      "IPU available: False, using: 0 IPUs\n",
      "HPU available: False, using: 0 HPUs\n",
      "LOCAL_RANK: 0 - CUDA_VISIBLE_DEVICES: [1]\n"
     ]
    },
    {
     "name": "stdout",
     "output_type": "stream",
     "text": [
      "Current value: 126.9755896444116, Current params: {'input_chunk_length': 180, 'kernel_size': 2, 'num_filters': 1, 'num_layers': None, 'dilation_base': 3, 'dropout': 0.3}\n",
      "Best value: 115.06090781369282, Best params: {'input_chunk_length': 180, 'kernel_size': 5, 'num_filters': 1, 'num_layers': None, 'dilation_base': 2, 'dropout': 0.2}\n"
     ]
    },
    {
     "name": "stderr",
     "output_type": "stream",
     "text": [
      "`Trainer.fit` stopped: `max_epochs=400` reached.\n",
      "GPU available: True (cuda), used: True\n",
      "TPU available: False, using: 0 TPU cores\n",
      "IPU available: False, using: 0 IPUs\n",
      "HPU available: False, using: 0 HPUs\n",
      "LOCAL_RANK: 0 - CUDA_VISIBLE_DEVICES: [1]\n"
     ]
    },
    {
     "data": {
      "application/vnd.jupyter.widget-view+json": {
       "model_id": "778fabab772a4888ad248019c7118586",
       "version_major": 2,
       "version_minor": 0
      },
      "text/plain": [
       "Predicting: 0it [00:00, ?it/s]"
      ]
     },
     "metadata": {},
     "output_type": "display_data"
    },
    {
     "name": "stderr",
     "output_type": "stream",
     "text": [
      "[I 2023-06-22 20:36:07,525] Trial 59 finished with value: 128.55134574070064 and parameters: {'input_chunk_length': 180, 'kernel_size': 3, 'num_filters': 1, 'num_layers': 3, 'dilation_base': 1, 'dropout': 0.2}. Best is trial 40 with value: 115.06090781369282.\n",
      "GPU available: True (cuda), used: True\n",
      "TPU available: False, using: 0 TPU cores\n",
      "IPU available: False, using: 0 IPUs\n",
      "HPU available: False, using: 0 HPUs\n",
      "LOCAL_RANK: 0 - CUDA_VISIBLE_DEVICES: [1]\n"
     ]
    },
    {
     "name": "stdout",
     "output_type": "stream",
     "text": [
      "Current value: 128.55134574070064, Current params: {'input_chunk_length': 180, 'kernel_size': 3, 'num_filters': 1, 'num_layers': 3, 'dilation_base': 1, 'dropout': 0.2}\n",
      "Best value: 115.06090781369282, Best params: {'input_chunk_length': 180, 'kernel_size': 5, 'num_filters': 1, 'num_layers': None, 'dilation_base': 2, 'dropout': 0.2}\n"
     ]
    },
    {
     "name": "stderr",
     "output_type": "stream",
     "text": [
      "`Trainer.fit` stopped: `max_epochs=400` reached.\n",
      "GPU available: True (cuda), used: True\n",
      "TPU available: False, using: 0 TPU cores\n",
      "IPU available: False, using: 0 IPUs\n",
      "HPU available: False, using: 0 HPUs\n",
      "LOCAL_RANK: 0 - CUDA_VISIBLE_DEVICES: [1]\n"
     ]
    },
    {
     "data": {
      "application/vnd.jupyter.widget-view+json": {
       "model_id": "e71e34a4714f400aab589aa551f9d310",
       "version_major": 2,
       "version_minor": 0
      },
      "text/plain": [
       "Predicting: 0it [00:00, ?it/s]"
      ]
     },
     "metadata": {},
     "output_type": "display_data"
    },
    {
     "name": "stderr",
     "output_type": "stream",
     "text": [
      "[I 2023-06-22 20:37:28,905] Trial 60 finished with value: 130.37295509511043 and parameters: {'input_chunk_length': 60, 'kernel_size': 2, 'num_filters': 3, 'num_layers': None, 'dilation_base': 3, 'dropout': 0.3}. Best is trial 40 with value: 115.06090781369282.\n",
      "GPU available: True (cuda), used: True\n",
      "TPU available: False, using: 0 TPU cores\n",
      "IPU available: False, using: 0 IPUs\n",
      "HPU available: False, using: 0 HPUs\n",
      "LOCAL_RANK: 0 - CUDA_VISIBLE_DEVICES: [1]\n"
     ]
    },
    {
     "name": "stdout",
     "output_type": "stream",
     "text": [
      "Current value: 130.37295509511043, Current params: {'input_chunk_length': 60, 'kernel_size': 2, 'num_filters': 3, 'num_layers': None, 'dilation_base': 3, 'dropout': 0.3}\n",
      "Best value: 115.06090781369282, Best params: {'input_chunk_length': 180, 'kernel_size': 5, 'num_filters': 1, 'num_layers': None, 'dilation_base': 2, 'dropout': 0.2}\n"
     ]
    },
    {
     "name": "stderr",
     "output_type": "stream",
     "text": [
      "`Trainer.fit` stopped: `max_epochs=400` reached.\n",
      "GPU available: True (cuda), used: True\n",
      "TPU available: False, using: 0 TPU cores\n",
      "IPU available: False, using: 0 IPUs\n",
      "HPU available: False, using: 0 HPUs\n",
      "LOCAL_RANK: 0 - CUDA_VISIBLE_DEVICES: [1]\n"
     ]
    },
    {
     "data": {
      "application/vnd.jupyter.widget-view+json": {
       "model_id": "5f4efafad91648a59c9ec2e25e2713f8",
       "version_major": 2,
       "version_minor": 0
      },
      "text/plain": [
       "Predicting: 0it [00:00, ?it/s]"
      ]
     },
     "metadata": {},
     "output_type": "display_data"
    },
    {
     "name": "stderr",
     "output_type": "stream",
     "text": [
      "[I 2023-06-22 20:38:45,500] Trial 61 finished with value: 124.18193685414083 and parameters: {'input_chunk_length': 180, 'kernel_size': 2, 'num_filters': 1, 'num_layers': None, 'dilation_base': 3, 'dropout': 0.3}. Best is trial 40 with value: 115.06090781369282.\n",
      "GPU available: True (cuda), used: True\n",
      "TPU available: False, using: 0 TPU cores\n",
      "IPU available: False, using: 0 IPUs\n",
      "HPU available: False, using: 0 HPUs\n",
      "LOCAL_RANK: 0 - CUDA_VISIBLE_DEVICES: [1]\n"
     ]
    },
    {
     "name": "stdout",
     "output_type": "stream",
     "text": [
      "Current value: 124.18193685414083, Current params: {'input_chunk_length': 180, 'kernel_size': 2, 'num_filters': 1, 'num_layers': None, 'dilation_base': 3, 'dropout': 0.3}\n",
      "Best value: 115.06090781369282, Best params: {'input_chunk_length': 180, 'kernel_size': 5, 'num_filters': 1, 'num_layers': None, 'dilation_base': 2, 'dropout': 0.2}\n"
     ]
    },
    {
     "name": "stderr",
     "output_type": "stream",
     "text": [
      "`Trainer.fit` stopped: `max_epochs=400` reached.\n",
      "GPU available: True (cuda), used: True\n",
      "TPU available: False, using: 0 TPU cores\n",
      "IPU available: False, using: 0 IPUs\n",
      "HPU available: False, using: 0 HPUs\n",
      "LOCAL_RANK: 0 - CUDA_VISIBLE_DEVICES: [1]\n"
     ]
    },
    {
     "data": {
      "application/vnd.jupyter.widget-view+json": {
       "model_id": "f710ab0bf8454b28908cafe34eddf9f6",
       "version_major": 2,
       "version_minor": 0
      },
      "text/plain": [
       "Predicting: 0it [00:00, ?it/s]"
      ]
     },
     "metadata": {},
     "output_type": "display_data"
    },
    {
     "name": "stderr",
     "output_type": "stream",
     "text": [
      "[I 2023-06-22 20:40:03,393] Trial 62 finished with value: 139.154841431813 and parameters: {'input_chunk_length': 180, 'kernel_size': 2, 'num_filters': 1, 'num_layers': None, 'dilation_base': 3, 'dropout': 0.3}. Best is trial 40 with value: 115.06090781369282.\n",
      "GPU available: True (cuda), used: True\n",
      "TPU available: False, using: 0 TPU cores\n",
      "IPU available: False, using: 0 IPUs\n",
      "HPU available: False, using: 0 HPUs\n",
      "LOCAL_RANK: 0 - CUDA_VISIBLE_DEVICES: [1]\n"
     ]
    },
    {
     "name": "stdout",
     "output_type": "stream",
     "text": [
      "Current value: 139.154841431813, Current params: {'input_chunk_length': 180, 'kernel_size': 2, 'num_filters': 1, 'num_layers': None, 'dilation_base': 3, 'dropout': 0.3}\n",
      "Best value: 115.06090781369282, Best params: {'input_chunk_length': 180, 'kernel_size': 5, 'num_filters': 1, 'num_layers': None, 'dilation_base': 2, 'dropout': 0.2}\n"
     ]
    },
    {
     "name": "stderr",
     "output_type": "stream",
     "text": [
      "`Trainer.fit` stopped: `max_epochs=400` reached.\n",
      "GPU available: True (cuda), used: True\n",
      "TPU available: False, using: 0 TPU cores\n",
      "IPU available: False, using: 0 IPUs\n",
      "HPU available: False, using: 0 HPUs\n",
      "LOCAL_RANK: 0 - CUDA_VISIBLE_DEVICES: [1]\n"
     ]
    },
    {
     "data": {
      "application/vnd.jupyter.widget-view+json": {
       "model_id": "c5da54b5a31a4df39df53f3c8a7f2e27",
       "version_major": 2,
       "version_minor": 0
      },
      "text/plain": [
       "Predicting: 0it [00:00, ?it/s]"
      ]
     },
     "metadata": {},
     "output_type": "display_data"
    },
    {
     "name": "stderr",
     "output_type": "stream",
     "text": [
      "[I 2023-06-22 20:41:20,351] Trial 63 finished with value: 144.50784986629597 and parameters: {'input_chunk_length': 180, 'kernel_size': 2, 'num_filters': 1, 'num_layers': None, 'dilation_base': 3, 'dropout': 0.3}. Best is trial 40 with value: 115.06090781369282.\n",
      "GPU available: True (cuda), used: True\n",
      "TPU available: False, using: 0 TPU cores\n",
      "IPU available: False, using: 0 IPUs\n",
      "HPU available: False, using: 0 HPUs\n",
      "LOCAL_RANK: 0 - CUDA_VISIBLE_DEVICES: [1]\n"
     ]
    },
    {
     "name": "stdout",
     "output_type": "stream",
     "text": [
      "Current value: 144.50784986629597, Current params: {'input_chunk_length': 180, 'kernel_size': 2, 'num_filters': 1, 'num_layers': None, 'dilation_base': 3, 'dropout': 0.3}\n",
      "Best value: 115.06090781369282, Best params: {'input_chunk_length': 180, 'kernel_size': 5, 'num_filters': 1, 'num_layers': None, 'dilation_base': 2, 'dropout': 0.2}\n"
     ]
    },
    {
     "name": "stderr",
     "output_type": "stream",
     "text": [
      "`Trainer.fit` stopped: `max_epochs=400` reached.\n",
      "GPU available: True (cuda), used: True\n",
      "TPU available: False, using: 0 TPU cores\n",
      "IPU available: False, using: 0 IPUs\n",
      "HPU available: False, using: 0 HPUs\n",
      "LOCAL_RANK: 0 - CUDA_VISIBLE_DEVICES: [1]\n"
     ]
    },
    {
     "data": {
      "application/vnd.jupyter.widget-view+json": {
       "model_id": "492250ab2d2b4562a404f8237fbba7a1",
       "version_major": 2,
       "version_minor": 0
      },
      "text/plain": [
       "Predicting: 0it [00:00, ?it/s]"
      ]
     },
     "metadata": {},
     "output_type": "display_data"
    },
    {
     "name": "stderr",
     "output_type": "stream",
     "text": [
      "[I 2023-06-22 20:42:46,835] Trial 64 finished with value: 138.89850310652733 and parameters: {'input_chunk_length': 180, 'kernel_size': 2, 'num_filters': 1, 'num_layers': None, 'dilation_base': 3, 'dropout': 0.3}. Best is trial 40 with value: 115.06090781369282.\n",
      "GPU available: True (cuda), used: True\n",
      "TPU available: False, using: 0 TPU cores\n",
      "IPU available: False, using: 0 IPUs\n",
      "HPU available: False, using: 0 HPUs\n",
      "LOCAL_RANK: 0 - CUDA_VISIBLE_DEVICES: [1]\n"
     ]
    },
    {
     "name": "stdout",
     "output_type": "stream",
     "text": [
      "Current value: 138.89850310652733, Current params: {'input_chunk_length': 180, 'kernel_size': 2, 'num_filters': 1, 'num_layers': None, 'dilation_base': 3, 'dropout': 0.3}\n",
      "Best value: 115.06090781369282, Best params: {'input_chunk_length': 180, 'kernel_size': 5, 'num_filters': 1, 'num_layers': None, 'dilation_base': 2, 'dropout': 0.2}\n"
     ]
    },
    {
     "name": "stderr",
     "output_type": "stream",
     "text": [
      "`Trainer.fit` stopped: `max_epochs=400` reached.\n",
      "GPU available: True (cuda), used: True\n",
      "TPU available: False, using: 0 TPU cores\n",
      "IPU available: False, using: 0 IPUs\n",
      "HPU available: False, using: 0 HPUs\n",
      "LOCAL_RANK: 0 - CUDA_VISIBLE_DEVICES: [1]\n"
     ]
    },
    {
     "data": {
      "application/vnd.jupyter.widget-view+json": {
       "model_id": "8078259ff5f741c3a8664a029966975a",
       "version_major": 2,
       "version_minor": 0
      },
      "text/plain": [
       "Predicting: 0it [00:00, ?it/s]"
      ]
     },
     "metadata": {},
     "output_type": "display_data"
    },
    {
     "name": "stderr",
     "output_type": "stream",
     "text": [
      "[I 2023-06-22 20:43:57,928] Trial 65 finished with value: 147.74748230304579 and parameters: {'input_chunk_length': 356, 'kernel_size': 2, 'num_filters': 1, 'num_layers': 3, 'dilation_base': 3, 'dropout': 0.3}. Best is trial 40 with value: 115.06090781369282.\n",
      "GPU available: True (cuda), used: True\n",
      "TPU available: False, using: 0 TPU cores\n",
      "IPU available: False, using: 0 IPUs\n",
      "HPU available: False, using: 0 HPUs\n",
      "LOCAL_RANK: 0 - CUDA_VISIBLE_DEVICES: [1]\n"
     ]
    },
    {
     "name": "stdout",
     "output_type": "stream",
     "text": [
      "Current value: 147.74748230304579, Current params: {'input_chunk_length': 356, 'kernel_size': 2, 'num_filters': 1, 'num_layers': 3, 'dilation_base': 3, 'dropout': 0.3}\n",
      "Best value: 115.06090781369282, Best params: {'input_chunk_length': 180, 'kernel_size': 5, 'num_filters': 1, 'num_layers': None, 'dilation_base': 2, 'dropout': 0.2}\n"
     ]
    },
    {
     "name": "stderr",
     "output_type": "stream",
     "text": [
      "`Trainer.fit` stopped: `max_epochs=400` reached.\n",
      "GPU available: True (cuda), used: True\n",
      "TPU available: False, using: 0 TPU cores\n",
      "IPU available: False, using: 0 IPUs\n",
      "HPU available: False, using: 0 HPUs\n",
      "LOCAL_RANK: 0 - CUDA_VISIBLE_DEVICES: [1]\n"
     ]
    },
    {
     "data": {
      "application/vnd.jupyter.widget-view+json": {
       "model_id": "cc5b8af7eb32470f90a64dcf44b8ebae",
       "version_major": 2,
       "version_minor": 0
      },
      "text/plain": [
       "Predicting: 0it [00:00, ?it/s]"
      ]
     },
     "metadata": {},
     "output_type": "display_data"
    },
    {
     "name": "stderr",
     "output_type": "stream",
     "text": [
      "[I 2023-06-22 20:45:10,364] Trial 66 finished with value: 163.5011622292132 and parameters: {'input_chunk_length': 180, 'kernel_size': 3, 'num_filters': 5, 'num_layers': None, 'dilation_base': 2, 'dropout': 0.3}. Best is trial 40 with value: 115.06090781369282.\n",
      "GPU available: True (cuda), used: True\n",
      "TPU available: False, using: 0 TPU cores\n",
      "IPU available: False, using: 0 IPUs\n",
      "HPU available: False, using: 0 HPUs\n",
      "LOCAL_RANK: 0 - CUDA_VISIBLE_DEVICES: [1]\n"
     ]
    },
    {
     "name": "stdout",
     "output_type": "stream",
     "text": [
      "Current value: 163.5011622292132, Current params: {'input_chunk_length': 180, 'kernel_size': 3, 'num_filters': 5, 'num_layers': None, 'dilation_base': 2, 'dropout': 0.3}\n",
      "Best value: 115.06090781369282, Best params: {'input_chunk_length': 180, 'kernel_size': 5, 'num_filters': 1, 'num_layers': None, 'dilation_base': 2, 'dropout': 0.2}\n"
     ]
    },
    {
     "name": "stderr",
     "output_type": "stream",
     "text": [
      "`Trainer.fit` stopped: `max_epochs=400` reached.\n",
      "GPU available: True (cuda), used: True\n",
      "TPU available: False, using: 0 TPU cores\n",
      "IPU available: False, using: 0 IPUs\n",
      "HPU available: False, using: 0 HPUs\n",
      "LOCAL_RANK: 0 - CUDA_VISIBLE_DEVICES: [1]\n"
     ]
    },
    {
     "data": {
      "application/vnd.jupyter.widget-view+json": {
       "model_id": "713d91f3a6c94da5baeaeff16baf7e86",
       "version_major": 2,
       "version_minor": 0
      },
      "text/plain": [
       "Predicting: 0it [00:00, ?it/s]"
      ]
     },
     "metadata": {},
     "output_type": "display_data"
    },
    {
     "name": "stderr",
     "output_type": "stream",
     "text": [
      "[I 2023-06-22 20:46:27,226] Trial 67 finished with value: 132.07018323248988 and parameters: {'input_chunk_length': 180, 'kernel_size': 2, 'num_filters': 1, 'num_layers': 3, 'dilation_base': 3, 'dropout': 0.2}. Best is trial 40 with value: 115.06090781369282.\n",
      "GPU available: True (cuda), used: True\n",
      "TPU available: False, using: 0 TPU cores\n",
      "IPU available: False, using: 0 IPUs\n",
      "HPU available: False, using: 0 HPUs\n",
      "LOCAL_RANK: 0 - CUDA_VISIBLE_DEVICES: [1]\n"
     ]
    },
    {
     "name": "stdout",
     "output_type": "stream",
     "text": [
      "Current value: 132.07018323248988, Current params: {'input_chunk_length': 180, 'kernel_size': 2, 'num_filters': 1, 'num_layers': 3, 'dilation_base': 3, 'dropout': 0.2}\n",
      "Best value: 115.06090781369282, Best params: {'input_chunk_length': 180, 'kernel_size': 5, 'num_filters': 1, 'num_layers': None, 'dilation_base': 2, 'dropout': 0.2}\n"
     ]
    },
    {
     "name": "stderr",
     "output_type": "stream",
     "text": [
      "`Trainer.fit` stopped: `max_epochs=400` reached.\n",
      "GPU available: True (cuda), used: True\n",
      "TPU available: False, using: 0 TPU cores\n",
      "IPU available: False, using: 0 IPUs\n",
      "HPU available: False, using: 0 HPUs\n",
      "LOCAL_RANK: 0 - CUDA_VISIBLE_DEVICES: [1]\n"
     ]
    },
    {
     "data": {
      "application/vnd.jupyter.widget-view+json": {
       "model_id": "c109d37c9a914c21be6ae549323cee05",
       "version_major": 2,
       "version_minor": 0
      },
      "text/plain": [
       "Predicting: 0it [00:00, ?it/s]"
      ]
     },
     "metadata": {},
     "output_type": "display_data"
    },
    {
     "name": "stderr",
     "output_type": "stream",
     "text": [
      "[I 2023-06-22 20:47:33,290] Trial 68 finished with value: 141.0317611449844 and parameters: {'input_chunk_length': 180, 'kernel_size': 5, 'num_filters': 1, 'num_layers': 2, 'dilation_base': 2, 'dropout': 0.2}. Best is trial 40 with value: 115.06090781369282.\n",
      "GPU available: True (cuda), used: True\n",
      "TPU available: False, using: 0 TPU cores\n",
      "IPU available: False, using: 0 IPUs\n",
      "HPU available: False, using: 0 HPUs\n",
      "LOCAL_RANK: 0 - CUDA_VISIBLE_DEVICES: [1]\n"
     ]
    },
    {
     "name": "stdout",
     "output_type": "stream",
     "text": [
      "Current value: 141.0317611449844, Current params: {'input_chunk_length': 180, 'kernel_size': 5, 'num_filters': 1, 'num_layers': 2, 'dilation_base': 2, 'dropout': 0.2}\n",
      "Best value: 115.06090781369282, Best params: {'input_chunk_length': 180, 'kernel_size': 5, 'num_filters': 1, 'num_layers': None, 'dilation_base': 2, 'dropout': 0.2}\n"
     ]
    },
    {
     "name": "stderr",
     "output_type": "stream",
     "text": [
      "`Trainer.fit` stopped: `max_epochs=400` reached.\n",
      "GPU available: True (cuda), used: True\n",
      "TPU available: False, using: 0 TPU cores\n",
      "IPU available: False, using: 0 IPUs\n",
      "HPU available: False, using: 0 HPUs\n",
      "LOCAL_RANK: 0 - CUDA_VISIBLE_DEVICES: [1]\n"
     ]
    },
    {
     "data": {
      "application/vnd.jupyter.widget-view+json": {
       "model_id": "db4a7af80a3b40d6921c547d853b3663",
       "version_major": 2,
       "version_minor": 0
      },
      "text/plain": [
       "Predicting: 0it [00:00, ?it/s]"
      ]
     },
     "metadata": {},
     "output_type": "display_data"
    },
    {
     "name": "stderr",
     "output_type": "stream",
     "text": [
      "[I 2023-06-22 20:48:43,610] Trial 69 finished with value: 129.41442835533368 and parameters: {'input_chunk_length': 356, 'kernel_size': 3, 'num_filters': 1, 'num_layers': None, 'dilation_base': 3, 'dropout': 0.3}. Best is trial 40 with value: 115.06090781369282.\n",
      "GPU available: True (cuda), used: True\n",
      "TPU available: False, using: 0 TPU cores\n",
      "IPU available: False, using: 0 IPUs\n",
      "HPU available: False, using: 0 HPUs\n",
      "LOCAL_RANK: 0 - CUDA_VISIBLE_DEVICES: [1]\n"
     ]
    },
    {
     "name": "stdout",
     "output_type": "stream",
     "text": [
      "Current value: 129.41442835533368, Current params: {'input_chunk_length': 356, 'kernel_size': 3, 'num_filters': 1, 'num_layers': None, 'dilation_base': 3, 'dropout': 0.3}\n",
      "Best value: 115.06090781369282, Best params: {'input_chunk_length': 180, 'kernel_size': 5, 'num_filters': 1, 'num_layers': None, 'dilation_base': 2, 'dropout': 0.2}\n"
     ]
    },
    {
     "name": "stderr",
     "output_type": "stream",
     "text": [
      "`Trainer.fit` stopped: `max_epochs=400` reached.\n",
      "GPU available: True (cuda), used: True\n",
      "TPU available: False, using: 0 TPU cores\n",
      "IPU available: False, using: 0 IPUs\n",
      "HPU available: False, using: 0 HPUs\n",
      "LOCAL_RANK: 0 - CUDA_VISIBLE_DEVICES: [1]\n"
     ]
    },
    {
     "data": {
      "application/vnd.jupyter.widget-view+json": {
       "model_id": "619a8f3a9f884b20968cab9073920f30",
       "version_major": 2,
       "version_minor": 0
      },
      "text/plain": [
       "Predicting: 0it [00:00, ?it/s]"
      ]
     },
     "metadata": {},
     "output_type": "display_data"
    },
    {
     "name": "stderr",
     "output_type": "stream",
     "text": [
      "[I 2023-06-22 20:50:03,212] Trial 70 finished with value: 144.03631213367396 and parameters: {'input_chunk_length': 180, 'kernel_size': 2, 'num_filters': 1, 'num_layers': 1, 'dilation_base': 2, 'dropout': 0.1}. Best is trial 40 with value: 115.06090781369282.\n",
      "GPU available: True (cuda), used: True\n",
      "TPU available: False, using: 0 TPU cores\n",
      "IPU available: False, using: 0 IPUs\n",
      "HPU available: False, using: 0 HPUs\n",
      "LOCAL_RANK: 0 - CUDA_VISIBLE_DEVICES: [1]\n"
     ]
    },
    {
     "name": "stdout",
     "output_type": "stream",
     "text": [
      "Current value: 144.03631213367396, Current params: {'input_chunk_length': 180, 'kernel_size': 2, 'num_filters': 1, 'num_layers': 1, 'dilation_base': 2, 'dropout': 0.1}\n",
      "Best value: 115.06090781369282, Best params: {'input_chunk_length': 180, 'kernel_size': 5, 'num_filters': 1, 'num_layers': None, 'dilation_base': 2, 'dropout': 0.2}\n"
     ]
    },
    {
     "name": "stderr",
     "output_type": "stream",
     "text": [
      "`Trainer.fit` stopped: `max_epochs=400` reached.\n",
      "GPU available: True (cuda), used: True\n",
      "TPU available: False, using: 0 TPU cores\n",
      "IPU available: False, using: 0 IPUs\n",
      "HPU available: False, using: 0 HPUs\n",
      "LOCAL_RANK: 0 - CUDA_VISIBLE_DEVICES: [1]\n"
     ]
    },
    {
     "data": {
      "application/vnd.jupyter.widget-view+json": {
       "model_id": "514b615c005b4175942621a56723b76f",
       "version_major": 2,
       "version_minor": 0
      },
      "text/plain": [
       "Predicting: 0it [00:00, ?it/s]"
      ]
     },
     "metadata": {},
     "output_type": "display_data"
    },
    {
     "name": "stderr",
     "output_type": "stream",
     "text": [
      "[I 2023-06-22 20:51:18,724] Trial 71 finished with value: 133.1344343178618 and parameters: {'input_chunk_length': 180, 'kernel_size': 2, 'num_filters': 1, 'num_layers': None, 'dilation_base': 3, 'dropout': 0.3}. Best is trial 40 with value: 115.06090781369282.\n",
      "GPU available: True (cuda), used: True\n",
      "TPU available: False, using: 0 TPU cores\n",
      "IPU available: False, using: 0 IPUs\n",
      "HPU available: False, using: 0 HPUs\n",
      "LOCAL_RANK: 0 - CUDA_VISIBLE_DEVICES: [1]\n"
     ]
    },
    {
     "name": "stdout",
     "output_type": "stream",
     "text": [
      "Current value: 133.1344343178618, Current params: {'input_chunk_length': 180, 'kernel_size': 2, 'num_filters': 1, 'num_layers': None, 'dilation_base': 3, 'dropout': 0.3}\n",
      "Best value: 115.06090781369282, Best params: {'input_chunk_length': 180, 'kernel_size': 5, 'num_filters': 1, 'num_layers': None, 'dilation_base': 2, 'dropout': 0.2}\n"
     ]
    },
    {
     "name": "stderr",
     "output_type": "stream",
     "text": [
      "`Trainer.fit` stopped: `max_epochs=400` reached.\n",
      "GPU available: True (cuda), used: True\n",
      "TPU available: False, using: 0 TPU cores\n",
      "IPU available: False, using: 0 IPUs\n",
      "HPU available: False, using: 0 HPUs\n",
      "LOCAL_RANK: 0 - CUDA_VISIBLE_DEVICES: [1]\n"
     ]
    },
    {
     "data": {
      "application/vnd.jupyter.widget-view+json": {
       "model_id": "0a42882ee6724dd6ba8276874bd12015",
       "version_major": 2,
       "version_minor": 0
      },
      "text/plain": [
       "Predicting: 0it [00:00, ?it/s]"
      ]
     },
     "metadata": {},
     "output_type": "display_data"
    },
    {
     "name": "stderr",
     "output_type": "stream",
     "text": [
      "[I 2023-06-22 20:52:37,885] Trial 72 finished with value: 142.6053434832854 and parameters: {'input_chunk_length': 180, 'kernel_size': 2, 'num_filters': 1, 'num_layers': None, 'dilation_base': 3, 'dropout': 0.3}. Best is trial 40 with value: 115.06090781369282.\n",
      "GPU available: True (cuda), used: True\n",
      "TPU available: False, using: 0 TPU cores\n",
      "IPU available: False, using: 0 IPUs\n",
      "HPU available: False, using: 0 HPUs\n",
      "LOCAL_RANK: 0 - CUDA_VISIBLE_DEVICES: [1]\n"
     ]
    },
    {
     "name": "stdout",
     "output_type": "stream",
     "text": [
      "Current value: 142.6053434832854, Current params: {'input_chunk_length': 180, 'kernel_size': 2, 'num_filters': 1, 'num_layers': None, 'dilation_base': 3, 'dropout': 0.3}\n",
      "Best value: 115.06090781369282, Best params: {'input_chunk_length': 180, 'kernel_size': 5, 'num_filters': 1, 'num_layers': None, 'dilation_base': 2, 'dropout': 0.2}\n"
     ]
    },
    {
     "name": "stderr",
     "output_type": "stream",
     "text": [
      "`Trainer.fit` stopped: `max_epochs=400` reached.\n",
      "GPU available: True (cuda), used: True\n",
      "TPU available: False, using: 0 TPU cores\n",
      "IPU available: False, using: 0 IPUs\n",
      "HPU available: False, using: 0 HPUs\n",
      "LOCAL_RANK: 0 - CUDA_VISIBLE_DEVICES: [1]\n"
     ]
    },
    {
     "data": {
      "application/vnd.jupyter.widget-view+json": {
       "model_id": "b55279c0888542b9be1fc592d2fdfebe",
       "version_major": 2,
       "version_minor": 0
      },
      "text/plain": [
       "Predicting: 0it [00:00, ?it/s]"
      ]
     },
     "metadata": {},
     "output_type": "display_data"
    },
    {
     "name": "stderr",
     "output_type": "stream",
     "text": [
      "[I 2023-06-22 20:53:58,655] Trial 73 finished with value: 142.697614107862 and parameters: {'input_chunk_length': 180, 'kernel_size': 2, 'num_filters': 1, 'num_layers': None, 'dilation_base': 3, 'dropout': 0.3}. Best is trial 40 with value: 115.06090781369282.\n",
      "GPU available: True (cuda), used: True\n",
      "TPU available: False, using: 0 TPU cores\n",
      "IPU available: False, using: 0 IPUs\n",
      "HPU available: False, using: 0 HPUs\n",
      "LOCAL_RANK: 0 - CUDA_VISIBLE_DEVICES: [1]\n"
     ]
    },
    {
     "name": "stdout",
     "output_type": "stream",
     "text": [
      "Current value: 142.697614107862, Current params: {'input_chunk_length': 180, 'kernel_size': 2, 'num_filters': 1, 'num_layers': None, 'dilation_base': 3, 'dropout': 0.3}\n",
      "Best value: 115.06090781369282, Best params: {'input_chunk_length': 180, 'kernel_size': 5, 'num_filters': 1, 'num_layers': None, 'dilation_base': 2, 'dropout': 0.2}\n"
     ]
    },
    {
     "name": "stderr",
     "output_type": "stream",
     "text": [
      "`Trainer.fit` stopped: `max_epochs=400` reached.\n",
      "GPU available: True (cuda), used: True\n",
      "TPU available: False, using: 0 TPU cores\n",
      "IPU available: False, using: 0 IPUs\n",
      "HPU available: False, using: 0 HPUs\n",
      "LOCAL_RANK: 0 - CUDA_VISIBLE_DEVICES: [1]\n"
     ]
    },
    {
     "data": {
      "application/vnd.jupyter.widget-view+json": {
       "model_id": "efa14b65114a4e609f1ad8eea6282fcb",
       "version_major": 2,
       "version_minor": 0
      },
      "text/plain": [
       "Predicting: 0it [00:00, ?it/s]"
      ]
     },
     "metadata": {},
     "output_type": "display_data"
    },
    {
     "name": "stderr",
     "output_type": "stream",
     "text": [
      "[I 2023-06-22 20:55:17,963] Trial 74 finished with value: 148.6146835069154 and parameters: {'input_chunk_length': 180, 'kernel_size': 2, 'num_filters': 1, 'num_layers': None, 'dilation_base': 3, 'dropout': 0.3}. Best is trial 40 with value: 115.06090781369282.\n",
      "GPU available: True (cuda), used: True\n",
      "TPU available: False, using: 0 TPU cores\n",
      "IPU available: False, using: 0 IPUs\n",
      "HPU available: False, using: 0 HPUs\n",
      "LOCAL_RANK: 0 - CUDA_VISIBLE_DEVICES: [1]\n"
     ]
    },
    {
     "name": "stdout",
     "output_type": "stream",
     "text": [
      "Current value: 148.6146835069154, Current params: {'input_chunk_length': 180, 'kernel_size': 2, 'num_filters': 1, 'num_layers': None, 'dilation_base': 3, 'dropout': 0.3}\n",
      "Best value: 115.06090781369282, Best params: {'input_chunk_length': 180, 'kernel_size': 5, 'num_filters': 1, 'num_layers': None, 'dilation_base': 2, 'dropout': 0.2}\n"
     ]
    },
    {
     "name": "stderr",
     "output_type": "stream",
     "text": [
      "`Trainer.fit` stopped: `max_epochs=400` reached.\n",
      "GPU available: True (cuda), used: True\n",
      "TPU available: False, using: 0 TPU cores\n",
      "IPU available: False, using: 0 IPUs\n",
      "HPU available: False, using: 0 HPUs\n",
      "LOCAL_RANK: 0 - CUDA_VISIBLE_DEVICES: [1]\n"
     ]
    },
    {
     "data": {
      "application/vnd.jupyter.widget-view+json": {
       "model_id": "0f2bbd80c7a8463783116c12d6c195d5",
       "version_major": 2,
       "version_minor": 0
      },
      "text/plain": [
       "Predicting: 0it [00:00, ?it/s]"
      ]
     },
     "metadata": {},
     "output_type": "display_data"
    },
    {
     "name": "stderr",
     "output_type": "stream",
     "text": [
      "[I 2023-06-22 20:56:34,321] Trial 75 finished with value: 145.94930941863498 and parameters: {'input_chunk_length': 180, 'kernel_size': 2, 'num_filters': 1, 'num_layers': 3, 'dilation_base': 3, 'dropout': 0.3}. Best is trial 40 with value: 115.06090781369282.\n",
      "GPU available: True (cuda), used: True\n",
      "TPU available: False, using: 0 TPU cores\n",
      "IPU available: False, using: 0 IPUs\n",
      "HPU available: False, using: 0 HPUs\n",
      "LOCAL_RANK: 0 - CUDA_VISIBLE_DEVICES: [1]\n"
     ]
    },
    {
     "name": "stdout",
     "output_type": "stream",
     "text": [
      "Current value: 145.94930941863498, Current params: {'input_chunk_length': 180, 'kernel_size': 2, 'num_filters': 1, 'num_layers': 3, 'dilation_base': 3, 'dropout': 0.3}\n",
      "Best value: 115.06090781369282, Best params: {'input_chunk_length': 180, 'kernel_size': 5, 'num_filters': 1, 'num_layers': None, 'dilation_base': 2, 'dropout': 0.2}\n"
     ]
    },
    {
     "name": "stderr",
     "output_type": "stream",
     "text": [
      "`Trainer.fit` stopped: `max_epochs=400` reached.\n",
      "GPU available: True (cuda), used: True\n",
      "TPU available: False, using: 0 TPU cores\n",
      "IPU available: False, using: 0 IPUs\n",
      "HPU available: False, using: 0 HPUs\n",
      "LOCAL_RANK: 0 - CUDA_VISIBLE_DEVICES: [1]\n"
     ]
    },
    {
     "data": {
      "application/vnd.jupyter.widget-view+json": {
       "model_id": "faa0eeba98ba41ec801631ddefc902e5",
       "version_major": 2,
       "version_minor": 0
      },
      "text/plain": [
       "Predicting: 0it [00:00, ?it/s]"
      ]
     },
     "metadata": {},
     "output_type": "display_data"
    },
    {
     "name": "stderr",
     "output_type": "stream",
     "text": [
      "[I 2023-06-22 20:57:44,245] Trial 76 finished with value: 127.05709796048299 and parameters: {'input_chunk_length': 60, 'kernel_size': 3, 'num_filters': 1, 'num_layers': None, 'dilation_base': 1, 'dropout': 0.2}. Best is trial 40 with value: 115.06090781369282.\n",
      "GPU available: True (cuda), used: True\n",
      "TPU available: False, using: 0 TPU cores\n",
      "IPU available: False, using: 0 IPUs\n",
      "HPU available: False, using: 0 HPUs\n",
      "LOCAL_RANK: 0 - CUDA_VISIBLE_DEVICES: [1]\n"
     ]
    },
    {
     "name": "stdout",
     "output_type": "stream",
     "text": [
      "Current value: 127.05709796048299, Current params: {'input_chunk_length': 60, 'kernel_size': 3, 'num_filters': 1, 'num_layers': None, 'dilation_base': 1, 'dropout': 0.2}\n",
      "Best value: 115.06090781369282, Best params: {'input_chunk_length': 180, 'kernel_size': 5, 'num_filters': 1, 'num_layers': None, 'dilation_base': 2, 'dropout': 0.2}\n"
     ]
    },
    {
     "name": "stderr",
     "output_type": "stream",
     "text": [
      "`Trainer.fit` stopped: `max_epochs=400` reached.\n",
      "GPU available: True (cuda), used: True\n",
      "TPU available: False, using: 0 TPU cores\n",
      "IPU available: False, using: 0 IPUs\n",
      "HPU available: False, using: 0 HPUs\n",
      "LOCAL_RANK: 0 - CUDA_VISIBLE_DEVICES: [1]\n"
     ]
    },
    {
     "data": {
      "application/vnd.jupyter.widget-view+json": {
       "model_id": "813b7c2da3694b119f3470febafff993",
       "version_major": 2,
       "version_minor": 0
      },
      "text/plain": [
       "Predicting: 0it [00:00, ?it/s]"
      ]
     },
     "metadata": {},
     "output_type": "display_data"
    },
    {
     "name": "stderr",
     "output_type": "stream",
     "text": [
      "[I 2023-06-22 20:58:50,000] Trial 77 finished with value: 160.55352118465882 and parameters: {'input_chunk_length': 31, 'kernel_size': 5, 'num_filters': 3, 'num_layers': 3, 'dilation_base': 2, 'dropout': 0.2}. Best is trial 40 with value: 115.06090781369282.\n",
      "GPU available: True (cuda), used: True\n",
      "TPU available: False, using: 0 TPU cores\n",
      "IPU available: False, using: 0 IPUs\n",
      "HPU available: False, using: 0 HPUs\n",
      "LOCAL_RANK: 0 - CUDA_VISIBLE_DEVICES: [1]\n"
     ]
    },
    {
     "name": "stdout",
     "output_type": "stream",
     "text": [
      "Current value: 160.55352118465882, Current params: {'input_chunk_length': 31, 'kernel_size': 5, 'num_filters': 3, 'num_layers': 3, 'dilation_base': 2, 'dropout': 0.2}\n",
      "Best value: 115.06090781369282, Best params: {'input_chunk_length': 180, 'kernel_size': 5, 'num_filters': 1, 'num_layers': None, 'dilation_base': 2, 'dropout': 0.2}\n"
     ]
    },
    {
     "name": "stderr",
     "output_type": "stream",
     "text": [
      "`Trainer.fit` stopped: `max_epochs=400` reached.\n",
      "GPU available: True (cuda), used: True\n",
      "TPU available: False, using: 0 TPU cores\n",
      "IPU available: False, using: 0 IPUs\n",
      "HPU available: False, using: 0 HPUs\n",
      "LOCAL_RANK: 0 - CUDA_VISIBLE_DEVICES: [1]\n"
     ]
    },
    {
     "data": {
      "application/vnd.jupyter.widget-view+json": {
       "model_id": "fcf4af1b88754f0cbc34e8acaeef6f78",
       "version_major": 2,
       "version_minor": 0
      },
      "text/plain": [
       "Predicting: 0it [00:00, ?it/s]"
      ]
     },
     "metadata": {},
     "output_type": "display_data"
    },
    {
     "name": "stderr",
     "output_type": "stream",
     "text": [
      "[I 2023-06-22 21:00:06,214] Trial 78 finished with value: 173.44099894785103 and parameters: {'input_chunk_length': 180, 'kernel_size': 3, 'num_filters': 5, 'num_layers': None, 'dilation_base': 3, 'dropout': 0.3}. Best is trial 40 with value: 115.06090781369282.\n",
      "GPU available: True (cuda), used: True\n",
      "TPU available: False, using: 0 TPU cores\n",
      "IPU available: False, using: 0 IPUs\n",
      "HPU available: False, using: 0 HPUs\n",
      "LOCAL_RANK: 0 - CUDA_VISIBLE_DEVICES: [1]\n"
     ]
    },
    {
     "name": "stdout",
     "output_type": "stream",
     "text": [
      "Current value: 173.44099894785103, Current params: {'input_chunk_length': 180, 'kernel_size': 3, 'num_filters': 5, 'num_layers': None, 'dilation_base': 3, 'dropout': 0.3}\n",
      "Best value: 115.06090781369282, Best params: {'input_chunk_length': 180, 'kernel_size': 5, 'num_filters': 1, 'num_layers': None, 'dilation_base': 2, 'dropout': 0.2}\n"
     ]
    },
    {
     "name": "stderr",
     "output_type": "stream",
     "text": [
      "`Trainer.fit` stopped: `max_epochs=400` reached.\n",
      "GPU available: True (cuda), used: True\n",
      "TPU available: False, using: 0 TPU cores\n",
      "IPU available: False, using: 0 IPUs\n",
      "HPU available: False, using: 0 HPUs\n",
      "LOCAL_RANK: 0 - CUDA_VISIBLE_DEVICES: [1]\n"
     ]
    },
    {
     "data": {
      "application/vnd.jupyter.widget-view+json": {
       "model_id": "b5d75138fc2a474fa728b9b9dfd7d78a",
       "version_major": 2,
       "version_minor": 0
      },
      "text/plain": [
       "Predicting: 0it [00:00, ?it/s]"
      ]
     },
     "metadata": {},
     "output_type": "display_data"
    },
    {
     "name": "stderr",
     "output_type": "stream",
     "text": [
      "[I 2023-06-22 21:01:23,154] Trial 79 finished with value: 136.56261297126065 and parameters: {'input_chunk_length': 180, 'kernel_size': 2, 'num_filters': 1, 'num_layers': 3, 'dilation_base': 2, 'dropout': 0.2}. Best is trial 40 with value: 115.06090781369282.\n",
      "GPU available: True (cuda), used: True\n",
      "TPU available: False, using: 0 TPU cores\n",
      "IPU available: False, using: 0 IPUs\n",
      "HPU available: False, using: 0 HPUs\n",
      "LOCAL_RANK: 0 - CUDA_VISIBLE_DEVICES: [1]\n"
     ]
    },
    {
     "name": "stdout",
     "output_type": "stream",
     "text": [
      "Current value: 136.56261297126065, Current params: {'input_chunk_length': 180, 'kernel_size': 2, 'num_filters': 1, 'num_layers': 3, 'dilation_base': 2, 'dropout': 0.2}\n",
      "Best value: 115.06090781369282, Best params: {'input_chunk_length': 180, 'kernel_size': 5, 'num_filters': 1, 'num_layers': None, 'dilation_base': 2, 'dropout': 0.2}\n"
     ]
    },
    {
     "name": "stderr",
     "output_type": "stream",
     "text": [
      "`Trainer.fit` stopped: `max_epochs=400` reached.\n",
      "GPU available: True (cuda), used: True\n",
      "TPU available: False, using: 0 TPU cores\n",
      "IPU available: False, using: 0 IPUs\n",
      "HPU available: False, using: 0 HPUs\n",
      "LOCAL_RANK: 0 - CUDA_VISIBLE_DEVICES: [1]\n"
     ]
    },
    {
     "data": {
      "application/vnd.jupyter.widget-view+json": {
       "model_id": "ec5b781f88084e2e835b446e4ae9c386",
       "version_major": 2,
       "version_minor": 0
      },
      "text/plain": [
       "Predicting: 0it [00:00, ?it/s]"
      ]
     },
     "metadata": {},
     "output_type": "display_data"
    },
    {
     "name": "stderr",
     "output_type": "stream",
     "text": [
      "[I 2023-06-22 21:02:28,734] Trial 80 finished with value: 154.82519844803028 and parameters: {'input_chunk_length': 356, 'kernel_size': 3, 'num_filters': 1, 'num_layers': None, 'dilation_base': 2, 'dropout': 0.2}. Best is trial 40 with value: 115.06090781369282.\n",
      "GPU available: True (cuda), used: True\n",
      "TPU available: False, using: 0 TPU cores\n",
      "IPU available: False, using: 0 IPUs\n",
      "HPU available: False, using: 0 HPUs\n",
      "LOCAL_RANK: 0 - CUDA_VISIBLE_DEVICES: [1]\n"
     ]
    },
    {
     "name": "stdout",
     "output_type": "stream",
     "text": [
      "Current value: 154.82519844803028, Current params: {'input_chunk_length': 356, 'kernel_size': 3, 'num_filters': 1, 'num_layers': None, 'dilation_base': 2, 'dropout': 0.2}\n",
      "Best value: 115.06090781369282, Best params: {'input_chunk_length': 180, 'kernel_size': 5, 'num_filters': 1, 'num_layers': None, 'dilation_base': 2, 'dropout': 0.2}\n"
     ]
    },
    {
     "name": "stderr",
     "output_type": "stream",
     "text": [
      "`Trainer.fit` stopped: `max_epochs=400` reached.\n",
      "GPU available: True (cuda), used: True\n",
      "TPU available: False, using: 0 TPU cores\n",
      "IPU available: False, using: 0 IPUs\n",
      "HPU available: False, using: 0 HPUs\n",
      "LOCAL_RANK: 0 - CUDA_VISIBLE_DEVICES: [1]\n"
     ]
    },
    {
     "data": {
      "application/vnd.jupyter.widget-view+json": {
       "model_id": "8913f823c15c46e6afbd85fe2ceffe1a",
       "version_major": 2,
       "version_minor": 0
      },
      "text/plain": [
       "Predicting: 0it [00:00, ?it/s]"
      ]
     },
     "metadata": {},
     "output_type": "display_data"
    },
    {
     "name": "stderr",
     "output_type": "stream",
     "text": [
      "[I 2023-06-22 21:03:41,672] Trial 81 finished with value: 137.7461051279775 and parameters: {'input_chunk_length': 60, 'kernel_size': 3, 'num_filters': 1, 'num_layers': None, 'dilation_base': 1, 'dropout': 0.2}. Best is trial 40 with value: 115.06090781369282.\n",
      "GPU available: True (cuda), used: True\n",
      "TPU available: False, using: 0 TPU cores\n",
      "IPU available: False, using: 0 IPUs\n",
      "HPU available: False, using: 0 HPUs\n",
      "LOCAL_RANK: 0 - CUDA_VISIBLE_DEVICES: [1]\n"
     ]
    },
    {
     "name": "stdout",
     "output_type": "stream",
     "text": [
      "Current value: 137.7461051279775, Current params: {'input_chunk_length': 60, 'kernel_size': 3, 'num_filters': 1, 'num_layers': None, 'dilation_base': 1, 'dropout': 0.2}\n",
      "Best value: 115.06090781369282, Best params: {'input_chunk_length': 180, 'kernel_size': 5, 'num_filters': 1, 'num_layers': None, 'dilation_base': 2, 'dropout': 0.2}\n"
     ]
    },
    {
     "name": "stderr",
     "output_type": "stream",
     "text": [
      "`Trainer.fit` stopped: `max_epochs=400` reached.\n",
      "GPU available: True (cuda), used: True\n",
      "TPU available: False, using: 0 TPU cores\n",
      "IPU available: False, using: 0 IPUs\n",
      "HPU available: False, using: 0 HPUs\n",
      "LOCAL_RANK: 0 - CUDA_VISIBLE_DEVICES: [1]\n"
     ]
    },
    {
     "data": {
      "application/vnd.jupyter.widget-view+json": {
       "model_id": "d0f7910492f34cca99b162b6f8bde7d6",
       "version_major": 2,
       "version_minor": 0
      },
      "text/plain": [
       "Predicting: 0it [00:00, ?it/s]"
      ]
     },
     "metadata": {},
     "output_type": "display_data"
    },
    {
     "name": "stderr",
     "output_type": "stream",
     "text": [
      "[I 2023-06-22 21:04:53,829] Trial 82 finished with value: 148.01980229029604 and parameters: {'input_chunk_length': 60, 'kernel_size': 3, 'num_filters': 1, 'num_layers': None, 'dilation_base': 1, 'dropout': 0.2}. Best is trial 40 with value: 115.06090781369282.\n",
      "GPU available: True (cuda), used: True\n",
      "TPU available: False, using: 0 TPU cores\n",
      "IPU available: False, using: 0 IPUs\n",
      "HPU available: False, using: 0 HPUs\n",
      "LOCAL_RANK: 0 - CUDA_VISIBLE_DEVICES: [1]\n"
     ]
    },
    {
     "name": "stdout",
     "output_type": "stream",
     "text": [
      "Current value: 148.01980229029604, Current params: {'input_chunk_length': 60, 'kernel_size': 3, 'num_filters': 1, 'num_layers': None, 'dilation_base': 1, 'dropout': 0.2}\n",
      "Best value: 115.06090781369282, Best params: {'input_chunk_length': 180, 'kernel_size': 5, 'num_filters': 1, 'num_layers': None, 'dilation_base': 2, 'dropout': 0.2}\n"
     ]
    },
    {
     "name": "stderr",
     "output_type": "stream",
     "text": [
      "`Trainer.fit` stopped: `max_epochs=400` reached.\n",
      "GPU available: True (cuda), used: True\n",
      "TPU available: False, using: 0 TPU cores\n",
      "IPU available: False, using: 0 IPUs\n",
      "HPU available: False, using: 0 HPUs\n",
      "LOCAL_RANK: 0 - CUDA_VISIBLE_DEVICES: [1]\n"
     ]
    },
    {
     "data": {
      "application/vnd.jupyter.widget-view+json": {
       "model_id": "8b2d26ab952c43b88383f54c41ea209a",
       "version_major": 2,
       "version_minor": 0
      },
      "text/plain": [
       "Predicting: 0it [00:00, ?it/s]"
      ]
     },
     "metadata": {},
     "output_type": "display_data"
    },
    {
     "name": "stderr",
     "output_type": "stream",
     "text": [
      "[I 2023-06-22 21:06:08,083] Trial 83 finished with value: 139.58991573811267 and parameters: {'input_chunk_length': 60, 'kernel_size': 3, 'num_filters': 1, 'num_layers': None, 'dilation_base': 1, 'dropout': 0.2}. Best is trial 40 with value: 115.06090781369282.\n",
      "GPU available: True (cuda), used: True\n",
      "TPU available: False, using: 0 TPU cores\n",
      "IPU available: False, using: 0 IPUs\n",
      "HPU available: False, using: 0 HPUs\n",
      "LOCAL_RANK: 0 - CUDA_VISIBLE_DEVICES: [1]\n"
     ]
    },
    {
     "name": "stdout",
     "output_type": "stream",
     "text": [
      "Current value: 139.58991573811267, Current params: {'input_chunk_length': 60, 'kernel_size': 3, 'num_filters': 1, 'num_layers': None, 'dilation_base': 1, 'dropout': 0.2}\n",
      "Best value: 115.06090781369282, Best params: {'input_chunk_length': 180, 'kernel_size': 5, 'num_filters': 1, 'num_layers': None, 'dilation_base': 2, 'dropout': 0.2}\n"
     ]
    },
    {
     "name": "stderr",
     "output_type": "stream",
     "text": [
      "`Trainer.fit` stopped: `max_epochs=400` reached.\n",
      "GPU available: True (cuda), used: True\n",
      "TPU available: False, using: 0 TPU cores\n",
      "IPU available: False, using: 0 IPUs\n",
      "HPU available: False, using: 0 HPUs\n",
      "LOCAL_RANK: 0 - CUDA_VISIBLE_DEVICES: [1]\n"
     ]
    },
    {
     "data": {
      "application/vnd.jupyter.widget-view+json": {
       "model_id": "ce10439fc71e4a6393e96fd5c25b4dfc",
       "version_major": 2,
       "version_minor": 0
      },
      "text/plain": [
       "Predicting: 0it [00:00, ?it/s]"
      ]
     },
     "metadata": {},
     "output_type": "display_data"
    },
    {
     "name": "stderr",
     "output_type": "stream",
     "text": [
      "[I 2023-06-22 21:07:18,400] Trial 84 finished with value: 142.82459169620384 and parameters: {'input_chunk_length': 180, 'kernel_size': 3, 'num_filters': 1, 'num_layers': None, 'dilation_base': 1, 'dropout': 0.2}. Best is trial 40 with value: 115.06090781369282.\n",
      "GPU available: True (cuda), used: True\n",
      "TPU available: False, using: 0 TPU cores\n",
      "IPU available: False, using: 0 IPUs\n",
      "HPU available: False, using: 0 HPUs\n",
      "LOCAL_RANK: 0 - CUDA_VISIBLE_DEVICES: [1]\n"
     ]
    },
    {
     "name": "stdout",
     "output_type": "stream",
     "text": [
      "Current value: 142.82459169620384, Current params: {'input_chunk_length': 180, 'kernel_size': 3, 'num_filters': 1, 'num_layers': None, 'dilation_base': 1, 'dropout': 0.2}\n",
      "Best value: 115.06090781369282, Best params: {'input_chunk_length': 180, 'kernel_size': 5, 'num_filters': 1, 'num_layers': None, 'dilation_base': 2, 'dropout': 0.2}\n"
     ]
    },
    {
     "name": "stderr",
     "output_type": "stream",
     "text": [
      "`Trainer.fit` stopped: `max_epochs=400` reached.\n",
      "GPU available: True (cuda), used: True\n",
      "TPU available: False, using: 0 TPU cores\n",
      "IPU available: False, using: 0 IPUs\n",
      "HPU available: False, using: 0 HPUs\n",
      "LOCAL_RANK: 0 - CUDA_VISIBLE_DEVICES: [1]\n"
     ]
    },
    {
     "data": {
      "application/vnd.jupyter.widget-view+json": {
       "model_id": "067a0edd71fa4ce6865d6d73731c5643",
       "version_major": 2,
       "version_minor": 0
      },
      "text/plain": [
       "Predicting: 0it [00:00, ?it/s]"
      ]
     },
     "metadata": {},
     "output_type": "display_data"
    },
    {
     "name": "stderr",
     "output_type": "stream",
     "text": [
      "[I 2023-06-22 21:08:27,843] Trial 85 finished with value: 144.0670972625734 and parameters: {'input_chunk_length': 60, 'kernel_size': 3, 'num_filters': 1, 'num_layers': 2, 'dilation_base': 1, 'dropout': 0.2}. Best is trial 40 with value: 115.06090781369282.\n",
      "GPU available: True (cuda), used: True\n",
      "TPU available: False, using: 0 TPU cores\n",
      "IPU available: False, using: 0 IPUs\n",
      "HPU available: False, using: 0 HPUs\n",
      "LOCAL_RANK: 0 - CUDA_VISIBLE_DEVICES: [1]\n"
     ]
    },
    {
     "name": "stdout",
     "output_type": "stream",
     "text": [
      "Current value: 144.0670972625734, Current params: {'input_chunk_length': 60, 'kernel_size': 3, 'num_filters': 1, 'num_layers': 2, 'dilation_base': 1, 'dropout': 0.2}\n",
      "Best value: 115.06090781369282, Best params: {'input_chunk_length': 180, 'kernel_size': 5, 'num_filters': 1, 'num_layers': None, 'dilation_base': 2, 'dropout': 0.2}\n"
     ]
    },
    {
     "name": "stderr",
     "output_type": "stream",
     "text": [
      "`Trainer.fit` stopped: `max_epochs=400` reached.\n",
      "GPU available: True (cuda), used: True\n",
      "TPU available: False, using: 0 TPU cores\n",
      "IPU available: False, using: 0 IPUs\n",
      "HPU available: False, using: 0 HPUs\n",
      "LOCAL_RANK: 0 - CUDA_VISIBLE_DEVICES: [1]\n"
     ]
    },
    {
     "data": {
      "application/vnd.jupyter.widget-view+json": {
       "model_id": "cb1496361a5242d8afb48dc6ddd532e3",
       "version_major": 2,
       "version_minor": 0
      },
      "text/plain": [
       "Predicting: 0it [00:00, ?it/s]"
      ]
     },
     "metadata": {},
     "output_type": "display_data"
    },
    {
     "name": "stderr",
     "output_type": "stream",
     "text": [
      "[I 2023-06-22 21:09:36,409] Trial 86 finished with value: 157.51260460358858 and parameters: {'input_chunk_length': 60, 'kernel_size': 5, 'num_filters': 1, 'num_layers': None, 'dilation_base': 2, 'dropout': 0.2}. Best is trial 40 with value: 115.06090781369282.\n",
      "GPU available: True (cuda), used: True\n",
      "TPU available: False, using: 0 TPU cores\n",
      "IPU available: False, using: 0 IPUs\n",
      "HPU available: False, using: 0 HPUs\n",
      "LOCAL_RANK: 0 - CUDA_VISIBLE_DEVICES: [1]\n"
     ]
    },
    {
     "name": "stdout",
     "output_type": "stream",
     "text": [
      "Current value: 157.51260460358858, Current params: {'input_chunk_length': 60, 'kernel_size': 5, 'num_filters': 1, 'num_layers': None, 'dilation_base': 2, 'dropout': 0.2}\n",
      "Best value: 115.06090781369282, Best params: {'input_chunk_length': 180, 'kernel_size': 5, 'num_filters': 1, 'num_layers': None, 'dilation_base': 2, 'dropout': 0.2}\n"
     ]
    },
    {
     "name": "stderr",
     "output_type": "stream",
     "text": [
      "`Trainer.fit` stopped: `max_epochs=400` reached.\n",
      "GPU available: True (cuda), used: True\n",
      "TPU available: False, using: 0 TPU cores\n",
      "IPU available: False, using: 0 IPUs\n",
      "HPU available: False, using: 0 HPUs\n",
      "LOCAL_RANK: 0 - CUDA_VISIBLE_DEVICES: [1]\n"
     ]
    },
    {
     "data": {
      "application/vnd.jupyter.widget-view+json": {
       "model_id": "ac492c6b09b6453292e2ee487b5bba41",
       "version_major": 2,
       "version_minor": 0
      },
      "text/plain": [
       "Predicting: 0it [00:00, ?it/s]"
      ]
     },
     "metadata": {},
     "output_type": "display_data"
    },
    {
     "name": "stderr",
     "output_type": "stream",
     "text": [
      "[I 2023-06-22 21:10:45,811] Trial 87 finished with value: 129.93770122393653 and parameters: {'input_chunk_length': 180, 'kernel_size': 3, 'num_filters': 1, 'num_layers': 1, 'dilation_base': 1, 'dropout': 0.3}. Best is trial 40 with value: 115.06090781369282.\n",
      "GPU available: True (cuda), used: True\n",
      "TPU available: False, using: 0 TPU cores\n",
      "IPU available: False, using: 0 IPUs\n",
      "HPU available: False, using: 0 HPUs\n",
      "LOCAL_RANK: 0 - CUDA_VISIBLE_DEVICES: [1]\n"
     ]
    },
    {
     "name": "stdout",
     "output_type": "stream",
     "text": [
      "Current value: 129.93770122393653, Current params: {'input_chunk_length': 180, 'kernel_size': 3, 'num_filters': 1, 'num_layers': 1, 'dilation_base': 1, 'dropout': 0.3}\n",
      "Best value: 115.06090781369282, Best params: {'input_chunk_length': 180, 'kernel_size': 5, 'num_filters': 1, 'num_layers': None, 'dilation_base': 2, 'dropout': 0.2}\n"
     ]
    },
    {
     "name": "stderr",
     "output_type": "stream",
     "text": [
      "`Trainer.fit` stopped: `max_epochs=400` reached.\n",
      "GPU available: True (cuda), used: True\n",
      "TPU available: False, using: 0 TPU cores\n",
      "IPU available: False, using: 0 IPUs\n",
      "HPU available: False, using: 0 HPUs\n",
      "LOCAL_RANK: 0 - CUDA_VISIBLE_DEVICES: [1]\n"
     ]
    },
    {
     "data": {
      "application/vnd.jupyter.widget-view+json": {
       "model_id": "7d5fc7d6e33447f09f3d9ef4f4535de4",
       "version_major": 2,
       "version_minor": 0
      },
      "text/plain": [
       "Predicting: 0it [00:00, ?it/s]"
      ]
     },
     "metadata": {},
     "output_type": "display_data"
    },
    {
     "name": "stderr",
     "output_type": "stream",
     "text": [
      "[I 2023-06-22 21:11:59,885] Trial 88 finished with value: 150.9087782942117 and parameters: {'input_chunk_length': 31, 'kernel_size': 2, 'num_filters': 1, 'num_layers': 3, 'dilation_base': 3, 'dropout': 0.1}. Best is trial 40 with value: 115.06090781369282.\n"
     ]
    },
    {
     "name": "stdout",
     "output_type": "stream",
     "text": [
      "Current value: 150.9087782942117, Current params: {'input_chunk_length': 31, 'kernel_size': 2, 'num_filters': 1, 'num_layers': 3, 'dilation_base': 3, 'dropout': 0.1}\n",
      "Best value: 115.06090781369282, Best params: {'input_chunk_length': 180, 'kernel_size': 5, 'num_filters': 1, 'num_layers': None, 'dilation_base': 2, 'dropout': 0.2}\n"
     ]
    },
    {
     "name": "stderr",
     "output_type": "stream",
     "text": [
      "GPU available: True (cuda), used: True\n",
      "TPU available: False, using: 0 TPU cores\n",
      "IPU available: False, using: 0 IPUs\n",
      "HPU available: False, using: 0 HPUs\n",
      "LOCAL_RANK: 0 - CUDA_VISIBLE_DEVICES: [1]\n",
      "`Trainer.fit` stopped: `max_epochs=400` reached.\n",
      "GPU available: True (cuda), used: True\n",
      "TPU available: False, using: 0 TPU cores\n",
      "IPU available: False, using: 0 IPUs\n",
      "HPU available: False, using: 0 HPUs\n",
      "LOCAL_RANK: 0 - CUDA_VISIBLE_DEVICES: [1]\n"
     ]
    },
    {
     "data": {
      "application/vnd.jupyter.widget-view+json": {
       "model_id": "bcf4ac7c738c4c45bf8b9a396b0cbe2c",
       "version_major": 2,
       "version_minor": 0
      },
      "text/plain": [
       "Predicting: 0it [00:00, ?it/s]"
      ]
     },
     "metadata": {},
     "output_type": "display_data"
    },
    {
     "name": "stderr",
     "output_type": "stream",
     "text": [
      "[I 2023-06-22 21:13:04,425] Trial 89 finished with value: 145.69721772850502 and parameters: {'input_chunk_length': 180, 'kernel_size': 5, 'num_filters': 1, 'num_layers': None, 'dilation_base': 2, 'dropout': 0.2}. Best is trial 40 with value: 115.06090781369282.\n",
      "GPU available: True (cuda), used: True\n",
      "TPU available: False, using: 0 TPU cores\n",
      "IPU available: False, using: 0 IPUs\n",
      "HPU available: False, using: 0 HPUs\n",
      "LOCAL_RANK: 0 - CUDA_VISIBLE_DEVICES: [1]\n"
     ]
    },
    {
     "name": "stdout",
     "output_type": "stream",
     "text": [
      "Current value: 145.69721772850502, Current params: {'input_chunk_length': 180, 'kernel_size': 5, 'num_filters': 1, 'num_layers': None, 'dilation_base': 2, 'dropout': 0.2}\n",
      "Best value: 115.06090781369282, Best params: {'input_chunk_length': 180, 'kernel_size': 5, 'num_filters': 1, 'num_layers': None, 'dilation_base': 2, 'dropout': 0.2}\n"
     ]
    },
    {
     "name": "stderr",
     "output_type": "stream",
     "text": [
      "`Trainer.fit` stopped: `max_epochs=400` reached.\n",
      "GPU available: True (cuda), used: True\n",
      "TPU available: False, using: 0 TPU cores\n",
      "IPU available: False, using: 0 IPUs\n",
      "HPU available: False, using: 0 HPUs\n",
      "LOCAL_RANK: 0 - CUDA_VISIBLE_DEVICES: [1]\n"
     ]
    },
    {
     "data": {
      "application/vnd.jupyter.widget-view+json": {
       "model_id": "5c7a9b47c7e84197a50c87fd7697b523",
       "version_major": 2,
       "version_minor": 0
      },
      "text/plain": [
       "Predicting: 0it [00:00, ?it/s]"
      ]
     },
     "metadata": {},
     "output_type": "display_data"
    },
    {
     "name": "stderr",
     "output_type": "stream",
     "text": [
      "[I 2023-06-22 21:14:16,255] Trial 90 finished with value: 166.23583126097984 and parameters: {'input_chunk_length': 356, 'kernel_size': 3, 'num_filters': 3, 'num_layers': None, 'dilation_base': 2, 'dropout': 0.2}. Best is trial 40 with value: 115.06090781369282.\n",
      "GPU available: True (cuda), used: True\n",
      "TPU available: False, using: 0 TPU cores\n",
      "IPU available: False, using: 0 IPUs\n",
      "HPU available: False, using: 0 HPUs\n",
      "LOCAL_RANK: 0 - CUDA_VISIBLE_DEVICES: [1]\n"
     ]
    },
    {
     "name": "stdout",
     "output_type": "stream",
     "text": [
      "Current value: 166.23583126097984, Current params: {'input_chunk_length': 356, 'kernel_size': 3, 'num_filters': 3, 'num_layers': None, 'dilation_base': 2, 'dropout': 0.2}\n",
      "Best value: 115.06090781369282, Best params: {'input_chunk_length': 180, 'kernel_size': 5, 'num_filters': 1, 'num_layers': None, 'dilation_base': 2, 'dropout': 0.2}\n"
     ]
    },
    {
     "name": "stderr",
     "output_type": "stream",
     "text": [
      "`Trainer.fit` stopped: `max_epochs=400` reached.\n",
      "GPU available: True (cuda), used: True\n",
      "TPU available: False, using: 0 TPU cores\n",
      "IPU available: False, using: 0 IPUs\n",
      "HPU available: False, using: 0 HPUs\n",
      "LOCAL_RANK: 0 - CUDA_VISIBLE_DEVICES: [1]\n"
     ]
    },
    {
     "data": {
      "application/vnd.jupyter.widget-view+json": {
       "model_id": "f1489cd5b831486f8626fa173c63dbbb",
       "version_major": 2,
       "version_minor": 0
      },
      "text/plain": [
       "Predicting: 0it [00:00, ?it/s]"
      ]
     },
     "metadata": {},
     "output_type": "display_data"
    },
    {
     "name": "stderr",
     "output_type": "stream",
     "text": [
      "[I 2023-06-22 21:15:28,049] Trial 91 finished with value: 175.4090893702759 and parameters: {'input_chunk_length': 180, 'kernel_size': 3, 'num_filters': 1, 'num_layers': 3, 'dilation_base': 1, 'dropout': 0.2}. Best is trial 40 with value: 115.06090781369282.\n",
      "GPU available: True (cuda), used: True\n",
      "TPU available: False, using: 0 TPU cores\n",
      "IPU available: False, using: 0 IPUs\n",
      "HPU available: False, using: 0 HPUs\n",
      "LOCAL_RANK: 0 - CUDA_VISIBLE_DEVICES: [1]\n"
     ]
    },
    {
     "name": "stdout",
     "output_type": "stream",
     "text": [
      "Current value: 175.4090893702759, Current params: {'input_chunk_length': 180, 'kernel_size': 3, 'num_filters': 1, 'num_layers': 3, 'dilation_base': 1, 'dropout': 0.2}\n",
      "Best value: 115.06090781369282, Best params: {'input_chunk_length': 180, 'kernel_size': 5, 'num_filters': 1, 'num_layers': None, 'dilation_base': 2, 'dropout': 0.2}\n"
     ]
    },
    {
     "name": "stderr",
     "output_type": "stream",
     "text": [
      "`Trainer.fit` stopped: `max_epochs=400` reached.\n",
      "GPU available: True (cuda), used: True\n",
      "TPU available: False, using: 0 TPU cores\n",
      "IPU available: False, using: 0 IPUs\n",
      "HPU available: False, using: 0 HPUs\n",
      "LOCAL_RANK: 0 - CUDA_VISIBLE_DEVICES: [1]\n"
     ]
    },
    {
     "data": {
      "application/vnd.jupyter.widget-view+json": {
       "model_id": "40b72e7c2f3d4fbe9f631e9cd37d5abd",
       "version_major": 2,
       "version_minor": 0
      },
      "text/plain": [
       "Predicting: 0it [00:00, ?it/s]"
      ]
     },
     "metadata": {},
     "output_type": "display_data"
    },
    {
     "name": "stderr",
     "output_type": "stream",
     "text": [
      "[I 2023-06-22 21:16:40,421] Trial 92 finished with value: 141.29151316765228 and parameters: {'input_chunk_length': 180, 'kernel_size': 3, 'num_filters': 1, 'num_layers': 3, 'dilation_base': 1, 'dropout': 0.2}. Best is trial 40 with value: 115.06090781369282.\n",
      "GPU available: True (cuda), used: True\n",
      "TPU available: False, using: 0 TPU cores\n",
      "IPU available: False, using: 0 IPUs\n",
      "HPU available: False, using: 0 HPUs\n",
      "LOCAL_RANK: 0 - CUDA_VISIBLE_DEVICES: [1]\n"
     ]
    },
    {
     "name": "stdout",
     "output_type": "stream",
     "text": [
      "Current value: 141.29151316765228, Current params: {'input_chunk_length': 180, 'kernel_size': 3, 'num_filters': 1, 'num_layers': 3, 'dilation_base': 1, 'dropout': 0.2}\n",
      "Best value: 115.06090781369282, Best params: {'input_chunk_length': 180, 'kernel_size': 5, 'num_filters': 1, 'num_layers': None, 'dilation_base': 2, 'dropout': 0.2}\n"
     ]
    },
    {
     "name": "stderr",
     "output_type": "stream",
     "text": [
      "`Trainer.fit` stopped: `max_epochs=400` reached.\n",
      "GPU available: True (cuda), used: True\n",
      "TPU available: False, using: 0 TPU cores\n",
      "IPU available: False, using: 0 IPUs\n",
      "HPU available: False, using: 0 HPUs\n",
      "LOCAL_RANK: 0 - CUDA_VISIBLE_DEVICES: [1]\n"
     ]
    },
    {
     "data": {
      "application/vnd.jupyter.widget-view+json": {
       "model_id": "972fd074273d4efab74609a5a1ce3b59",
       "version_major": 2,
       "version_minor": 0
      },
      "text/plain": [
       "Predicting: 0it [00:00, ?it/s]"
      ]
     },
     "metadata": {},
     "output_type": "display_data"
    },
    {
     "name": "stderr",
     "output_type": "stream",
     "text": [
      "[I 2023-06-22 21:17:56,107] Trial 93 finished with value: 139.7069749993365 and parameters: {'input_chunk_length': 180, 'kernel_size': 3, 'num_filters': 1, 'num_layers': 3, 'dilation_base': 1, 'dropout': 0.2}. Best is trial 40 with value: 115.06090781369282.\n",
      "GPU available: True (cuda), used: True\n",
      "TPU available: False, using: 0 TPU cores\n",
      "IPU available: False, using: 0 IPUs\n",
      "HPU available: False, using: 0 HPUs\n",
      "LOCAL_RANK: 0 - CUDA_VISIBLE_DEVICES: [1]\n"
     ]
    },
    {
     "name": "stdout",
     "output_type": "stream",
     "text": [
      "Current value: 139.7069749993365, Current params: {'input_chunk_length': 180, 'kernel_size': 3, 'num_filters': 1, 'num_layers': 3, 'dilation_base': 1, 'dropout': 0.2}\n",
      "Best value: 115.06090781369282, Best params: {'input_chunk_length': 180, 'kernel_size': 5, 'num_filters': 1, 'num_layers': None, 'dilation_base': 2, 'dropout': 0.2}\n"
     ]
    },
    {
     "name": "stderr",
     "output_type": "stream",
     "text": [
      "`Trainer.fit` stopped: `max_epochs=400` reached.\n",
      "GPU available: True (cuda), used: True\n",
      "TPU available: False, using: 0 TPU cores\n",
      "IPU available: False, using: 0 IPUs\n",
      "HPU available: False, using: 0 HPUs\n",
      "LOCAL_RANK: 0 - CUDA_VISIBLE_DEVICES: [1]\n"
     ]
    },
    {
     "data": {
      "application/vnd.jupyter.widget-view+json": {
       "model_id": "f15956e7bc404eca8805f0ed33608230",
       "version_major": 2,
       "version_minor": 0
      },
      "text/plain": [
       "Predicting: 0it [00:00, ?it/s]"
      ]
     },
     "metadata": {},
     "output_type": "display_data"
    },
    {
     "name": "stderr",
     "output_type": "stream",
     "text": [
      "[I 2023-06-22 21:19:07,276] Trial 94 finished with value: 124.12165838409297 and parameters: {'input_chunk_length': 180, 'kernel_size': 3, 'num_filters': 1, 'num_layers': 3, 'dilation_base': 1, 'dropout': 0.2}. Best is trial 40 with value: 115.06090781369282.\n",
      "GPU available: True (cuda), used: True\n",
      "TPU available: False, using: 0 TPU cores\n",
      "IPU available: False, using: 0 IPUs\n",
      "HPU available: False, using: 0 HPUs\n",
      "LOCAL_RANK: 0 - CUDA_VISIBLE_DEVICES: [1]\n"
     ]
    },
    {
     "name": "stdout",
     "output_type": "stream",
     "text": [
      "Current value: 124.12165838409297, Current params: {'input_chunk_length': 180, 'kernel_size': 3, 'num_filters': 1, 'num_layers': 3, 'dilation_base': 1, 'dropout': 0.2}\n",
      "Best value: 115.06090781369282, Best params: {'input_chunk_length': 180, 'kernel_size': 5, 'num_filters': 1, 'num_layers': None, 'dilation_base': 2, 'dropout': 0.2}\n"
     ]
    },
    {
     "name": "stderr",
     "output_type": "stream",
     "text": [
      "`Trainer.fit` stopped: `max_epochs=400` reached.\n",
      "GPU available: True (cuda), used: True\n",
      "TPU available: False, using: 0 TPU cores\n",
      "IPU available: False, using: 0 IPUs\n",
      "HPU available: False, using: 0 HPUs\n",
      "LOCAL_RANK: 0 - CUDA_VISIBLE_DEVICES: [1]\n"
     ]
    },
    {
     "data": {
      "application/vnd.jupyter.widget-view+json": {
       "model_id": "f20bc44e67fa4f6584c583092eac24c0",
       "version_major": 2,
       "version_minor": 0
      },
      "text/plain": [
       "Predicting: 0it [00:00, ?it/s]"
      ]
     },
     "metadata": {},
     "output_type": "display_data"
    },
    {
     "name": "stderr",
     "output_type": "stream",
     "text": [
      "[I 2023-06-22 21:20:18,261] Trial 95 finished with value: 142.906718664235 and parameters: {'input_chunk_length': 180, 'kernel_size': 3, 'num_filters': 1, 'num_layers': 3, 'dilation_base': 1, 'dropout': 0.2}. Best is trial 40 with value: 115.06090781369282.\n",
      "GPU available: True (cuda), used: True\n",
      "TPU available: False, using: 0 TPU cores\n",
      "IPU available: False, using: 0 IPUs\n",
      "HPU available: False, using: 0 HPUs\n",
      "LOCAL_RANK: 0 - CUDA_VISIBLE_DEVICES: [1]\n"
     ]
    },
    {
     "name": "stdout",
     "output_type": "stream",
     "text": [
      "Current value: 142.906718664235, Current params: {'input_chunk_length': 180, 'kernel_size': 3, 'num_filters': 1, 'num_layers': 3, 'dilation_base': 1, 'dropout': 0.2}\n",
      "Best value: 115.06090781369282, Best params: {'input_chunk_length': 180, 'kernel_size': 5, 'num_filters': 1, 'num_layers': None, 'dilation_base': 2, 'dropout': 0.2}\n"
     ]
    },
    {
     "name": "stderr",
     "output_type": "stream",
     "text": [
      "`Trainer.fit` stopped: `max_epochs=400` reached.\n",
      "GPU available: True (cuda), used: True\n",
      "TPU available: False, using: 0 TPU cores\n",
      "IPU available: False, using: 0 IPUs\n",
      "HPU available: False, using: 0 HPUs\n",
      "LOCAL_RANK: 0 - CUDA_VISIBLE_DEVICES: [1]\n"
     ]
    },
    {
     "data": {
      "application/vnd.jupyter.widget-view+json": {
       "model_id": "8125d4bd5d614a54bfdf0dc3944ff213",
       "version_major": 2,
       "version_minor": 0
      },
      "text/plain": [
       "Predicting: 0it [00:00, ?it/s]"
      ]
     },
     "metadata": {},
     "output_type": "display_data"
    },
    {
     "name": "stderr",
     "output_type": "stream",
     "text": [
      "[I 2023-06-22 21:21:35,093] Trial 96 finished with value: 172.33544716929038 and parameters: {'input_chunk_length': 180, 'kernel_size': 3, 'num_filters': 5, 'num_layers': 3, 'dilation_base': 2, 'dropout': 0.2}. Best is trial 40 with value: 115.06090781369282.\n",
      "GPU available: True (cuda), used: True\n",
      "TPU available: False, using: 0 TPU cores\n",
      "IPU available: False, using: 0 IPUs\n",
      "HPU available: False, using: 0 HPUs\n",
      "LOCAL_RANK: 0 - CUDA_VISIBLE_DEVICES: [1]\n"
     ]
    },
    {
     "name": "stdout",
     "output_type": "stream",
     "text": [
      "Current value: 172.33544716929038, Current params: {'input_chunk_length': 180, 'kernel_size': 3, 'num_filters': 5, 'num_layers': 3, 'dilation_base': 2, 'dropout': 0.2}\n",
      "Best value: 115.06090781369282, Best params: {'input_chunk_length': 180, 'kernel_size': 5, 'num_filters': 1, 'num_layers': None, 'dilation_base': 2, 'dropout': 0.2}\n"
     ]
    },
    {
     "name": "stderr",
     "output_type": "stream",
     "text": [
      "`Trainer.fit` stopped: `max_epochs=400` reached.\n",
      "GPU available: True (cuda), used: True\n",
      "TPU available: False, using: 0 TPU cores\n",
      "IPU available: False, using: 0 IPUs\n",
      "HPU available: False, using: 0 HPUs\n",
      "LOCAL_RANK: 0 - CUDA_VISIBLE_DEVICES: [1]\n"
     ]
    },
    {
     "data": {
      "application/vnd.jupyter.widget-view+json": {
       "model_id": "85d52597013f40499564bdc2135c33ed",
       "version_major": 2,
       "version_minor": 0
      },
      "text/plain": [
       "Predicting: 0it [00:00, ?it/s]"
      ]
     },
     "metadata": {},
     "output_type": "display_data"
    },
    {
     "name": "stderr",
     "output_type": "stream",
     "text": [
      "[I 2023-06-22 21:22:47,074] Trial 97 finished with value: 154.03092281412506 and parameters: {'input_chunk_length': 60, 'kernel_size': 5, 'num_filters': 1, 'num_layers': None, 'dilation_base': 3, 'dropout': 0.3}. Best is trial 40 with value: 115.06090781369282.\n",
      "GPU available: True (cuda), used: True\n",
      "TPU available: False, using: 0 TPU cores\n",
      "IPU available: False, using: 0 IPUs\n",
      "HPU available: False, using: 0 HPUs\n",
      "LOCAL_RANK: 0 - CUDA_VISIBLE_DEVICES: [1]\n"
     ]
    },
    {
     "name": "stdout",
     "output_type": "stream",
     "text": [
      "Current value: 154.03092281412506, Current params: {'input_chunk_length': 60, 'kernel_size': 5, 'num_filters': 1, 'num_layers': None, 'dilation_base': 3, 'dropout': 0.3}\n",
      "Best value: 115.06090781369282, Best params: {'input_chunk_length': 180, 'kernel_size': 5, 'num_filters': 1, 'num_layers': None, 'dilation_base': 2, 'dropout': 0.2}\n"
     ]
    },
    {
     "name": "stderr",
     "output_type": "stream",
     "text": [
      "`Trainer.fit` stopped: `max_epochs=400` reached.\n",
      "GPU available: True (cuda), used: True\n",
      "TPU available: False, using: 0 TPU cores\n",
      "IPU available: False, using: 0 IPUs\n",
      "HPU available: False, using: 0 HPUs\n",
      "LOCAL_RANK: 0 - CUDA_VISIBLE_DEVICES: [1]\n"
     ]
    },
    {
     "data": {
      "application/vnd.jupyter.widget-view+json": {
       "model_id": "f4e77d34f1664fe3a7754b46151afdd9",
       "version_major": 2,
       "version_minor": 0
      },
      "text/plain": [
       "Predicting: 0it [00:00, ?it/s]"
      ]
     },
     "metadata": {},
     "output_type": "display_data"
    },
    {
     "name": "stderr",
     "output_type": "stream",
     "text": [
      "[I 2023-06-22 21:24:11,861] Trial 98 finished with value: 133.30641703871797 and parameters: {'input_chunk_length': 180, 'kernel_size': 2, 'num_filters': 1, 'num_layers': 3, 'dilation_base': 2, 'dropout': 0.2}. Best is trial 40 with value: 115.06090781369282.\n",
      "GPU available: True (cuda), used: True\n",
      "TPU available: False, using: 0 TPU cores\n",
      "IPU available: False, using: 0 IPUs\n",
      "HPU available: False, using: 0 HPUs\n",
      "LOCAL_RANK: 0 - CUDA_VISIBLE_DEVICES: [1]\n"
     ]
    },
    {
     "name": "stdout",
     "output_type": "stream",
     "text": [
      "Current value: 133.30641703871797, Current params: {'input_chunk_length': 180, 'kernel_size': 2, 'num_filters': 1, 'num_layers': 3, 'dilation_base': 2, 'dropout': 0.2}\n",
      "Best value: 115.06090781369282, Best params: {'input_chunk_length': 180, 'kernel_size': 5, 'num_filters': 1, 'num_layers': None, 'dilation_base': 2, 'dropout': 0.2}\n"
     ]
    },
    {
     "name": "stderr",
     "output_type": "stream",
     "text": [
      "`Trainer.fit` stopped: `max_epochs=400` reached.\n",
      "GPU available: True (cuda), used: True\n",
      "TPU available: False, using: 0 TPU cores\n",
      "IPU available: False, using: 0 IPUs\n",
      "HPU available: False, using: 0 HPUs\n",
      "LOCAL_RANK: 0 - CUDA_VISIBLE_DEVICES: [1]\n"
     ]
    },
    {
     "data": {
      "application/vnd.jupyter.widget-view+json": {
       "model_id": "e1be3c074df6439cbb1270c92ecef8dc",
       "version_major": 2,
       "version_minor": 0
      },
      "text/plain": [
       "Predicting: 0it [00:00, ?it/s]"
      ]
     },
     "metadata": {},
     "output_type": "display_data"
    },
    {
     "name": "stderr",
     "output_type": "stream",
     "text": [
      "[I 2023-06-22 21:25:25,862] Trial 99 finished with value: 166.5011827716217 and parameters: {'input_chunk_length': 180, 'kernel_size': 3, 'num_filters': 1, 'num_layers': None, 'dilation_base': 1, 'dropout': 0.2}. Best is trial 40 with value: 115.06090781369282.\n"
     ]
    },
    {
     "name": "stdout",
     "output_type": "stream",
     "text": [
      "Current value: 166.5011827716217, Current params: {'input_chunk_length': 180, 'kernel_size': 3, 'num_filters': 1, 'num_layers': None, 'dilation_base': 1, 'dropout': 0.2}\n",
      "Best value: 115.06090781369282, Best params: {'input_chunk_length': 180, 'kernel_size': 5, 'num_filters': 1, 'num_layers': None, 'dilation_base': 2, 'dropout': 0.2}\n",
      "Best value: 115.06090781369282, Best params: {'input_chunk_length': 180, 'kernel_size': 5, 'num_filters': 1, 'num_layers': None, 'dilation_base': 2, 'dropout': 0.2}\n"
     ]
    }
   ],
   "source": [
    "def print_callback(study, trial):\n",
    "    print(f\"Current value: {trial.value}, Current params: {trial.params}\")\n",
    "    print(f\"Best value: {study.best_value}, Best params: {study.best_trial.params}\")\n",
    "\n",
    "\n",
    "study = optuna.create_study(direction=\"minimize\")\n",
    "\n",
    "study.optimize(objective, n_trials=100, callbacks=[print_callback])\n",
    "\n",
    "# We could also have used a command as follows to limit the number of trials instead:\n",
    "# study.optimize(objective, n_trials=100, callbacks=[print_callback])\n",
    "\n",
    "# Finally, print the best value and best hyperparameters:\n",
    "print(f\"Best value: {study.best_value}, Best params: {study.best_trial.params}\")"
   ]
  },
  {
   "cell_type": "code",
   "execution_count": null,
   "id": "6269e31f-2f9b-4111-b6d2-44d711ac23b9",
   "metadata": {},
   "outputs": [],
   "source": [
    "#2023-06-21 for 31 days"
   ]
  },
  {
   "cell_type": "code",
   "execution_count": null,
   "id": "7848a7fc-1840-4320-b249-95e65b236739",
   "metadata": {},
   "outputs": [],
   "source": [
    "val_split = pd.Timestamp(year=2023, month=6, day=1)\n",
    "training_set, validation_set = inputs.split_before(val_split)"
   ]
  },
  {
   "cell_type": "markdown",
   "id": "3a9f6039-f1a4-416c-81b4-828ef232fafa",
   "metadata": {},
   "source": [
    "Now, training a residual forecast model from the best set of hyperparameters found in tuning."
   ]
  },
  {
   "cell_type": "code",
   "execution_count": 15,
   "id": "edf047d4-8fbb-4c2b-bc0e-2aec61dbd032",
   "metadata": {},
   "outputs": [
    {
     "name": "stderr",
     "output_type": "stream",
     "text": [
      "GPU available: True (cuda), used: True\n",
      "TPU available: False, using: 0 TPU cores\n",
      "IPU available: False, using: 0 IPUs\n",
      "HPU available: False, using: 0 HPUs\n",
      "LOCAL_RANK: 0 - CUDA_VISIBLE_DEVICES: [1]\n",
      "`Trainer.fit` stopped: `max_epochs=400` reached.\n"
     ]
    },
    {
     "name": "stdout",
     "output_type": "stream",
     "text": [
      "66.16450834274292\n"
     ]
    }
   ],
   "source": [
    "import time\n",
    "start = time.time()\n",
    "final_residual_model = TCNModel(input_chunk_length=180,\n",
    "                                kernel_size=5,\n",
    "                                num_filters=1,\n",
    "                                dilation_base=2,\n",
    "                                output_chunk_length=34,\n",
    "                                likelihood=QuantileRegression([0.05, 0.1, 0.5, 0.9, 0.95]),\n",
    "                                random_state=0)\n",
    "    \n",
    "final_residual_model.fit(training_set,\n",
    "                         past_covariates=covs,\n",
    "                         epochs=400, \n",
    "                         verbose=False)\n",
    "print(time.time()-start)"
   ]
  },
  {
   "cell_type": "code",
   "execution_count": 18,
   "id": "bc1094af-2d0a-4470-b35b-cf0c2a7b7034",
   "metadata": {},
   "outputs": [
    {
     "name": "stderr",
     "output_type": "stream",
     "text": [
      "GPU available: True (cuda), used: True\n",
      "TPU available: False, using: 0 TPU cores\n",
      "IPU available: False, using: 0 IPUs\n",
      "HPU available: False, using: 0 HPUs\n",
      "LOCAL_RANK: 0 - CUDA_VISIBLE_DEVICES: [1]\n"
     ]
    },
    {
     "data": {
      "application/vnd.jupyter.widget-view+json": {
       "model_id": "c469afc2148a435ca97baea9d67b838f",
       "version_major": 2,
       "version_minor": 0
      },
      "text/plain": [
       "Predicting: 0it [00:00, ?it/s]"
      ]
     },
     "metadata": {},
     "output_type": "display_data"
    },
    {
     "data": {
      "image/png": "[encoded data removed]",
      "text/plain": [
       "<Figure size 640x480 with 1 Axes>"
      ]
     },
     "metadata": {},
     "output_type": "display_data"
    }
   ],
   "source": [
    "plt.clf()\n",
    "preds = final_residual_model.predict(n=34,\n",
    "                                     past_covariates=covs, \n",
    "                                     num_samples=500)\n",
    "(predictions_val-preds[:18]).plot(color=\"blue\", label=\"adjusted_forecast\")\n",
    "oxy_val.plot(color=\"black\", label=\"observed\")\n",
    "plt.show()"
   ]
  },
  {
   "cell_type": "markdown",
   "id": "ad183dc6-e3df-494a-9b6d-393bf3b97ed5",
   "metadata": {},
   "source": [
    "For comparison here, I plot a tuned TCN model that is trained on the same covariates as the original model and the residual-based method."
   ]
  },
  {
   "cell_type": "code",
   "execution_count": 33,
   "id": "f9002dc8-94fc-49f7-8599-cb2d748968da",
   "metadata": {},
   "outputs": [],
   "source": [
    "df = pd.read_csv(\"predicted_direct_example.csv\")\n",
    "times = pd.to_datetime(df[\"datetime\"])\n",
    "times = pd.DatetimeIndex(times)\n",
    "values = df.loc[:, df.columns!=\"datetime\"].to_numpy().reshape((18, 1, -1))\n",
    "direct_predictions_ts = TimeSeries.from_times_and_values(times, \n",
    "                                                         values, \n",
    "                                                         fill_missing_dates=True, freq=\"D\")"
   ]
  },
  {
   "cell_type": "code",
   "execution_count": 39,
   "id": "4443a6d5-5bfe-477b-a23c-fb252fc899cc",
   "metadata": {},
   "outputs": [
    {
     "name": "stderr",
     "output_type": "stream",
     "text": [
      "GPU available: True (cuda), used: True\n",
      "TPU available: False, using: 0 TPU cores\n",
      "IPU available: False, using: 0 IPUs\n",
      "HPU available: False, using: 0 HPUs\n",
      "LOCAL_RANK: 0 - CUDA_VISIBLE_DEVICES: [1]\n"
     ]
    },
    {
     "data": {
      "application/vnd.jupyter.widget-view+json": {
       "model_id": "fd7ba8b0961848d989a05f0c9127e13a",
       "version_major": 2,
       "version_minor": 0
      },
      "text/plain": [
       "Predicting: 0it [00:00, ?it/s]"
      ]
     },
     "metadata": {},
     "output_type": "display_data"
    },
    {
     "data": {
      "image/png": "[encoded data removed]",
      "text/plain": [
       "<Figure size 640x480 with 1 Axes>"
      ]
     },
     "metadata": {},
     "output_type": "display_data"
    }
   ],
   "source": [
    "plt.clf()\n",
    "preds = final_residual_model.predict(n=34,\n",
    "                                     past_covariates=covs, \n",
    "                                     num_samples=500)\n",
    "(predictions_val-preds[:18]).plot(color=\"blue\", label=\"residual_adjusted_forecast\")\n",
    "direct_predictions_ts.plot(color=\"salmon\", label=\"nonresidual_ml_forecast\")\n",
    "oxy_val.plot(color=\"black\", label=\"observed\")\n",
    "plt.show()\n"
   ]
  },
  {
   "cell_type": "code",
   "execution_count": null,
   "id": "cb8644ad-ba61-4b5b-a687-c449b149ea02",
   "metadata": {},
   "outputs": [],
   "source": []
  }
 ],
 "metadata": {
  "kernelspec": {
   "display_name": "Python 3 (ipykernel)",
   "language": "python",
   "name": "python3"
  },
  "language_info": {
   "codemirror_mode": {
    "name": "ipython",
    "version": 3
   },
   "file_extension": ".py",
   "mimetype": "text/x-python",
   "name": "python",
   "nbconvert_exporter": "python",
   "pygments_lexer": "ipython3",
   "version": "3.10.6"
  }
 },
 "nbformat": 4,
 "nbformat_minor": 5
}
